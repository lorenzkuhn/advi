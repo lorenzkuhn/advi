{
  "cells": [
    {
      "cell_type": "code",
      "execution_count": 1,
      "metadata": {
        "colab": {
          "base_uri": "https://localhost:8080/"
        },
        "id": "af9zmgeQWQL9",
        "outputId": "2c5509f7-466d-422c-8593-16d79c9ffb5e"
      },
      "outputs": [
        {
          "output_type": "stream",
          "name": "stdout",
          "text": [
            "Requirement already satisfied: pyro-ppl in /usr/local/lib/python3.7/dist-packages (1.8.1)\n",
            "Requirement already satisfied: torch>=1.11.0 in /usr/local/lib/python3.7/dist-packages (from pyro-ppl) (1.11.0)\n",
            "Requirement already satisfied: numpy>=1.7 in /usr/local/lib/python3.7/dist-packages (from pyro-ppl) (1.21.5)\n",
            "Requirement already satisfied: pyro-api>=0.1.1 in /usr/local/lib/python3.7/dist-packages (from pyro-ppl) (0.1.2)\n",
            "Requirement already satisfied: tqdm>=4.36 in /usr/local/lib/python3.7/dist-packages (from pyro-ppl) (4.63.0)\n",
            "Requirement already satisfied: opt-einsum>=2.3.2 in /usr/local/lib/python3.7/dist-packages (from pyro-ppl) (3.3.0)\n",
            "Requirement already satisfied: typing-extensions in /usr/local/lib/python3.7/dist-packages (from torch>=1.11.0->pyro-ppl) (3.10.0.2)\n"
          ]
        }
      ],
      "source": [
        "!pip3 install pyro-ppl"
      ]
    },
    {
      "cell_type": "code",
      "execution_count": 2,
      "metadata": {
        "id": "Tof61FdKWT52"
      },
      "outputs": [],
      "source": [
        "import pyro\n",
        "import pyro.distributions as dist\n",
        "\n",
        "import random\n",
        "\n",
        "import numpy as np\n",
        "\n",
        "import torch"
      ]
    },
    {
      "cell_type": "code",
      "source": [
        "torch.manual_seed(7)\n",
        "pyro.set_rng_seed(7)\n",
        "np.random.seed(7)"
      ],
      "metadata": {
        "id": "E69PsJFaGXDH"
      },
      "execution_count": 3,
      "outputs": []
    },
    {
      "cell_type": "markdown",
      "metadata": {
        "id": "aMLMk_3AO-QA"
      },
      "source": [
        "# Generate Dataset"
      ]
    },
    {
      "cell_type": "code",
      "execution_count": 4,
      "metadata": {
        "id": "SMvDflDgk0z1"
      },
      "outputs": [],
      "source": [
        "class GMMSampler:\n",
        "\n",
        "    def __init__(self, k, d, mu, sigma):\n",
        "        self.k = k\n",
        "        self.d = d\n",
        "\n",
        "        assert mu.size() == (k, d), 'Input mu must be a tensor of size (%i, %i)' % (k, d)\n",
        "        self.mu = mu\n",
        "\n",
        "        assert sigma.size() == (k, d), 'Input sigma must be a tensor of size (%i, %i)' % (k, d)\n",
        "        self.sigma = sigma\n",
        "\n",
        "        self.init_gaussians()\n",
        "\n",
        "    def init_gaussians(self):\n",
        "        self.gaussians = [[dist.Normal(self.mu[k, d], self.sigma[k, d]) for d in range(self.d)] for k in range(self.k)]\n",
        "\n",
        "    def sample(self, n):\n",
        "        choices = np.random.choice(self.k, n, replace=True)\n",
        "        samples = torch.zeros(n, self.d)\n",
        "\n",
        "        for i, c in enumerate(choices):\n",
        "            for d in range(self.d):\n",
        "                component = self.gaussians[c][d] \n",
        "                samples[i, d] = component.sample()\n",
        "\n",
        "        return samples"
      ]
    },
    {
      "cell_type": "code",
      "execution_count": 5,
      "metadata": {
        "id": "YfXLJQLbk_rj"
      },
      "outputs": [],
      "source": [
        "D = 2 \n",
        "\n",
        "MU = torch.tensor([[-.5, -.5], [.5, .5]], dtype=torch.float)\n",
        "\n",
        "SIGMA = torch.tensor([[.1, .1], [.1, .1]], dtype=torch.float)"
      ]
    },
    {
      "cell_type": "code",
      "execution_count": 6,
      "metadata": {
        "id": "bUMz6dZClAMB"
      },
      "outputs": [],
      "source": [
        "bimodal_sampler = GMMSampler(2, D, MU, SIGMA)"
      ]
    },
    {
      "cell_type": "code",
      "execution_count": 7,
      "metadata": {
        "colab": {
          "base_uri": "https://localhost:8080/"
        },
        "id": "GEZVc6KRlAg6",
        "outputId": "203a3086-5e4f-4d66-fa79-144c1c95a028"
      },
      "outputs": [
        {
          "output_type": "execute_result",
          "data": {
            "text/plain": [
              "tensor([[ 0.4853,  0.5786],\n",
              "        [-0.4053, -0.6114],\n",
              "        [ 0.6691,  0.4105],\n",
              "        ...,\n",
              "        [-0.5626, -0.4309],\n",
              "        [ 0.6926,  0.3709],\n",
              "        [-0.5814, -0.5113]])"
            ]
          },
          "metadata": {},
          "execution_count": 7
        }
      ],
      "source": [
        "N = 10000\n",
        "\n",
        "data = bimodal_sampler.sample(N)\n",
        "\n",
        "data"
      ]
    },
    {
      "cell_type": "code",
      "execution_count": 8,
      "metadata": {
        "id": "Ph_XA_OQVAbZ"
      },
      "outputs": [],
      "source": [
        "import matplotlib.pyplot as plt"
      ]
    },
    {
      "cell_type": "code",
      "execution_count": 9,
      "metadata": {
        "colab": {
          "base_uri": "https://localhost:8080/",
          "height": 265
        },
        "id": "q7AHS9J8lXDn",
        "outputId": "25914293-5e98-4747-d90f-fd0f0e8b0b77"
      },
      "outputs": [
        {
          "output_type": "display_data",
          "data": {
            "text/plain": [
              "<Figure size 432x288 with 1 Axes>"
            ],
            "image/png": "[encoded data removed]"
          },
          "metadata": {
            "needs_background": "light"
          }
        }
      ],
      "source": [
        "plt.scatter(data[:, 0], data[:, 1])\n",
        "plt.show()"
      ]
    },
    {
      "cell_type": "code",
      "execution_count": 10,
      "metadata": {
        "id": "Y0Lk3VbSdviE"
      },
      "outputs": [],
      "source": [
        "def split_train_test(data, ratio=0.8):\n",
        "\n",
        "    N = data.shape[0]\n",
        "    indices = torch.randperm(N)\n",
        "\n",
        "    N_train = int(N * ratio)\n",
        "\n",
        "    train_indices = indices[:N_train]\n",
        "    test_indices = indices[N_train:]\n",
        "\n",
        "    data_train = data[train_indices]\n",
        "    data_test = data[test_indices]\n",
        "\n",
        "    return data_train, data_test"
      ]
    },
    {
      "cell_type": "code",
      "execution_count": 11,
      "metadata": {
        "id": "OyPKEtzVeaBo"
      },
      "outputs": [],
      "source": [
        "data_train, data_test = split_train_test(data)"
      ]
    },
    {
      "cell_type": "markdown",
      "metadata": {
        "id": "mBtx_RNbmuoN"
      },
      "source": [
        "# 2. Define the Pyro Model"
      ]
    },
    {
      "cell_type": "code",
      "execution_count": 12,
      "metadata": {
        "id": "kwY9L6N8TgrB"
      },
      "outputs": [],
      "source": [
        "from pyro.infer import config_enumerate\n",
        "\n",
        "from torch.distributions import constraints"
      ]
    },
    {
      "cell_type": "code",
      "execution_count": 13,
      "metadata": {
        "id": "wXyzD-_yX8gn"
      },
      "outputs": [],
      "source": [
        "K = 2 # number of components\n",
        "\n",
        "def model(data):\n",
        "\n",
        "    N = data.shape[0] # number of samples\n",
        "    D = 1 if len(data.shape) == 1 else data.shape[1] # data dimensionality\n",
        "\n",
        "    # Global variables as initialized in the paper with Stan \n",
        "\n",
        "    # Component weights\n",
        "    theta = pyro.sample('theta', dist.Dirichlet(torch.ones(K) / K))\n",
        "\n",
        "    # Locs and scales of the components\n",
        "    with pyro.plate('dimensions', D):\n",
        "        with pyro.plate('components', K):\n",
        "            mu = pyro.sample('mu', dist.Normal(torch.tensor([0.]), torch.tensor([1.])))\n",
        "            sigma = pyro.sample('sigma', dist.LogNormal(torch.tensor([0.]), torch.tensor([1])))\n",
        "\n",
        "    with pyro.plate('data', N):\n",
        "        assignment = pyro.sample('assignment', dist.Categorical(theta), infer={'enumerate': 'parallel'})\n",
        "        pyro.sample('obs', dist.Normal(mu[assignment], sigma[assignment]).to_event(1), obs=data)"
      ]
    },
    {
      "cell_type": "markdown",
      "metadata": {
        "id": "AjS3pBzOO5JV"
      },
      "source": [
        "# Run ADVI"
      ]
    },
    {
      "cell_type": "code",
      "execution_count": 14,
      "metadata": {
        "id": "sK8OSxsMPrGb"
      },
      "outputs": [],
      "source": [
        "import torch.nn as nn\n",
        "\n",
        "import pandas as pd\n",
        "\n",
        "from pyro import poutine\n",
        "from pyro.infer import SVI, Trace_ELBO, TraceEnum_ELBO\n",
        "from pyro.infer.autoguide import AutoDiagonalNormal\n",
        "\n",
        "import time\n",
        "\n",
        "from tqdm.notebook import trange"
      ]
    },
    {
      "cell_type": "code",
      "execution_count": 15,
      "metadata": {
        "id": "DiiPtlp-O5fr"
      },
      "outputs": [],
      "source": [
        "from pyro.infer.autoguide.initialization import init_to_sample, init_to_uniform, init_to_value\n",
        "\n",
        "init_values = {\n",
        "    'mu': torch.mean(data_train, dim=0).expand(K, D), \n",
        "    'sigma': torch.std(data_train, dim=0).expand(K, D), \n",
        "    'theta': torch.ones(K) / K\n",
        "    }\n",
        "\n",
        "def run_advi(model, num_iter, num_particles, verbose=False, lr=0.005):\n",
        "    guide = AutoDiagonalNormal(poutine.block(model, expose=['theta', 'mu', 'sigma']), init_loc_fn=init_to_value(values=init_values, fallback=init_to_sample))\n",
        "    #guide = AutoDiagonalNormal(poutine.block(model, expose=['theta', 'mu', 'sigma']))\n",
        "    adaprop = pyro.optim.AdagradRMSProp(dict())\n",
        "\n",
        "    adam_params = {\"lr\": lr, \"betas\": (0.95, 0.999)}\n",
        "    optimizer = pyro.optim.Adam(adam_params)\n",
        "    svi = SVI(model, guide, optimizer, loss=TraceEnum_ELBO(num_particles=num_particles)) # NOTE: TraceEnum_ELBO is crucial\n",
        "\n",
        "    pyro.clear_param_store()\n",
        "\n",
        "    output_advi = pd.DataFrame(columns = ['t', 'test_accuracy', 'model'])\n",
        "\n",
        "    train_time = 0\n",
        "\n",
        "    mse_loss = nn.MSELoss()\n",
        "\n",
        "    for j in trange(num_iter):\n",
        "        t0 = time.time()\n",
        "        loss = svi.step(data_train)\n",
        "        train_time += time.time() - t0\n",
        "    \n",
        "        if j % 100 == 0:\n",
        "            learned_theta = guide.median()['theta']\n",
        "            learned_mu = guide.median()['mu']\n",
        "            learned_sigma = guide.median()['sigma']\n",
        "\n",
        "            #print(learned_theta, learned_mu, learned_sigma) # DEBUG\n",
        "            \n",
        "            # Compute Likelihood as in the paper\n",
        "            test_log_prob = 0\n",
        "            for n in range(data_test.shape[0]):\n",
        "                ps = torch.zeros(K, 1)\n",
        "                for k in range(K):\n",
        "                    learned_normal = dist.Normal(learned_mu[k], learned_sigma[k])\n",
        "                    ps[k] = torch.log(learned_theta[k]) + learned_normal.log_prob(data_test[n]).sum()\n",
        "                test_log_prob += torch.logsumexp(ps.flatten(), dim=-1)\n",
        "\n",
        "            output_iter = {'t': train_time,\n",
        "                           'test_accuracy': test_log_prob.detach().numpy(),\n",
        "                           'model': 'advi{}'.format(num_particles)}\n",
        "            output_advi = output_advi.append(output_iter, ignore_index=True)\n",
        "            \n",
        "            if verbose: \n",
        "                print('[iteration %04d] test_accuracy: %.4f' % (j + 1, test_log_prob))  \n",
        "\n",
        "    return output_advi"
      ]
    },
    {
      "cell_type": "code",
      "execution_count": 16,
      "metadata": {
        "colab": {
          "base_uri": "https://localhost:8080/",
          "height": 245,
          "referenced_widgets": [
            "775ce9b8eabb4e7d9ac13cdcff390cc7",
            "041fcfc722f642d4867677f24648d801",
            "43bd7c8d597d4a5b9af197b30f8b396f",
            "76ca44ed3d1b49faa1f7eb41e56cdbd5",
            "afa210960f024b26904fb5ebbba0ce3f",
            "7358a4c42a4047a983148c70201189bf",
            "955ffd748c3b434cbff62aca714d004e",
            "61a54524b7e24eb1bc93865e1daf4444",
            "ea69378121cb42469717092e7f03cd55",
            "c8b7b8e00c5c423989a7966afbd43724",
            "6ad685e89b7b42eaa44126655afc6cec"
          ]
        },
        "id": "QzpVEiiqO5lJ",
        "outputId": "7477d2b3-8605-4694-a677-6a400c56ae8b"
      },
      "outputs": [
        {
          "output_type": "stream",
          "name": "stdout",
          "text": [
            "Running ADVI with M=1\n"
          ]
        },
        {
          "output_type": "display_data",
          "data": {
            "text/plain": [
              "  0%|          | 0/1000 [00:00<?, ?it/s]"
            ],
            "application/vnd.jupyter.widget-view+json": {
              "version_major": 2,
              "version_minor": 0,
              "model_id": "775ce9b8eabb4e7d9ac13cdcff390cc7"
            }
          },
          "metadata": {}
        },
        {
          "output_type": "stream",
          "name": "stdout",
          "text": [
            "[iteration 0001] test_accuracy: -2993.2598\n",
            "[iteration 0101] test_accuracy: -2552.5007\n",
            "[iteration 0201] test_accuracy: 439.1738\n",
            "[iteration 0301] test_accuracy: 1768.6445\n",
            "[iteration 0401] test_accuracy: 2100.7375\n",
            "[iteration 0501] test_accuracy: 2123.9468\n",
            "[iteration 0601] test_accuracy: 2119.0300\n",
            "[iteration 0701] test_accuracy: 2119.5503\n",
            "[iteration 0801] test_accuracy: 2119.9189\n",
            "[iteration 0901] test_accuracy: 2110.4800\n"
          ]
        }
      ],
      "source": [
        "# Train the ADVI models\n",
        "print('Running ADVI with M=1')\n",
        "output_advi_M1 = run_advi(model, 1000, 1, True)\n",
        "\n",
        "#print('Running ADVI with M=10')\n",
        "#output_advi_M10 = run_advi(model, 1000, 10, True)"
      ]
    },
    {
      "cell_type": "code",
      "source": [
        "output_advi_M1"
      ],
      "metadata": {
        "id": "2-ChmD5TfGhy",
        "colab": {
          "base_uri": "https://localhost:8080/",
          "height": 363
        },
        "outputId": "7e56b865-4831-4d3e-ae86-6de428f1dd59"
      },
      "execution_count": 17,
      "outputs": [
        {
          "output_type": "execute_result",
          "data": {
            "text/plain": [
              "           t test_accuracy  model\n",
              "0   0.079013    -2993.2598  advi1\n",
              "1   1.994073    -2552.5007  advi1\n",
              "2   4.826792     439.17377  advi1\n",
              "3   8.761992     1768.6445  advi1\n",
              "4  13.118004     2100.7375  advi1\n",
              "5  17.425377     2123.9468  advi1\n",
              "6  22.086995       2119.03  advi1\n",
              "7  24.271404     2119.5503  advi1\n",
              "8  26.465523      2119.919  advi1\n",
              "9  28.624585       2110.48  advi1"
            ],
            "text/html": [
              "\n",
              "  <div id=\"df-8a67c3d7-e7b6-40c7-bea3-b5f344ddff76\">\n",
              "    <div class=\"colab-df-container\">\n",
              "      <div>\n",
              "<style scoped>\n",
              "    .dataframe tbody tr th:only-of-type {\n",
              "        vertical-align: middle;\n",
              "    }\n",
              "\n",
              "    .dataframe tbody tr th {\n",
              "        vertical-align: top;\n",
              "    }\n",
              "\n",
              "    .dataframe thead th {\n",
              "        text-align: right;\n",
              "    }\n",
              "</style>\n",
              "<table border=\"1\" class=\"dataframe\">\n",
              "  <thead>\n",
              "    <tr style=\"text-align: right;\">\n",
              "      <th></th>\n",
              "      <th>t</th>\n",
              "      <th>test_accuracy</th>\n",
              "      <th>model</th>\n",
              "    </tr>\n",
              "  </thead>\n",
              "  <tbody>\n",
              "    <tr>\n",
              "      <th>0</th>\n",
              "      <td>0.079013</td>\n",
              "      <td>-2993.2598</td>\n",
              "      <td>advi1</td>\n",
              "    </tr>\n",
              "    <tr>\n",
              "      <th>1</th>\n",
              "      <td>1.994073</td>\n",
              "      <td>-2552.5007</td>\n",
              "      <td>advi1</td>\n",
              "    </tr>\n",
              "    <tr>\n",
              "      <th>2</th>\n",
              "      <td>4.826792</td>\n",
              "      <td>439.17377</td>\n",
              "      <td>advi1</td>\n",
              "    </tr>\n",
              "    <tr>\n",
              "      <th>3</th>\n",
              "      <td>8.761992</td>\n",
              "      <td>1768.6445</td>\n",
              "      <td>advi1</td>\n",
              "    </tr>\n",
              "    <tr>\n",
              "      <th>4</th>\n",
              "      <td>13.118004</td>\n",
              "      <td>2100.7375</td>\n",
              "      <td>advi1</td>\n",
              "    </tr>\n",
              "    <tr>\n",
              "      <th>5</th>\n",
              "      <td>17.425377</td>\n",
              "      <td>2123.9468</td>\n",
              "      <td>advi1</td>\n",
              "    </tr>\n",
              "    <tr>\n",
              "      <th>6</th>\n",
              "      <td>22.086995</td>\n",
              "      <td>2119.03</td>\n",
              "      <td>advi1</td>\n",
              "    </tr>\n",
              "    <tr>\n",
              "      <th>7</th>\n",
              "      <td>24.271404</td>\n",
              "      <td>2119.5503</td>\n",
              "      <td>advi1</td>\n",
              "    </tr>\n",
              "    <tr>\n",
              "      <th>8</th>\n",
              "      <td>26.465523</td>\n",
              "      <td>2119.919</td>\n",
              "      <td>advi1</td>\n",
              "    </tr>\n",
              "    <tr>\n",
              "      <th>9</th>\n",
              "      <td>28.624585</td>\n",
              "      <td>2110.48</td>\n",
              "      <td>advi1</td>\n",
              "    </tr>\n",
              "  </tbody>\n",
              "</table>\n",
              "</div>\n",
              "      <button class=\"colab-df-convert\" onclick=\"convertToInteractive('df-8a67c3d7-e7b6-40c7-bea3-b5f344ddff76')\"\n",
              "              title=\"Convert this dataframe to an interactive table.\"\n",
              "              style=\"display:none;\">\n",
              "        \n",
              "  <svg xmlns=\"http://www.w3.org/2000/svg\" height=\"24px\"viewBox=\"0 0 24 24\"\n",
              "       width=\"24px\">\n",
              "    <path d=\"M0 0h24v24H0V0z\" fill=\"none\"/>\n",
              "    <path d=\"M18.56 5.44l.94 2.06.94-2.06 2.06-.94-2.06-.94-.94-2.06-.94 2.06-2.06.94zm-11 1L8.5 8.5l.94-2.06 2.06-.94-2.06-.94L8.5 2.5l-.94 2.06-2.06.94zm10 10l.94 2.06.94-2.06 2.06-.94-2.06-.94-.94-2.06-.94 2.06-2.06.94z\"/><path d=\"M17.41 7.96l-1.37-1.37c-.4-.4-.92-.59-1.43-.59-.52 0-1.04.2-1.43.59L10.3 9.45l-7.72 7.72c-.78.78-.78 2.05 0 2.83L4 21.41c.39.39.9.59 1.41.59.51 0 1.02-.2 1.41-.59l7.78-7.78 2.81-2.81c.8-.78.8-2.07 0-2.86zM5.41 20L4 18.59l7.72-7.72 1.47 1.35L5.41 20z\"/>\n",
              "  </svg>\n",
              "      </button>\n",
              "      \n",
              "  <style>\n",
              "    .colab-df-container {\n",
              "      display:flex;\n",
              "      flex-wrap:wrap;\n",
              "      gap: 12px;\n",
              "    }\n",
              "\n",
              "    .colab-df-convert {\n",
              "      background-color: #E8F0FE;\n",
              "      border: none;\n",
              "      border-radius: 50%;\n",
              "      cursor: pointer;\n",
              "      display: none;\n",
              "      fill: #1967D2;\n",
              "      height: 32px;\n",
              "      padding: 0 0 0 0;\n",
              "      width: 32px;\n",
              "    }\n",
              "\n",
              "    .colab-df-convert:hover {\n",
              "      background-color: #E2EBFA;\n",
              "      box-shadow: 0px 1px 2px rgba(60, 64, 67, 0.3), 0px 1px 3px 1px rgba(60, 64, 67, 0.15);\n",
              "      fill: #174EA6;\n",
              "    }\n",
              "\n",
              "    [theme=dark] .colab-df-convert {\n",
              "      background-color: #3B4455;\n",
              "      fill: #D2E3FC;\n",
              "    }\n",
              "\n",
              "    [theme=dark] .colab-df-convert:hover {\n",
              "      background-color: #434B5C;\n",
              "      box-shadow: 0px 1px 3px 1px rgba(0, 0, 0, 0.15);\n",
              "      filter: drop-shadow(0px 1px 2px rgba(0, 0, 0, 0.3));\n",
              "      fill: #FFFFFF;\n",
              "    }\n",
              "  </style>\n",
              "\n",
              "      <script>\n",
              "        const buttonEl =\n",
              "          document.querySelector('#df-8a67c3d7-e7b6-40c7-bea3-b5f344ddff76 button.colab-df-convert');\n",
              "        buttonEl.style.display =\n",
              "          google.colab.kernel.accessAllowed ? 'block' : 'none';\n",
              "\n",
              "        async function convertToInteractive(key) {\n",
              "          const element = document.querySelector('#df-8a67c3d7-e7b6-40c7-bea3-b5f344ddff76');\n",
              "          const dataTable =\n",
              "            await google.colab.kernel.invokeFunction('convertToInteractive',\n",
              "                                                     [key], {});\n",
              "          if (!dataTable) return;\n",
              "\n",
              "          const docLinkHtml = 'Like what you see? Visit the ' +\n",
              "            '<a target=\"_blank\" href=https://colab.research.google.com/notebooks/data_table.ipynb>data table notebook</a>'\n",
              "            + ' to learn more about interactive tables.';\n",
              "          element.innerHTML = '';\n",
              "          dataTable['output_type'] = 'display_data';\n",
              "          await google.colab.output.renderOutput(dataTable, element);\n",
              "          const docLink = document.createElement('div');\n",
              "          docLink.innerHTML = docLinkHtml;\n",
              "          element.appendChild(docLink);\n",
              "        }\n",
              "      </script>\n",
              "    </div>\n",
              "  </div>\n",
              "  "
            ]
          },
          "metadata": {},
          "execution_count": 17
        }
      ]
    },
    {
      "cell_type": "code",
      "source": [
        "#output_advi_M10"
      ],
      "metadata": {
        "id": "3VmTfBR9fGps"
      },
      "execution_count": 18,
      "outputs": []
    },
    {
      "cell_type": "markdown",
      "metadata": {
        "id": "EOf_ZWjSio8C"
      },
      "source": [
        "# Run NUTS\n"
      ]
    },
    {
      "cell_type": "code",
      "execution_count": 19,
      "metadata": {
        "id": "coWK_hUEirhw"
      },
      "outputs": [],
      "source": [
        "from pyro.infer import MCMC, NUTS, HMC\n",
        "\n",
        "import torch.distributions.transforms as transforms"
      ]
    },
    {
      "cell_type": "code",
      "execution_count": 20,
      "metadata": {
        "id": "N7lDSV8sqlFF"
      },
      "outputs": [],
      "source": [
        "def run_mcmc(model, num_samples, num_warmups, kernel_method):\n",
        "    pyro.clear_param_store()\n",
        "\n",
        "    test_log_prob_arr = []\n",
        "    train_time = []\n",
        "\n",
        "    def hook_fn(kernel, sample, stage, i):\n",
        "        # Use the most recently sampled param to estimate performance\n",
        "        if i < 100 or (i % 10 == 0): # Evaluate all first 100 samples and then every 50\n",
        "            learned_theta = transforms.StickBreakingTransform()(sample['theta']) # # NOTE: StickBreakingTransform is crucial\n",
        "            learned_mu = sample['mu']\n",
        "            learned_sigma = torch.exp(sample['sigma'])\n",
        "\n",
        "            #print(learned_theta) # DEBUG\n",
        "\n",
        "            # Compute Likelihood as in the paper\n",
        "            test_log_prob = 0\n",
        "            for n in range(data_test.shape[0]):\n",
        "                ps = torch.zeros(K, 1)\n",
        "                for k in range(K):\n",
        "                    learned_normal = dist.Normal(learned_mu[k], learned_sigma[k])\n",
        "                    ps[k] = torch.log(learned_theta[k]) + learned_normal.log_prob(data_test[n]).sum()\n",
        "                test_log_prob += torch.logsumexp(ps.flatten(), dim=-1)\n",
        "\n",
        "            train_time.append(time.time())    \n",
        "            test_log_prob_arr.append(test_log_prob)\n",
        "\n",
        "    if kernel_method == 'NUTS':\n",
        "        kernel = NUTS(model,max_tree_depth=4)\n",
        "    elif kernel_method == 'HMC':\n",
        "        kernel = HMC(model,\n",
        "                     step_size=0.1, \n",
        "                     num_steps=10, \n",
        "                     target_accept_prob=0.8,\n",
        "                     adapt_step_size = False)\n",
        "    else:\n",
        "        raise Exception('Unknown Kernel Method.')\n",
        "\n",
        "    nuts = MCMC(kernel,\n",
        "                num_samples=num_samples,\n",
        "                warmup_steps=num_warmups,\n",
        "                disable_progbar=False,\n",
        "                num_chains=1,\n",
        "                hook_fn=hook_fn) \n",
        "\n",
        "    nuts.run(data_train)\n",
        "\n",
        "    output_mcmc = pd.DataFrame({'t': np.array(train_time) - train_time[0], \n",
        "                                'test_accuracy': np.array(test_log_prob_arr),\n",
        "                                'model': kernel_method})\n",
        "    \n",
        "    return output_mcmc"
      ]
    },
    {
      "cell_type": "code",
      "execution_count": 21,
      "metadata": {
        "colab": {
          "base_uri": "https://localhost:8080/"
        },
        "id": "8AzLON3wsCkX",
        "outputId": "647475b2-fcd0-4f71-d7a1-cc1e02652ec3"
      },
      "outputs": [
        {
          "output_type": "stream",
          "name": "stdout",
          "text": [
            "Running MCMC with NUTS kernel\n"
          ]
        },
        {
          "output_type": "stream",
          "name": "stderr",
          "text": [
            "Sample: 100%|██████████| 200/200 [01:48,  1.84it/s, step size=1.10e-02, acc. prob=0.805]\n"
          ]
        }
      ],
      "source": [
        "# Train the MCMC models \n",
        "print('Running MCMC with NUTS kernel')\n",
        "output_nuts = run_mcmc(model, 100, 100, 'NUTS')\n",
        "\n",
        "# Does not produce any meaningful result\n",
        "#print('Running MCMC with HMC kernel')\n",
        "#output_hmc = run_mcmc(model, 2000, 2000, 'HMC')"
      ]
    },
    {
      "cell_type": "code",
      "source": [
        "output_nuts"
      ],
      "metadata": {
        "id": "hd7zfFkxbV1k",
        "colab": {
          "base_uri": "https://localhost:8080/",
          "height": 423
        },
        "outputId": "5fc73304-9293-4a4b-d2be-d23e9af911e5"
      },
      "execution_count": 22,
      "outputs": [
        {
          "output_type": "execute_result",
          "data": {
            "text/plain": [
              "              t  test_accuracy model\n",
              "0      0.000000   -5835.726074  NUTS\n",
              "1      0.449336   -5835.726074  NUTS\n",
              "2      0.884028   -5835.726074  NUTS\n",
              "3      1.329335   -5728.889160  NUTS\n",
              "4      1.844203   -3932.447754  NUTS\n",
              "..          ...            ...   ...\n",
              "195  105.741251    2121.567871  NUTS\n",
              "196  106.257502    2123.175537  NUTS\n",
              "197  106.905310    2124.542236  NUTS\n",
              "198  107.451065    2124.165527  NUTS\n",
              "199  107.976816    2124.069092  NUTS\n",
              "\n",
              "[200 rows x 3 columns]"
            ],
            "text/html": [
              "\n",
              "  <div id=\"df-93f128de-bd22-4872-98df-e48d4f3b2630\">\n",
              "    <div class=\"colab-df-container\">\n",
              "      <div>\n",
              "<style scoped>\n",
              "    .dataframe tbody tr th:only-of-type {\n",
              "        vertical-align: middle;\n",
              "    }\n",
              "\n",
              "    .dataframe tbody tr th {\n",
              "        vertical-align: top;\n",
              "    }\n",
              "\n",
              "    .dataframe thead th {\n",
              "        text-align: right;\n",
              "    }\n",
              "</style>\n",
              "<table border=\"1\" class=\"dataframe\">\n",
              "  <thead>\n",
              "    <tr style=\"text-align: right;\">\n",
              "      <th></th>\n",
              "      <th>t</th>\n",
              "      <th>test_accuracy</th>\n",
              "      <th>model</th>\n",
              "    </tr>\n",
              "  </thead>\n",
              "  <tbody>\n",
              "    <tr>\n",
              "      <th>0</th>\n",
              "      <td>0.000000</td>\n",
              "      <td>-5835.726074</td>\n",
              "      <td>NUTS</td>\n",
              "    </tr>\n",
              "    <tr>\n",
              "      <th>1</th>\n",
              "      <td>0.449336</td>\n",
              "      <td>-5835.726074</td>\n",
              "      <td>NUTS</td>\n",
              "    </tr>\n",
              "    <tr>\n",
              "      <th>2</th>\n",
              "      <td>0.884028</td>\n",
              "      <td>-5835.726074</td>\n",
              "      <td>NUTS</td>\n",
              "    </tr>\n",
              "    <tr>\n",
              "      <th>3</th>\n",
              "      <td>1.329335</td>\n",
              "      <td>-5728.889160</td>\n",
              "      <td>NUTS</td>\n",
              "    </tr>\n",
              "    <tr>\n",
              "      <th>4</th>\n",
              "      <td>1.844203</td>\n",
              "      <td>-3932.447754</td>\n",
              "      <td>NUTS</td>\n",
              "    </tr>\n",
              "    <tr>\n",
              "      <th>...</th>\n",
              "      <td>...</td>\n",
              "      <td>...</td>\n",
              "      <td>...</td>\n",
              "    </tr>\n",
              "    <tr>\n",
              "      <th>195</th>\n",
              "      <td>105.741251</td>\n",
              "      <td>2121.567871</td>\n",
              "      <td>NUTS</td>\n",
              "    </tr>\n",
              "    <tr>\n",
              "      <th>196</th>\n",
              "      <td>106.257502</td>\n",
              "      <td>2123.175537</td>\n",
              "      <td>NUTS</td>\n",
              "    </tr>\n",
              "    <tr>\n",
              "      <th>197</th>\n",
              "      <td>106.905310</td>\n",
              "      <td>2124.542236</td>\n",
              "      <td>NUTS</td>\n",
              "    </tr>\n",
              "    <tr>\n",
              "      <th>198</th>\n",
              "      <td>107.451065</td>\n",
              "      <td>2124.165527</td>\n",
              "      <td>NUTS</td>\n",
              "    </tr>\n",
              "    <tr>\n",
              "      <th>199</th>\n",
              "      <td>107.976816</td>\n",
              "      <td>2124.069092</td>\n",
              "      <td>NUTS</td>\n",
              "    </tr>\n",
              "  </tbody>\n",
              "</table>\n",
              "<p>200 rows × 3 columns</p>\n",
              "</div>\n",
              "      <button class=\"colab-df-convert\" onclick=\"convertToInteractive('df-93f128de-bd22-4872-98df-e48d4f3b2630')\"\n",
              "              title=\"Convert this dataframe to an interactive table.\"\n",
              "              style=\"display:none;\">\n",
              "        \n",
              "  <svg xmlns=\"http://www.w3.org/2000/svg\" height=\"24px\"viewBox=\"0 0 24 24\"\n",
              "       width=\"24px\">\n",
              "    <path d=\"M0 0h24v24H0V0z\" fill=\"none\"/>\n",
              "    <path d=\"M18.56 5.44l.94 2.06.94-2.06 2.06-.94-2.06-.94-.94-2.06-.94 2.06-2.06.94zm-11 1L8.5 8.5l.94-2.06 2.06-.94-2.06-.94L8.5 2.5l-.94 2.06-2.06.94zm10 10l.94 2.06.94-2.06 2.06-.94-2.06-.94-.94-2.06-.94 2.06-2.06.94z\"/><path d=\"M17.41 7.96l-1.37-1.37c-.4-.4-.92-.59-1.43-.59-.52 0-1.04.2-1.43.59L10.3 9.45l-7.72 7.72c-.78.78-.78 2.05 0 2.83L4 21.41c.39.39.9.59 1.41.59.51 0 1.02-.2 1.41-.59l7.78-7.78 2.81-2.81c.8-.78.8-2.07 0-2.86zM5.41 20L4 18.59l7.72-7.72 1.47 1.35L5.41 20z\"/>\n",
              "  </svg>\n",
              "      </button>\n",
              "      \n",
              "  <style>\n",
              "    .colab-df-container {\n",
              "      display:flex;\n",
              "      flex-wrap:wrap;\n",
              "      gap: 12px;\n",
              "    }\n",
              "\n",
              "    .colab-df-convert {\n",
              "      background-color: #E8F0FE;\n",
              "      border: none;\n",
              "      border-radius: 50%;\n",
              "      cursor: pointer;\n",
              "      display: none;\n",
              "      fill: #1967D2;\n",
              "      height: 32px;\n",
              "      padding: 0 0 0 0;\n",
              "      width: 32px;\n",
              "    }\n",
              "\n",
              "    .colab-df-convert:hover {\n",
              "      background-color: #E2EBFA;\n",
              "      box-shadow: 0px 1px 2px rgba(60, 64, 67, 0.3), 0px 1px 3px 1px rgba(60, 64, 67, 0.15);\n",
              "      fill: #174EA6;\n",
              "    }\n",
              "\n",
              "    [theme=dark] .colab-df-convert {\n",
              "      background-color: #3B4455;\n",
              "      fill: #D2E3FC;\n",
              "    }\n",
              "\n",
              "    [theme=dark] .colab-df-convert:hover {\n",
              "      background-color: #434B5C;\n",
              "      box-shadow: 0px 1px 3px 1px rgba(0, 0, 0, 0.15);\n",
              "      filter: drop-shadow(0px 1px 2px rgba(0, 0, 0, 0.3));\n",
              "      fill: #FFFFFF;\n",
              "    }\n",
              "  </style>\n",
              "\n",
              "      <script>\n",
              "        const buttonEl =\n",
              "          document.querySelector('#df-93f128de-bd22-4872-98df-e48d4f3b2630 button.colab-df-convert');\n",
              "        buttonEl.style.display =\n",
              "          google.colab.kernel.accessAllowed ? 'block' : 'none';\n",
              "\n",
              "        async function convertToInteractive(key) {\n",
              "          const element = document.querySelector('#df-93f128de-bd22-4872-98df-e48d4f3b2630');\n",
              "          const dataTable =\n",
              "            await google.colab.kernel.invokeFunction('convertToInteractive',\n",
              "                                                     [key], {});\n",
              "          if (!dataTable) return;\n",
              "\n",
              "          const docLinkHtml = 'Like what you see? Visit the ' +\n",
              "            '<a target=\"_blank\" href=https://colab.research.google.com/notebooks/data_table.ipynb>data table notebook</a>'\n",
              "            + ' to learn more about interactive tables.';\n",
              "          element.innerHTML = '';\n",
              "          dataTable['output_type'] = 'display_data';\n",
              "          await google.colab.output.renderOutput(dataTable, element);\n",
              "          const docLink = document.createElement('div');\n",
              "          docLink.innerHTML = docLinkHtml;\n",
              "          element.appendChild(docLink);\n",
              "        }\n",
              "      </script>\n",
              "    </div>\n",
              "  </div>\n",
              "  "
            ]
          },
          "metadata": {},
          "execution_count": 22
        }
      ]
    },
    {
      "cell_type": "code",
      "execution_count": 23,
      "metadata": {
        "id": "W-oR6fuJza4Z"
      },
      "outputs": [],
      "source": [
        "import seaborn as sns"
      ]
    },
    {
      "cell_type": "code",
      "execution_count": 24,
      "metadata": {
        "id": "Bn0n42YEzI7X",
        "colab": {
          "base_uri": "https://localhost:8080/",
          "height": 301
        },
        "outputId": "d099fe7c-a7dd-4a09-82ab-ec603f1cb541"
      },
      "outputs": [
        {
          "output_type": "execute_result",
          "data": {
            "text/plain": [
              "<matplotlib.legend.Legend at 0x7f5a901817d0>"
            ]
          },
          "metadata": {},
          "execution_count": 24
        },
        {
          "output_type": "display_data",
          "data": {
            "text/plain": [
              "<Figure size 432x288 with 1 Axes>"
            ],
            "image/png": "[encoded data removed]"
          },
          "metadata": {}
        }
      ],
      "source": [
        "# Generate plot\n",
        "output = output_advi_M1#.append(output_advi_M10, ignore_index=True)\n",
        "output = output.append(output_nuts, ignore_index=True)\n",
        "#output = output.append(output_hmc, ignore_index=True)\n",
        "output['test_accuracy'] = output['test_accuracy'].astype('float')\n",
        "\n",
        "sns.set_style('whitegrid')\n",
        "results1 = sns.lineplot(data=output, x='t', y='test_accuracy', hue='model')\n",
        "results1.set(xscale='log', \n",
        "            xlim=(0.3, 35), \n",
        "            ylim=(-5000, 5000),\n",
        "            xlabel='Seconds',\n",
        "            ylabel='Log Predictive')\n",
        "plt.legend(labels=['ADVI (M=1)', 'NUTS']) #, 'HMC'])"
      ]
    },
    {
      "cell_type": "markdown",
      "source": [
        "## Model Misspecification"
      ],
      "metadata": {
        "id": "TqNy_Scq3F1P"
      }
    },
    {
      "cell_type": "markdown",
      "source": [
        "The experiment goes as follows:\n",
        "\n",
        "- We initialize a model with 5 posterior modes (K), a 5-component Gaussian Mixture Model. \n",
        "- We sample from this model and generate a synthetic dataset.\n",
        "- We assume we correctly specify the model and run ADVI and NUTS with K = 5.\n",
        "- We assume we misspesify the model and run ADVI and NUTS with K = 3."
      ],
      "metadata": {
        "id": "N-9Ii6wq3XiW"
      }
    },
    {
      "cell_type": "code",
      "source": [
        "# Initialize and sample from the 5-component gaussian\n",
        "five_modal_sampler = GMMSampler(5, \n",
        "                                2, \n",
        "                                torch.tensor([[-.5, -.5], [.5, .5], [-.5, .5], [.5, -.5], [0, 0]], dtype=torch.float), \n",
        "                                torch.tensor([[.1, .1], [.1, .1], [.1, .1], [.1, .1], [.1, .1]], dtype=torch.float))\n",
        "\n",
        "data5 = five_modal_sampler.sample(N)"
      ],
      "metadata": {
        "id": "RXd07dd_36-_"
      },
      "execution_count": 25,
      "outputs": []
    },
    {
      "cell_type": "code",
      "source": [
        "plt.scatter(data5[:, 0], data5[:, 1])\n",
        "plt.show()"
      ],
      "metadata": {
        "id": "odLz4Fqk4SZM",
        "colab": {
          "base_uri": "https://localhost:8080/",
          "height": 265
        },
        "outputId": "136b2c20-1096-4421-af19-c91063b0de08"
      },
      "execution_count": 26,
      "outputs": [
        {
          "output_type": "display_data",
          "data": {
            "text/plain": [
              "<Figure size 432x288 with 1 Axes>"
            ],
            "image/png": "[encoded data removed]"
          },
          "metadata": {}
        }
      ]
    },
    {
      "cell_type": "code",
      "source": [
        "data_train, data_test = split_train_test(data5)"
      ],
      "metadata": {
        "id": "gvyuX9-l4jdl"
      },
      "execution_count": 27,
      "outputs": []
    },
    {
      "cell_type": "code",
      "source": [
        "# Assume correct specification\n",
        "K = 5\n",
        "init_values = {\n",
        "    'mu': torch.mean(data_train, dim=0).expand(K, D), \n",
        "    'sigma': torch.std(data_train, dim=0).expand(K, D), \n",
        "    'theta': torch.ones(K) / K\n",
        "    }\n",
        "\n",
        "# Train the ADVI model\n",
        "print('Running ADVI with M=1 and K=5')\n",
        "output_advi_M1_K5_correct = run_advi(model, 1000, 1, True, lr=0.05)\n",
        "\n",
        "print('Running MCMC with NUTS kernel, K=5')\n",
        "output_nuts_K5_correct = run_mcmc(model, 100, 100, 'NUTS')"
      ],
      "metadata": {
        "id": "DwOq7rYS4aVx",
        "colab": {
          "base_uri": "https://localhost:8080/",
          "height": 281,
          "referenced_widgets": [
            "fb91359a09b44447811a344774437938",
            "f1d0c5c3c1f64f4590456cc6bc7c590f",
            "c832a93d557147fb827c72852a380f2c",
            "d528189521d349ab942cf0a01b50d3de",
            "928799cadca944f282e19163829fc16d",
            "b87c4f52d51749d7882def065f4ecd44",
            "1fd0b1b0b8644ad191d6ba55b3577692",
            "846e5f9b936e4d3991758eb2e50aad56",
            "5e226d7d1a64405e808fec92e7c0de7c",
            "208cb7727b53416e94576e141b93188d",
            "36ea1506f280456c8ed2d46e5ea9e251"
          ]
        },
        "outputId": "1d15f8cc-a7a6-4f17-8979-6eea42d2942d"
      },
      "execution_count": 28,
      "outputs": [
        {
          "output_type": "stream",
          "name": "stdout",
          "text": [
            "Running ADVI with M=1 and K=5\n"
          ]
        },
        {
          "output_type": "display_data",
          "data": {
            "text/plain": [
              "  0%|          | 0/1000 [00:00<?, ?it/s]"
            ],
            "application/vnd.jupyter.widget-view+json": {
              "version_major": 2,
              "version_minor": 0,
              "model_id": "fb91359a09b44447811a344774437938"
            }
          },
          "metadata": {}
        },
        {
          "output_type": "stream",
          "name": "stdout",
          "text": [
            "[iteration 0001] test_accuracy: -2591.2876\n",
            "[iteration 0101] test_accuracy: -1543.2026\n",
            "[iteration 0201] test_accuracy: -242.5278\n",
            "[iteration 0301] test_accuracy: 255.7017\n",
            "[iteration 0401] test_accuracy: 257.9966\n",
            "[iteration 0501] test_accuracy: 257.8758\n",
            "[iteration 0601] test_accuracy: 261.8098\n",
            "[iteration 0701] test_accuracy: 259.6613\n",
            "[iteration 0801] test_accuracy: 263.8184\n",
            "[iteration 0901] test_accuracy: 257.0930\n",
            "Running MCMC with NUTS kernel, K=5\n"
          ]
        },
        {
          "output_type": "stream",
          "name": "stderr",
          "text": [
            "Sample: 100%|██████████| 200/200 [04:15,  1.28s/it, step size=4.91e-01, acc. prob=0.897]\n"
          ]
        }
      ]
    },
    {
      "cell_type": "code",
      "source": [
        "# Assume misspecification\n",
        "K = 3\n",
        "init_values = {\n",
        "    'mu': torch.mean(data_train, dim=0).expand(K, D), \n",
        "    'sigma': torch.std(data_train, dim=0).expand(K, D), \n",
        "    'theta': torch.ones(K) / K\n",
        "    }\n",
        "\n",
        "# Train the ADVI model\n",
        "print('Running ADVI with M=1 and false K=3')\n",
        "output_advi_M1_K3_false = run_advi(model, 1000, 1, True, lr=0.05)\n",
        "\n",
        "print('Running MCMC with NUTS kernel, false K=3')\n",
        "output_nuts_K3_false = run_mcmc(model, 100, 100, 'NUTS')"
      ],
      "metadata": {
        "colab": {
          "base_uri": "https://localhost:8080/",
          "height": 281,
          "referenced_widgets": [
            "7c332073a37448a8b19fd4735ef3b891",
            "6ad4579fe13d488fbf50a48eca18b07a",
            "ca90a8167ddf45eb8617c91898dbb5ef",
            "73b6c19a8a85431c8a39b8d3ca531b1b",
            "78f9f1d3301b455da02c359fbe4193ac",
            "f8e8897ae9424c648619e80d22e2b66a",
            "ed2fe6eafe2b408e95ff5d15f7a2a0cc",
            "82eb85cafa304fccab7cbf461a38d670",
            "d85ed90066914a1e8b1595892b88c5ce",
            "6a79c8fc39b84f529a5a4e278ee9f5d8",
            "efb25dbae8a94b748f02dec11fd094d5"
          ]
        },
        "id": "PMcwrFac4oZN",
        "outputId": "90beb067-d22e-4cb7-bfa6-da9b141ff529"
      },
      "execution_count": 29,
      "outputs": [
        {
          "output_type": "stream",
          "name": "stdout",
          "text": [
            "Running ADVI with M=1 and false K=3\n"
          ]
        },
        {
          "output_type": "display_data",
          "data": {
            "text/plain": [
              "  0%|          | 0/1000 [00:00<?, ?it/s]"
            ],
            "application/vnd.jupyter.widget-view+json": {
              "version_major": 2,
              "version_minor": 0,
              "model_id": "7c332073a37448a8b19fd4735ef3b891"
            }
          },
          "metadata": {}
        },
        {
          "output_type": "stream",
          "name": "stdout",
          "text": [
            "[iteration 0001] test_accuracy: -2571.0850\n",
            "[iteration 0101] test_accuracy: -1303.9572\n",
            "[iteration 0201] test_accuracy: -1199.9711\n",
            "[iteration 0301] test_accuracy: -1206.2797\n",
            "[iteration 0401] test_accuracy: -1200.2052\n",
            "[iteration 0501] test_accuracy: -1198.4490\n",
            "[iteration 0601] test_accuracy: -1203.1976\n",
            "[iteration 0701] test_accuracy: -1201.7308\n",
            "[iteration 0801] test_accuracy: -1203.7573\n",
            "[iteration 0901] test_accuracy: -1197.9816\n",
            "Running MCMC with NUTS kernel, false K=3\n"
          ]
        },
        {
          "output_type": "stream",
          "name": "stderr",
          "text": [
            "Sample: 100%|██████████| 200/200 [02:42,  1.23it/s, step size=9.48e-03, acc. prob=0.958]\n"
          ]
        }
      ]
    },
    {
      "cell_type": "code",
      "source": [
        "# Generate plot\n",
        "output_advi_M1_K5_correct['test_accuracy'] = output_advi_M1_K5_correct['test_accuracy'].astype('float')\n",
        "output_advi_M1_K3_false['test_accuracy'] = output_advi_M1_K3_false['test_accuracy'].astype('float')\n",
        "\n",
        "sns.set_style('whitegrid')\n",
        "\n",
        "results2 = sns.lineplot(data=output_advi_M1_K5_correct, x='t', y='test_accuracy')\n",
        "results2 = sns.lineplot(data=output_nuts_K5_correct, x='t', y='test_accuracy')\n",
        "\n",
        "results2 = sns.lineplot(data=output_advi_M1_K3_false, x='t', y='test_accuracy')\n",
        "results2 = sns.lineplot(data=output_nuts_K3_false, x='t', y='test_accuracy')\n",
        "\n",
        "results2.set(xscale='log', \n",
        "            xlim=(0.5, 500), \n",
        "            ylim=(-5000, 500),\n",
        "            xlabel='Seconds',\n",
        "            ylabel='Log Predictive')\n",
        "plt.legend(labels=['ADVI (M=1, K=5 correct)',\n",
        "                   'NUTS (K=5 correct)',\n",
        "                   'ADVI (M=1, K=3 false)', \n",
        "                   'NUTS (K=3 false)'])"
      ],
      "metadata": {
        "id": "AjSbqlfR4wID",
        "colab": {
          "base_uri": "https://localhost:8080/",
          "height": 301
        },
        "outputId": "96781de3-df71-4424-9ca0-8c29b39d08e1"
      },
      "execution_count": 30,
      "outputs": [
        {
          "output_type": "execute_result",
          "data": {
            "text/plain": [
              "<matplotlib.legend.Legend at 0x7f5a8f2b4310>"
            ]
          },
          "metadata": {},
          "execution_count": 30
        },
        {
          "output_type": "display_data",
          "data": {
            "text/plain": [
              "<Figure size 432x288 with 1 Axes>"
            ],
            "image/png": "[encoded data removed]"
          },
          "metadata": {}
        }
      ]
    },
    {
      "cell_type": "code",
      "source": [
        "# Uncomment if you want to download the plots as PDFs\n",
        "from google.colab import files\n",
        "\n",
        "fig1 = results1.get_figure()\n",
        "fig1.savefig('GMMTime.pdf')\n",
        "files.download('GMMTime.pdf') \n",
        "\n",
        "fig2 = results2.get_figure()\n",
        "fig2.savefig('GMMK.pdf')\n",
        "files.download('GMMK.pdf') "
      ],
      "metadata": {
        "id": "YBtQhVMi9oeJ",
        "colab": {
          "base_uri": "https://localhost:8080/",
          "height": 17
        },
        "outputId": "12053995-5fe6-4b22-e6ba-1fcbad647ded"
      },
      "execution_count": 31,
      "outputs": [
        {
          "output_type": "display_data",
          "data": {
            "text/plain": [
              "<IPython.core.display.Javascript object>"
            ],
            "application/javascript": [
              "\n",
              "    async function download(id, filename, size) {\n",
              "      if (!google.colab.kernel.accessAllowed) {\n",
              "        return;\n",
              "      }\n",
              "      const div = document.createElement('div');\n",
              "      const label = document.createElement('label');\n",
              "      label.textContent = `Downloading \"${filename}\": `;\n",
              "      div.appendChild(label);\n",
              "      const progress = document.createElement('progress');\n",
              "      progress.max = size;\n",
              "      div.appendChild(progress);\n",
              "      document.body.appendChild(div);\n",
              "\n",
              "      const buffers = [];\n",
              "      let downloaded = 0;\n",
              "\n",
              "      const channel = await google.colab.kernel.comms.open(id);\n",
              "      // Send a message to notify the kernel that we're ready.\n",
              "      channel.send({})\n",
              "\n",
              "      for await (const message of channel.messages) {\n",
              "        // Send a message to notify the kernel that we're ready.\n",
              "        channel.send({})\n",
              "        if (message.buffers) {\n",
              "          for (const buffer of message.buffers) {\n",
              "            buffers.push(buffer);\n",
              "            downloaded += buffer.byteLength;\n",
              "            progress.value = downloaded;\n",
              "          }\n",
              "        }\n",
              "      }\n",
              "      const blob = new Blob(buffers, {type: 'application/binary'});\n",
              "      const a = document.createElement('a');\n",
              "      a.href = window.URL.createObjectURL(blob);\n",
              "      a.download = filename;\n",
              "      div.appendChild(a);\n",
              "      a.click();\n",
              "      div.remove();\n",
              "    }\n",
              "  "
            ]
          },
          "metadata": {}
        },
        {
          "output_type": "display_data",
          "data": {
            "text/plain": [
              "<IPython.core.display.Javascript object>"
            ],
            "application/javascript": [
              "download(\"download_140e47c3-8fdd-4847-9386-8ae68801f0a3\", \"GMMTime.pdf\", 12655)"
            ]
          },
          "metadata": {}
        },
        {
          "output_type": "display_data",
          "data": {
            "text/plain": [
              "<IPython.core.display.Javascript object>"
            ],
            "application/javascript": [
              "\n",
              "    async function download(id, filename, size) {\n",
              "      if (!google.colab.kernel.accessAllowed) {\n",
              "        return;\n",
              "      }\n",
              "      const div = document.createElement('div');\n",
              "      const label = document.createElement('label');\n",
              "      label.textContent = `Downloading \"${filename}\": `;\n",
              "      div.appendChild(label);\n",
              "      const progress = document.createElement('progress');\n",
              "      progress.max = size;\n",
              "      div.appendChild(progress);\n",
              "      document.body.appendChild(div);\n",
              "\n",
              "      const buffers = [];\n",
              "      let downloaded = 0;\n",
              "\n",
              "      const channel = await google.colab.kernel.comms.open(id);\n",
              "      // Send a message to notify the kernel that we're ready.\n",
              "      channel.send({})\n",
              "\n",
              "      for await (const message of channel.messages) {\n",
              "        // Send a message to notify the kernel that we're ready.\n",
              "        channel.send({})\n",
              "        if (message.buffers) {\n",
              "          for (const buffer of message.buffers) {\n",
              "            buffers.push(buffer);\n",
              "            downloaded += buffer.byteLength;\n",
              "            progress.value = downloaded;\n",
              "          }\n",
              "        }\n",
              "      }\n",
              "      const blob = new Blob(buffers, {type: 'application/binary'});\n",
              "      const a = document.createElement('a');\n",
              "      a.href = window.URL.createObjectURL(blob);\n",
              "      a.download = filename;\n",
              "      div.appendChild(a);\n",
              "      a.click();\n",
              "      div.remove();\n",
              "    }\n",
              "  "
            ]
          },
          "metadata": {}
        },
        {
          "output_type": "display_data",
          "data": {
            "text/plain": [
              "<IPython.core.display.Javascript object>"
            ],
            "application/javascript": [
              "download(\"download_8edc9ff8-4d43-4ca8-b681-38fc15b22704\", \"GMMK.pdf\", 15923)"
            ]
          },
          "metadata": {}
        }
      ]
    }
  ],
  "metadata": {
    "colab": {
      "collapsed_sections": [],
      "name": "GMM.ipynb",
      "provenance": []
    },
    "kernelspec": {
      "display_name": "Python 3",
      "name": "python3"
    },
    "language_info": {
      "name": "python"
    },
    "widgets": {
      "application/vnd.jupyter.widget-state+json": {
        "775ce9b8eabb4e7d9ac13cdcff390cc7": {
          "model_module": "@jupyter-widgets/controls",
          "model_name": "HBoxModel",
          "model_module_version": "1.5.0",
          "state": {
            "_dom_classes": [],
            "_model_module": "@jupyter-widgets/controls",
            "_model_module_version": "1.5.0",
            "_model_name": "HBoxModel",
            "_view_count": null,
            "_view_module": "@jupyter-widgets/controls",
            "_view_module_version": "1.5.0",
            "_view_name": "HBoxView",
            "box_style": "",
            "children": [
              "IPY_MODEL_041fcfc722f642d4867677f24648d801",
              "IPY_MODEL_43bd7c8d597d4a5b9af197b30f8b396f",
              "IPY_MODEL_76ca44ed3d1b49faa1f7eb41e56cdbd5"
            ],
            "layout": "IPY_MODEL_afa210960f024b26904fb5ebbba0ce3f"
          }
        },
        "041fcfc722f642d4867677f24648d801": {
          "model_module": "@jupyter-widgets/controls",
          "model_name": "HTMLModel",
          "model_module_version": "1.5.0",
          "state": {
            "_dom_classes": [],
            "_model_module": "@jupyter-widgets/controls",
            "_model_module_version": "1.5.0",
            "_model_name": "HTMLModel",
            "_view_count": null,
            "_view_module": "@jupyter-widgets/controls",
            "_view_module_version": "1.5.0",
            "_view_name": "HTMLView",
            "description": "",
            "description_tooltip": null,
            "layout": "IPY_MODEL_7358a4c42a4047a983148c70201189bf",
            "placeholder": "​",
            "style": "IPY_MODEL_955ffd748c3b434cbff62aca714d004e",
            "value": "100%"
          }
        },
        "43bd7c8d597d4a5b9af197b30f8b396f": {
          "model_module": "@jupyter-widgets/controls",
          "model_name": "FloatProgressModel",
          "model_module_version": "1.5.0",
          "state": {
            "_dom_classes": [],
            "_model_module": "@jupyter-widgets/controls",
            "_model_module_version": "1.5.0",
            "_model_name": "FloatProgressModel",
            "_view_count": null,
            "_view_module": "@jupyter-widgets/controls",
            "_view_module_version": "1.5.0",
            "_view_name": "ProgressView",
            "bar_style": "success",
            "description": "",
            "description_tooltip": null,
            "layout": "IPY_MODEL_61a54524b7e24eb1bc93865e1daf4444",
            "max": 1000,
            "min": 0,
            "orientation": "horizontal",
            "style": "IPY_MODEL_ea69378121cb42469717092e7f03cd55",
            "value": 1000
          }
        },
        "76ca44ed3d1b49faa1f7eb41e56cdbd5": {
          "model_module": "@jupyter-widgets/controls",
          "model_name": "HTMLModel",
          "model_module_version": "1.5.0",
          "state": {
            "_dom_classes": [],
            "_model_module": "@jupyter-widgets/controls",
            "_model_module_version": "1.5.0",
            "_model_name": "HTMLModel",
            "_view_count": null,
            "_view_module": "@jupyter-widgets/controls",
            "_view_module_version": "1.5.0",
            "_view_name": "HTMLView",
            "description": "",
            "description_tooltip": null,
            "layout": "IPY_MODEL_c8b7b8e00c5c423989a7966afbd43724",
            "placeholder": "​",
            "style": "IPY_MODEL_6ad685e89b7b42eaa44126655afc6cec",
            "value": " 1000/1000 [00:42&lt;00:00, 45.52it/s]"
          }
        },
        "afa210960f024b26904fb5ebbba0ce3f": {
          "model_module": "@jupyter-widgets/base",
          "model_name": "LayoutModel",
          "model_module_version": "1.2.0",
          "state": {
            "_model_module": "@jupyter-widgets/base",
            "_model_module_version": "1.2.0",
            "_model_name": "LayoutModel",
            "_view_count": null,
            "_view_module": "@jupyter-widgets/base",
            "_view_module_version": "1.2.0",
            "_view_name": "LayoutView",
            "align_content": null,
            "align_items": null,
            "align_self": null,
            "border": null,
            "bottom": null,
            "display": null,
            "flex": null,
            "flex_flow": null,
            "grid_area": null,
            "grid_auto_columns": null,
            "grid_auto_flow": null,
            "grid_auto_rows": null,
            "grid_column": null,
            "grid_gap": null,
            "grid_row": null,
            "grid_template_areas": null,
            "grid_template_columns": null,
            "grid_template_rows": null,
            "height": null,
            "justify_content": null,
            "justify_items": null,
            "left": null,
            "margin": null,
            "max_height": null,
            "max_width": null,
            "min_height": null,
            "min_width": null,
            "object_fit": null,
            "object_position": null,
            "order": null,
            "overflow": null,
            "overflow_x": null,
            "overflow_y": null,
            "padding": null,
            "right": null,
            "top": null,
            "visibility": null,
            "width": null
          }
        },
        "7358a4c42a4047a983148c70201189bf": {
          "model_module": "@jupyter-widgets/base",
          "model_name": "LayoutModel",
          "model_module_version": "1.2.0",
          "state": {
            "_model_module": "@jupyter-widgets/base",
            "_model_module_version": "1.2.0",
            "_model_name": "LayoutModel",
            "_view_count": null,
            "_view_module": "@jupyter-widgets/base",
            "_view_module_version": "1.2.0",
            "_view_name": "LayoutView",
            "align_content": null,
            "align_items": null,
            "align_self": null,
            "border": null,
            "bottom": null,
            "display": null,
            "flex": null,
            "flex_flow": null,
            "grid_area": null,
            "grid_auto_columns": null,
            "grid_auto_flow": null,
            "grid_auto_rows": null,
            "grid_column": null,
            "grid_gap": null,
            "grid_row": null,
            "grid_template_areas": null,
            "grid_template_columns": null,
            "grid_template_rows": null,
            "height": null,
            "justify_content": null,
            "justify_items": null,
            "left": null,
            "margin": null,
            "max_height": null,
            "max_width": null,
            "min_height": null,
            "min_width": null,
            "object_fit": null,
            "object_position": null,
            "order": null,
            "overflow": null,
            "overflow_x": null,
            "overflow_y": null,
            "padding": null,
            "right": null,
            "top": null,
            "visibility": null,
            "width": null
          }
        },
        "955ffd748c3b434cbff62aca714d004e": {
          "model_module": "@jupyter-widgets/controls",
          "model_name": "DescriptionStyleModel",
          "model_module_version": "1.5.0",
          "state": {
            "_model_module": "@jupyter-widgets/controls",
            "_model_module_version": "1.5.0",
            "_model_name": "DescriptionStyleModel",
            "_view_count": null,
            "_view_module": "@jupyter-widgets/base",
            "_view_module_version": "1.2.0",
            "_view_name": "StyleView",
            "description_width": ""
          }
        },
        "61a54524b7e24eb1bc93865e1daf4444": {
          "model_module": "@jupyter-widgets/base",
          "model_name": "LayoutModel",
          "model_module_version": "1.2.0",
          "state": {
            "_model_module": "@jupyter-widgets/base",
            "_model_module_version": "1.2.0",
            "_model_name": "LayoutModel",
            "_view_count": null,
            "_view_module": "@jupyter-widgets/base",
            "_view_module_version": "1.2.0",
            "_view_name": "LayoutView",
            "align_content": null,
            "align_items": null,
            "align_self": null,
            "border": null,
            "bottom": null,
            "display": null,
            "flex": null,
            "flex_flow": null,
            "grid_area": null,
            "grid_auto_columns": null,
            "grid_auto_flow": null,
            "grid_auto_rows": null,
            "grid_column": null,
            "grid_gap": null,
            "grid_row": null,
            "grid_template_areas": null,
            "grid_template_columns": null,
            "grid_template_rows": null,
            "height": null,
            "justify_content": null,
            "justify_items": null,
            "left": null,
            "margin": null,
            "max_height": null,
            "max_width": null,
            "min_height": null,
            "min_width": null,
            "object_fit": null,
            "object_position": null,
            "order": null,
            "overflow": null,
            "overflow_x": null,
            "overflow_y": null,
            "padding": null,
            "right": null,
            "top": null,
            "visibility": null,
            "width": null
          }
        },
        "ea69378121cb42469717092e7f03cd55": {
          "model_module": "@jupyter-widgets/controls",
          "model_name": "ProgressStyleModel",
          "model_module_version": "1.5.0",
          "state": {
            "_model_module": "@jupyter-widgets/controls",
            "_model_module_version": "1.5.0",
            "_model_name": "ProgressStyleModel",
            "_view_count": null,
            "_view_module": "@jupyter-widgets/base",
            "_view_module_version": "1.2.0",
            "_view_name": "StyleView",
            "bar_color": null,
            "description_width": ""
          }
        },
        "c8b7b8e00c5c423989a7966afbd43724": {
          "model_module": "@jupyter-widgets/base",
          "model_name": "LayoutModel",
          "model_module_version": "1.2.0",
          "state": {
            "_model_module": "@jupyter-widgets/base",
            "_model_module_version": "1.2.0",
            "_model_name": "LayoutModel",
            "_view_count": null,
            "_view_module": "@jupyter-widgets/base",
            "_view_module_version": "1.2.0",
            "_view_name": "LayoutView",
            "align_content": null,
            "align_items": null,
            "align_self": null,
            "border": null,
            "bottom": null,
            "display": null,
            "flex": null,
            "flex_flow": null,
            "grid_area": null,
            "grid_auto_columns": null,
            "grid_auto_flow": null,
            "grid_auto_rows": null,
            "grid_column": null,
            "grid_gap": null,
            "grid_row": null,
            "grid_template_areas": null,
            "grid_template_columns": null,
            "grid_template_rows": null,
            "height": null,
            "justify_content": null,
            "justify_items": null,
            "left": null,
            "margin": null,
            "max_height": null,
            "max_width": null,
            "min_height": null,
            "min_width": null,
            "object_fit": null,
            "object_position": null,
            "order": null,
            "overflow": null,
            "overflow_x": null,
            "overflow_y": null,
            "padding": null,
            "right": null,
            "top": null,
            "visibility": null,
            "width": null
          }
        },
        "6ad685e89b7b42eaa44126655afc6cec": {
          "model_module": "@jupyter-widgets/controls",
          "model_name": "DescriptionStyleModel",
          "model_module_version": "1.5.0",
          "state": {
            "_model_module": "@jupyter-widgets/controls",
            "_model_module_version": "1.5.0",
            "_model_name": "DescriptionStyleModel",
            "_view_count": null,
            "_view_module": "@jupyter-widgets/base",
            "_view_module_version": "1.2.0",
            "_view_name": "StyleView",
            "description_width": ""
          }
        },
        "fb91359a09b44447811a344774437938": {
          "model_module": "@jupyter-widgets/controls",
          "model_name": "HBoxModel",
          "model_module_version": "1.5.0",
          "state": {
            "_dom_classes": [],
            "_model_module": "@jupyter-widgets/controls",
            "_model_module_version": "1.5.0",
            "_model_name": "HBoxModel",
            "_view_count": null,
            "_view_module": "@jupyter-widgets/controls",
            "_view_module_version": "1.5.0",
            "_view_name": "HBoxView",
            "box_style": "",
            "children": [
              "IPY_MODEL_f1d0c5c3c1f64f4590456cc6bc7c590f",
              "IPY_MODEL_c832a93d557147fb827c72852a380f2c",
              "IPY_MODEL_d528189521d349ab942cf0a01b50d3de"
            ],
            "layout": "IPY_MODEL_928799cadca944f282e19163829fc16d"
          }
        },
        "f1d0c5c3c1f64f4590456cc6bc7c590f": {
          "model_module": "@jupyter-widgets/controls",
          "model_name": "HTMLModel",
          "model_module_version": "1.5.0",
          "state": {
            "_dom_classes": [],
            "_model_module": "@jupyter-widgets/controls",
            "_model_module_version": "1.5.0",
            "_model_name": "HTMLModel",
            "_view_count": null,
            "_view_module": "@jupyter-widgets/controls",
            "_view_module_version": "1.5.0",
            "_view_name": "HTMLView",
            "description": "",
            "description_tooltip": null,
            "layout": "IPY_MODEL_b87c4f52d51749d7882def065f4ecd44",
            "placeholder": "​",
            "style": "IPY_MODEL_1fd0b1b0b8644ad191d6ba55b3577692",
            "value": "100%"
          }
        },
        "c832a93d557147fb827c72852a380f2c": {
          "model_module": "@jupyter-widgets/controls",
          "model_name": "FloatProgressModel",
          "model_module_version": "1.5.0",
          "state": {
            "_dom_classes": [],
            "_model_module": "@jupyter-widgets/controls",
            "_model_module_version": "1.5.0",
            "_model_name": "FloatProgressModel",
            "_view_count": null,
            "_view_module": "@jupyter-widgets/controls",
            "_view_module_version": "1.5.0",
            "_view_name": "ProgressView",
            "bar_style": "success",
            "description": "",
            "description_tooltip": null,
            "layout": "IPY_MODEL_846e5f9b936e4d3991758eb2e50aad56",
            "max": 1000,
            "min": 0,
            "orientation": "horizontal",
            "style": "IPY_MODEL_5e226d7d1a64405e808fec92e7c0de7c",
            "value": 1000
          }
        },
        "d528189521d349ab942cf0a01b50d3de": {
          "model_module": "@jupyter-widgets/controls",
          "model_name": "HTMLModel",
          "model_module_version": "1.5.0",
          "state": {
            "_dom_classes": [],
            "_model_module": "@jupyter-widgets/controls",
            "_model_module_version": "1.5.0",
            "_model_name": "HTMLModel",
            "_view_count": null,
            "_view_module": "@jupyter-widgets/controls",
            "_view_module_version": "1.5.0",
            "_view_name": "HTMLView",
            "description": "",
            "description_tooltip": null,
            "layout": "IPY_MODEL_208cb7727b53416e94576e141b93188d",
            "placeholder": "​",
            "style": "IPY_MODEL_36ea1506f280456c8ed2d46e5ea9e251",
            "value": " 1000/1000 [00:48&lt;00:00, 29.79it/s]"
          }
        },
        "928799cadca944f282e19163829fc16d": {
          "model_module": "@jupyter-widgets/base",
          "model_name": "LayoutModel",
          "model_module_version": "1.2.0",
          "state": {
            "_model_module": "@jupyter-widgets/base",
            "_model_module_version": "1.2.0",
            "_model_name": "LayoutModel",
            "_view_count": null,
            "_view_module": "@jupyter-widgets/base",
            "_view_module_version": "1.2.0",
            "_view_name": "LayoutView",
            "align_content": null,
            "align_items": null,
            "align_self": null,
            "border": null,
            "bottom": null,
            "display": null,
            "flex": null,
            "flex_flow": null,
            "grid_area": null,
            "grid_auto_columns": null,
            "grid_auto_flow": null,
            "grid_auto_rows": null,
            "grid_column": null,
            "grid_gap": null,
            "grid_row": null,
            "grid_template_areas": null,
            "grid_template_columns": null,
            "grid_template_rows": null,
            "height": null,
            "justify_content": null,
            "justify_items": null,
            "left": null,
            "margin": null,
            "max_height": null,
            "max_width": null,
            "min_height": null,
            "min_width": null,
            "object_fit": null,
            "object_position": null,
            "order": null,
            "overflow": null,
            "overflow_x": null,
            "overflow_y": null,
            "padding": null,
            "right": null,
            "top": null,
            "visibility": null,
            "width": null
          }
        },
        "b87c4f52d51749d7882def065f4ecd44": {
          "model_module": "@jupyter-widgets/base",
          "model_name": "LayoutModel",
          "model_module_version": "1.2.0",
          "state": {
            "_model_module": "@jupyter-widgets/base",
            "_model_module_version": "1.2.0",
            "_model_name": "LayoutModel",
            "_view_count": null,
            "_view_module": "@jupyter-widgets/base",
            "_view_module_version": "1.2.0",
            "_view_name": "LayoutView",
            "align_content": null,
            "align_items": null,
            "align_self": null,
            "border": null,
            "bottom": null,
            "display": null,
            "flex": null,
            "flex_flow": null,
            "grid_area": null,
            "grid_auto_columns": null,
            "grid_auto_flow": null,
            "grid_auto_rows": null,
            "grid_column": null,
            "grid_gap": null,
            "grid_row": null,
            "grid_template_areas": null,
            "grid_template_columns": null,
            "grid_template_rows": null,
            "height": null,
            "justify_content": null,
            "justify_items": null,
            "left": null,
            "margin": null,
            "max_height": null,
            "max_width": null,
            "min_height": null,
            "min_width": null,
            "object_fit": null,
            "object_position": null,
            "order": null,
            "overflow": null,
            "overflow_x": null,
            "overflow_y": null,
            "padding": null,
            "right": null,
            "top": null,
            "visibility": null,
            "width": null
          }
        },
        "1fd0b1b0b8644ad191d6ba55b3577692": {
          "model_module": "@jupyter-widgets/controls",
          "model_name": "DescriptionStyleModel",
          "model_module_version": "1.5.0",
          "state": {
            "_model_module": "@jupyter-widgets/controls",
            "_model_module_version": "1.5.0",
            "_model_name": "DescriptionStyleModel",
            "_view_count": null,
            "_view_module": "@jupyter-widgets/base",
            "_view_module_version": "1.2.0",
            "_view_name": "StyleView",
            "description_width": ""
          }
        },
        "846e5f9b936e4d3991758eb2e50aad56": {
          "model_module": "@jupyter-widgets/base",
          "model_name": "LayoutModel",
          "model_module_version": "1.2.0",
          "state": {
            "_model_module": "@jupyter-widgets/base",
            "_model_module_version": "1.2.0",
            "_model_name": "LayoutModel",
            "_view_count": null,
            "_view_module": "@jupyter-widgets/base",
            "_view_module_version": "1.2.0",
            "_view_name": "LayoutView",
            "align_content": null,
            "align_items": null,
            "align_self": null,
            "border": null,
            "bottom": null,
            "display": null,
            "flex": null,
            "flex_flow": null,
            "grid_area": null,
            "grid_auto_columns": null,
            "grid_auto_flow": null,
            "grid_auto_rows": null,
            "grid_column": null,
            "grid_gap": null,
            "grid_row": null,
            "grid_template_areas": null,
            "grid_template_columns": null,
            "grid_template_rows": null,
            "height": null,
            "justify_content": null,
            "justify_items": null,
            "left": null,
            "margin": null,
            "max_height": null,
            "max_width": null,
            "min_height": null,
            "min_width": null,
            "object_fit": null,
            "object_position": null,
            "order": null,
            "overflow": null,
            "overflow_x": null,
            "overflow_y": null,
            "padding": null,
            "right": null,
            "top": null,
            "visibility": null,
            "width": null
          }
        },
        "5e226d7d1a64405e808fec92e7c0de7c": {
          "model_module": "@jupyter-widgets/controls",
          "model_name": "ProgressStyleModel",
          "model_module_version": "1.5.0",
          "state": {
            "_model_module": "@jupyter-widgets/controls",
            "_model_module_version": "1.5.0",
            "_model_name": "ProgressStyleModel",
            "_view_count": null,
            "_view_module": "@jupyter-widgets/base",
            "_view_module_version": "1.2.0",
            "_view_name": "StyleView",
            "bar_color": null,
            "description_width": ""
          }
        },
        "208cb7727b53416e94576e141b93188d": {
          "model_module": "@jupyter-widgets/base",
          "model_name": "LayoutModel",
          "model_module_version": "1.2.0",
          "state": {
            "_model_module": "@jupyter-widgets/base",
            "_model_module_version": "1.2.0",
            "_model_name": "LayoutModel",
            "_view_count": null,
            "_view_module": "@jupyter-widgets/base",
            "_view_module_version": "1.2.0",
            "_view_name": "LayoutView",
            "align_content": null,
            "align_items": null,
            "align_self": null,
            "border": null,
            "bottom": null,
            "display": null,
            "flex": null,
            "flex_flow": null,
            "grid_area": null,
            "grid_auto_columns": null,
            "grid_auto_flow": null,
            "grid_auto_rows": null,
            "grid_column": null,
            "grid_gap": null,
            "grid_row": null,
            "grid_template_areas": null,
            "grid_template_columns": null,
            "grid_template_rows": null,
            "height": null,
            "justify_content": null,
            "justify_items": null,
            "left": null,
            "margin": null,
            "max_height": null,
            "max_width": null,
            "min_height": null,
            "min_width": null,
            "object_fit": null,
            "object_position": null,
            "order": null,
            "overflow": null,
            "overflow_x": null,
            "overflow_y": null,
            "padding": null,
            "right": null,
            "top": null,
            "visibility": null,
            "width": null
          }
        },
        "36ea1506f280456c8ed2d46e5ea9e251": {
          "model_module": "@jupyter-widgets/controls",
          "model_name": "DescriptionStyleModel",
          "model_module_version": "1.5.0",
          "state": {
            "_model_module": "@jupyter-widgets/controls",
            "_model_module_version": "1.5.0",
            "_model_name": "DescriptionStyleModel",
            "_view_count": null,
            "_view_module": "@jupyter-widgets/base",
            "_view_module_version": "1.2.0",
            "_view_name": "StyleView",
            "description_width": ""
          }
        },
        "7c332073a37448a8b19fd4735ef3b891": {
          "model_module": "@jupyter-widgets/controls",
          "model_name": "HBoxModel",
          "model_module_version": "1.5.0",
          "state": {
            "_dom_classes": [],
            "_model_module": "@jupyter-widgets/controls",
            "_model_module_version": "1.5.0",
            "_model_name": "HBoxModel",
            "_view_count": null,
            "_view_module": "@jupyter-widgets/controls",
            "_view_module_version": "1.5.0",
            "_view_name": "HBoxView",
            "box_style": "",
            "children": [
              "IPY_MODEL_6ad4579fe13d488fbf50a48eca18b07a",
              "IPY_MODEL_ca90a8167ddf45eb8617c91898dbb5ef",
              "IPY_MODEL_73b6c19a8a85431c8a39b8d3ca531b1b"
            ],
            "layout": "IPY_MODEL_78f9f1d3301b455da02c359fbe4193ac"
          }
        },
        "6ad4579fe13d488fbf50a48eca18b07a": {
          "model_module": "@jupyter-widgets/controls",
          "model_name": "HTMLModel",
          "model_module_version": "1.5.0",
          "state": {
            "_dom_classes": [],
            "_model_module": "@jupyter-widgets/controls",
            "_model_module_version": "1.5.0",
            "_model_name": "HTMLModel",
            "_view_count": null,
            "_view_module": "@jupyter-widgets/controls",
            "_view_module_version": "1.5.0",
            "_view_name": "HTMLView",
            "description": "",
            "description_tooltip": null,
            "layout": "IPY_MODEL_f8e8897ae9424c648619e80d22e2b66a",
            "placeholder": "​",
            "style": "IPY_MODEL_ed2fe6eafe2b408e95ff5d15f7a2a0cc",
            "value": "100%"
          }
        },
        "ca90a8167ddf45eb8617c91898dbb5ef": {
          "model_module": "@jupyter-widgets/controls",
          "model_name": "FloatProgressModel",
          "model_module_version": "1.5.0",
          "state": {
            "_dom_classes": [],
            "_model_module": "@jupyter-widgets/controls",
            "_model_module_version": "1.5.0",
            "_model_name": "FloatProgressModel",
            "_view_count": null,
            "_view_module": "@jupyter-widgets/controls",
            "_view_module_version": "1.5.0",
            "_view_name": "ProgressView",
            "bar_style": "success",
            "description": "",
            "description_tooltip": null,
            "layout": "IPY_MODEL_82eb85cafa304fccab7cbf461a38d670",
            "max": 1000,
            "min": 0,
            "orientation": "horizontal",
            "style": "IPY_MODEL_d85ed90066914a1e8b1595892b88c5ce",
            "value": 1000
          }
        },
        "73b6c19a8a85431c8a39b8d3ca531b1b": {
          "model_module": "@jupyter-widgets/controls",
          "model_name": "HTMLModel",
          "model_module_version": "1.5.0",
          "state": {
            "_dom_classes": [],
            "_model_module": "@jupyter-widgets/controls",
            "_model_module_version": "1.5.0",
            "_model_name": "HTMLModel",
            "_view_count": null,
            "_view_module": "@jupyter-widgets/controls",
            "_view_module_version": "1.5.0",
            "_view_name": "HTMLView",
            "description": "",
            "description_tooltip": null,
            "layout": "IPY_MODEL_6a79c8fc39b84f529a5a4e278ee9f5d8",
            "placeholder": "​",
            "style": "IPY_MODEL_efb25dbae8a94b748f02dec11fd094d5",
            "value": " 1000/1000 [00:32&lt;00:00, 43.14it/s]"
          }
        },
        "78f9f1d3301b455da02c359fbe4193ac": {
          "model_module": "@jupyter-widgets/base",
          "model_name": "LayoutModel",
          "model_module_version": "1.2.0",
          "state": {
            "_model_module": "@jupyter-widgets/base",
            "_model_module_version": "1.2.0",
            "_model_name": "LayoutModel",
            "_view_count": null,
            "_view_module": "@jupyter-widgets/base",
            "_view_module_version": "1.2.0",
            "_view_name": "LayoutView",
            "align_content": null,
            "align_items": null,
            "align_self": null,
            "border": null,
            "bottom": null,
            "display": null,
            "flex": null,
            "flex_flow": null,
            "grid_area": null,
            "grid_auto_columns": null,
            "grid_auto_flow": null,
            "grid_auto_rows": null,
            "grid_column": null,
            "grid_gap": null,
            "grid_row": null,
            "grid_template_areas": null,
            "grid_template_columns": null,
            "grid_template_rows": null,
            "height": null,
            "justify_content": null,
            "justify_items": null,
            "left": null,
            "margin": null,
            "max_height": null,
            "max_width": null,
            "min_height": null,
            "min_width": null,
            "object_fit": null,
            "object_position": null,
            "order": null,
            "overflow": null,
            "overflow_x": null,
            "overflow_y": null,
            "padding": null,
            "right": null,
            "top": null,
            "visibility": null,
            "width": null
          }
        },
        "f8e8897ae9424c648619e80d22e2b66a": {
          "model_module": "@jupyter-widgets/base",
          "model_name": "LayoutModel",
          "model_module_version": "1.2.0",
          "state": {
            "_model_module": "@jupyter-widgets/base",
            "_model_module_version": "1.2.0",
            "_model_name": "LayoutModel",
            "_view_count": null,
            "_view_module": "@jupyter-widgets/base",
            "_view_module_version": "1.2.0",
            "_view_name": "LayoutView",
            "align_content": null,
            "align_items": null,
            "align_self": null,
            "border": null,
            "bottom": null,
            "display": null,
            "flex": null,
            "flex_flow": null,
            "grid_area": null,
            "grid_auto_columns": null,
            "grid_auto_flow": null,
            "grid_auto_rows": null,
            "grid_column": null,
            "grid_gap": null,
            "grid_row": null,
            "grid_template_areas": null,
            "grid_template_columns": null,
            "grid_template_rows": null,
            "height": null,
            "justify_content": null,
            "justify_items": null,
            "left": null,
            "margin": null,
            "max_height": null,
            "max_width": null,
            "min_height": null,
            "min_width": null,
            "object_fit": null,
            "object_position": null,
            "order": null,
            "overflow": null,
            "overflow_x": null,
            "overflow_y": null,
            "padding": null,
            "right": null,
            "top": null,
            "visibility": null,
            "width": null
          }
        },
        "ed2fe6eafe2b408e95ff5d15f7a2a0cc": {
          "model_module": "@jupyter-widgets/controls",
          "model_name": "DescriptionStyleModel",
          "model_module_version": "1.5.0",
          "state": {
            "_model_module": "@jupyter-widgets/controls",
            "_model_module_version": "1.5.0",
            "_model_name": "DescriptionStyleModel",
            "_view_count": null,
            "_view_module": "@jupyter-widgets/base",
            "_view_module_version": "1.2.0",
            "_view_name": "StyleView",
            "description_width": ""
          }
        },
        "82eb85cafa304fccab7cbf461a38d670": {
          "model_module": "@jupyter-widgets/base",
          "model_name": "LayoutModel",
          "model_module_version": "1.2.0",
          "state": {
            "_model_module": "@jupyter-widgets/base",
            "_model_module_version": "1.2.0",
            "_model_name": "LayoutModel",
            "_view_count": null,
            "_view_module": "@jupyter-widgets/base",
            "_view_module_version": "1.2.0",
            "_view_name": "LayoutView",
            "align_content": null,
            "align_items": null,
            "align_self": null,
            "border": null,
            "bottom": null,
            "display": null,
            "flex": null,
            "flex_flow": null,
            "grid_area": null,
            "grid_auto_columns": null,
            "grid_auto_flow": null,
            "grid_auto_rows": null,
            "grid_column": null,
            "grid_gap": null,
            "grid_row": null,
            "grid_template_areas": null,
            "grid_template_columns": null,
            "grid_template_rows": null,
            "height": null,
            "justify_content": null,
            "justify_items": null,
            "left": null,
            "margin": null,
            "max_height": null,
            "max_width": null,
            "min_height": null,
            "min_width": null,
            "object_fit": null,
            "object_position": null,
            "order": null,
            "overflow": null,
            "overflow_x": null,
            "overflow_y": null,
            "padding": null,
            "right": null,
            "top": null,
            "visibility": null,
            "width": null
          }
        },
        "d85ed90066914a1e8b1595892b88c5ce": {
          "model_module": "@jupyter-widgets/controls",
          "model_name": "ProgressStyleModel",
          "model_module_version": "1.5.0",
          "state": {
            "_model_module": "@jupyter-widgets/controls",
            "_model_module_version": "1.5.0",
            "_model_name": "ProgressStyleModel",
            "_view_count": null,
            "_view_module": "@jupyter-widgets/base",
            "_view_module_version": "1.2.0",
            "_view_name": "StyleView",
            "bar_color": null,
            "description_width": ""
          }
        },
        "6a79c8fc39b84f529a5a4e278ee9f5d8": {
          "model_module": "@jupyter-widgets/base",
          "model_name": "LayoutModel",
          "model_module_version": "1.2.0",
          "state": {
            "_model_module": "@jupyter-widgets/base",
            "_model_module_version": "1.2.0",
            "_model_name": "LayoutModel",
            "_view_count": null,
            "_view_module": "@jupyter-widgets/base",
            "_view_module_version": "1.2.0",
            "_view_name": "LayoutView",
            "align_content": null,
            "align_items": null,
            "align_self": null,
            "border": null,
            "bottom": null,
            "display": null,
            "flex": null,
            "flex_flow": null,
            "grid_area": null,
            "grid_auto_columns": null,
            "grid_auto_flow": null,
            "grid_auto_rows": null,
            "grid_column": null,
            "grid_gap": null,
            "grid_row": null,
            "grid_template_areas": null,
            "grid_template_columns": null,
            "grid_template_rows": null,
            "height": null,
            "justify_content": null,
            "justify_items": null,
            "left": null,
            "margin": null,
            "max_height": null,
            "max_width": null,
            "min_height": null,
            "min_width": null,
            "object_fit": null,
            "object_position": null,
            "order": null,
            "overflow": null,
            "overflow_x": null,
            "overflow_y": null,
            "padding": null,
            "right": null,
            "top": null,
            "visibility": null,
            "width": null
          }
        },
        "efb25dbae8a94b748f02dec11fd094d5": {
          "model_module": "@jupyter-widgets/controls",
          "model_name": "DescriptionStyleModel",
          "model_module_version": "1.5.0",
          "state": {
            "_model_module": "@jupyter-widgets/controls",
            "_model_module_version": "1.5.0",
            "_model_name": "DescriptionStyleModel",
            "_view_count": null,
            "_view_module": "@jupyter-widgets/base",
            "_view_module_version": "1.2.0",
            "_view_name": "StyleView",
            "description_width": ""
          }
        }
      }
    }
  },
  "nbformat": 4,
  "nbformat_minor": 0
}