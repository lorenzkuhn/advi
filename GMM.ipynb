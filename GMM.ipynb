{
  "cells": [
    {
      "cell_type": "code",
      "execution_count": 1,
      "metadata": {
        "colab": {
          "base_uri": "https://localhost:8080/"
        },
        "id": "af9zmgeQWQL9",
        "outputId": "f922410f-cd7b-4f66-c79b-266d46c75418"
      },
      "outputs": [
        {
          "output_type": "stream",
          "name": "stdout",
          "text": [
            "Requirement already satisfied: pyro-ppl in /usr/local/lib/python3.7/dist-packages (1.8.1)\n",
            "Requirement already satisfied: opt-einsum>=2.3.2 in /usr/local/lib/python3.7/dist-packages (from pyro-ppl) (3.3.0)\n",
            "Requirement already satisfied: tqdm>=4.36 in /usr/local/lib/python3.7/dist-packages (from pyro-ppl) (4.63.0)\n",
            "Requirement already satisfied: pyro-api>=0.1.1 in /usr/local/lib/python3.7/dist-packages (from pyro-ppl) (0.1.2)\n",
            "Requirement already satisfied: torch>=1.11.0 in /usr/local/lib/python3.7/dist-packages (from pyro-ppl) (1.11.0)\n",
            "Requirement already satisfied: numpy>=1.7 in /usr/local/lib/python3.7/dist-packages (from pyro-ppl) (1.21.5)\n",
            "Requirement already satisfied: typing-extensions in /usr/local/lib/python3.7/dist-packages (from torch>=1.11.0->pyro-ppl) (3.10.0.2)\n"
          ]
        }
      ],
      "source": [
        "!pip3 install pyro-ppl"
      ]
    },
    {
      "cell_type": "code",
      "execution_count": 2,
      "metadata": {
        "id": "Tof61FdKWT52"
      },
      "outputs": [],
      "source": [
        "import pyro\n",
        "import pyro.distributions as dist\n",
        "\n",
        "import random\n",
        "\n",
        "import numpy as np\n",
        "\n",
        "import torch"
      ]
    },
    {
      "cell_type": "markdown",
      "metadata": {
        "id": "aMLMk_3AO-QA"
      },
      "source": [
        "# 1. Generate Sample Dataset"
      ]
    },
    {
      "cell_type": "code",
      "execution_count": 3,
      "metadata": {
        "id": "SMvDflDgk0z1"
      },
      "outputs": [],
      "source": [
        "class GMMSampler:\n",
        "\n",
        "    def __init__(self, k, d, mu, sigma):\n",
        "        self.k = k\n",
        "        self.d = d\n",
        "\n",
        "        assert mu.size() == (k, d), 'Input mu must be a tensor of size (%i, %i)' % (k, d)\n",
        "        self.mu = mu\n",
        "\n",
        "        assert sigma.size() == (k, d), 'Input sigma must be a tensor of size (%i, %i)' % (k, d)\n",
        "        self.sigma = sigma\n",
        "\n",
        "        self.init_gaussians()\n",
        "\n",
        "    def init_gaussians(self):\n",
        "        self.gaussians = [[dist.Normal(self.mu[k, d], self.sigma[k, d]) for d in range(self.d)] for k in range(self.k)]\n",
        "\n",
        "    def sample(self, n):\n",
        "        choices = np.random.choice(self.k, n, replace=True)\n",
        "        samples = torch.zeros(n, self.d)\n",
        "\n",
        "        for i, c in enumerate(choices):\n",
        "            for d in range(self.d):\n",
        "                component = self.gaussians[c][d] \n",
        "                samples[i, d] = component.sample()\n",
        "\n",
        "        return samples"
      ]
    },
    {
      "cell_type": "code",
      "execution_count": 4,
      "metadata": {
        "id": "YfXLJQLbk_rj"
      },
      "outputs": [],
      "source": [
        "K = 2 \n",
        "\n",
        "D = 2 \n",
        "\n",
        "MU = torch.tensor([[-.5, -.5], [.5, .5]], dtype=torch.float)\n",
        "\n",
        "SIGMA = torch.tensor([[.1, .1], [.1, .1]], dtype=torch.float)"
      ]
    },
    {
      "cell_type": "code",
      "execution_count": 5,
      "metadata": {
        "id": "bUMz6dZClAMB"
      },
      "outputs": [],
      "source": [
        "bimodal_sampler = GMMSampler(K, D, MU, SIGMA)"
      ]
    },
    {
      "cell_type": "code",
      "execution_count": 6,
      "metadata": {
        "colab": {
          "base_uri": "https://localhost:8080/"
        },
        "id": "GEZVc6KRlAg6",
        "outputId": "814ccbc9-e4ee-49ab-8e03-6ddcb7b74a3f"
      },
      "outputs": [
        {
          "output_type": "execute_result",
          "data": {
            "text/plain": [
              "tensor([[ 0.4707,  0.5099],\n",
              "        [ 0.6309,  0.7051],\n",
              "        [ 0.5323,  0.4226],\n",
              "        ...,\n",
              "        [ 0.5659,  0.4611],\n",
              "        [-0.6543, -0.5686],\n",
              "        [-0.3426, -0.5749]])"
            ]
          },
          "metadata": {},
          "execution_count": 6
        }
      ],
      "source": [
        "N = 10000\n",
        "\n",
        "assert N > K, 'Dataset size N must be greater'\n",
        "\n",
        "data = bimodal_sampler.sample(N)\n",
        "\n",
        "data"
      ]
    },
    {
      "cell_type": "code",
      "execution_count": 7,
      "metadata": {
        "id": "Ph_XA_OQVAbZ"
      },
      "outputs": [],
      "source": [
        "import matplotlib.pyplot as plt"
      ]
    },
    {
      "cell_type": "code",
      "execution_count": 8,
      "metadata": {
        "colab": {
          "base_uri": "https://localhost:8080/",
          "height": 265
        },
        "id": "q7AHS9J8lXDn",
        "outputId": "0016249d-c1be-4d4f-a77c-fc25889badf1"
      },
      "outputs": [
        {
          "output_type": "display_data",
          "data": {
            "text/plain": [
              "<Figure size 432x288 with 1 Axes>"
            ],
            "image/png": "[encoded data removed]"
          },
          "metadata": {
            "needs_background": "light"
          }
        }
      ],
      "source": [
        "plt.scatter(data[:, 0], data[:, 1])\n",
        "plt.show()"
      ]
    },
    {
      "cell_type": "code",
      "execution_count": 9,
      "metadata": {
        "id": "Y0Lk3VbSdviE"
      },
      "outputs": [],
      "source": [
        "def split_train_test(data, ratio=0.8):\n",
        "\n",
        "    N = data.shape[0]\n",
        "    indices = torch.randperm(N)\n",
        "\n",
        "    N_train = int(N * ratio)\n",
        "\n",
        "    train_indices = indices[:N_train]\n",
        "    test_indices = indices[N_train:]\n",
        "\n",
        "    data_train = data[train_indices]\n",
        "    data_test = data[test_indices]\n",
        "\n",
        "    return data_train, data_test"
      ]
    },
    {
      "cell_type": "code",
      "execution_count": 10,
      "metadata": {
        "id": "OyPKEtzVeaBo"
      },
      "outputs": [],
      "source": [
        "data_train, data_test = split_train_test(data)"
      ]
    },
    {
      "cell_type": "markdown",
      "metadata": {
        "id": "mBtx_RNbmuoN"
      },
      "source": [
        "# 2. Define the Pyro Model"
      ]
    },
    {
      "cell_type": "code",
      "execution_count": 11,
      "metadata": {
        "id": "kwY9L6N8TgrB"
      },
      "outputs": [],
      "source": [
        "from pyro.infer import config_enumerate\n",
        "\n",
        "from torch.distributions import constraints"
      ]
    },
    {
      "cell_type": "code",
      "execution_count": 12,
      "metadata": {
        "id": "wXyzD-_yX8gn"
      },
      "outputs": [],
      "source": [
        "K = 2 # number of components\n",
        "\n",
        "def model(data):\n",
        "\n",
        "    N = data.shape[0] # number of samples\n",
        "    D = 1 if len(data.shape) == 1 else data.shape[1] # data dimensionality\n",
        "\n",
        "    # Global variables as initialized in the paper with Stan \n",
        "\n",
        "    # Component weights\n",
        "    theta = pyro.sample('theta', dist.Dirichlet(torch.ones(K) / K))\n",
        "\n",
        "    # Locs and scales of the components\n",
        "    with pyro.plate('dimensions', D):\n",
        "        with pyro.plate('components', K):\n",
        "            mu = pyro.sample('mu', dist.Normal(torch.tensor([0.]), torch.tensor([1.])))\n",
        "            sigma = pyro.sample('sigma', dist.LogNormal(torch.tensor([0.]), torch.tensor([1])))\n",
        "\n",
        "    with pyro.plate('data', N):\n",
        "        assignment = pyro.sample('assignment', dist.Categorical(theta), infer={'enumerate': 'parallel'})\n",
        "        pyro.sample('obs', dist.Normal(mu[assignment], sigma[assignment]).to_event(1), obs=data)"
      ]
    },
    {
      "cell_type": "markdown",
      "metadata": {
        "id": "AjS3pBzOO5JV"
      },
      "source": [
        "# 3. Run ADVI"
      ]
    },
    {
      "cell_type": "code",
      "execution_count": 13,
      "metadata": {
        "id": "sK8OSxsMPrGb"
      },
      "outputs": [],
      "source": [
        "import torch.nn as nn\n",
        "\n",
        "import pandas as pd\n",
        "\n",
        "from pyro import poutine\n",
        "from pyro.infer import SVI, Trace_ELBO, TraceEnum_ELBO\n",
        "from pyro.infer.autoguide import AutoDiagonalNormal\n",
        "\n",
        "import time\n",
        "\n",
        "from tqdm.notebook import tqdm, trange"
      ]
    },
    {
      "cell_type": "code",
      "execution_count": 14,
      "metadata": {
        "id": "DiiPtlp-O5fr"
      },
      "outputs": [],
      "source": [
        "from pyro.infer.autoguide.initialization import init_to_sample, init_to_uniform, init_to_value\n",
        "\n",
        "init_values = {\n",
        "    'mu': torch.mean(data_train, dim=0).expand(K, D), \n",
        "    'sigma': torch.std(data_train, dim=0).expand(K, D), \n",
        "    'theta': torch.ones(K) / K\n",
        "    }\n",
        "\n",
        "def run_advi(model, num_iter, num_particles, verbose=False):\n",
        "    torch.manual_seed(0)\n",
        "\n",
        "    guide = AutoDiagonalNormal(poutine.block(model, expose=['theta', 'mu', 'sigma']), init_loc_fn=init_to_value(values=init_values, fallback=init_to_sample))\n",
        "    #guide = AutoDiagonalNormal(poutine.block(model, expose=['theta', 'mu', 'sigma']))\n",
        "    adaprop = pyro.optim.AdagradRMSProp(dict())\n",
        "\n",
        "    adam_params = {\"lr\": 0.005, \"betas\": (0.95, 0.999)}\n",
        "    optimizer = pyro.optim.Adam(adam_params)\n",
        "    svi = SVI(model, guide, optimizer, loss=TraceEnum_ELBO(num_particles=num_particles)) # TraceEnum_ELBO is crucial\n",
        "\n",
        "    pyro.clear_param_store()\n",
        "\n",
        "    output_advi = pd.DataFrame(columns = ['t', 'test_accuracy', 'model'])\n",
        "\n",
        "    train_time = 0\n",
        "\n",
        "    mse_loss = nn.MSELoss()\n",
        "\n",
        "    for j in trange(num_iter):\n",
        "        t0 = time.time()\n",
        "        loss = svi.step(data_train)\n",
        "        train_time += time.time() - t0\n",
        "    \n",
        "        if j % 100 == 0:\n",
        "            learned_theta = guide.median()['theta']\n",
        "            learned_mu = guide.median()['mu']\n",
        "            learned_sigma = guide.median()['sigma']\n",
        "            \n",
        "            # Compute Likelihood as in the paper\n",
        "            test_log_prob = 0\n",
        "            for n in range(data_test.shape[0]):\n",
        "                ps = torch.zeros(K, 1)\n",
        "                for k in range(K):\n",
        "                    learned_normal = dist.Normal(learned_mu[k], learned_sigma[k])\n",
        "                    ps[k] = torch.log(learned_theta[k]) + learned_normal.log_prob(data_test[n]).sum()\n",
        "                test_log_prob += torch.logsumexp(ps.flatten(), dim=-1)\n",
        "\n",
        "            output_iter = {'t': train_time,\n",
        "                           'test_accuracy': test_log_prob.detach().numpy(),\n",
        "                           'model': 'advi{}'.format(num_particles)}\n",
        "            output_advi = output_advi.append(output_iter, ignore_index=True)\n",
        "            \n",
        "            if verbose: \n",
        "                print('[iteration %04d] test_accuracy: %.4f' % (j + 1, test_log_prob))  \n",
        "\n",
        "    return output_advi"
      ]
    },
    {
      "cell_type": "code",
      "execution_count": 15,
      "metadata": {
        "colab": {
          "base_uri": "https://localhost:8080/",
          "height": 474,
          "referenced_widgets": [
            "b34b6616856c4f89bca05090266b23d1",
            "29a600ff390643e78a4d9fac796cc39c",
            "1027bf5fd7e341b8ad48ff6e34b3a834",
            "28047b28e3784c5991ae8cc1bf227da0",
            "9565933c17a14f8ab1a3ab9e17769889",
            "e1db6e0d57114e77abc142b46626b672",
            "9a5a7b171d6449bf8acde275ade029ba",
            "2f867c6b8bda463f83152df828eb9c04",
            "4769f09a261d40dc9256f6fb6fe81286",
            "1ca5676c61dd4610affc583bdd730759",
            "6efec5ec4823433ca1fef247b627491f",
            "b7d39b84247848ce957c7d5812fb3e9d",
            "83977981bd3143d5a307374a1f5f73e4",
            "118dc1d4529542cdb61bea20d23f9c3e",
            "61dd12df4e744d2282a065c1ccc555da",
            "267ba6aa2f31435fb6157c31211ab809",
            "2e7371b60d164cad87799bd8eb6f7bed",
            "df2ed64b466d4e2bb2c3b85f3ec281a8",
            "6875fc8ec1084143a1ee9c8e552764c1",
            "bb07413d0b324fc1b7bd474f510f9a40",
            "700decc49f2f4af5953eead55e70492f",
            "59238b1a0f0344f69fbaca198692728b"
          ]
        },
        "id": "QzpVEiiqO5lJ",
        "outputId": "3dce48d6-91ff-47ca-9f80-20f5cf396b70"
      },
      "outputs": [
        {
          "metadata": {
            "tags": null
          },
          "name": "stdout",
          "output_type": "stream",
          "text": [
            "Running ADVI with M=1\n"
          ]
        },
        {
          "data": {
            "application/vnd.jupyter.widget-view+json": {
              "model_id": "b34b6616856c4f89bca05090266b23d1",
              "version_major": 2,
              "version_minor": 0
            },
            "text/plain": [
              "  0%|          | 0/1000 [00:00<?, ?it/s]"
            ]
          },
          "metadata": {},
          "output_type": "display_data"
        },
        {
          "metadata": {
            "tags": null
          },
          "name": "stdout",
          "output_type": "stream",
          "text": [
            "[iteration 0001] test_accuracy: -2965.4407\n",
            "[iteration 0101] test_accuracy: -2437.6240\n",
            "[iteration 0201] test_accuracy: 528.9643\n",
            "[iteration 0301] test_accuracy: 1873.8390\n",
            "[iteration 0401] test_accuracy: 2166.8274\n",
            "[iteration 0501] test_accuracy: 2151.5024\n",
            "[iteration 0601] test_accuracy: 2157.6755\n",
            "[iteration 0701] test_accuracy: 2187.1609\n",
            "[iteration 0801] test_accuracy: 2183.4631\n",
            "[iteration 0901] test_accuracy: 2197.0198\n",
            "Running ADVI with M=10\n"
          ]
        },
        {
          "data": {
            "application/vnd.jupyter.widget-view+json": {
              "model_id": "b7d39b84247848ce957c7d5812fb3e9d",
              "version_major": 2,
              "version_minor": 0
            },
            "text/plain": [
              "  0%|          | 0/1000 [00:00<?, ?it/s]"
            ]
          },
          "metadata": {},
          "output_type": "display_data"
        },
        {
          "output_type": "stream",
          "name": "stdout",
          "text": [
            "[iteration 0001] test_accuracy: -2964.8127\n",
            "[iteration 0101] test_accuracy: -1402.9865\n",
            "[iteration 0201] test_accuracy: 1079.5089\n",
            "[iteration 0301] test_accuracy: 2065.0010\n",
            "[iteration 0401] test_accuracy: 2187.2087\n",
            "[iteration 0501] test_accuracy: 2192.7744\n",
            "[iteration 0601] test_accuracy: 2195.1628\n",
            "[iteration 0701] test_accuracy: 2197.3811\n",
            "[iteration 0801] test_accuracy: 2196.7271\n",
            "[iteration 0901] test_accuracy: 2195.9868\n"
          ]
        }
      ],
      "source": [
        "# Train the ADVI models\n",
        "print('Running ADVI with M=1')\n",
        "output_advi_M1 = run_advi(model, 1000, 1, True)\n",
        "\n",
        "print('Running ADVI with M=10')\n",
        "output_advi_M10 = run_advi(model, 1000, 10, True)"
      ]
    },
    {
      "cell_type": "code",
      "source": [
        "output_advi_M1"
      ],
      "metadata": {
        "id": "2-ChmD5TfGhy",
        "colab": {
          "base_uri": "https://localhost:8080/",
          "height": 363
        },
        "outputId": "b55e76a6-c617-4e65-ab01-c054c7b0a477"
      },
      "execution_count": 16,
      "outputs": [
        {
          "output_type": "execute_result",
          "data": {
            "text/plain": [
              "           t test_accuracy  model\n",
              "0   0.087026    -2965.4407  advi1\n",
              "1   2.460452     -2437.624  advi1\n",
              "2   6.409368      528.9643  advi1\n",
              "3  10.912412      1873.839  advi1\n",
              "4  15.801922     2166.8274  advi1\n",
              "5  20.548471     2151.5024  advi1\n",
              "6  24.468748     2157.6755  advi1\n",
              "7  26.920039      2187.161  advi1\n",
              "8  29.434793     2183.4631  advi1\n",
              "9  31.862766     2197.0198  advi1"
            ],
            "text/html": [
              "\n",
              "  <div id=\"df-3ceca200-eea1-41c0-8822-8bf77ee35155\">\n",
              "    <div class=\"colab-df-container\">\n",
              "      <div>\n",
              "<style scoped>\n",
              "    .dataframe tbody tr th:only-of-type {\n",
              "        vertical-align: middle;\n",
              "    }\n",
              "\n",
              "    .dataframe tbody tr th {\n",
              "        vertical-align: top;\n",
              "    }\n",
              "\n",
              "    .dataframe thead th {\n",
              "        text-align: right;\n",
              "    }\n",
              "</style>\n",
              "<table border=\"1\" class=\"dataframe\">\n",
              "  <thead>\n",
              "    <tr style=\"text-align: right;\">\n",
              "      <th></th>\n",
              "      <th>t</th>\n",
              "      <th>test_accuracy</th>\n",
              "      <th>model</th>\n",
              "    </tr>\n",
              "  </thead>\n",
              "  <tbody>\n",
              "    <tr>\n",
              "      <th>0</th>\n",
              "      <td>0.087026</td>\n",
              "      <td>-2965.4407</td>\n",
              "      <td>advi1</td>\n",
              "    </tr>\n",
              "    <tr>\n",
              "      <th>1</th>\n",
              "      <td>2.460452</td>\n",
              "      <td>-2437.624</td>\n",
              "      <td>advi1</td>\n",
              "    </tr>\n",
              "    <tr>\n",
              "      <th>2</th>\n",
              "      <td>6.409368</td>\n",
              "      <td>528.9643</td>\n",
              "      <td>advi1</td>\n",
              "    </tr>\n",
              "    <tr>\n",
              "      <th>3</th>\n",
              "      <td>10.912412</td>\n",
              "      <td>1873.839</td>\n",
              "      <td>advi1</td>\n",
              "    </tr>\n",
              "    <tr>\n",
              "      <th>4</th>\n",
              "      <td>15.801922</td>\n",
              "      <td>2166.8274</td>\n",
              "      <td>advi1</td>\n",
              "    </tr>\n",
              "    <tr>\n",
              "      <th>5</th>\n",
              "      <td>20.548471</td>\n",
              "      <td>2151.5024</td>\n",
              "      <td>advi1</td>\n",
              "    </tr>\n",
              "    <tr>\n",
              "      <th>6</th>\n",
              "      <td>24.468748</td>\n",
              "      <td>2157.6755</td>\n",
              "      <td>advi1</td>\n",
              "    </tr>\n",
              "    <tr>\n",
              "      <th>7</th>\n",
              "      <td>26.920039</td>\n",
              "      <td>2187.161</td>\n",
              "      <td>advi1</td>\n",
              "    </tr>\n",
              "    <tr>\n",
              "      <th>8</th>\n",
              "      <td>29.434793</td>\n",
              "      <td>2183.4631</td>\n",
              "      <td>advi1</td>\n",
              "    </tr>\n",
              "    <tr>\n",
              "      <th>9</th>\n",
              "      <td>31.862766</td>\n",
              "      <td>2197.0198</td>\n",
              "      <td>advi1</td>\n",
              "    </tr>\n",
              "  </tbody>\n",
              "</table>\n",
              "</div>\n",
              "      <button class=\"colab-df-convert\" onclick=\"convertToInteractive('df-3ceca200-eea1-41c0-8822-8bf77ee35155')\"\n",
              "              title=\"Convert this dataframe to an interactive table.\"\n",
              "              style=\"display:none;\">\n",
              "        \n",
              "  <svg xmlns=\"http://www.w3.org/2000/svg\" height=\"24px\"viewBox=\"0 0 24 24\"\n",
              "       width=\"24px\">\n",
              "    <path d=\"M0 0h24v24H0V0z\" fill=\"none\"/>\n",
              "    <path d=\"M18.56 5.44l.94 2.06.94-2.06 2.06-.94-2.06-.94-.94-2.06-.94 2.06-2.06.94zm-11 1L8.5 8.5l.94-2.06 2.06-.94-2.06-.94L8.5 2.5l-.94 2.06-2.06.94zm10 10l.94 2.06.94-2.06 2.06-.94-2.06-.94-.94-2.06-.94 2.06-2.06.94z\"/><path d=\"M17.41 7.96l-1.37-1.37c-.4-.4-.92-.59-1.43-.59-.52 0-1.04.2-1.43.59L10.3 9.45l-7.72 7.72c-.78.78-.78 2.05 0 2.83L4 21.41c.39.39.9.59 1.41.59.51 0 1.02-.2 1.41-.59l7.78-7.78 2.81-2.81c.8-.78.8-2.07 0-2.86zM5.41 20L4 18.59l7.72-7.72 1.47 1.35L5.41 20z\"/>\n",
              "  </svg>\n",
              "      </button>\n",
              "      \n",
              "  <style>\n",
              "    .colab-df-container {\n",
              "      display:flex;\n",
              "      flex-wrap:wrap;\n",
              "      gap: 12px;\n",
              "    }\n",
              "\n",
              "    .colab-df-convert {\n",
              "      background-color: #E8F0FE;\n",
              "      border: none;\n",
              "      border-radius: 50%;\n",
              "      cursor: pointer;\n",
              "      display: none;\n",
              "      fill: #1967D2;\n",
              "      height: 32px;\n",
              "      padding: 0 0 0 0;\n",
              "      width: 32px;\n",
              "    }\n",
              "\n",
              "    .colab-df-convert:hover {\n",
              "      background-color: #E2EBFA;\n",
              "      box-shadow: 0px 1px 2px rgba(60, 64, 67, 0.3), 0px 1px 3px 1px rgba(60, 64, 67, 0.15);\n",
              "      fill: #174EA6;\n",
              "    }\n",
              "\n",
              "    [theme=dark] .colab-df-convert {\n",
              "      background-color: #3B4455;\n",
              "      fill: #D2E3FC;\n",
              "    }\n",
              "\n",
              "    [theme=dark] .colab-df-convert:hover {\n",
              "      background-color: #434B5C;\n",
              "      box-shadow: 0px 1px 3px 1px rgba(0, 0, 0, 0.15);\n",
              "      filter: drop-shadow(0px 1px 2px rgba(0, 0, 0, 0.3));\n",
              "      fill: #FFFFFF;\n",
              "    }\n",
              "  </style>\n",
              "\n",
              "      <script>\n",
              "        const buttonEl =\n",
              "          document.querySelector('#df-3ceca200-eea1-41c0-8822-8bf77ee35155 button.colab-df-convert');\n",
              "        buttonEl.style.display =\n",
              "          google.colab.kernel.accessAllowed ? 'block' : 'none';\n",
              "\n",
              "        async function convertToInteractive(key) {\n",
              "          const element = document.querySelector('#df-3ceca200-eea1-41c0-8822-8bf77ee35155');\n",
              "          const dataTable =\n",
              "            await google.colab.kernel.invokeFunction('convertToInteractive',\n",
              "                                                     [key], {});\n",
              "          if (!dataTable) return;\n",
              "\n",
              "          const docLinkHtml = 'Like what you see? Visit the ' +\n",
              "            '<a target=\"_blank\" href=https://colab.research.google.com/notebooks/data_table.ipynb>data table notebook</a>'\n",
              "            + ' to learn more about interactive tables.';\n",
              "          element.innerHTML = '';\n",
              "          dataTable['output_type'] = 'display_data';\n",
              "          await google.colab.output.renderOutput(dataTable, element);\n",
              "          const docLink = document.createElement('div');\n",
              "          docLink.innerHTML = docLinkHtml;\n",
              "          element.appendChild(docLink);\n",
              "        }\n",
              "      </script>\n",
              "    </div>\n",
              "  </div>\n",
              "  "
            ]
          },
          "metadata": {},
          "execution_count": 16
        }
      ]
    },
    {
      "cell_type": "code",
      "source": [
        "output_advi_M10"
      ],
      "metadata": {
        "id": "3VmTfBR9fGps",
        "colab": {
          "base_uri": "https://localhost:8080/",
          "height": 363
        },
        "outputId": "cffb2f7d-271c-41d8-9a3a-29cceb59591e"
      },
      "execution_count": 17,
      "outputs": [
        {
          "output_type": "execute_result",
          "data": {
            "text/plain": [
              "            t test_accuracy   model\n",
              "0    0.231754    -2964.8127  advi10\n",
              "1   19.789020    -1402.9865  advi10\n",
              "2   39.612446     1079.5089  advi10\n",
              "3   59.505884      2065.001  advi10\n",
              "4   82.574978     2187.2087  advi10\n",
              "5  105.801488     2192.7744  advi10\n",
              "6  130.257675     2195.1628  advi10\n",
              "7  153.579008      2197.381  advi10\n",
              "8  177.048836      2196.727  advi10\n",
              "9  200.769271     2195.9868  advi10"
            ],
            "text/html": [
              "\n",
              "  <div id=\"df-173cf7c5-d971-44d0-875d-82782178d137\">\n",
              "    <div class=\"colab-df-container\">\n",
              "      <div>\n",
              "<style scoped>\n",
              "    .dataframe tbody tr th:only-of-type {\n",
              "        vertical-align: middle;\n",
              "    }\n",
              "\n",
              "    .dataframe tbody tr th {\n",
              "        vertical-align: top;\n",
              "    }\n",
              "\n",
              "    .dataframe thead th {\n",
              "        text-align: right;\n",
              "    }\n",
              "</style>\n",
              "<table border=\"1\" class=\"dataframe\">\n",
              "  <thead>\n",
              "    <tr style=\"text-align: right;\">\n",
              "      <th></th>\n",
              "      <th>t</th>\n",
              "      <th>test_accuracy</th>\n",
              "      <th>model</th>\n",
              "    </tr>\n",
              "  </thead>\n",
              "  <tbody>\n",
              "    <tr>\n",
              "      <th>0</th>\n",
              "      <td>0.231754</td>\n",
              "      <td>-2964.8127</td>\n",
              "      <td>advi10</td>\n",
              "    </tr>\n",
              "    <tr>\n",
              "      <th>1</th>\n",
              "      <td>19.789020</td>\n",
              "      <td>-1402.9865</td>\n",
              "      <td>advi10</td>\n",
              "    </tr>\n",
              "    <tr>\n",
              "      <th>2</th>\n",
              "      <td>39.612446</td>\n",
              "      <td>1079.5089</td>\n",
              "      <td>advi10</td>\n",
              "    </tr>\n",
              "    <tr>\n",
              "      <th>3</th>\n",
              "      <td>59.505884</td>\n",
              "      <td>2065.001</td>\n",
              "      <td>advi10</td>\n",
              "    </tr>\n",
              "    <tr>\n",
              "      <th>4</th>\n",
              "      <td>82.574978</td>\n",
              "      <td>2187.2087</td>\n",
              "      <td>advi10</td>\n",
              "    </tr>\n",
              "    <tr>\n",
              "      <th>5</th>\n",
              "      <td>105.801488</td>\n",
              "      <td>2192.7744</td>\n",
              "      <td>advi10</td>\n",
              "    </tr>\n",
              "    <tr>\n",
              "      <th>6</th>\n",
              "      <td>130.257675</td>\n",
              "      <td>2195.1628</td>\n",
              "      <td>advi10</td>\n",
              "    </tr>\n",
              "    <tr>\n",
              "      <th>7</th>\n",
              "      <td>153.579008</td>\n",
              "      <td>2197.381</td>\n",
              "      <td>advi10</td>\n",
              "    </tr>\n",
              "    <tr>\n",
              "      <th>8</th>\n",
              "      <td>177.048836</td>\n",
              "      <td>2196.727</td>\n",
              "      <td>advi10</td>\n",
              "    </tr>\n",
              "    <tr>\n",
              "      <th>9</th>\n",
              "      <td>200.769271</td>\n",
              "      <td>2195.9868</td>\n",
              "      <td>advi10</td>\n",
              "    </tr>\n",
              "  </tbody>\n",
              "</table>\n",
              "</div>\n",
              "      <button class=\"colab-df-convert\" onclick=\"convertToInteractive('df-173cf7c5-d971-44d0-875d-82782178d137')\"\n",
              "              title=\"Convert this dataframe to an interactive table.\"\n",
              "              style=\"display:none;\">\n",
              "        \n",
              "  <svg xmlns=\"http://www.w3.org/2000/svg\" height=\"24px\"viewBox=\"0 0 24 24\"\n",
              "       width=\"24px\">\n",
              "    <path d=\"M0 0h24v24H0V0z\" fill=\"none\"/>\n",
              "    <path d=\"M18.56 5.44l.94 2.06.94-2.06 2.06-.94-2.06-.94-.94-2.06-.94 2.06-2.06.94zm-11 1L8.5 8.5l.94-2.06 2.06-.94-2.06-.94L8.5 2.5l-.94 2.06-2.06.94zm10 10l.94 2.06.94-2.06 2.06-.94-2.06-.94-.94-2.06-.94 2.06-2.06.94z\"/><path d=\"M17.41 7.96l-1.37-1.37c-.4-.4-.92-.59-1.43-.59-.52 0-1.04.2-1.43.59L10.3 9.45l-7.72 7.72c-.78.78-.78 2.05 0 2.83L4 21.41c.39.39.9.59 1.41.59.51 0 1.02-.2 1.41-.59l7.78-7.78 2.81-2.81c.8-.78.8-2.07 0-2.86zM5.41 20L4 18.59l7.72-7.72 1.47 1.35L5.41 20z\"/>\n",
              "  </svg>\n",
              "      </button>\n",
              "      \n",
              "  <style>\n",
              "    .colab-df-container {\n",
              "      display:flex;\n",
              "      flex-wrap:wrap;\n",
              "      gap: 12px;\n",
              "    }\n",
              "\n",
              "    .colab-df-convert {\n",
              "      background-color: #E8F0FE;\n",
              "      border: none;\n",
              "      border-radius: 50%;\n",
              "      cursor: pointer;\n",
              "      display: none;\n",
              "      fill: #1967D2;\n",
              "      height: 32px;\n",
              "      padding: 0 0 0 0;\n",
              "      width: 32px;\n",
              "    }\n",
              "\n",
              "    .colab-df-convert:hover {\n",
              "      background-color: #E2EBFA;\n",
              "      box-shadow: 0px 1px 2px rgba(60, 64, 67, 0.3), 0px 1px 3px 1px rgba(60, 64, 67, 0.15);\n",
              "      fill: #174EA6;\n",
              "    }\n",
              "\n",
              "    [theme=dark] .colab-df-convert {\n",
              "      background-color: #3B4455;\n",
              "      fill: #D2E3FC;\n",
              "    }\n",
              "\n",
              "    [theme=dark] .colab-df-convert:hover {\n",
              "      background-color: #434B5C;\n",
              "      box-shadow: 0px 1px 3px 1px rgba(0, 0, 0, 0.15);\n",
              "      filter: drop-shadow(0px 1px 2px rgba(0, 0, 0, 0.3));\n",
              "      fill: #FFFFFF;\n",
              "    }\n",
              "  </style>\n",
              "\n",
              "      <script>\n",
              "        const buttonEl =\n",
              "          document.querySelector('#df-173cf7c5-d971-44d0-875d-82782178d137 button.colab-df-convert');\n",
              "        buttonEl.style.display =\n",
              "          google.colab.kernel.accessAllowed ? 'block' : 'none';\n",
              "\n",
              "        async function convertToInteractive(key) {\n",
              "          const element = document.querySelector('#df-173cf7c5-d971-44d0-875d-82782178d137');\n",
              "          const dataTable =\n",
              "            await google.colab.kernel.invokeFunction('convertToInteractive',\n",
              "                                                     [key], {});\n",
              "          if (!dataTable) return;\n",
              "\n",
              "          const docLinkHtml = 'Like what you see? Visit the ' +\n",
              "            '<a target=\"_blank\" href=https://colab.research.google.com/notebooks/data_table.ipynb>data table notebook</a>'\n",
              "            + ' to learn more about interactive tables.';\n",
              "          element.innerHTML = '';\n",
              "          dataTable['output_type'] = 'display_data';\n",
              "          await google.colab.output.renderOutput(dataTable, element);\n",
              "          const docLink = document.createElement('div');\n",
              "          docLink.innerHTML = docLinkHtml;\n",
              "          element.appendChild(docLink);\n",
              "        }\n",
              "      </script>\n",
              "    </div>\n",
              "  </div>\n",
              "  "
            ]
          },
          "metadata": {},
          "execution_count": 17
        }
      ]
    },
    {
      "cell_type": "markdown",
      "metadata": {
        "id": "EOf_ZWjSio8C"
      },
      "source": [
        "# 4. Run NUTS\n"
      ]
    },
    {
      "cell_type": "code",
      "execution_count": 18,
      "metadata": {
        "id": "coWK_hUEirhw"
      },
      "outputs": [],
      "source": [
        "from pyro.infer import MCMC, NUTS, HMC"
      ]
    },
    {
      "cell_type": "code",
      "execution_count": 19,
      "metadata": {
        "id": "N7lDSV8sqlFF"
      },
      "outputs": [],
      "source": [
        "def run_mcmc(model, num_samples, num_warmups, kernel_method):\n",
        "    torch.manual_seed(0)\n",
        "    \n",
        "    pyro.clear_param_store()\n",
        "\n",
        "    test_log_prob_arr = []\n",
        "    train_time = []\n",
        "\n",
        "    def hook_fn(kernel, sample, stage, i):\n",
        "        # Use the most recently sampled param to estimate performance\n",
        "        if i < 100 or (i % 10 == 0): # Evaluate all first 100 samples and then every 50\n",
        "            learned_theta = sample['theta'] # RETURNS A ONE-DIMENSIONAL SAMPLE I COULD NOT UNDERSTAND \n",
        "            learned_mu = sample['mu']\n",
        "            learned_sigma = torch.exp(sample['sigma'])\n",
        "\n",
        "            #print('11111', learned_mu)\n",
        "            #print('22222', learned_sigma)\n",
        "\n",
        "            # Compute Likelihood as in the paper\n",
        "            test_log_prob = 0\n",
        "            for n in range(data_test.shape[0]):\n",
        "                ps = torch.zeros(K, 1)\n",
        "                for k in range(K):\n",
        "                    learned_normal = dist.Normal(learned_mu[k], learned_sigma[k])\n",
        "                    if k == K - 1:\n",
        "                        ps[k] = torch.log(1 - torch.sum(learned_theta)) + learned_normal.log_prob(data_test[n]).sum()\n",
        "                    else:  \n",
        "                        ps[k] = torch.log(learned_theta[k]) + learned_normal.log_prob(data_test[n]).sum()\n",
        "                test_log_prob += torch.logsumexp(ps.flatten(), dim=-1)\n",
        "\n",
        "            train_time.append(time.time())    \n",
        "            test_log_prob_arr.append(test_log_prob)\n",
        "\n",
        "    if kernel_method == 'NUTS':\n",
        "        kernel = NUTS(model,max_tree_depth=4)\n",
        "    elif kernel_method == 'HMC':\n",
        "        kernel = HMC(model,\n",
        "                     step_size=0.1, \n",
        "                     num_steps=10, \n",
        "                     target_accept_prob=0.8,\n",
        "                     adapt_step_size = False)\n",
        "    else:\n",
        "        raise Exception('Unknown Kernel Method.')\n",
        "\n",
        "    nuts = MCMC(kernel,\n",
        "                num_samples=num_samples,\n",
        "                warmup_steps=num_warmups,\n",
        "                disable_progbar=False,\n",
        "                num_chains=1,\n",
        "                hook_fn=hook_fn) \n",
        "\n",
        "    nuts.run(data_train)\n",
        "\n",
        "    output_mcmc = pd.DataFrame({'t': np.array(train_time) - train_time[0], \n",
        "                                'test_accuracy': np.array(test_log_prob_arr),\n",
        "                                'model': kernel_method})\n",
        "    \n",
        "    return output_mcmc"
      ]
    },
    {
      "cell_type": "code",
      "execution_count": 20,
      "metadata": {
        "colab": {
          "base_uri": "https://localhost:8080/"
        },
        "id": "8AzLON3wsCkX",
        "outputId": "74e1469a-0f08-49ca-b84b-adf65b6a7c8b"
      },
      "outputs": [
        {
          "output_type": "stream",
          "name": "stdout",
          "text": [
            "Running MCMC with NUTS kernel\n"
          ]
        },
        {
          "output_type": "stream",
          "name": "stderr",
          "text": [
            "Sample: 100%|██████████| 200/200 [03:01,  1.10it/s, step size=1.68e-02, acc. prob=0.875]\n"
          ]
        }
      ],
      "source": [
        "# Train the MCMC models \n",
        "print('Running MCMC with NUTS kernel')\n",
        "output_nuts = run_mcmc(model, 100, 100, 'NUTS')\n",
        "\n",
        "# Does not produce any meaningful result\n",
        "#print('Running MCMC with HMC kernel')\n",
        "#output_hmc = run_mcmc(model, 2000, 2000, 'HMC')"
      ]
    },
    {
      "cell_type": "code",
      "execution_count": 21,
      "metadata": {
        "id": "W-oR6fuJza4Z"
      },
      "outputs": [],
      "source": [
        "import seaborn as sns"
      ]
    },
    {
      "cell_type": "code",
      "execution_count": 62,
      "metadata": {
        "id": "Bn0n42YEzI7X",
        "colab": {
          "base_uri": "https://localhost:8080/",
          "height": 301
        },
        "outputId": "17084154-8da9-4c15-f5ae-e58127553b76"
      },
      "outputs": [
        {
          "output_type": "execute_result",
          "data": {
            "text/plain": [
              "<matplotlib.legend.Legend at 0x7f5ae6849a50>"
            ]
          },
          "metadata": {},
          "execution_count": 62
        },
        {
          "output_type": "display_data",
          "data": {
            "text/plain": [
              "<Figure size 432x288 with 1 Axes>"
            ],
            "image/png": "[encoded data removed]"
          },
          "metadata": {}
        }
      ],
      "source": [
        "# Generate plot\n",
        "output = output_advi_M1 #.append(output_advi_M10, ignore_index=True)\n",
        "output = output.append(output_nuts, ignore_index=True)\n",
        "#output = output.append(output_hmc, ignore_index=True)\n",
        "output['test_accuracy'] = output['test_accuracy'].astype('float')\n",
        "\n",
        "sns.set_style('whitegrid')\n",
        "results = sns.lineplot(data=output, x='t', y='test_accuracy', hue='model')\n",
        "results.set(xscale='log', \n",
        "            xlim=(0.3, 35), \n",
        "            ylim=(-5000, 5000),\n",
        "            xlabel='Seconds',\n",
        "            ylabel='Log Predictive')\n",
        "plt.legend(labels=['ADVI (M=1)', 'NUTS']) #, 'HMC'])"
      ]
    },
    {
      "cell_type": "code",
      "source": [
        "# Train the ADVI models for larger M, gives no sifnificant improvement\n",
        "#print('Running ADVI with M=50')\n",
        "#output_advi_M50 = run_advi(model, 1000, 50, True)\n",
        "\n",
        "#print('Running ADVI with M=500')\n",
        "#output_advi_M500 = run_advi(model, 1000, 500, True)"
      ],
      "metadata": {
        "id": "StBnumzspYPm"
      },
      "execution_count": 23,
      "outputs": []
    },
    {
      "cell_type": "code",
      "source": [
        "three_modal_sampler = GMMSampler(3, \n",
        "                                 2, \n",
        "                                 torch.tensor([[-.5, -.5], [.5, .5], [0, 0]], dtype=torch.float), \n",
        "                                 torch.tensor([[.1, .1], [.1, .1], [.1, .1]], dtype=torch.float))\n",
        "\n",
        "data3 = three_modal_sampler.sample(N)"
      ],
      "metadata": {
        "id": "NTH7PqpV3yYu"
      },
      "execution_count": 24,
      "outputs": []
    },
    {
      "cell_type": "code",
      "source": [
        "plt.scatter(data3[:, 0], data3[:, 1])\n",
        "plt.show()"
      ],
      "metadata": {
        "id": "RFrSk5TX46jU",
        "colab": {
          "base_uri": "https://localhost:8080/",
          "height": 265
        },
        "outputId": "5774ede3-119f-4ef0-b113-34307cb588a3"
      },
      "execution_count": 25,
      "outputs": [
        {
          "output_type": "display_data",
          "data": {
            "text/plain": [
              "<Figure size 432x288 with 1 Axes>"
            ],
            "image/png": "[encoded data removed]"
          },
          "metadata": {}
        }
      ]
    },
    {
      "cell_type": "code",
      "source": [
        "data_train, data_test = split_train_test(data3)\n",
        "\n",
        "# Train the ADVI model\n",
        "print('Running ADVI with M=1 and K=3')\n",
        "output_advi_M1_K3 = run_advi(model, 1000, 1, True)\n",
        "\n",
        "print('Running MCMC with NUTS kernel, K=3')\n",
        "output_nuts_K3 = run_mcmc(model, 100, 100, 'NUTS')"
      ],
      "metadata": {
        "id": "FgHFFzG16ZuM",
        "colab": {
          "base_uri": "https://localhost:8080/",
          "height": 281,
          "referenced_widgets": [
            "e9ca88089a8341bebc84850874be3873",
            "5cce9658a7064c42a75a1fe24d20ba10",
            "86c6101da092467689db7346962ae5b1",
            "406dc6b287844798ba1068152da74460",
            "ee3653c48bf04c69a16511455fb4d773",
            "ee0f73f8651d4d0ebee1ad5b90f06ec4",
            "c79de185b4c24d1daa73cc8bd0efc673",
            "35f989447c7d4046a42bd4435d5886b8",
            "a3df5c44535c4bcfaf94af7d692a52b4",
            "23ba3fe6fbf94bb3835a3c9631068874",
            "c7c348c30de14c59a656bad33a7ea229"
          ]
        },
        "outputId": "51dd3a3e-106d-4014-9f60-344272bfc825"
      },
      "execution_count": 26,
      "outputs": [
        {
          "output_type": "stream",
          "name": "stdout",
          "text": [
            "Running ADVI with M=1 and K=3\n"
          ]
        },
        {
          "output_type": "display_data",
          "data": {
            "text/plain": [
              "  0%|          | 0/1000 [00:00<?, ?it/s]"
            ],
            "application/vnd.jupyter.widget-view+json": {
              "version_major": 2,
              "version_minor": 0,
              "model_id": "e9ca88089a8341bebc84850874be3873"
            }
          },
          "metadata": {}
        },
        {
          "output_type": "stream",
          "name": "stdout",
          "text": [
            "[iteration 0001] test_accuracy: -2329.8120\n",
            "[iteration 0101] test_accuracy: -1942.5515\n",
            "[iteration 0201] test_accuracy: -1000.8384\n",
            "[iteration 0301] test_accuracy: -867.1387\n",
            "[iteration 0401] test_accuracy: -401.1919\n",
            "[iteration 0501] test_accuracy: -371.8603\n",
            "[iteration 0601] test_accuracy: -359.0528\n",
            "[iteration 0701] test_accuracy: -357.3049\n",
            "[iteration 0801] test_accuracy: -356.6581\n",
            "[iteration 0901] test_accuracy: -357.3215\n",
            "Running MCMC with NUTS kernel, K=3\n"
          ]
        },
        {
          "output_type": "stream",
          "name": "stderr",
          "text": [
            "Sample: 100%|██████████| 200/200 [03:03,  1.09it/s, step size=7.60e-03, acc. prob=0.919]\n"
          ]
        }
      ]
    },
    {
      "cell_type": "code",
      "source": [
        "five_modal_sampler = GMMSampler(5, \n",
        "                                2, \n",
        "                                torch.tensor([[-.5, -.5], [.5, .5], [-.5, .5], [.5, -.5], [0, 0]], dtype=torch.float), \n",
        "                                torch.tensor([[.1, .1], [.1, .1], [.1, .1], [.1, .1], [.1, .1]], dtype=torch.float))\n",
        "\n",
        "data5 = five_modal_sampler.sample(N)"
      ],
      "metadata": {
        "id": "SbYvv4pq3yka"
      },
      "execution_count": 27,
      "outputs": []
    },
    {
      "cell_type": "code",
      "source": [
        "plt.scatter(data5[:, 0], data5[:, 1])\n",
        "plt.show()"
      ],
      "metadata": {
        "id": "z2oZaCxB49_H",
        "colab": {
          "base_uri": "https://localhost:8080/",
          "height": 265
        },
        "outputId": "8c164499-1bc1-4a42-e97a-6fbe111830d6"
      },
      "execution_count": 28,
      "outputs": [
        {
          "output_type": "display_data",
          "data": {
            "text/plain": [
              "<Figure size 432x288 with 1 Axes>"
            ],
            "image/png": "[encoded data removed]"
          },
          "metadata": {}
        }
      ]
    },
    {
      "cell_type": "code",
      "source": [
        "data_train, data_test = split_train_test(data5)\n",
        "\n",
        "# Train the ADVI model\n",
        "print('Running ADVI with M=1 and K=5')\n",
        "output_advi_M1_K5 = run_advi(model, 1000, 1, True)\n",
        "\n",
        "print('Running MCMC with NUTS kernel, K=5')\n",
        "output_nuts_K5 = run_mcmc(model, 100, 100, 'NUTS')"
      ],
      "metadata": {
        "id": "L3wxAwYf6giy",
        "colab": {
          "base_uri": "https://localhost:8080/",
          "height": 281,
          "referenced_widgets": [
            "8cb6376db4324b43a68bcf6aecdd1852",
            "b20679e197d242fcb320bc02d8df0399",
            "eab4387beea740178ecf3f99d1861d90",
            "f2bed99e10184ab4a325a04cbf1de603",
            "e9ed036904754a1f857caefd7debe34b",
            "b6a55c5734654836b27d7ed9e45fa1e4",
            "abf86b4d46364a288ce738a18c961981",
            "4941df9fcab7436b99669e76e97c0f55",
            "19b57baf009a41e7b68c66adb1fc69eb",
            "ec066f921859421ead0dc069d69031c2",
            "2c3b613c27a64136b385d59da56a64d2"
          ]
        },
        "outputId": "1bec9892-90d2-49c6-b514-166b15968263"
      },
      "execution_count": 29,
      "outputs": [
        {
          "output_type": "stream",
          "name": "stdout",
          "text": [
            "Running ADVI with M=1 and K=5\n"
          ]
        },
        {
          "output_type": "display_data",
          "data": {
            "text/plain": [
              "  0%|          | 0/1000 [00:00<?, ?it/s]"
            ],
            "application/vnd.jupyter.widget-view+json": {
              "version_major": 2,
              "version_minor": 0,
              "model_id": "8cb6376db4324b43a68bcf6aecdd1852"
            }
          },
          "metadata": {}
        },
        {
          "output_type": "stream",
          "name": "stdout",
          "text": [
            "[iteration 0001] test_accuracy: -2612.8374\n",
            "[iteration 0101] test_accuracy: -2578.6128\n",
            "[iteration 0201] test_accuracy: -2579.2793\n",
            "[iteration 0301] test_accuracy: -2578.6628\n",
            "[iteration 0401] test_accuracy: -2578.4597\n",
            "[iteration 0501] test_accuracy: -2579.3064\n",
            "[iteration 0601] test_accuracy: -2579.6353\n",
            "[iteration 0701] test_accuracy: -2578.7932\n",
            "[iteration 0801] test_accuracy: -2578.7700\n",
            "[iteration 0901] test_accuracy: -2578.6736\n",
            "Running MCMC with NUTS kernel, K=5\n"
          ]
        },
        {
          "output_type": "stream",
          "name": "stderr",
          "text": [
            "Sample: 100%|██████████| 200/200 [03:05,  1.08it/s, step size=3.81e-02, acc. prob=0.896]\n"
          ]
        }
      ]
    },
    {
      "cell_type": "code",
      "source": [
        "ten_modal_sampler = GMMSampler(10, \n",
        "                               2, \n",
        "                               torch.tensor([[-.5, -.5], [.5, .5], [-.5, .5], [.5, -.5], [0, 0],\n",
        "                                             [-.9, -.9], [.9, .9], [-.9, .9], [.9, -.9], [0, .8]], dtype=torch.float), \n",
        "                               torch.tensor([[.1, .1], [.1, .1], [.1, .1], [.1, .1], [.1, .1],\n",
        "                                             [.1, .1], [.1, .1], [.1, .1], [.1, .1], [.1, .1]], dtype=torch.float))\n",
        "\n",
        "data10 = ten_modal_sampler.sample(N)"
      ],
      "metadata": {
        "id": "vX5SH_K83ysY"
      },
      "execution_count": 30,
      "outputs": []
    },
    {
      "cell_type": "code",
      "source": [
        "plt.scatter(data10[:, 0], data10[:, 1])\n",
        "plt.show()"
      ],
      "metadata": {
        "id": "ZP4BfbyH4_6B",
        "colab": {
          "base_uri": "https://localhost:8080/",
          "height": 265
        },
        "outputId": "a868c687-f919-4327-cdea-63db7dbdf1f6"
      },
      "execution_count": 31,
      "outputs": [
        {
          "output_type": "display_data",
          "data": {
            "text/plain": [
              "<Figure size 432x288 with 1 Axes>"
            ],
            "image/png": "[encoded data removed]"
          },
          "metadata": {}
        }
      ]
    },
    {
      "cell_type": "code",
      "source": [
        "data_train, data_test = split_train_test(data10)\n",
        "\n",
        "# Train the ADVI model\n",
        "print('Running ADVI with M=1 and K=10')\n",
        "output_advi_M1_K10 = run_advi(model, 1000, 1, True)\n",
        "\n",
        "print('Running MCMC with NUTS kernel, K=10')\n",
        "output_nuts_K10 = run_mcmc(model, 100, 100, 'NUTS')"
      ],
      "metadata": {
        "id": "-3YirSYr6AGR",
        "colab": {
          "base_uri": "https://localhost:8080/",
          "height": 281,
          "referenced_widgets": [
            "279fc721e5724fc4b5916017993ba623",
            "23820b77ca384d8f80fa5bdea5f49846",
            "bea04634729c4fce94e3c5caebdc1961",
            "c2e24cca052446d9982e1c43a5bf0144",
            "daf887b6cd604256ac7c715fbc75a4fd",
            "2aaed7fe0af74db0a4fbb2465b69a6d3",
            "7460331e09d146e98b599b0c1779228e",
            "652e8478ab744ab7aaf55c8ee85b1a36",
            "3bc580700b14400f86eb4a3221433ba9",
            "7305520ae96248448801cc6f12c6effc",
            "274b6badfcf542029f8d23df8cbf52b1"
          ]
        },
        "outputId": "0e0d4c2a-8b9c-46ae-8225-ede804766d4d"
      },
      "execution_count": 32,
      "outputs": [
        {
          "output_type": "stream",
          "name": "stdout",
          "text": [
            "Running ADVI with M=1 and K=10\n"
          ]
        },
        {
          "output_type": "display_data",
          "data": {
            "text/plain": [
              "  0%|          | 0/1000 [00:00<?, ?it/s]"
            ],
            "application/vnd.jupyter.widget-view+json": {
              "version_major": 2,
              "version_minor": 0,
              "model_id": "279fc721e5724fc4b5916017993ba623"
            }
          },
          "metadata": {}
        },
        {
          "output_type": "stream",
          "name": "stdout",
          "text": [
            "[iteration 0001] test_accuracy: -4466.2017\n",
            "[iteration 0101] test_accuracy: -4087.9932\n",
            "[iteration 0201] test_accuracy: -4088.8481\n",
            "[iteration 0301] test_accuracy: -4087.6919\n",
            "[iteration 0401] test_accuracy: -4088.0232\n",
            "[iteration 0501] test_accuracy: -4088.8286\n",
            "[iteration 0601] test_accuracy: -4086.2322\n",
            "[iteration 0701] test_accuracy: -4086.5681\n",
            "[iteration 0801] test_accuracy: -4087.2952\n",
            "[iteration 0901] test_accuracy: -4086.9592\n",
            "Running MCMC with NUTS kernel, K=10\n"
          ]
        },
        {
          "output_type": "stream",
          "name": "stderr",
          "text": [
            "Sample: 100%|██████████| 200/200 [02:52,  1.16it/s, step size=4.54e-01, acc. prob=0.896]\n"
          ]
        }
      ]
    },
    {
      "cell_type": "code",
      "source": [
        "# Generate plot\n",
        "output_advi_M1['test_accuracy'] = output_advi_M1['test_accuracy'].astype('float')\n",
        "output_advi_M1_K3['test_accuracy'] = output_advi_M1_K3['test_accuracy'].astype('float')\n",
        "output_advi_M1_K5['test_accuracy'] = output_advi_M1_K5['test_accuracy'].astype('float')\n",
        "output_advi_M1_K10['test_accuracy'] = output_advi_M1_K10['test_accuracy'].astype('float')\n",
        "\n",
        "sns.set_style('whitegrid')\n",
        "\n",
        "results = sns.lineplot(data=output_advi_M1, x='t', y='test_accuracy')\n",
        "results = sns.lineplot(data=output_nuts, x='t', y='test_accuracy')\n",
        "\n",
        "results = sns.lineplot(data=output_advi_M1_K3, x='t', y='test_accuracy')\n",
        "results = sns.lineplot(data=output_nuts_K3, x='t', y='test_accuracy')\n",
        "\n",
        "results = sns.lineplot(data=output_advi_M1_K5, x='t', y='test_accuracy')\n",
        "results = sns.lineplot(data=output_nuts_K5, x='t', y='test_accuracy')\n",
        "\n",
        "results = sns.lineplot(data=output_advi_M1_K10, x='t', y='test_accuracy')\n",
        "results = sns.lineplot(data=output_nuts_K10, x='t', y='test_accuracy')\n",
        "\n",
        "results.set(xscale='log', \n",
        "            xlim=(0.3, 50), \n",
        "            ylim=(-5000, 5000),\n",
        "            xlabel='Seconds',\n",
        "            ylabel='Log Predictive')\n",
        "plt.legend(labels=['ADVI (M=1, K=2)', 'NUTS (K=2)',\n",
        "                   'ADVI (M=1, K=3)', 'NUTS (K=3)',\n",
        "                   'ADVI (M=1, K=5)', 'NUTS (K=5)',\n",
        "                   'ADVI (M=1, K=10)', 'NUTS (K=10)'])"
      ],
      "metadata": {
        "id": "a0cGthr37P3S",
        "colab": {
          "base_uri": "https://localhost:8080/",
          "height": 301
        },
        "outputId": "b3e54bdd-2df9-4106-a85f-917e55d49e6c"
      },
      "execution_count": 39,
      "outputs": [
        {
          "output_type": "execute_result",
          "data": {
            "text/plain": [
              "<matplotlib.legend.Legend at 0x7f5ae7918c90>"
            ]
          },
          "metadata": {},
          "execution_count": 39
        },
        {
          "output_type": "display_data",
          "data": {
            "text/plain": [
              "<Figure size 432x288 with 1 Axes>"
            ],
            "image/png": "[encoded data removed]"
          },
          "metadata": {}
        }
      ]
    }
  ],
  "metadata": {
    "colab": {
      "collapsed_sections": [],
      "name": "GMM.ipynb",
      "provenance": []
    },
    "kernelspec": {
      "display_name": "Python 3",
      "name": "python3"
    },
    "language_info": {
      "name": "python"
    },
    "widgets": {
      "application/vnd.jupyter.widget-state+json": {
        "b34b6616856c4f89bca05090266b23d1": {
          "model_module": "@jupyter-widgets/controls",
          "model_name": "HBoxModel",
          "model_module_version": "1.5.0",
          "state": {
            "_dom_classes": [],
            "_model_module": "@jupyter-widgets/controls",
            "_model_module_version": "1.5.0",
            "_model_name": "HBoxModel",
            "_view_count": null,
            "_view_module": "@jupyter-widgets/controls",
            "_view_module_version": "1.5.0",
            "_view_name": "HBoxView",
            "box_style": "",
            "children": [
              "IPY_MODEL_29a600ff390643e78a4d9fac796cc39c",
              "IPY_MODEL_1027bf5fd7e341b8ad48ff6e34b3a834",
              "IPY_MODEL_28047b28e3784c5991ae8cc1bf227da0"
            ],
            "layout": "IPY_MODEL_9565933c17a14f8ab1a3ab9e17769889"
          }
        },
        "29a600ff390643e78a4d9fac796cc39c": {
          "model_module": "@jupyter-widgets/controls",
          "model_name": "HTMLModel",
          "model_module_version": "1.5.0",
          "state": {
            "_dom_classes": [],
            "_model_module": "@jupyter-widgets/controls",
            "_model_module_version": "1.5.0",
            "_model_name": "HTMLModel",
            "_view_count": null,
            "_view_module": "@jupyter-widgets/controls",
            "_view_module_version": "1.5.0",
            "_view_name": "HTMLView",
            "description": "",
            "description_tooltip": null,
            "layout": "IPY_MODEL_e1db6e0d57114e77abc142b46626b672",
            "placeholder": "​",
            "style": "IPY_MODEL_9a5a7b171d6449bf8acde275ade029ba",
            "value": "100%"
          }
        },
        "1027bf5fd7e341b8ad48ff6e34b3a834": {
          "model_module": "@jupyter-widgets/controls",
          "model_name": "FloatProgressModel",
          "model_module_version": "1.5.0",
          "state": {
            "_dom_classes": [],
            "_model_module": "@jupyter-widgets/controls",
            "_model_module_version": "1.5.0",
            "_model_name": "FloatProgressModel",
            "_view_count": null,
            "_view_module": "@jupyter-widgets/controls",
            "_view_module_version": "1.5.0",
            "_view_name": "ProgressView",
            "bar_style": "success",
            "description": "",
            "description_tooltip": null,
            "layout": "IPY_MODEL_2f867c6b8bda463f83152df828eb9c04",
            "max": 1000,
            "min": 0,
            "orientation": "horizontal",
            "style": "IPY_MODEL_4769f09a261d40dc9256f6fb6fe81286",
            "value": 1000
          }
        },
        "28047b28e3784c5991ae8cc1bf227da0": {
          "model_module": "@jupyter-widgets/controls",
          "model_name": "HTMLModel",
          "model_module_version": "1.5.0",
          "state": {
            "_dom_classes": [],
            "_model_module": "@jupyter-widgets/controls",
            "_model_module_version": "1.5.0",
            "_model_name": "HTMLModel",
            "_view_count": null,
            "_view_module": "@jupyter-widgets/controls",
            "_view_module_version": "1.5.0",
            "_view_name": "HTMLView",
            "description": "",
            "description_tooltip": null,
            "layout": "IPY_MODEL_1ca5676c61dd4610affc583bdd730759",
            "placeholder": "​",
            "style": "IPY_MODEL_6efec5ec4823433ca1fef247b627491f",
            "value": " 1000/1000 [00:51&lt;00:00, 40.62it/s]"
          }
        },
        "9565933c17a14f8ab1a3ab9e17769889": {
          "model_module": "@jupyter-widgets/base",
          "model_name": "LayoutModel",
          "model_module_version": "1.2.0",
          "state": {
            "_model_module": "@jupyter-widgets/base",
            "_model_module_version": "1.2.0",
            "_model_name": "LayoutModel",
            "_view_count": null,
            "_view_module": "@jupyter-widgets/base",
            "_view_module_version": "1.2.0",
            "_view_name": "LayoutView",
            "align_content": null,
            "align_items": null,
            "align_self": null,
            "border": null,
            "bottom": null,
            "display": null,
            "flex": null,
            "flex_flow": null,
            "grid_area": null,
            "grid_auto_columns": null,
            "grid_auto_flow": null,
            "grid_auto_rows": null,
            "grid_column": null,
            "grid_gap": null,
            "grid_row": null,
            "grid_template_areas": null,
            "grid_template_columns": null,
            "grid_template_rows": null,
            "height": null,
            "justify_content": null,
            "justify_items": null,
            "left": null,
            "margin": null,
            "max_height": null,
            "max_width": null,
            "min_height": null,
            "min_width": null,
            "object_fit": null,
            "object_position": null,
            "order": null,
            "overflow": null,
            "overflow_x": null,
            "overflow_y": null,
            "padding": null,
            "right": null,
            "top": null,
            "visibility": null,
            "width": null
          }
        },
        "e1db6e0d57114e77abc142b46626b672": {
          "model_module": "@jupyter-widgets/base",
          "model_name": "LayoutModel",
          "model_module_version": "1.2.0",
          "state": {
            "_model_module": "@jupyter-widgets/base",
            "_model_module_version": "1.2.0",
            "_model_name": "LayoutModel",
            "_view_count": null,
            "_view_module": "@jupyter-widgets/base",
            "_view_module_version": "1.2.0",
            "_view_name": "LayoutView",
            "align_content": null,
            "align_items": null,
            "align_self": null,
            "border": null,
            "bottom": null,
            "display": null,
            "flex": null,
            "flex_flow": null,
            "grid_area": null,
            "grid_auto_columns": null,
            "grid_auto_flow": null,
            "grid_auto_rows": null,
            "grid_column": null,
            "grid_gap": null,
            "grid_row": null,
            "grid_template_areas": null,
            "grid_template_columns": null,
            "grid_template_rows": null,
            "height": null,
            "justify_content": null,
            "justify_items": null,
            "left": null,
            "margin": null,
            "max_height": null,
            "max_width": null,
            "min_height": null,
            "min_width": null,
            "object_fit": null,
            "object_position": null,
            "order": null,
            "overflow": null,
            "overflow_x": null,
            "overflow_y": null,
            "padding": null,
            "right": null,
            "top": null,
            "visibility": null,
            "width": null
          }
        },
        "9a5a7b171d6449bf8acde275ade029ba": {
          "model_module": "@jupyter-widgets/controls",
          "model_name": "DescriptionStyleModel",
          "model_module_version": "1.5.0",
          "state": {
            "_model_module": "@jupyter-widgets/controls",
            "_model_module_version": "1.5.0",
            "_model_name": "DescriptionStyleModel",
            "_view_count": null,
            "_view_module": "@jupyter-widgets/base",
            "_view_module_version": "1.2.0",
            "_view_name": "StyleView",
            "description_width": ""
          }
        },
        "2f867c6b8bda463f83152df828eb9c04": {
          "model_module": "@jupyter-widgets/base",
          "model_name": "LayoutModel",
          "model_module_version": "1.2.0",
          "state": {
            "_model_module": "@jupyter-widgets/base",
            "_model_module_version": "1.2.0",
            "_model_name": "LayoutModel",
            "_view_count": null,
            "_view_module": "@jupyter-widgets/base",
            "_view_module_version": "1.2.0",
            "_view_name": "LayoutView",
            "align_content": null,
            "align_items": null,
            "align_self": null,
            "border": null,
            "bottom": null,
            "display": null,
            "flex": null,
            "flex_flow": null,
            "grid_area": null,
            "grid_auto_columns": null,
            "grid_auto_flow": null,
            "grid_auto_rows": null,
            "grid_column": null,
            "grid_gap": null,
            "grid_row": null,
            "grid_template_areas": null,
            "grid_template_columns": null,
            "grid_template_rows": null,
            "height": null,
            "justify_content": null,
            "justify_items": null,
            "left": null,
            "margin": null,
            "max_height": null,
            "max_width": null,
            "min_height": null,
            "min_width": null,
            "object_fit": null,
            "object_position": null,
            "order": null,
            "overflow": null,
            "overflow_x": null,
            "overflow_y": null,
            "padding": null,
            "right": null,
            "top": null,
            "visibility": null,
            "width": null
          }
        },
        "4769f09a261d40dc9256f6fb6fe81286": {
          "model_module": "@jupyter-widgets/controls",
          "model_name": "ProgressStyleModel",
          "model_module_version": "1.5.0",
          "state": {
            "_model_module": "@jupyter-widgets/controls",
            "_model_module_version": "1.5.0",
            "_model_name": "ProgressStyleModel",
            "_view_count": null,
            "_view_module": "@jupyter-widgets/base",
            "_view_module_version": "1.2.0",
            "_view_name": "StyleView",
            "bar_color": null,
            "description_width": ""
          }
        },
        "1ca5676c61dd4610affc583bdd730759": {
          "model_module": "@jupyter-widgets/base",
          "model_name": "LayoutModel",
          "model_module_version": "1.2.0",
          "state": {
            "_model_module": "@jupyter-widgets/base",
            "_model_module_version": "1.2.0",
            "_model_name": "LayoutModel",
            "_view_count": null,
            "_view_module": "@jupyter-widgets/base",
            "_view_module_version": "1.2.0",
            "_view_name": "LayoutView",
            "align_content": null,
            "align_items": null,
            "align_self": null,
            "border": null,
            "bottom": null,
            "display": null,
            "flex": null,
            "flex_flow": null,
            "grid_area": null,
            "grid_auto_columns": null,
            "grid_auto_flow": null,
            "grid_auto_rows": null,
            "grid_column": null,
            "grid_gap": null,
            "grid_row": null,
            "grid_template_areas": null,
            "grid_template_columns": null,
            "grid_template_rows": null,
            "height": null,
            "justify_content": null,
            "justify_items": null,
            "left": null,
            "margin": null,
            "max_height": null,
            "max_width": null,
            "min_height": null,
            "min_width": null,
            "object_fit": null,
            "object_position": null,
            "order": null,
            "overflow": null,
            "overflow_x": null,
            "overflow_y": null,
            "padding": null,
            "right": null,
            "top": null,
            "visibility": null,
            "width": null
          }
        },
        "6efec5ec4823433ca1fef247b627491f": {
          "model_module": "@jupyter-widgets/controls",
          "model_name": "DescriptionStyleModel",
          "model_module_version": "1.5.0",
          "state": {
            "_model_module": "@jupyter-widgets/controls",
            "_model_module_version": "1.5.0",
            "_model_name": "DescriptionStyleModel",
            "_view_count": null,
            "_view_module": "@jupyter-widgets/base",
            "_view_module_version": "1.2.0",
            "_view_name": "StyleView",
            "description_width": ""
          }
        },
        "b7d39b84247848ce957c7d5812fb3e9d": {
          "model_module": "@jupyter-widgets/controls",
          "model_name": "HBoxModel",
          "model_module_version": "1.5.0",
          "state": {
            "_dom_classes": [],
            "_model_module": "@jupyter-widgets/controls",
            "_model_module_version": "1.5.0",
            "_model_name": "HBoxModel",
            "_view_count": null,
            "_view_module": "@jupyter-widgets/controls",
            "_view_module_version": "1.5.0",
            "_view_name": "HBoxView",
            "box_style": "",
            "children": [
              "IPY_MODEL_83977981bd3143d5a307374a1f5f73e4",
              "IPY_MODEL_118dc1d4529542cdb61bea20d23f9c3e",
              "IPY_MODEL_61dd12df4e744d2282a065c1ccc555da"
            ],
            "layout": "IPY_MODEL_267ba6aa2f31435fb6157c31211ab809"
          }
        },
        "83977981bd3143d5a307374a1f5f73e4": {
          "model_module": "@jupyter-widgets/controls",
          "model_name": "HTMLModel",
          "model_module_version": "1.5.0",
          "state": {
            "_dom_classes": [],
            "_model_module": "@jupyter-widgets/controls",
            "_model_module_version": "1.5.0",
            "_model_name": "HTMLModel",
            "_view_count": null,
            "_view_module": "@jupyter-widgets/controls",
            "_view_module_version": "1.5.0",
            "_view_name": "HTMLView",
            "description": "",
            "description_tooltip": null,
            "layout": "IPY_MODEL_2e7371b60d164cad87799bd8eb6f7bed",
            "placeholder": "​",
            "style": "IPY_MODEL_df2ed64b466d4e2bb2c3b85f3ec281a8",
            "value": "100%"
          }
        },
        "118dc1d4529542cdb61bea20d23f9c3e": {
          "model_module": "@jupyter-widgets/controls",
          "model_name": "FloatProgressModel",
          "model_module_version": "1.5.0",
          "state": {
            "_dom_classes": [],
            "_model_module": "@jupyter-widgets/controls",
            "_model_module_version": "1.5.0",
            "_model_name": "FloatProgressModel",
            "_view_count": null,
            "_view_module": "@jupyter-widgets/controls",
            "_view_module_version": "1.5.0",
            "_view_name": "ProgressView",
            "bar_style": "success",
            "description": "",
            "description_tooltip": null,
            "layout": "IPY_MODEL_6875fc8ec1084143a1ee9c8e552764c1",
            "max": 1000,
            "min": 0,
            "orientation": "horizontal",
            "style": "IPY_MODEL_bb07413d0b324fc1b7bd474f510f9a40",
            "value": 1000
          }
        },
        "61dd12df4e744d2282a065c1ccc555da": {
          "model_module": "@jupyter-widgets/controls",
          "model_name": "HTMLModel",
          "model_module_version": "1.5.0",
          "state": {
            "_dom_classes": [],
            "_model_module": "@jupyter-widgets/controls",
            "_model_module_version": "1.5.0",
            "_model_name": "HTMLModel",
            "_view_count": null,
            "_view_module": "@jupyter-widgets/controls",
            "_view_module_version": "1.5.0",
            "_view_name": "HTMLView",
            "description": "",
            "description_tooltip": null,
            "layout": "IPY_MODEL_700decc49f2f4af5953eead55e70492f",
            "placeholder": "​",
            "style": "IPY_MODEL_59238b1a0f0344f69fbaca198692728b",
            "value": " 1000/1000 [03:55&lt;00:00,  4.22it/s]"
          }
        },
        "267ba6aa2f31435fb6157c31211ab809": {
          "model_module": "@jupyter-widgets/base",
          "model_name": "LayoutModel",
          "model_module_version": "1.2.0",
          "state": {
            "_model_module": "@jupyter-widgets/base",
            "_model_module_version": "1.2.0",
            "_model_name": "LayoutModel",
            "_view_count": null,
            "_view_module": "@jupyter-widgets/base",
            "_view_module_version": "1.2.0",
            "_view_name": "LayoutView",
            "align_content": null,
            "align_items": null,
            "align_self": null,
            "border": null,
            "bottom": null,
            "display": null,
            "flex": null,
            "flex_flow": null,
            "grid_area": null,
            "grid_auto_columns": null,
            "grid_auto_flow": null,
            "grid_auto_rows": null,
            "grid_column": null,
            "grid_gap": null,
            "grid_row": null,
            "grid_template_areas": null,
            "grid_template_columns": null,
            "grid_template_rows": null,
            "height": null,
            "justify_content": null,
            "justify_items": null,
            "left": null,
            "margin": null,
            "max_height": null,
            "max_width": null,
            "min_height": null,
            "min_width": null,
            "object_fit": null,
            "object_position": null,
            "order": null,
            "overflow": null,
            "overflow_x": null,
            "overflow_y": null,
            "padding": null,
            "right": null,
            "top": null,
            "visibility": null,
            "width": null
          }
        },
        "2e7371b60d164cad87799bd8eb6f7bed": {
          "model_module": "@jupyter-widgets/base",
          "model_name": "LayoutModel",
          "model_module_version": "1.2.0",
          "state": {
            "_model_module": "@jupyter-widgets/base",
            "_model_module_version": "1.2.0",
            "_model_name": "LayoutModel",
            "_view_count": null,
            "_view_module": "@jupyter-widgets/base",
            "_view_module_version": "1.2.0",
            "_view_name": "LayoutView",
            "align_content": null,
            "align_items": null,
            "align_self": null,
            "border": null,
            "bottom": null,
            "display": null,
            "flex": null,
            "flex_flow": null,
            "grid_area": null,
            "grid_auto_columns": null,
            "grid_auto_flow": null,
            "grid_auto_rows": null,
            "grid_column": null,
            "grid_gap": null,
            "grid_row": null,
            "grid_template_areas": null,
            "grid_template_columns": null,
            "grid_template_rows": null,
            "height": null,
            "justify_content": null,
            "justify_items": null,
            "left": null,
            "margin": null,
            "max_height": null,
            "max_width": null,
            "min_height": null,
            "min_width": null,
            "object_fit": null,
            "object_position": null,
            "order": null,
            "overflow": null,
            "overflow_x": null,
            "overflow_y": null,
            "padding": null,
            "right": null,
            "top": null,
            "visibility": null,
            "width": null
          }
        },
        "df2ed64b466d4e2bb2c3b85f3ec281a8": {
          "model_module": "@jupyter-widgets/controls",
          "model_name": "DescriptionStyleModel",
          "model_module_version": "1.5.0",
          "state": {
            "_model_module": "@jupyter-widgets/controls",
            "_model_module_version": "1.5.0",
            "_model_name": "DescriptionStyleModel",
            "_view_count": null,
            "_view_module": "@jupyter-widgets/base",
            "_view_module_version": "1.2.0",
            "_view_name": "StyleView",
            "description_width": ""
          }
        },
        "6875fc8ec1084143a1ee9c8e552764c1": {
          "model_module": "@jupyter-widgets/base",
          "model_name": "LayoutModel",
          "model_module_version": "1.2.0",
          "state": {
            "_model_module": "@jupyter-widgets/base",
            "_model_module_version": "1.2.0",
            "_model_name": "LayoutModel",
            "_view_count": null,
            "_view_module": "@jupyter-widgets/base",
            "_view_module_version": "1.2.0",
            "_view_name": "LayoutView",
            "align_content": null,
            "align_items": null,
            "align_self": null,
            "border": null,
            "bottom": null,
            "display": null,
            "flex": null,
            "flex_flow": null,
            "grid_area": null,
            "grid_auto_columns": null,
            "grid_auto_flow": null,
            "grid_auto_rows": null,
            "grid_column": null,
            "grid_gap": null,
            "grid_row": null,
            "grid_template_areas": null,
            "grid_template_columns": null,
            "grid_template_rows": null,
            "height": null,
            "justify_content": null,
            "justify_items": null,
            "left": null,
            "margin": null,
            "max_height": null,
            "max_width": null,
            "min_height": null,
            "min_width": null,
            "object_fit": null,
            "object_position": null,
            "order": null,
            "overflow": null,
            "overflow_x": null,
            "overflow_y": null,
            "padding": null,
            "right": null,
            "top": null,
            "visibility": null,
            "width": null
          }
        },
        "bb07413d0b324fc1b7bd474f510f9a40": {
          "model_module": "@jupyter-widgets/controls",
          "model_name": "ProgressStyleModel",
          "model_module_version": "1.5.0",
          "state": {
            "_model_module": "@jupyter-widgets/controls",
            "_model_module_version": "1.5.0",
            "_model_name": "ProgressStyleModel",
            "_view_count": null,
            "_view_module": "@jupyter-widgets/base",
            "_view_module_version": "1.2.0",
            "_view_name": "StyleView",
            "bar_color": null,
            "description_width": ""
          }
        },
        "700decc49f2f4af5953eead55e70492f": {
          "model_module": "@jupyter-widgets/base",
          "model_name": "LayoutModel",
          "model_module_version": "1.2.0",
          "state": {
            "_model_module": "@jupyter-widgets/base",
            "_model_module_version": "1.2.0",
            "_model_name": "LayoutModel",
            "_view_count": null,
            "_view_module": "@jupyter-widgets/base",
            "_view_module_version": "1.2.0",
            "_view_name": "LayoutView",
            "align_content": null,
            "align_items": null,
            "align_self": null,
            "border": null,
            "bottom": null,
            "display": null,
            "flex": null,
            "flex_flow": null,
            "grid_area": null,
            "grid_auto_columns": null,
            "grid_auto_flow": null,
            "grid_auto_rows": null,
            "grid_column": null,
            "grid_gap": null,
            "grid_row": null,
            "grid_template_areas": null,
            "grid_template_columns": null,
            "grid_template_rows": null,
            "height": null,
            "justify_content": null,
            "justify_items": null,
            "left": null,
            "margin": null,
            "max_height": null,
            "max_width": null,
            "min_height": null,
            "min_width": null,
            "object_fit": null,
            "object_position": null,
            "order": null,
            "overflow": null,
            "overflow_x": null,
            "overflow_y": null,
            "padding": null,
            "right": null,
            "top": null,
            "visibility": null,
            "width": null
          }
        },
        "59238b1a0f0344f69fbaca198692728b": {
          "model_module": "@jupyter-widgets/controls",
          "model_name": "DescriptionStyleModel",
          "model_module_version": "1.5.0",
          "state": {
            "_model_module": "@jupyter-widgets/controls",
            "_model_module_version": "1.5.0",
            "_model_name": "DescriptionStyleModel",
            "_view_count": null,
            "_view_module": "@jupyter-widgets/base",
            "_view_module_version": "1.2.0",
            "_view_name": "StyleView",
            "description_width": ""
          }
        },
        "e9ca88089a8341bebc84850874be3873": {
          "model_module": "@jupyter-widgets/controls",
          "model_name": "HBoxModel",
          "model_module_version": "1.5.0",
          "state": {
            "_dom_classes": [],
            "_model_module": "@jupyter-widgets/controls",
            "_model_module_version": "1.5.0",
            "_model_name": "HBoxModel",
            "_view_count": null,
            "_view_module": "@jupyter-widgets/controls",
            "_view_module_version": "1.5.0",
            "_view_name": "HBoxView",
            "box_style": "",
            "children": [
              "IPY_MODEL_5cce9658a7064c42a75a1fe24d20ba10",
              "IPY_MODEL_86c6101da092467689db7346962ae5b1",
              "IPY_MODEL_406dc6b287844798ba1068152da74460"
            ],
            "layout": "IPY_MODEL_ee3653c48bf04c69a16511455fb4d773"
          }
        },
        "5cce9658a7064c42a75a1fe24d20ba10": {
          "model_module": "@jupyter-widgets/controls",
          "model_name": "HTMLModel",
          "model_module_version": "1.5.0",
          "state": {
            "_dom_classes": [],
            "_model_module": "@jupyter-widgets/controls",
            "_model_module_version": "1.5.0",
            "_model_name": "HTMLModel",
            "_view_count": null,
            "_view_module": "@jupyter-widgets/controls",
            "_view_module_version": "1.5.0",
            "_view_name": "HTMLView",
            "description": "",
            "description_tooltip": null,
            "layout": "IPY_MODEL_ee0f73f8651d4d0ebee1ad5b90f06ec4",
            "placeholder": "​",
            "style": "IPY_MODEL_c79de185b4c24d1daa73cc8bd0efc673",
            "value": "100%"
          }
        },
        "86c6101da092467689db7346962ae5b1": {
          "model_module": "@jupyter-widgets/controls",
          "model_name": "FloatProgressModel",
          "model_module_version": "1.5.0",
          "state": {
            "_dom_classes": [],
            "_model_module": "@jupyter-widgets/controls",
            "_model_module_version": "1.5.0",
            "_model_name": "FloatProgressModel",
            "_view_count": null,
            "_view_module": "@jupyter-widgets/controls",
            "_view_module_version": "1.5.0",
            "_view_name": "ProgressView",
            "bar_style": "success",
            "description": "",
            "description_tooltip": null,
            "layout": "IPY_MODEL_35f989447c7d4046a42bd4435d5886b8",
            "max": 1000,
            "min": 0,
            "orientation": "horizontal",
            "style": "IPY_MODEL_a3df5c44535c4bcfaf94af7d692a52b4",
            "value": 1000
          }
        },
        "406dc6b287844798ba1068152da74460": {
          "model_module": "@jupyter-widgets/controls",
          "model_name": "HTMLModel",
          "model_module_version": "1.5.0",
          "state": {
            "_dom_classes": [],
            "_model_module": "@jupyter-widgets/controls",
            "_model_module_version": "1.5.0",
            "_model_name": "HTMLModel",
            "_view_count": null,
            "_view_module": "@jupyter-widgets/controls",
            "_view_module_version": "1.5.0",
            "_view_name": "HTMLView",
            "description": "",
            "description_tooltip": null,
            "layout": "IPY_MODEL_23ba3fe6fbf94bb3835a3c9631068874",
            "placeholder": "​",
            "style": "IPY_MODEL_c7c348c30de14c59a656bad33a7ea229",
            "value": " 1000/1000 [00:36&lt;00:00, 37.57it/s]"
          }
        },
        "ee3653c48bf04c69a16511455fb4d773": {
          "model_module": "@jupyter-widgets/base",
          "model_name": "LayoutModel",
          "model_module_version": "1.2.0",
          "state": {
            "_model_module": "@jupyter-widgets/base",
            "_model_module_version": "1.2.0",
            "_model_name": "LayoutModel",
            "_view_count": null,
            "_view_module": "@jupyter-widgets/base",
            "_view_module_version": "1.2.0",
            "_view_name": "LayoutView",
            "align_content": null,
            "align_items": null,
            "align_self": null,
            "border": null,
            "bottom": null,
            "display": null,
            "flex": null,
            "flex_flow": null,
            "grid_area": null,
            "grid_auto_columns": null,
            "grid_auto_flow": null,
            "grid_auto_rows": null,
            "grid_column": null,
            "grid_gap": null,
            "grid_row": null,
            "grid_template_areas": null,
            "grid_template_columns": null,
            "grid_template_rows": null,
            "height": null,
            "justify_content": null,
            "justify_items": null,
            "left": null,
            "margin": null,
            "max_height": null,
            "max_width": null,
            "min_height": null,
            "min_width": null,
            "object_fit": null,
            "object_position": null,
            "order": null,
            "overflow": null,
            "overflow_x": null,
            "overflow_y": null,
            "padding": null,
            "right": null,
            "top": null,
            "visibility": null,
            "width": null
          }
        },
        "ee0f73f8651d4d0ebee1ad5b90f06ec4": {
          "model_module": "@jupyter-widgets/base",
          "model_name": "LayoutModel",
          "model_module_version": "1.2.0",
          "state": {
            "_model_module": "@jupyter-widgets/base",
            "_model_module_version": "1.2.0",
            "_model_name": "LayoutModel",
            "_view_count": null,
            "_view_module": "@jupyter-widgets/base",
            "_view_module_version": "1.2.0",
            "_view_name": "LayoutView",
            "align_content": null,
            "align_items": null,
            "align_self": null,
            "border": null,
            "bottom": null,
            "display": null,
            "flex": null,
            "flex_flow": null,
            "grid_area": null,
            "grid_auto_columns": null,
            "grid_auto_flow": null,
            "grid_auto_rows": null,
            "grid_column": null,
            "grid_gap": null,
            "grid_row": null,
            "grid_template_areas": null,
            "grid_template_columns": null,
            "grid_template_rows": null,
            "height": null,
            "justify_content": null,
            "justify_items": null,
            "left": null,
            "margin": null,
            "max_height": null,
            "max_width": null,
            "min_height": null,
            "min_width": null,
            "object_fit": null,
            "object_position": null,
            "order": null,
            "overflow": null,
            "overflow_x": null,
            "overflow_y": null,
            "padding": null,
            "right": null,
            "top": null,
            "visibility": null,
            "width": null
          }
        },
        "c79de185b4c24d1daa73cc8bd0efc673": {
          "model_module": "@jupyter-widgets/controls",
          "model_name": "DescriptionStyleModel",
          "model_module_version": "1.5.0",
          "state": {
            "_model_module": "@jupyter-widgets/controls",
            "_model_module_version": "1.5.0",
            "_model_name": "DescriptionStyleModel",
            "_view_count": null,
            "_view_module": "@jupyter-widgets/base",
            "_view_module_version": "1.2.0",
            "_view_name": "StyleView",
            "description_width": ""
          }
        },
        "35f989447c7d4046a42bd4435d5886b8": {
          "model_module": "@jupyter-widgets/base",
          "model_name": "LayoutModel",
          "model_module_version": "1.2.0",
          "state": {
            "_model_module": "@jupyter-widgets/base",
            "_model_module_version": "1.2.0",
            "_model_name": "LayoutModel",
            "_view_count": null,
            "_view_module": "@jupyter-widgets/base",
            "_view_module_version": "1.2.0",
            "_view_name": "LayoutView",
            "align_content": null,
            "align_items": null,
            "align_self": null,
            "border": null,
            "bottom": null,
            "display": null,
            "flex": null,
            "flex_flow": null,
            "grid_area": null,
            "grid_auto_columns": null,
            "grid_auto_flow": null,
            "grid_auto_rows": null,
            "grid_column": null,
            "grid_gap": null,
            "grid_row": null,
            "grid_template_areas": null,
            "grid_template_columns": null,
            "grid_template_rows": null,
            "height": null,
            "justify_content": null,
            "justify_items": null,
            "left": null,
            "margin": null,
            "max_height": null,
            "max_width": null,
            "min_height": null,
            "min_width": null,
            "object_fit": null,
            "object_position": null,
            "order": null,
            "overflow": null,
            "overflow_x": null,
            "overflow_y": null,
            "padding": null,
            "right": null,
            "top": null,
            "visibility": null,
            "width": null
          }
        },
        "a3df5c44535c4bcfaf94af7d692a52b4": {
          "model_module": "@jupyter-widgets/controls",
          "model_name": "ProgressStyleModel",
          "model_module_version": "1.5.0",
          "state": {
            "_model_module": "@jupyter-widgets/controls",
            "_model_module_version": "1.5.0",
            "_model_name": "ProgressStyleModel",
            "_view_count": null,
            "_view_module": "@jupyter-widgets/base",
            "_view_module_version": "1.2.0",
            "_view_name": "StyleView",
            "bar_color": null,
            "description_width": ""
          }
        },
        "23ba3fe6fbf94bb3835a3c9631068874": {
          "model_module": "@jupyter-widgets/base",
          "model_name": "LayoutModel",
          "model_module_version": "1.2.0",
          "state": {
            "_model_module": "@jupyter-widgets/base",
            "_model_module_version": "1.2.0",
            "_model_name": "LayoutModel",
            "_view_count": null,
            "_view_module": "@jupyter-widgets/base",
            "_view_module_version": "1.2.0",
            "_view_name": "LayoutView",
            "align_content": null,
            "align_items": null,
            "align_self": null,
            "border": null,
            "bottom": null,
            "display": null,
            "flex": null,
            "flex_flow": null,
            "grid_area": null,
            "grid_auto_columns": null,
            "grid_auto_flow": null,
            "grid_auto_rows": null,
            "grid_column": null,
            "grid_gap": null,
            "grid_row": null,
            "grid_template_areas": null,
            "grid_template_columns": null,
            "grid_template_rows": null,
            "height": null,
            "justify_content": null,
            "justify_items": null,
            "left": null,
            "margin": null,
            "max_height": null,
            "max_width": null,
            "min_height": null,
            "min_width": null,
            "object_fit": null,
            "object_position": null,
            "order": null,
            "overflow": null,
            "overflow_x": null,
            "overflow_y": null,
            "padding": null,
            "right": null,
            "top": null,
            "visibility": null,
            "width": null
          }
        },
        "c7c348c30de14c59a656bad33a7ea229": {
          "model_module": "@jupyter-widgets/controls",
          "model_name": "DescriptionStyleModel",
          "model_module_version": "1.5.0",
          "state": {
            "_model_module": "@jupyter-widgets/controls",
            "_model_module_version": "1.5.0",
            "_model_name": "DescriptionStyleModel",
            "_view_count": null,
            "_view_module": "@jupyter-widgets/base",
            "_view_module_version": "1.2.0",
            "_view_name": "StyleView",
            "description_width": ""
          }
        },
        "8cb6376db4324b43a68bcf6aecdd1852": {
          "model_module": "@jupyter-widgets/controls",
          "model_name": "HBoxModel",
          "model_module_version": "1.5.0",
          "state": {
            "_dom_classes": [],
            "_model_module": "@jupyter-widgets/controls",
            "_model_module_version": "1.5.0",
            "_model_name": "HBoxModel",
            "_view_count": null,
            "_view_module": "@jupyter-widgets/controls",
            "_view_module_version": "1.5.0",
            "_view_name": "HBoxView",
            "box_style": "",
            "children": [
              "IPY_MODEL_b20679e197d242fcb320bc02d8df0399",
              "IPY_MODEL_eab4387beea740178ecf3f99d1861d90",
              "IPY_MODEL_f2bed99e10184ab4a325a04cbf1de603"
            ],
            "layout": "IPY_MODEL_e9ed036904754a1f857caefd7debe34b"
          }
        },
        "b20679e197d242fcb320bc02d8df0399": {
          "model_module": "@jupyter-widgets/controls",
          "model_name": "HTMLModel",
          "model_module_version": "1.5.0",
          "state": {
            "_dom_classes": [],
            "_model_module": "@jupyter-widgets/controls",
            "_model_module_version": "1.5.0",
            "_model_name": "HTMLModel",
            "_view_count": null,
            "_view_module": "@jupyter-widgets/controls",
            "_view_module_version": "1.5.0",
            "_view_name": "HTMLView",
            "description": "",
            "description_tooltip": null,
            "layout": "IPY_MODEL_b6a55c5734654836b27d7ed9e45fa1e4",
            "placeholder": "​",
            "style": "IPY_MODEL_abf86b4d46364a288ce738a18c961981",
            "value": "100%"
          }
        },
        "eab4387beea740178ecf3f99d1861d90": {
          "model_module": "@jupyter-widgets/controls",
          "model_name": "FloatProgressModel",
          "model_module_version": "1.5.0",
          "state": {
            "_dom_classes": [],
            "_model_module": "@jupyter-widgets/controls",
            "_model_module_version": "1.5.0",
            "_model_name": "FloatProgressModel",
            "_view_count": null,
            "_view_module": "@jupyter-widgets/controls",
            "_view_module_version": "1.5.0",
            "_view_name": "ProgressView",
            "bar_style": "success",
            "description": "",
            "description_tooltip": null,
            "layout": "IPY_MODEL_4941df9fcab7436b99669e76e97c0f55",
            "max": 1000,
            "min": 0,
            "orientation": "horizontal",
            "style": "IPY_MODEL_19b57baf009a41e7b68c66adb1fc69eb",
            "value": 1000
          }
        },
        "f2bed99e10184ab4a325a04cbf1de603": {
          "model_module": "@jupyter-widgets/controls",
          "model_name": "HTMLModel",
          "model_module_version": "1.5.0",
          "state": {
            "_dom_classes": [],
            "_model_module": "@jupyter-widgets/controls",
            "_model_module_version": "1.5.0",
            "_model_name": "HTMLModel",
            "_view_count": null,
            "_view_module": "@jupyter-widgets/controls",
            "_view_module_version": "1.5.0",
            "_view_name": "HTMLView",
            "description": "",
            "description_tooltip": null,
            "layout": "IPY_MODEL_ec066f921859421ead0dc069d69031c2",
            "placeholder": "​",
            "style": "IPY_MODEL_2c3b613c27a64136b385d59da56a64d2",
            "value": " 1000/1000 [00:34&lt;00:00, 37.67it/s]"
          }
        },
        "e9ed036904754a1f857caefd7debe34b": {
          "model_module": "@jupyter-widgets/base",
          "model_name": "LayoutModel",
          "model_module_version": "1.2.0",
          "state": {
            "_model_module": "@jupyter-widgets/base",
            "_model_module_version": "1.2.0",
            "_model_name": "LayoutModel",
            "_view_count": null,
            "_view_module": "@jupyter-widgets/base",
            "_view_module_version": "1.2.0",
            "_view_name": "LayoutView",
            "align_content": null,
            "align_items": null,
            "align_self": null,
            "border": null,
            "bottom": null,
            "display": null,
            "flex": null,
            "flex_flow": null,
            "grid_area": null,
            "grid_auto_columns": null,
            "grid_auto_flow": null,
            "grid_auto_rows": null,
            "grid_column": null,
            "grid_gap": null,
            "grid_row": null,
            "grid_template_areas": null,
            "grid_template_columns": null,
            "grid_template_rows": null,
            "height": null,
            "justify_content": null,
            "justify_items": null,
            "left": null,
            "margin": null,
            "max_height": null,
            "max_width": null,
            "min_height": null,
            "min_width": null,
            "object_fit": null,
            "object_position": null,
            "order": null,
            "overflow": null,
            "overflow_x": null,
            "overflow_y": null,
            "padding": null,
            "right": null,
            "top": null,
            "visibility": null,
            "width": null
          }
        },
        "b6a55c5734654836b27d7ed9e45fa1e4": {
          "model_module": "@jupyter-widgets/base",
          "model_name": "LayoutModel",
          "model_module_version": "1.2.0",
          "state": {
            "_model_module": "@jupyter-widgets/base",
            "_model_module_version": "1.2.0",
            "_model_name": "LayoutModel",
            "_view_count": null,
            "_view_module": "@jupyter-widgets/base",
            "_view_module_version": "1.2.0",
            "_view_name": "LayoutView",
            "align_content": null,
            "align_items": null,
            "align_self": null,
            "border": null,
            "bottom": null,
            "display": null,
            "flex": null,
            "flex_flow": null,
            "grid_area": null,
            "grid_auto_columns": null,
            "grid_auto_flow": null,
            "grid_auto_rows": null,
            "grid_column": null,
            "grid_gap": null,
            "grid_row": null,
            "grid_template_areas": null,
            "grid_template_columns": null,
            "grid_template_rows": null,
            "height": null,
            "justify_content": null,
            "justify_items": null,
            "left": null,
            "margin": null,
            "max_height": null,
            "max_width": null,
            "min_height": null,
            "min_width": null,
            "object_fit": null,
            "object_position": null,
            "order": null,
            "overflow": null,
            "overflow_x": null,
            "overflow_y": null,
            "padding": null,
            "right": null,
            "top": null,
            "visibility": null,
            "width": null
          }
        },
        "abf86b4d46364a288ce738a18c961981": {
          "model_module": "@jupyter-widgets/controls",
          "model_name": "DescriptionStyleModel",
          "model_module_version": "1.5.0",
          "state": {
            "_model_module": "@jupyter-widgets/controls",
            "_model_module_version": "1.5.0",
            "_model_name": "DescriptionStyleModel",
            "_view_count": null,
            "_view_module": "@jupyter-widgets/base",
            "_view_module_version": "1.2.0",
            "_view_name": "StyleView",
            "description_width": ""
          }
        },
        "4941df9fcab7436b99669e76e97c0f55": {
          "model_module": "@jupyter-widgets/base",
          "model_name": "LayoutModel",
          "model_module_version": "1.2.0",
          "state": {
            "_model_module": "@jupyter-widgets/base",
            "_model_module_version": "1.2.0",
            "_model_name": "LayoutModel",
            "_view_count": null,
            "_view_module": "@jupyter-widgets/base",
            "_view_module_version": "1.2.0",
            "_view_name": "LayoutView",
            "align_content": null,
            "align_items": null,
            "align_self": null,
            "border": null,
            "bottom": null,
            "display": null,
            "flex": null,
            "flex_flow": null,
            "grid_area": null,
            "grid_auto_columns": null,
            "grid_auto_flow": null,
            "grid_auto_rows": null,
            "grid_column": null,
            "grid_gap": null,
            "grid_row": null,
            "grid_template_areas": null,
            "grid_template_columns": null,
            "grid_template_rows": null,
            "height": null,
            "justify_content": null,
            "justify_items": null,
            "left": null,
            "margin": null,
            "max_height": null,
            "max_width": null,
            "min_height": null,
            "min_width": null,
            "object_fit": null,
            "object_position": null,
            "order": null,
            "overflow": null,
            "overflow_x": null,
            "overflow_y": null,
            "padding": null,
            "right": null,
            "top": null,
            "visibility": null,
            "width": null
          }
        },
        "19b57baf009a41e7b68c66adb1fc69eb": {
          "model_module": "@jupyter-widgets/controls",
          "model_name": "ProgressStyleModel",
          "model_module_version": "1.5.0",
          "state": {
            "_model_module": "@jupyter-widgets/controls",
            "_model_module_version": "1.5.0",
            "_model_name": "ProgressStyleModel",
            "_view_count": null,
            "_view_module": "@jupyter-widgets/base",
            "_view_module_version": "1.2.0",
            "_view_name": "StyleView",
            "bar_color": null,
            "description_width": ""
          }
        },
        "ec066f921859421ead0dc069d69031c2": {
          "model_module": "@jupyter-widgets/base",
          "model_name": "LayoutModel",
          "model_module_version": "1.2.0",
          "state": {
            "_model_module": "@jupyter-widgets/base",
            "_model_module_version": "1.2.0",
            "_model_name": "LayoutModel",
            "_view_count": null,
            "_view_module": "@jupyter-widgets/base",
            "_view_module_version": "1.2.0",
            "_view_name": "LayoutView",
            "align_content": null,
            "align_items": null,
            "align_self": null,
            "border": null,
            "bottom": null,
            "display": null,
            "flex": null,
            "flex_flow": null,
            "grid_area": null,
            "grid_auto_columns": null,
            "grid_auto_flow": null,
            "grid_auto_rows": null,
            "grid_column": null,
            "grid_gap": null,
            "grid_row": null,
            "grid_template_areas": null,
            "grid_template_columns": null,
            "grid_template_rows": null,
            "height": null,
            "justify_content": null,
            "justify_items": null,
            "left": null,
            "margin": null,
            "max_height": null,
            "max_width": null,
            "min_height": null,
            "min_width": null,
            "object_fit": null,
            "object_position": null,
            "order": null,
            "overflow": null,
            "overflow_x": null,
            "overflow_y": null,
            "padding": null,
            "right": null,
            "top": null,
            "visibility": null,
            "width": null
          }
        },
        "2c3b613c27a64136b385d59da56a64d2": {
          "model_module": "@jupyter-widgets/controls",
          "model_name": "DescriptionStyleModel",
          "model_module_version": "1.5.0",
          "state": {
            "_model_module": "@jupyter-widgets/controls",
            "_model_module_version": "1.5.0",
            "_model_name": "DescriptionStyleModel",
            "_view_count": null,
            "_view_module": "@jupyter-widgets/base",
            "_view_module_version": "1.2.0",
            "_view_name": "StyleView",
            "description_width": ""
          }
        },
        "279fc721e5724fc4b5916017993ba623": {
          "model_module": "@jupyter-widgets/controls",
          "model_name": "HBoxModel",
          "model_module_version": "1.5.0",
          "state": {
            "_dom_classes": [],
            "_model_module": "@jupyter-widgets/controls",
            "_model_module_version": "1.5.0",
            "_model_name": "HBoxModel",
            "_view_count": null,
            "_view_module": "@jupyter-widgets/controls",
            "_view_module_version": "1.5.0",
            "_view_name": "HBoxView",
            "box_style": "",
            "children": [
              "IPY_MODEL_23820b77ca384d8f80fa5bdea5f49846",
              "IPY_MODEL_bea04634729c4fce94e3c5caebdc1961",
              "IPY_MODEL_c2e24cca052446d9982e1c43a5bf0144"
            ],
            "layout": "IPY_MODEL_daf887b6cd604256ac7c715fbc75a4fd"
          }
        },
        "23820b77ca384d8f80fa5bdea5f49846": {
          "model_module": "@jupyter-widgets/controls",
          "model_name": "HTMLModel",
          "model_module_version": "1.5.0",
          "state": {
            "_dom_classes": [],
            "_model_module": "@jupyter-widgets/controls",
            "_model_module_version": "1.5.0",
            "_model_name": "HTMLModel",
            "_view_count": null,
            "_view_module": "@jupyter-widgets/controls",
            "_view_module_version": "1.5.0",
            "_view_name": "HTMLView",
            "description": "",
            "description_tooltip": null,
            "layout": "IPY_MODEL_2aaed7fe0af74db0a4fbb2465b69a6d3",
            "placeholder": "​",
            "style": "IPY_MODEL_7460331e09d146e98b599b0c1779228e",
            "value": "100%"
          }
        },
        "bea04634729c4fce94e3c5caebdc1961": {
          "model_module": "@jupyter-widgets/controls",
          "model_name": "FloatProgressModel",
          "model_module_version": "1.5.0",
          "state": {
            "_dom_classes": [],
            "_model_module": "@jupyter-widgets/controls",
            "_model_module_version": "1.5.0",
            "_model_name": "FloatProgressModel",
            "_view_count": null,
            "_view_module": "@jupyter-widgets/controls",
            "_view_module_version": "1.5.0",
            "_view_name": "ProgressView",
            "bar_style": "success",
            "description": "",
            "description_tooltip": null,
            "layout": "IPY_MODEL_652e8478ab744ab7aaf55c8ee85b1a36",
            "max": 1000,
            "min": 0,
            "orientation": "horizontal",
            "style": "IPY_MODEL_3bc580700b14400f86eb4a3221433ba9",
            "value": 1000
          }
        },
        "c2e24cca052446d9982e1c43a5bf0144": {
          "model_module": "@jupyter-widgets/controls",
          "model_name": "HTMLModel",
          "model_module_version": "1.5.0",
          "state": {
            "_dom_classes": [],
            "_model_module": "@jupyter-widgets/controls",
            "_model_module_version": "1.5.0",
            "_model_name": "HTMLModel",
            "_view_count": null,
            "_view_module": "@jupyter-widgets/controls",
            "_view_module_version": "1.5.0",
            "_view_name": "HTMLView",
            "description": "",
            "description_tooltip": null,
            "layout": "IPY_MODEL_7305520ae96248448801cc6f12c6effc",
            "placeholder": "​",
            "style": "IPY_MODEL_274b6badfcf542029f8d23df8cbf52b1",
            "value": " 1000/1000 [00:34&lt;00:00, 41.18it/s]"
          }
        },
        "daf887b6cd604256ac7c715fbc75a4fd": {
          "model_module": "@jupyter-widgets/base",
          "model_name": "LayoutModel",
          "model_module_version": "1.2.0",
          "state": {
            "_model_module": "@jupyter-widgets/base",
            "_model_module_version": "1.2.0",
            "_model_name": "LayoutModel",
            "_view_count": null,
            "_view_module": "@jupyter-widgets/base",
            "_view_module_version": "1.2.0",
            "_view_name": "LayoutView",
            "align_content": null,
            "align_items": null,
            "align_self": null,
            "border": null,
            "bottom": null,
            "display": null,
            "flex": null,
            "flex_flow": null,
            "grid_area": null,
            "grid_auto_columns": null,
            "grid_auto_flow": null,
            "grid_auto_rows": null,
            "grid_column": null,
            "grid_gap": null,
            "grid_row": null,
            "grid_template_areas": null,
            "grid_template_columns": null,
            "grid_template_rows": null,
            "height": null,
            "justify_content": null,
            "justify_items": null,
            "left": null,
            "margin": null,
            "max_height": null,
            "max_width": null,
            "min_height": null,
            "min_width": null,
            "object_fit": null,
            "object_position": null,
            "order": null,
            "overflow": null,
            "overflow_x": null,
            "overflow_y": null,
            "padding": null,
            "right": null,
            "top": null,
            "visibility": null,
            "width": null
          }
        },
        "2aaed7fe0af74db0a4fbb2465b69a6d3": {
          "model_module": "@jupyter-widgets/base",
          "model_name": "LayoutModel",
          "model_module_version": "1.2.0",
          "state": {
            "_model_module": "@jupyter-widgets/base",
            "_model_module_version": "1.2.0",
            "_model_name": "LayoutModel",
            "_view_count": null,
            "_view_module": "@jupyter-widgets/base",
            "_view_module_version": "1.2.0",
            "_view_name": "LayoutView",
            "align_content": null,
            "align_items": null,
            "align_self": null,
            "border": null,
            "bottom": null,
            "display": null,
            "flex": null,
            "flex_flow": null,
            "grid_area": null,
            "grid_auto_columns": null,
            "grid_auto_flow": null,
            "grid_auto_rows": null,
            "grid_column": null,
            "grid_gap": null,
            "grid_row": null,
            "grid_template_areas": null,
            "grid_template_columns": null,
            "grid_template_rows": null,
            "height": null,
            "justify_content": null,
            "justify_items": null,
            "left": null,
            "margin": null,
            "max_height": null,
            "max_width": null,
            "min_height": null,
            "min_width": null,
            "object_fit": null,
            "object_position": null,
            "order": null,
            "overflow": null,
            "overflow_x": null,
            "overflow_y": null,
            "padding": null,
            "right": null,
            "top": null,
            "visibility": null,
            "width": null
          }
        },
        "7460331e09d146e98b599b0c1779228e": {
          "model_module": "@jupyter-widgets/controls",
          "model_name": "DescriptionStyleModel",
          "model_module_version": "1.5.0",
          "state": {
            "_model_module": "@jupyter-widgets/controls",
            "_model_module_version": "1.5.0",
            "_model_name": "DescriptionStyleModel",
            "_view_count": null,
            "_view_module": "@jupyter-widgets/base",
            "_view_module_version": "1.2.0",
            "_view_name": "StyleView",
            "description_width": ""
          }
        },
        "652e8478ab744ab7aaf55c8ee85b1a36": {
          "model_module": "@jupyter-widgets/base",
          "model_name": "LayoutModel",
          "model_module_version": "1.2.0",
          "state": {
            "_model_module": "@jupyter-widgets/base",
            "_model_module_version": "1.2.0",
            "_model_name": "LayoutModel",
            "_view_count": null,
            "_view_module": "@jupyter-widgets/base",
            "_view_module_version": "1.2.0",
            "_view_name": "LayoutView",
            "align_content": null,
            "align_items": null,
            "align_self": null,
            "border": null,
            "bottom": null,
            "display": null,
            "flex": null,
            "flex_flow": null,
            "grid_area": null,
            "grid_auto_columns": null,
            "grid_auto_flow": null,
            "grid_auto_rows": null,
            "grid_column": null,
            "grid_gap": null,
            "grid_row": null,
            "grid_template_areas": null,
            "grid_template_columns": null,
            "grid_template_rows": null,
            "height": null,
            "justify_content": null,
            "justify_items": null,
            "left": null,
            "margin": null,
            "max_height": null,
            "max_width": null,
            "min_height": null,
            "min_width": null,
            "object_fit": null,
            "object_position": null,
            "order": null,
            "overflow": null,
            "overflow_x": null,
            "overflow_y": null,
            "padding": null,
            "right": null,
            "top": null,
            "visibility": null,
            "width": null
          }
        },
        "3bc580700b14400f86eb4a3221433ba9": {
          "model_module": "@jupyter-widgets/controls",
          "model_name": "ProgressStyleModel",
          "model_module_version": "1.5.0",
          "state": {
            "_model_module": "@jupyter-widgets/controls",
            "_model_module_version": "1.5.0",
            "_model_name": "ProgressStyleModel",
            "_view_count": null,
            "_view_module": "@jupyter-widgets/base",
            "_view_module_version": "1.2.0",
            "_view_name": "StyleView",
            "bar_color": null,
            "description_width": ""
          }
        },
        "7305520ae96248448801cc6f12c6effc": {
          "model_module": "@jupyter-widgets/base",
          "model_name": "LayoutModel",
          "model_module_version": "1.2.0",
          "state": {
            "_model_module": "@jupyter-widgets/base",
            "_model_module_version": "1.2.0",
            "_model_name": "LayoutModel",
            "_view_count": null,
            "_view_module": "@jupyter-widgets/base",
            "_view_module_version": "1.2.0",
            "_view_name": "LayoutView",
            "align_content": null,
            "align_items": null,
            "align_self": null,
            "border": null,
            "bottom": null,
            "display": null,
            "flex": null,
            "flex_flow": null,
            "grid_area": null,
            "grid_auto_columns": null,
            "grid_auto_flow": null,
            "grid_auto_rows": null,
            "grid_column": null,
            "grid_gap": null,
            "grid_row": null,
            "grid_template_areas": null,
            "grid_template_columns": null,
            "grid_template_rows": null,
            "height": null,
            "justify_content": null,
            "justify_items": null,
            "left": null,
            "margin": null,
            "max_height": null,
            "max_width": null,
            "min_height": null,
            "min_width": null,
            "object_fit": null,
            "object_position": null,
            "order": null,
            "overflow": null,
            "overflow_x": null,
            "overflow_y": null,
            "padding": null,
            "right": null,
            "top": null,
            "visibility": null,
            "width": null
          }
        },
        "274b6badfcf542029f8d23df8cbf52b1": {
          "model_module": "@jupyter-widgets/controls",
          "model_name": "DescriptionStyleModel",
          "model_module_version": "1.5.0",
          "state": {
            "_model_module": "@jupyter-widgets/controls",
            "_model_module_version": "1.5.0",
            "_model_name": "DescriptionStyleModel",
            "_view_count": null,
            "_view_module": "@jupyter-widgets/base",
            "_view_module_version": "1.2.0",
            "_view_name": "StyleView",
            "description_width": ""
          }
        }
      }
    }
  },
  "nbformat": 4,
  "nbformat_minor": 0
}