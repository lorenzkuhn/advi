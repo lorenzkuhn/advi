{
  "nbformat": 4,
  "nbformat_minor": 0,
  "metadata": {
    "colab": {
      "name": "Hierarchical_Logistic_Regression.ipynb",
      "provenance": [],
      "collapsed_sections": []
    },
    "kernelspec": {
      "name": "python3",
      "display_name": "Python 3"
    },
    "language_info": {
      "name": "python"
    },
    "widgets": {
      "application/vnd.jupyter.widget-state+json": {
        "4eed5fa33ade406eab7e1a21c907490d": {
          "model_module": "@jupyter-widgets/controls",
          "model_name": "HBoxModel",
          "model_module_version": "1.5.0",
          "state": {
            "_dom_classes": [],
            "_model_module": "@jupyter-widgets/controls",
            "_model_module_version": "1.5.0",
            "_model_name": "HBoxModel",
            "_view_count": null,
            "_view_module": "@jupyter-widgets/controls",
            "_view_module_version": "1.5.0",
            "_view_name": "HBoxView",
            "box_style": "",
            "children": [
              "IPY_MODEL_a3d4da0e01764d038acefc61ab8c4023",
              "IPY_MODEL_bd1e0f2ad5c9402fb805e247f212ba33",
              "IPY_MODEL_a915881d42184e71b4ef0aa65cb125d2"
            ],
            "layout": "IPY_MODEL_72e260ebdfff43ac97297ea7243fa151"
          }
        },
        "a3d4da0e01764d038acefc61ab8c4023": {
          "model_module": "@jupyter-widgets/controls",
          "model_name": "HTMLModel",
          "model_module_version": "1.5.0",
          "state": {
            "_dom_classes": [],
            "_model_module": "@jupyter-widgets/controls",
            "_model_module_version": "1.5.0",
            "_model_name": "HTMLModel",
            "_view_count": null,
            "_view_module": "@jupyter-widgets/controls",
            "_view_module_version": "1.5.0",
            "_view_name": "HTMLView",
            "description": "",
            "description_tooltip": null,
            "layout": "IPY_MODEL_2e2b1971e1f44fdca4b8567866a377ad",
            "placeholder": "​",
            "style": "IPY_MODEL_8e2498e2a0824903a0b03dacf7c38d2c",
            "value": "100%"
          }
        },
        "bd1e0f2ad5c9402fb805e247f212ba33": {
          "model_module": "@jupyter-widgets/controls",
          "model_name": "FloatProgressModel",
          "model_module_version": "1.5.0",
          "state": {
            "_dom_classes": [],
            "_model_module": "@jupyter-widgets/controls",
            "_model_module_version": "1.5.0",
            "_model_name": "FloatProgressModel",
            "_view_count": null,
            "_view_module": "@jupyter-widgets/controls",
            "_view_module_version": "1.5.0",
            "_view_name": "ProgressView",
            "bar_style": "success",
            "description": "",
            "description_tooltip": null,
            "layout": "IPY_MODEL_0d24e07b365745e291a0eff6de1255d4",
            "max": 5000,
            "min": 0,
            "orientation": "horizontal",
            "style": "IPY_MODEL_24df87121be847cebf424ed4be680568",
            "value": 5000
          }
        },
        "a915881d42184e71b4ef0aa65cb125d2": {
          "model_module": "@jupyter-widgets/controls",
          "model_name": "HTMLModel",
          "model_module_version": "1.5.0",
          "state": {
            "_dom_classes": [],
            "_model_module": "@jupyter-widgets/controls",
            "_model_module_version": "1.5.0",
            "_model_name": "HTMLModel",
            "_view_count": null,
            "_view_module": "@jupyter-widgets/controls",
            "_view_module_version": "1.5.0",
            "_view_name": "HTMLView",
            "description": "",
            "description_tooltip": null,
            "layout": "IPY_MODEL_7984c60f8efe47caa9c4e5a428c269e5",
            "placeholder": "​",
            "style": "IPY_MODEL_b837b6d7f9a948528809a47a4aa68803",
            "value": " 5000/5000 [01:11&lt;00:00, 82.96it/s]"
          }
        },
        "72e260ebdfff43ac97297ea7243fa151": {
          "model_module": "@jupyter-widgets/base",
          "model_name": "LayoutModel",
          "model_module_version": "1.2.0",
          "state": {
            "_model_module": "@jupyter-widgets/base",
            "_model_module_version": "1.2.0",
            "_model_name": "LayoutModel",
            "_view_count": null,
            "_view_module": "@jupyter-widgets/base",
            "_view_module_version": "1.2.0",
            "_view_name": "LayoutView",
            "align_content": null,
            "align_items": null,
            "align_self": null,
            "border": null,
            "bottom": null,
            "display": null,
            "flex": null,
            "flex_flow": null,
            "grid_area": null,
            "grid_auto_columns": null,
            "grid_auto_flow": null,
            "grid_auto_rows": null,
            "grid_column": null,
            "grid_gap": null,
            "grid_row": null,
            "grid_template_areas": null,
            "grid_template_columns": null,
            "grid_template_rows": null,
            "height": null,
            "justify_content": null,
            "justify_items": null,
            "left": null,
            "margin": null,
            "max_height": null,
            "max_width": null,
            "min_height": null,
            "min_width": null,
            "object_fit": null,
            "object_position": null,
            "order": null,
            "overflow": null,
            "overflow_x": null,
            "overflow_y": null,
            "padding": null,
            "right": null,
            "top": null,
            "visibility": null,
            "width": null
          }
        },
        "2e2b1971e1f44fdca4b8567866a377ad": {
          "model_module": "@jupyter-widgets/base",
          "model_name": "LayoutModel",
          "model_module_version": "1.2.0",
          "state": {
            "_model_module": "@jupyter-widgets/base",
            "_model_module_version": "1.2.0",
            "_model_name": "LayoutModel",
            "_view_count": null,
            "_view_module": "@jupyter-widgets/base",
            "_view_module_version": "1.2.0",
            "_view_name": "LayoutView",
            "align_content": null,
            "align_items": null,
            "align_self": null,
            "border": null,
            "bottom": null,
            "display": null,
            "flex": null,
            "flex_flow": null,
            "grid_area": null,
            "grid_auto_columns": null,
            "grid_auto_flow": null,
            "grid_auto_rows": null,
            "grid_column": null,
            "grid_gap": null,
            "grid_row": null,
            "grid_template_areas": null,
            "grid_template_columns": null,
            "grid_template_rows": null,
            "height": null,
            "justify_content": null,
            "justify_items": null,
            "left": null,
            "margin": null,
            "max_height": null,
            "max_width": null,
            "min_height": null,
            "min_width": null,
            "object_fit": null,
            "object_position": null,
            "order": null,
            "overflow": null,
            "overflow_x": null,
            "overflow_y": null,
            "padding": null,
            "right": null,
            "top": null,
            "visibility": null,
            "width": null
          }
        },
        "8e2498e2a0824903a0b03dacf7c38d2c": {
          "model_module": "@jupyter-widgets/controls",
          "model_name": "DescriptionStyleModel",
          "model_module_version": "1.5.0",
          "state": {
            "_model_module": "@jupyter-widgets/controls",
            "_model_module_version": "1.5.0",
            "_model_name": "DescriptionStyleModel",
            "_view_count": null,
            "_view_module": "@jupyter-widgets/base",
            "_view_module_version": "1.2.0",
            "_view_name": "StyleView",
            "description_width": ""
          }
        },
        "0d24e07b365745e291a0eff6de1255d4": {
          "model_module": "@jupyter-widgets/base",
          "model_name": "LayoutModel",
          "model_module_version": "1.2.0",
          "state": {
            "_model_module": "@jupyter-widgets/base",
            "_model_module_version": "1.2.0",
            "_model_name": "LayoutModel",
            "_view_count": null,
            "_view_module": "@jupyter-widgets/base",
            "_view_module_version": "1.2.0",
            "_view_name": "LayoutView",
            "align_content": null,
            "align_items": null,
            "align_self": null,
            "border": null,
            "bottom": null,
            "display": null,
            "flex": null,
            "flex_flow": null,
            "grid_area": null,
            "grid_auto_columns": null,
            "grid_auto_flow": null,
            "grid_auto_rows": null,
            "grid_column": null,
            "grid_gap": null,
            "grid_row": null,
            "grid_template_areas": null,
            "grid_template_columns": null,
            "grid_template_rows": null,
            "height": null,
            "justify_content": null,
            "justify_items": null,
            "left": null,
            "margin": null,
            "max_height": null,
            "max_width": null,
            "min_height": null,
            "min_width": null,
            "object_fit": null,
            "object_position": null,
            "order": null,
            "overflow": null,
            "overflow_x": null,
            "overflow_y": null,
            "padding": null,
            "right": null,
            "top": null,
            "visibility": null,
            "width": null
          }
        },
        "24df87121be847cebf424ed4be680568": {
          "model_module": "@jupyter-widgets/controls",
          "model_name": "ProgressStyleModel",
          "model_module_version": "1.5.0",
          "state": {
            "_model_module": "@jupyter-widgets/controls",
            "_model_module_version": "1.5.0",
            "_model_name": "ProgressStyleModel",
            "_view_count": null,
            "_view_module": "@jupyter-widgets/base",
            "_view_module_version": "1.2.0",
            "_view_name": "StyleView",
            "bar_color": null,
            "description_width": ""
          }
        },
        "7984c60f8efe47caa9c4e5a428c269e5": {
          "model_module": "@jupyter-widgets/base",
          "model_name": "LayoutModel",
          "model_module_version": "1.2.0",
          "state": {
            "_model_module": "@jupyter-widgets/base",
            "_model_module_version": "1.2.0",
            "_model_name": "LayoutModel",
            "_view_count": null,
            "_view_module": "@jupyter-widgets/base",
            "_view_module_version": "1.2.0",
            "_view_name": "LayoutView",
            "align_content": null,
            "align_items": null,
            "align_self": null,
            "border": null,
            "bottom": null,
            "display": null,
            "flex": null,
            "flex_flow": null,
            "grid_area": null,
            "grid_auto_columns": null,
            "grid_auto_flow": null,
            "grid_auto_rows": null,
            "grid_column": null,
            "grid_gap": null,
            "grid_row": null,
            "grid_template_areas": null,
            "grid_template_columns": null,
            "grid_template_rows": null,
            "height": null,
            "justify_content": null,
            "justify_items": null,
            "left": null,
            "margin": null,
            "max_height": null,
            "max_width": null,
            "min_height": null,
            "min_width": null,
            "object_fit": null,
            "object_position": null,
            "order": null,
            "overflow": null,
            "overflow_x": null,
            "overflow_y": null,
            "padding": null,
            "right": null,
            "top": null,
            "visibility": null,
            "width": null
          }
        },
        "b837b6d7f9a948528809a47a4aa68803": {
          "model_module": "@jupyter-widgets/controls",
          "model_name": "DescriptionStyleModel",
          "model_module_version": "1.5.0",
          "state": {
            "_model_module": "@jupyter-widgets/controls",
            "_model_module_version": "1.5.0",
            "_model_name": "DescriptionStyleModel",
            "_view_count": null,
            "_view_module": "@jupyter-widgets/base",
            "_view_module_version": "1.2.0",
            "_view_name": "StyleView",
            "description_width": ""
          }
        },
        "f1a4d5b69db44b5abaec18a04083ca31": {
          "model_module": "@jupyter-widgets/controls",
          "model_name": "HBoxModel",
          "model_module_version": "1.5.0",
          "state": {
            "_dom_classes": [],
            "_model_module": "@jupyter-widgets/controls",
            "_model_module_version": "1.5.0",
            "_model_name": "HBoxModel",
            "_view_count": null,
            "_view_module": "@jupyter-widgets/controls",
            "_view_module_version": "1.5.0",
            "_view_name": "HBoxView",
            "box_style": "",
            "children": [
              "IPY_MODEL_8aa75610e2d84e12a3d1312ad727aa44",
              "IPY_MODEL_b98d80cd5d4d4750bbaf643b6faa6f7c",
              "IPY_MODEL_62a98d54db6945b3ac1498b5f8ac34ed"
            ],
            "layout": "IPY_MODEL_c5397af2b45d423594db08eb69d8b146"
          }
        },
        "8aa75610e2d84e12a3d1312ad727aa44": {
          "model_module": "@jupyter-widgets/controls",
          "model_name": "HTMLModel",
          "model_module_version": "1.5.0",
          "state": {
            "_dom_classes": [],
            "_model_module": "@jupyter-widgets/controls",
            "_model_module_version": "1.5.0",
            "_model_name": "HTMLModel",
            "_view_count": null,
            "_view_module": "@jupyter-widgets/controls",
            "_view_module_version": "1.5.0",
            "_view_name": "HTMLView",
            "description": "",
            "description_tooltip": null,
            "layout": "IPY_MODEL_6a126a7c7d2843ddb2a13aef77af2574",
            "placeholder": "​",
            "style": "IPY_MODEL_d93b0d3121f943ba8bf272a69d2e0fa2",
            "value": "100%"
          }
        },
        "b98d80cd5d4d4750bbaf643b6faa6f7c": {
          "model_module": "@jupyter-widgets/controls",
          "model_name": "FloatProgressModel",
          "model_module_version": "1.5.0",
          "state": {
            "_dom_classes": [],
            "_model_module": "@jupyter-widgets/controls",
            "_model_module_version": "1.5.0",
            "_model_name": "FloatProgressModel",
            "_view_count": null,
            "_view_module": "@jupyter-widgets/controls",
            "_view_module_version": "1.5.0",
            "_view_name": "ProgressView",
            "bar_style": "success",
            "description": "",
            "description_tooltip": null,
            "layout": "IPY_MODEL_6488fed1bd0a48deac570876ae51efe6",
            "max": 1000,
            "min": 0,
            "orientation": "horizontal",
            "style": "IPY_MODEL_b3f6a526f6804b9f9474ba36e452fa80",
            "value": 1000
          }
        },
        "62a98d54db6945b3ac1498b5f8ac34ed": {
          "model_module": "@jupyter-widgets/controls",
          "model_name": "HTMLModel",
          "model_module_version": "1.5.0",
          "state": {
            "_dom_classes": [],
            "_model_module": "@jupyter-widgets/controls",
            "_model_module_version": "1.5.0",
            "_model_name": "HTMLModel",
            "_view_count": null,
            "_view_module": "@jupyter-widgets/controls",
            "_view_module_version": "1.5.0",
            "_view_name": "HTMLView",
            "description": "",
            "description_tooltip": null,
            "layout": "IPY_MODEL_3c869e500905447e95522d8cb35cfa80",
            "placeholder": "​",
            "style": "IPY_MODEL_59c2c9547b654e4a8611c52714052fc6",
            "value": " 1000/1000 [02:06&lt;00:00,  8.59it/s]"
          }
        },
        "c5397af2b45d423594db08eb69d8b146": {
          "model_module": "@jupyter-widgets/base",
          "model_name": "LayoutModel",
          "model_module_version": "1.2.0",
          "state": {
            "_model_module": "@jupyter-widgets/base",
            "_model_module_version": "1.2.0",
            "_model_name": "LayoutModel",
            "_view_count": null,
            "_view_module": "@jupyter-widgets/base",
            "_view_module_version": "1.2.0",
            "_view_name": "LayoutView",
            "align_content": null,
            "align_items": null,
            "align_self": null,
            "border": null,
            "bottom": null,
            "display": null,
            "flex": null,
            "flex_flow": null,
            "grid_area": null,
            "grid_auto_columns": null,
            "grid_auto_flow": null,
            "grid_auto_rows": null,
            "grid_column": null,
            "grid_gap": null,
            "grid_row": null,
            "grid_template_areas": null,
            "grid_template_columns": null,
            "grid_template_rows": null,
            "height": null,
            "justify_content": null,
            "justify_items": null,
            "left": null,
            "margin": null,
            "max_height": null,
            "max_width": null,
            "min_height": null,
            "min_width": null,
            "object_fit": null,
            "object_position": null,
            "order": null,
            "overflow": null,
            "overflow_x": null,
            "overflow_y": null,
            "padding": null,
            "right": null,
            "top": null,
            "visibility": null,
            "width": null
          }
        },
        "6a126a7c7d2843ddb2a13aef77af2574": {
          "model_module": "@jupyter-widgets/base",
          "model_name": "LayoutModel",
          "model_module_version": "1.2.0",
          "state": {
            "_model_module": "@jupyter-widgets/base",
            "_model_module_version": "1.2.0",
            "_model_name": "LayoutModel",
            "_view_count": null,
            "_view_module": "@jupyter-widgets/base",
            "_view_module_version": "1.2.0",
            "_view_name": "LayoutView",
            "align_content": null,
            "align_items": null,
            "align_self": null,
            "border": null,
            "bottom": null,
            "display": null,
            "flex": null,
            "flex_flow": null,
            "grid_area": null,
            "grid_auto_columns": null,
            "grid_auto_flow": null,
            "grid_auto_rows": null,
            "grid_column": null,
            "grid_gap": null,
            "grid_row": null,
            "grid_template_areas": null,
            "grid_template_columns": null,
            "grid_template_rows": null,
            "height": null,
            "justify_content": null,
            "justify_items": null,
            "left": null,
            "margin": null,
            "max_height": null,
            "max_width": null,
            "min_height": null,
            "min_width": null,
            "object_fit": null,
            "object_position": null,
            "order": null,
            "overflow": null,
            "overflow_x": null,
            "overflow_y": null,
            "padding": null,
            "right": null,
            "top": null,
            "visibility": null,
            "width": null
          }
        },
        "d93b0d3121f943ba8bf272a69d2e0fa2": {
          "model_module": "@jupyter-widgets/controls",
          "model_name": "DescriptionStyleModel",
          "model_module_version": "1.5.0",
          "state": {
            "_model_module": "@jupyter-widgets/controls",
            "_model_module_version": "1.5.0",
            "_model_name": "DescriptionStyleModel",
            "_view_count": null,
            "_view_module": "@jupyter-widgets/base",
            "_view_module_version": "1.2.0",
            "_view_name": "StyleView",
            "description_width": ""
          }
        },
        "6488fed1bd0a48deac570876ae51efe6": {
          "model_module": "@jupyter-widgets/base",
          "model_name": "LayoutModel",
          "model_module_version": "1.2.0",
          "state": {
            "_model_module": "@jupyter-widgets/base",
            "_model_module_version": "1.2.0",
            "_model_name": "LayoutModel",
            "_view_count": null,
            "_view_module": "@jupyter-widgets/base",
            "_view_module_version": "1.2.0",
            "_view_name": "LayoutView",
            "align_content": null,
            "align_items": null,
            "align_self": null,
            "border": null,
            "bottom": null,
            "display": null,
            "flex": null,
            "flex_flow": null,
            "grid_area": null,
            "grid_auto_columns": null,
            "grid_auto_flow": null,
            "grid_auto_rows": null,
            "grid_column": null,
            "grid_gap": null,
            "grid_row": null,
            "grid_template_areas": null,
            "grid_template_columns": null,
            "grid_template_rows": null,
            "height": null,
            "justify_content": null,
            "justify_items": null,
            "left": null,
            "margin": null,
            "max_height": null,
            "max_width": null,
            "min_height": null,
            "min_width": null,
            "object_fit": null,
            "object_position": null,
            "order": null,
            "overflow": null,
            "overflow_x": null,
            "overflow_y": null,
            "padding": null,
            "right": null,
            "top": null,
            "visibility": null,
            "width": null
          }
        },
        "b3f6a526f6804b9f9474ba36e452fa80": {
          "model_module": "@jupyter-widgets/controls",
          "model_name": "ProgressStyleModel",
          "model_module_version": "1.5.0",
          "state": {
            "_model_module": "@jupyter-widgets/controls",
            "_model_module_version": "1.5.0",
            "_model_name": "ProgressStyleModel",
            "_view_count": null,
            "_view_module": "@jupyter-widgets/base",
            "_view_module_version": "1.2.0",
            "_view_name": "StyleView",
            "bar_color": null,
            "description_width": ""
          }
        },
        "3c869e500905447e95522d8cb35cfa80": {
          "model_module": "@jupyter-widgets/base",
          "model_name": "LayoutModel",
          "model_module_version": "1.2.0",
          "state": {
            "_model_module": "@jupyter-widgets/base",
            "_model_module_version": "1.2.0",
            "_model_name": "LayoutModel",
            "_view_count": null,
            "_view_module": "@jupyter-widgets/base",
            "_view_module_version": "1.2.0",
            "_view_name": "LayoutView",
            "align_content": null,
            "align_items": null,
            "align_self": null,
            "border": null,
            "bottom": null,
            "display": null,
            "flex": null,
            "flex_flow": null,
            "grid_area": null,
            "grid_auto_columns": null,
            "grid_auto_flow": null,
            "grid_auto_rows": null,
            "grid_column": null,
            "grid_gap": null,
            "grid_row": null,
            "grid_template_areas": null,
            "grid_template_columns": null,
            "grid_template_rows": null,
            "height": null,
            "justify_content": null,
            "justify_items": null,
            "left": null,
            "margin": null,
            "max_height": null,
            "max_width": null,
            "min_height": null,
            "min_width": null,
            "object_fit": null,
            "object_position": null,
            "order": null,
            "overflow": null,
            "overflow_x": null,
            "overflow_y": null,
            "padding": null,
            "right": null,
            "top": null,
            "visibility": null,
            "width": null
          }
        },
        "59c2c9547b654e4a8611c52714052fc6": {
          "model_module": "@jupyter-widgets/controls",
          "model_name": "DescriptionStyleModel",
          "model_module_version": "1.5.0",
          "state": {
            "_model_module": "@jupyter-widgets/controls",
            "_model_module_version": "1.5.0",
            "_model_name": "DescriptionStyleModel",
            "_view_count": null,
            "_view_module": "@jupyter-widgets/base",
            "_view_module_version": "1.2.0",
            "_view_name": "StyleView",
            "description_width": ""
          }
        }
      }
    }
  },
  "cells": [
    {
      "cell_type": "markdown",
      "metadata": {
        "id": "view-in-github"
      },
      "source": [
        "<a href=\"https://colab.research.google.com/github/lorenzkuhn/advi/blob/main/Hierarchical_Logistic_Regression.ipynb\" target=\"_parent\"><img src=\"https://colab.research.google.com/assets/colab-badge.svg\" alt=\"Open In Colab\"/></a>"
      ]
    },
    {
      "cell_type": "code",
      "source": [
        "!pip install pyreadstat pyro-ppl "
      ],
      "metadata": {
        "colab": {
          "base_uri": "https://localhost:8080/"
        },
        "id": "DWZUW152zg3K",
        "outputId": "b2264834-3434-48a6-db63-30639f35a945"
      },
      "execution_count": 1,
      "outputs": [
        {
          "output_type": "stream",
          "name": "stdout",
          "text": [
            "Requirement already satisfied: pyreadstat in /usr/local/lib/python3.7/dist-packages (1.1.4)\n",
            "Requirement already satisfied: pyro-ppl in /usr/local/lib/python3.7/dist-packages (1.8.1)\n",
            "Requirement already satisfied: pandas>=1.2.0 in /usr/local/lib/python3.7/dist-packages (from pyreadstat) (1.3.5)\n",
            "Requirement already satisfied: pytz>=2017.3 in /usr/local/lib/python3.7/dist-packages (from pandas>=1.2.0->pyreadstat) (2018.9)\n",
            "Requirement already satisfied: python-dateutil>=2.7.3 in /usr/local/lib/python3.7/dist-packages (from pandas>=1.2.0->pyreadstat) (2.8.2)\n",
            "Requirement already satisfied: numpy>=1.17.3 in /usr/local/lib/python3.7/dist-packages (from pandas>=1.2.0->pyreadstat) (1.21.5)\n",
            "Requirement already satisfied: six>=1.5 in /usr/local/lib/python3.7/dist-packages (from python-dateutil>=2.7.3->pandas>=1.2.0->pyreadstat) (1.15.0)\n",
            "Requirement already satisfied: opt-einsum>=2.3.2 in /usr/local/lib/python3.7/dist-packages (from pyro-ppl) (3.3.0)\n",
            "Requirement already satisfied: tqdm>=4.36 in /usr/local/lib/python3.7/dist-packages (from pyro-ppl) (4.63.0)\n",
            "Requirement already satisfied: torch>=1.11.0 in /usr/local/lib/python3.7/dist-packages (from pyro-ppl) (1.11.0)\n",
            "Requirement already satisfied: pyro-api>=0.1.1 in /usr/local/lib/python3.7/dist-packages (from pyro-ppl) (0.1.2)\n",
            "Requirement already satisfied: typing-extensions in /usr/local/lib/python3.7/dist-packages (from torch>=1.11.0->pyro-ppl) (3.10.0.2)\n"
          ]
        }
      ]
    },
    {
      "cell_type": "code",
      "source": [
        "import pyreadstat\n",
        "import time \n",
        "import os\n",
        "import torch\n",
        "import requests\n",
        "import sklearn.model_selection\n",
        "\n",
        "import numpy as np\n",
        "import pandas as pd\n",
        "import seaborn as sns\n",
        "import matplotlib.pyplot as plt\n",
        "\n",
        "import pyro\n",
        "import pyro.distributions as dist\n",
        "from pyro.infer.autoguide import AutoDiagonalNormal\n",
        "from pyro.infer import SVI, Trace_ELBO, MCMC, NUTS, HMC, Predictive\n",
        "from pyro.infer.autoguide.initialization import init_to_value\n",
        "\n",
        "from tqdm.notebook import tqdm, trange"
      ],
      "metadata": {
        "id": "6Bmq0Z6ExBJl"
      },
      "execution_count": 2,
      "outputs": []
    },
    {
      "cell_type": "code",
      "source": [
        "# Download input files\n",
        "url = 'http://www.stat.columbia.edu/~gelman/arm/examples/election88/'\n",
        "\n",
        "file1 = 'polls.dta'\n",
        "r = requests.get(url+file1)\n",
        "open(file1 , 'wb').write(r.content)\n",
        "\n",
        "file2 = 'presvote.dta'\n",
        "r = requests.get(url+file2)\n",
        "open(file2 , 'wb').write(r.content)"
      ],
      "metadata": {
        "colab": {
          "base_uri": "https://localhost:8080/"
        },
        "id": "krh1Sy5PSEs_",
        "outputId": "b33c43f1-d168-4bed-c43f-6668a27b9c18"
      },
      "execution_count": 3,
      "outputs": [
        {
          "output_type": "execute_result",
          "data": {
            "text/plain": [
              "848"
            ]
          },
          "metadata": {},
          "execution_count": 3
        }
      ]
    },
    {
      "cell_type": "code",
      "source": [
        "# Data preprocessing\n",
        "\n",
        "polls_df, meta = pyreadstat.read_dta('polls.dta')\n",
        "polls_df = polls_df.dropna()\n",
        "presvote_df, _ = pyreadstat.read_dta('presvote.dta')\n",
        "presvote_df = presvote_df.rename(columns={'stnum2': 'state', 'g76_84pr':'previous_vote'})\n",
        "\n",
        "# Apologies, for this, this is how they do it in the R code as well. \n",
        "# The list has length 51 since they add D.C as its own state.\n",
        "state_to_region_mapping = torch.tensor([3,4,4,3,4,4,1,1,5,3,3,4,4,2,2,2,2,3,3,1,\n",
        "                                        1,1,2,2,3,2,4,2,4,1,1,4,1,3,2,2,3,4,1,1,\n",
        "                                        3,2,3,3,4,1,3,4,1,2,4])\n",
        "state_to_region_mapping = state_to_region_mapping.repeat(len(polls_df), 1)\n",
        "indices = torch.tensor(polls_df['state'].values, dtype=torch.int64) - 1\n",
        "polls_df['region'] = state_to_region_mapping.gather(1, indices.view(-1, 1))\n",
        "polls_df = polls_df.join(other=presvote_df.set_index('state'), on='state')\n",
        "\n",
        "# Age\n",
        "polls_df['age'] = polls_df['age'] - 1\n",
        "age = torch.tensor(polls_df[[\"age\"]].values, dtype=torch.int64)\n",
        "n_age_categories = max(age) + 1\n",
        "\n",
        "# Education\n",
        "polls_df['edu'] = polls_df['edu'] - 1\n",
        "edu = torch.tensor(polls_df[[\"edu\"]].values, dtype=torch.int64)\n",
        "n_edu_categories = max(edu) + 1\n",
        "\n",
        "# State\n",
        "polls_df['state'] = polls_df['state'] - 1\n",
        "state = torch.tensor(polls_df[[\"state\"]].values, dtype=torch.int64)\n",
        "n_state_categories = max(state) + 1\n",
        "\n",
        "# Region Full\n",
        "polls_df['region_full'] = polls_df['region'] - 1\n",
        "region_full = torch.tensor(polls_df[[\"region\"]].values, dtype=torch.int64)\n",
        "n_region_full_categories = max(region_full) + 1\n",
        "\n",
        "# Age x Education\n",
        "polls_df['age_edu'] = polls_df['age']*polls_df['edu']\n",
        "age_edu = torch.tensor(polls_df[[\"age_edu\"]].values, dtype=torch.int64)\n",
        "n_age_edu_categories = max(age_edu) + 1"
      ],
      "metadata": {
        "id": "02qQG8jV0OnZ"
      },
      "execution_count": 4,
      "outputs": []
    },
    {
      "cell_type": "code",
      "source": [
        "# Helper function to separate features and targets\n",
        "\n",
        "def get_features_and_targets(dataframe):\n",
        "  feature_names = [\"female\", \"black\", \"previous_vote\", \"age\", \"edu\", \"age_edu\", \"region\", \"state\"]\n",
        "  features = []\n",
        "  for feature in feature_names:\n",
        "    if feature == \"previous_vote\":\n",
        "      dtype = torch.float64\n",
        "    else:\n",
        "      dtype = torch.int64\n",
        "    \n",
        "    features.append(torch.tensor(dataframe[[feature]].values, dtype=dtype))\n",
        "  targets = torch.tensor(dataframe[[\"bush\"]].values,  dtype=torch.float64)\n",
        "  return features, targets"
      ],
      "metadata": {
        "id": "-dPeIC3rJHfG"
      },
      "execution_count": 5,
      "outputs": []
    },
    {
      "cell_type": "code",
      "source": [
        "# Split training and test data \n",
        "\n",
        "train_df, test_df = sklearn.model_selection.train_test_split(polls_df, train_size=10000)\n",
        "\n",
        "train_features, train_targets = get_features_and_targets(train_df)\n",
        "test_features, test_targets = get_features_and_targets(test_df)"
      ],
      "metadata": {
        "id": "hOHaosacL-Kr"
      },
      "execution_count": 6,
      "outputs": []
    },
    {
      "cell_type": "code",
      "source": [
        "# Helper function to calcualte logits for log. regression\n",
        "\n",
        "def logit(beta, a, b, c, d, e, \n",
        "          female, black, v_prev_full, age, edu, age_edu, region_full, state):\n",
        "    logits = beta[0] \\\n",
        "            +beta[1]*black \\\n",
        "            +beta[2]*female \\\n",
        "            +beta[4]*female*black \\\n",
        "            +beta[3]+v_prev_full \\\n",
        "            +a[age] \\\n",
        "            +b[edu] \\\n",
        "            +c[age_edu] \\\n",
        "            +d[state] \\\n",
        "            +e[region_full]\n",
        "    return logits  "
      ],
      "metadata": {
        "id": "wYrONgmgfY9R"
      },
      "execution_count": 7,
      "outputs": []
    },
    {
      "cell_type": "code",
      "source": [
        "def model(female, black, v_prev_full, age, edu, age_edu, region_full, state, y=None):\n",
        "      #Unifrom hyper-priors constraint between 0 and 100 for variances\n",
        "      sigma_a = pyro.sample('sigma_a', dist.Uniform(0., 100.))\n",
        "      sigma_b = pyro.sample('sigma_b', dist.Uniform(0., 100.))\n",
        "      sigma_c = pyro.sample('sigma_c', dist.Uniform(0., 100.))\n",
        "      sigma_d = pyro.sample('sigma_d', dist.Uniform(0., 100.))\n",
        "      sigma_e = pyro.sample('sigma_e', dist.Uniform(0., 100.))\n",
        "\n",
        "      #priors for hierarchical log reg\n",
        "      betaParams = pyro.param(\"betaParams\", lambda: torch.ones(5))\n",
        "      beta = pyro.sample('beta', dist.Normal(betaParams, sigma_a).to_event(1))\n",
        "      a = pyro.sample(\"a\", dist.Normal(torch.zeros(n_age_categories), sigma_a).to_event(1))\n",
        "      b = pyro.sample(\"b\", dist.Normal(torch.zeros(n_edu_categories), sigma_b).to_event(1))\n",
        "      c = pyro.sample(\"c\", dist.Normal(torch.zeros(n_age_edu_categories), sigma_c).to_event(1))\n",
        "      d = pyro.sample(\"d\", dist.Normal(torch.zeros(n_state_categories), sigma_d).to_event(1))\n",
        "      e = pyro.sample(\"e\", dist.Normal(torch.zeros(n_region_full_categories), sigma_e).to_event(1))\n",
        "\n",
        "      logits = pyro.deterministic('logits', logit(beta, a, b, c, d, e, \n",
        "                                                  female, black, v_prev_full, age, edu, age_edu, region_full, state))\n",
        "\n",
        "      with pyro.plate(\"data\", len(female)):\n",
        "        obs = pyro.sample(\"obs\", dist.Bernoulli(logits = logits).to_event(1), obs=y)\n"
      ],
      "metadata": {
        "id": "7n5oZT1aXqEQ"
      },
      "execution_count": 8,
      "outputs": []
    },
    {
      "cell_type": "code",
      "source": [
        "def run_advi(model, num_iterations, num_particles, verbose = False):\n",
        "  # Train ADVI model\n",
        "  torch.manual_seed(0)\n",
        "  pyro.clear_param_store()\n",
        "\n",
        "  guide = AutoDiagonalNormal(model, \n",
        "                             init_loc_fn=init_to_value(values={\"beta\": torch.tensor([0.0, 0.0, 0.0, 0.0, 0.0]),\n",
        "                                                               \"a\": torch.zeros(n_age_categories),\n",
        "                                                               \"b\": torch.zeros(n_edu_categories),\n",
        "                                                               \"c\": torch.zeros(n_age_edu_categories), \n",
        "                                                               \"d\": torch.zeros(n_state_categories), \n",
        "                                                               \"e\": torch.zeros(n_region_full_categories)}))\n",
        "  \n",
        "  adaprop = pyro.optim.AdagradRMSProp(dict())\n",
        "  svi = SVI(model, guide, adaprop, loss=Trace_ELBO(num_particles = num_particles))\n",
        "\n",
        "  output_advi = pd.DataFrame(columns = [\"t\", \"num_samples\", \"test_accuracy\", \"model\"])\n",
        "\n",
        "  step_ids = []\n",
        "  average_log_predictives = []\n",
        "  train_time = 0\n",
        "\n",
        "  eval_steps = np.concatenate((np.arange(0, 100, 10),\n",
        "                              np.arange(100, 1000, 100),\n",
        "                              np.arange(1000, 5000, 500)))\n",
        "\n",
        "  for j in tqdm(range(num_iterations)):\n",
        "      # calculate the loss and take a gradient step\n",
        "      t0 = time.time()\n",
        "      loss = svi.step(*train_features, train_targets)\n",
        "      t1 = time.time()\n",
        "      train_time += (t1-t0)\n",
        "\n",
        "      if j in eval_steps:\n",
        "        num_samples = 100\n",
        "        predictive_svi = Predictive(model, guide=guide, num_samples=num_samples)\n",
        "        test_predictions = predictive_svi(*test_features, None)\n",
        "        logits = test_predictions['logits'].squeeze().mean(axis=0).reshape(-1,1)\n",
        "        bernoulli_dist = dist.Bernoulli(logits = logits)\n",
        "        test_log_prob = torch.sum(bernoulli_dist.log_prob(test_targets))\n",
        "        test_log_prob /= len(test_targets)          \n",
        "        output_iter = {\"t\":train_time,\n",
        "                      \"test_accuracy\":test_log_prob.detach().numpy(),\n",
        "                      \"model\":\"advi_\" + str(num_particles)}\n",
        "\n",
        "        output_advi = output_advi.append(output_iter, ignore_index = True)\n",
        "        if verbose == True: print(\"[iteration %04d] loss: %.4f\" % (j + 1, test_log_prob))\n",
        "    \n",
        "  return output_advi"
      ],
      "metadata": {
        "id": "HuzXS0nTICO4"
      },
      "execution_count": 31,
      "outputs": []
    },
    {
      "cell_type": "code",
      "source": [
        "def run_mcmc(model, num_samples, num_warmups, kernel_method):\n",
        "  # Run MCMC using NUTS kernel\n",
        "  torch.manual_seed(0)\n",
        "  pyro.clear_param_store()\n",
        "\n",
        "  test_log_prob_list = []\n",
        "  train_time = []\n",
        "\n",
        "  def hook_fn(kernel, samples, *unused):\n",
        "    a = samples['a']\n",
        "    b = samples['b']\n",
        "    c = samples['c']\n",
        "    d = samples['d']\n",
        "    e = samples['e']\n",
        "    beta = samples['beta'] \n",
        "    logits = logit(beta, a, b, c, d, e, *test_features)\n",
        "\n",
        "    bernoulli_dist = dist.Bernoulli(logits = logits)\n",
        "\n",
        "    test_log_prob = torch.sum(bernoulli_dist.log_prob(test_targets))\n",
        "    test_log_prob /= len(test_targets)\n",
        "    train_time.append(time.time())    \n",
        "    test_log_prob_list.append(test_log_prob)\n",
        "\n",
        "  if kernel_method == 'NUTS':\n",
        "    kernel = NUTS(model,max_tree_depth = 4)\n",
        "  \n",
        "  elif kernel_method == 'HMC':\n",
        "    kernel = HMC(model, \n",
        "                 step_size = 0.1,\n",
        "                 num_steps = 10,\n",
        "                 adapt_step_size = False)\n",
        "  \n",
        "  else:\n",
        "    print('Unknown kernel method')\n",
        "    return 0\n",
        "\n",
        "  mcmc = MCMC(\n",
        "              kernel,\n",
        "              num_samples=num_samples,\n",
        "              warmup_steps=num_warmups,\n",
        "              disable_progbar=False,\n",
        "              num_chains = 1, \n",
        "              hook_fn = hook_fn\n",
        "  )\n",
        "  mcmc.run(*train_features, train_targets)\n",
        "\n",
        "  output_mcmc = pd.DataFrame({'t':np.array(train_time)-train_time[0], \n",
        "                              \"test_accuracy\":np.array(test_log_prob_list),\n",
        "                              \"model\":kernel_method})\n",
        "  return output_mcmc"
      ],
      "metadata": {
        "id": "XdF2ciVviKMr"
      },
      "execution_count": 16,
      "outputs": []
    },
    {
      "cell_type": "code",
      "source": [
        "# Train the ADVI models\n",
        "print('Running ADVI with M = 1')\n",
        "output_advi_M1 = run_advi(model, 5000, 1)\n",
        "print('Running ADVI with M = 10')\n",
        "output_advi_M10 = run_advi(model, 1000, 10)\n",
        "\n",
        "# Train the MCMC models \n",
        "print('Running MCMC with NUTS kernel')\n",
        "output_nuts = run_mcmc(model, 300, 300, 'NUTS')\n",
        "print('Running MCMC with HMC kernel')\n",
        "output_hmc = run_mcmc(model, 300, 300,'HMC')\n",
        "\n",
        "# Generate plot (Figure 4 in original paper)\n",
        "output = output_advi_M1.append(output_advi_M10, ignore_index=True)\n",
        "output = output.append(output_nuts, ignore_index = True)\n",
        "output = output.append(output_hmc, ignore_index = True)\n",
        "output = output.loc[output['t'] < 150]\n",
        "output['test_accuracy'] = output['test_accuracy'].astype('float')\n",
        "\n",
        "sns.set_style(\"whitegrid\")\n",
        "results = sns.lineplot(data = output, x = 't', y = 'test_accuracy', hue = 'model')\n",
        "results.set(xscale='log', \n",
        "            xlim = (0.015, 50),\n",
        "            ylim = (-1.5, -0.55), \n",
        "            xlabel = 'Seconds',\n",
        "            ylabel = 'Average Log Predictive')\n",
        "plt.legend(labels=[\"ADVI (M=1)\",\"ADVI (M=10)\", \"NUTS\", \"HMC\"])"
      ],
      "metadata": {
        "colab": {
          "base_uri": "https://localhost:8080/",
          "height": 466,
          "referenced_widgets": [
            "4eed5fa33ade406eab7e1a21c907490d",
            "a3d4da0e01764d038acefc61ab8c4023",
            "bd1e0f2ad5c9402fb805e247f212ba33",
            "a915881d42184e71b4ef0aa65cb125d2",
            "72e260ebdfff43ac97297ea7243fa151",
            "2e2b1971e1f44fdca4b8567866a377ad",
            "8e2498e2a0824903a0b03dacf7c38d2c",
            "0d24e07b365745e291a0eff6de1255d4",
            "24df87121be847cebf424ed4be680568",
            "7984c60f8efe47caa9c4e5a428c269e5",
            "b837b6d7f9a948528809a47a4aa68803",
            "f1a4d5b69db44b5abaec18a04083ca31",
            "8aa75610e2d84e12a3d1312ad727aa44",
            "b98d80cd5d4d4750bbaf643b6faa6f7c",
            "62a98d54db6945b3ac1498b5f8ac34ed",
            "c5397af2b45d423594db08eb69d8b146",
            "6a126a7c7d2843ddb2a13aef77af2574",
            "d93b0d3121f943ba8bf272a69d2e0fa2",
            "6488fed1bd0a48deac570876ae51efe6",
            "b3f6a526f6804b9f9474ba36e452fa80",
            "3c869e500905447e95522d8cb35cfa80",
            "59c2c9547b654e4a8611c52714052fc6"
          ]
        },
        "id": "Q3pD6mxzB-mS",
        "outputId": "13226a14-44a6-4884-9dfc-a686969f6db2"
      },
      "execution_count": 32,
      "outputs": [
        {
          "output_type": "stream",
          "name": "stdout",
          "text": [
            "Running ADVI with M = 1\n"
          ]
        },
        {
          "output_type": "display_data",
          "data": {
            "text/plain": [
              "  0%|          | 0/5000 [00:00<?, ?it/s]"
            ],
            "application/vnd.jupyter.widget-view+json": {
              "version_major": 2,
              "version_minor": 0,
              "model_id": "4eed5fa33ade406eab7e1a21c907490d"
            }
          },
          "metadata": {}
        },
        {
          "output_type": "stream",
          "name": "stdout",
          "text": [
            "Running ADVI with M = 10\n"
          ]
        },
        {
          "output_type": "display_data",
          "data": {
            "text/plain": [
              "  0%|          | 0/1000 [00:00<?, ?it/s]"
            ],
            "application/vnd.jupyter.widget-view+json": {
              "version_major": 2,
              "version_minor": 0,
              "model_id": "f1a4d5b69db44b5abaec18a04083ca31"
            }
          },
          "metadata": {}
        },
        {
          "output_type": "stream",
          "name": "stdout",
          "text": [
            "Running MCMC with NUTS kernel\n"
          ]
        },
        {
          "output_type": "stream",
          "name": "stderr",
          "text": [
            "Sample: 100%|██████████| 600/600 [00:58, 10.28it/s, step size=3.98e-02, acc. prob=0.946]\n"
          ]
        },
        {
          "output_type": "stream",
          "name": "stdout",
          "text": [
            "Running MCMC with HMC kernel\n"
          ]
        },
        {
          "output_type": "stream",
          "name": "stderr",
          "text": [
            "Sample: 100%|██████████| 600/600 [00:38, 15.47it/s, step size=1.00e-01, acc. prob=0.836]\n"
          ]
        },
        {
          "output_type": "execute_result",
          "data": {
            "text/plain": [
              "<matplotlib.legend.Legend at 0x7f90044cda50>"
            ]
          },
          "metadata": {},
          "execution_count": 32
        },
        {
          "output_type": "display_data",
          "data": {
            "text/plain": [
              "<Figure size 432x288 with 1 Axes>"
            ],
            "image/png": "[encoded data removed]"
          },
          "metadata": {}
        }
      ]
    },
    {
      "cell_type": "code",
      "source": [
        ""
      ],
      "metadata": {
        "id": "wUI2eb2PIggB"
      },
      "execution_count": null,
      "outputs": []
    }
  ]
}