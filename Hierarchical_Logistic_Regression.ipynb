{
  "nbformat": 4,
  "nbformat_minor": 0,
  "metadata": {
    "colab": {
      "name": "Hierarchical_Logistic_Regression.ipynb",
      "provenance": [],
      "collapsed_sections": []
    },
    "kernelspec": {
      "name": "python3",
      "display_name": "Python 3"
    },
    "language_info": {
      "name": "python"
    }
  },
  "cells": [
    {
      "cell_type": "markdown",
      "metadata": {
        "id": "view-in-github"
      },
      "source": [
        "<a href=\"https://colab.research.google.com/github/lorenzkuhn/advi/blob/main/Hierarchical_Logistic_Regression.ipynb\" target=\"_parent\"><img src=\"https://colab.research.google.com/assets/colab-badge.svg\" alt=\"Open In Colab\"/></a>"
      ]
    },
    {
      "cell_type": "markdown",
      "source": [
        "You might need the data from here: http://www.stat.columbia.edu/~gelman/arm/examples/election88/"
      ],
      "metadata": {
        "id": "CP17-ZUF5yy4"
      }
    },
    {
      "cell_type": "code",
      "source": [
        "!pip install pyreadstat pyro-ppl "
      ],
      "metadata": {
        "colab": {
          "base_uri": "https://localhost:8080/"
        },
        "id": "DWZUW152zg3K",
        "outputId": "7f257528-d3ff-48dc-caf9-4ea72f6e7e87"
      },
      "execution_count": 1,
      "outputs": [
        {
          "output_type": "stream",
          "name": "stdout",
          "text": [
            "Requirement already satisfied: pyreadstat in /usr/local/lib/python3.7/dist-packages (1.1.4)\n",
            "Requirement already satisfied: pyro-ppl in /usr/local/lib/python3.7/dist-packages (1.8.1)\n",
            "Requirement already satisfied: pandas>=1.2.0 in /usr/local/lib/python3.7/dist-packages (from pyreadstat) (1.3.5)\n",
            "Requirement already satisfied: pytz>=2017.3 in /usr/local/lib/python3.7/dist-packages (from pandas>=1.2.0->pyreadstat) (2018.9)\n",
            "Requirement already satisfied: numpy>=1.17.3 in /usr/local/lib/python3.7/dist-packages (from pandas>=1.2.0->pyreadstat) (1.21.5)\n",
            "Requirement already satisfied: python-dateutil>=2.7.3 in /usr/local/lib/python3.7/dist-packages (from pandas>=1.2.0->pyreadstat) (2.8.2)\n",
            "Requirement already satisfied: six>=1.5 in /usr/local/lib/python3.7/dist-packages (from python-dateutil>=2.7.3->pandas>=1.2.0->pyreadstat) (1.15.0)\n",
            "Requirement already satisfied: pyro-api>=0.1.1 in /usr/local/lib/python3.7/dist-packages (from pyro-ppl) (0.1.2)\n",
            "Requirement already satisfied: torch>=1.11.0 in /usr/local/lib/python3.7/dist-packages (from pyro-ppl) (1.11.0)\n",
            "Requirement already satisfied: opt-einsum>=2.3.2 in /usr/local/lib/python3.7/dist-packages (from pyro-ppl) (3.3.0)\n",
            "Requirement already satisfied: tqdm>=4.36 in /usr/local/lib/python3.7/dist-packages (from pyro-ppl) (4.63.0)\n",
            "Requirement already satisfied: typing-extensions in /usr/local/lib/python3.7/dist-packages (from torch>=1.11.0->pyro-ppl) (3.10.0.2)\n"
          ]
        }
      ]
    },
    {
      "cell_type": "code",
      "source": [
        "import pyreadstat\n",
        "import time \n",
        "import os\n",
        "import torch\n",
        "import requests\n",
        "import sklearn.model_selection\n",
        "\n",
        "import numpy as np\n",
        "import pandas as pd\n",
        "import seaborn as sns\n",
        "import matplotlib.pyplot as plt\n",
        "\n",
        "import pyro\n",
        "import pyro.distributions as dist\n",
        "from pyro.infer.autoguide import AutoDiagonalNormal\n",
        "from pyro.infer import SVI, Trace_ELBO, MCMC, NUTS, Predictive"
      ],
      "metadata": {
        "id": "6Bmq0Z6ExBJl"
      },
      "execution_count": 2,
      "outputs": []
    },
    {
      "cell_type": "code",
      "source": [
        "# Download input files\n",
        "url = 'http://www.stat.columbia.edu/~gelman/arm/examples/election88/'\n",
        "\n",
        "file1 = 'polls.dta'\n",
        "r = requests.get(url+file1)\n",
        "open(file1 , 'wb').write(r.content)\n",
        "\n",
        "file2 = 'presvote.dta'\n",
        "r = requests.get(url+file2)\n",
        "open(file2 , 'wb').write(r.content)"
      ],
      "metadata": {
        "colab": {
          "base_uri": "https://localhost:8080/"
        },
        "id": "krh1Sy5PSEs_",
        "outputId": "2302423f-d3dc-4649-c1da-5fea67afcbaa"
      },
      "execution_count": 3,
      "outputs": [
        {
          "output_type": "execute_result",
          "data": {
            "text/plain": [
              "848"
            ]
          },
          "metadata": {},
          "execution_count": 3
        }
      ]
    },
    {
      "cell_type": "code",
      "source": [
        "# Data preprocessing\n",
        "\n",
        "polls_df, meta = pyreadstat.read_dta('polls.dta')\n",
        "polls_df = polls_df.dropna()\n",
        "presvote_df, _ = pyreadstat.read_dta('presvote.dta')\n",
        "presvote_df = presvote_df.rename(columns={'stnum2': 'state', 'g76_84pr':'previous_vote'})\n",
        "\n",
        "# Apologies, for this, this is how they do it in the R code as well. \n",
        "# The list has length 51 since they add D.C as its own state.\n",
        "state_to_region_mapping = torch.tensor([3,4,4,3,4,4,1,1,5,3,3,4,4,2,2,2,2,3,3,1,\n",
        "                                        1,1,2,2,3,2,4,2,4,1,1,4,1,3,2,2,3,4,1,1,\n",
        "                                        3,2,3,3,4,1,3,4,1,2,4])\n",
        "state_to_region_mapping = state_to_region_mapping.repeat(len(polls_df), 1)\n",
        "indices = torch.tensor(polls_df['state'].values, dtype=torch.int64) - 1\n",
        "polls_df['region'] = state_to_region_mapping.gather(1, indices.view(-1, 1))\n",
        "polls_df = polls_df.join(other=presvote_df.set_index('state'), on='state')\n",
        "\n",
        "# Age\n",
        "polls_df['age'] = polls_df['age'] - 1\n",
        "age = torch.tensor(polls_df[[\"age\"]].values, dtype=torch.int64)\n",
        "n_age_categories = max(age) + 1\n",
        "\n",
        "# Education\n",
        "polls_df['edu'] = polls_df['edu'] - 1\n",
        "edu = torch.tensor(polls_df[[\"edu\"]].values, dtype=torch.int64)\n",
        "n_edu_categories = max(edu) + 1\n",
        "\n",
        "# State\n",
        "polls_df['state'] = polls_df['state'] - 1\n",
        "state = torch.tensor(polls_df[[\"state\"]].values, dtype=torch.int64)\n",
        "n_state_categories = max(state) + 1\n",
        "\n",
        "# Region Full\n",
        "polls_df['region_full'] = polls_df['region'] - 1\n",
        "region_full = torch.tensor(polls_df[[\"region\"]].values, dtype=torch.int64)\n",
        "n_region_full_categories = max(region_full) + 1\n",
        "\n",
        "# Age x Education\n",
        "polls_df['age_edu'] = polls_df['age']*polls_df['edu']\n",
        "age_edu = torch.tensor(polls_df[[\"age_edu\"]].values, dtype=torch.int64)\n",
        "n_age_edu_categories = max(age_edu) + 1"
      ],
      "metadata": {
        "id": "02qQG8jV0OnZ"
      },
      "execution_count": 4,
      "outputs": []
    },
    {
      "cell_type": "code",
      "source": [
        "# Helper function to separate features and targets\n",
        "\n",
        "def get_features_and_targets(dataframe):\n",
        "  feature_names = [\"female\", \"black\", \"previous_vote\", \"age\", \"edu\", \"age_edu\", \"region\", \"state\"]\n",
        "  features = []\n",
        "  for feature in feature_names:\n",
        "    if feature == \"previous_vote\":\n",
        "      dtype = torch.float64\n",
        "    else:\n",
        "      dtype = torch.int64\n",
        "    \n",
        "    features.append(torch.tensor(dataframe[[feature]].values, dtype=dtype))\n",
        "  targets = torch.tensor(dataframe[[\"bush\"]].values,  dtype=torch.float64)\n",
        "  return features, targets"
      ],
      "metadata": {
        "id": "-dPeIC3rJHfG"
      },
      "execution_count": 5,
      "outputs": []
    },
    {
      "cell_type": "code",
      "source": [
        "# Split training and test data \n",
        "\n",
        "train_df, test_df = sklearn.model_selection.train_test_split(polls_df, train_size=10000)\n",
        "\n",
        "train_features, train_targets = get_features_and_targets(train_df)\n",
        "test_features, test_targets = get_features_and_targets(test_df)"
      ],
      "metadata": {
        "id": "hOHaosacL-Kr"
      },
      "execution_count": 6,
      "outputs": []
    },
    {
      "cell_type": "code",
      "source": [
        "# Helper function to calcualte logits for log. regression\n",
        "\n",
        "def logit(beta, a, b, c, d, e, \n",
        "          female, black, v_prev_full, age, edu, age_edu, region_full, state):\n",
        "    logits = beta[0] \\\n",
        "            +beta[1]*black \\\n",
        "            +beta[2]*female \\\n",
        "            +beta[4]*female*black \\\n",
        "            +beta[3]+v_prev_full \\\n",
        "            +a[age] \\\n",
        "            +b[edu] \\\n",
        "            +c[age_edu] \\\n",
        "            +d[state] \\\n",
        "            +e[region_full]\n",
        "    return logits  "
      ],
      "metadata": {
        "id": "wYrONgmgfY9R"
      },
      "execution_count": 7,
      "outputs": []
    },
    {
      "cell_type": "code",
      "source": [
        "def model(female, black, v_prev_full, age, edu, age_edu, region_full, state, y=None):\n",
        "      #Unifrom hyper-priors constraint between 0 and 100 for variances\n",
        "      sigma_a = pyro.sample('sigma_a', dist.Uniform(0., 100.))\n",
        "      sigma_b = pyro.sample('sigma_b', dist.Uniform(0., 100.))\n",
        "      sigma_c = pyro.sample('sigma_c', dist.Uniform(0., 100.))\n",
        "      sigma_d = pyro.sample('sigma_d', dist.Uniform(0., 100.))\n",
        "      sigma_e = pyro.sample('sigma_e', dist.Uniform(0., 100.))\n",
        "      \n",
        "      #priors for hierarchical log reg\n",
        "      beta = pyro.sample('beta', dist.Normal(0., 100.).expand([5]).to_event(1))\n",
        "      a = pyro.sample(\"a\", dist.Normal(0., sigma_a).expand(n_age_categories).to_event(1))\n",
        "      b = pyro.sample(\"b\", dist.Normal(0., sigma_b).expand(n_edu_categories).to_event(1))\n",
        "      c = pyro.sample(\"c\", dist.Normal(0., sigma_c).expand(n_age_edu_categories).to_event(1))\n",
        "      d = pyro.sample(\"d\", dist.Normal(0., sigma_d).expand(n_state_categories).to_event(1))\n",
        "      e = pyro.sample(\"e\", dist.Normal(0., sigma_e).expand(n_region_full_categories).to_event(1))\n",
        "\n",
        "      logits = pyro.deterministic('logits', logit(beta, a, b, c, d, e, \n",
        "                                                  female, black, v_prev_full, age, edu, age_edu, region_full, state))\n",
        "\n",
        "      with pyro.plate(\"data\", len(female)):\n",
        "\n",
        "        obs = pyro.sample(\"obs\", dist.Bernoulli(logits = logits).to_event(1), obs=y)\n"
      ],
      "metadata": {
        "id": "7n5oZT1aXqEQ"
      },
      "execution_count": 8,
      "outputs": []
    },
    {
      "cell_type": "code",
      "source": [
        "# Train ADVI model\n",
        "torch.manual_seed(0)\n",
        "\n",
        "guide = AutoDiagonalNormal(model)\n",
        "adaprop = pyro.optim.AdagradRMSProp(dict())\n",
        "svi = SVI(model, guide, adaprop, loss=Trace_ELBO())\n",
        "\n",
        "pyro.clear_param_store()\n",
        "output_advi = pd.DataFrame(columns = [\"t\", \"num_samples\", \"test_accuracy\", \"model\"])\n",
        "\n",
        "step_ids = []\n",
        "average_log_predictives = []\n",
        "train_time = 0\n",
        "\n",
        "eval_steps = np.concatenate((np.arange(0, 200, 10),\n",
        "                             np.arange(100, 1000, 100),\n",
        "                             np.arange(1000, 5000, 1000)))\n",
        "\n",
        "for j in range(5000):\n",
        "    # calculate the loss and take a gradient step\n",
        "    t0 = time.time()\n",
        "    loss = svi.step(*train_features, train_targets)\n",
        "    t1 = time.time()\n",
        "    train_time += (t1-t0)\n",
        "\n",
        "    if j in eval_steps:\n",
        "      num_samples = 100\n",
        "      predictive_svi = Predictive(model, guide=guide, num_samples=num_samples)\n",
        "      test_predictions = predictive_svi(*test_features, None)\n",
        "      logits = test_predictions['logits'].mean(axis = 0).squeeze().reshape(-1,1)\n",
        "      bernoulli_dist = dist.Bernoulli(logits = logits)\n",
        "\n",
        "      test_log_prob = torch.sum(bernoulli_dist.log_prob(test_targets))\n",
        "      test_log_prob /= len(test_targets)\n",
        "      \n",
        "      average_log_predictives.append(test_log_prob)\n",
        "\n",
        "      output_iter = {\"t\":train_time,\n",
        "                    \"test_accuracy\":test_log_prob.detach().numpy(),\n",
        "                    \"model\":\"advi\"}\n",
        "\n",
        "      output_advi = output_advi.append(output_iter, ignore_index = True)\n",
        "      print(\"[iteration %04d] loss: %.4f\" % (j + 1, test_log_prob))\n",
        "    "
      ],
      "metadata": {
        "colab": {
          "base_uri": "https://localhost:8080/"
        },
        "id": "HuzXS0nTICO4",
        "outputId": "2d6880c7-30c2-44a9-a4eb-b48506f568bf"
      },
      "execution_count": 12,
      "outputs": [
        {
          "output_type": "stream",
          "name": "stdout",
          "text": [
            "[iteration 0001] loss: -18.7994\n",
            "[iteration 0011] loss: -13.6384\n",
            "[iteration 0021] loss: -11.4095\n",
            "[iteration 0031] loss: -9.7309\n",
            "[iteration 0041] loss: -8.4809\n",
            "[iteration 0051] loss: -7.4491\n",
            "[iteration 0061] loss: -6.5241\n",
            "[iteration 0071] loss: -5.7896\n",
            "[iteration 0081] loss: -5.1447\n",
            "[iteration 0091] loss: -4.6062\n",
            "[iteration 0101] loss: -4.1173\n",
            "[iteration 0201] loss: -1.8982\n",
            "[iteration 0301] loss: -1.0666\n",
            "[iteration 0401] loss: -0.7442\n",
            "[iteration 0501] loss: -0.6511\n",
            "[iteration 0601] loss: -0.6525\n",
            "[iteration 0701] loss: -0.6562\n",
            "[iteration 0801] loss: -0.6502\n",
            "[iteration 0901] loss: -0.6471\n",
            "[iteration 1001] loss: -0.6458\n",
            "[iteration 2001] loss: -0.6441\n",
            "[iteration 3001] loss: -0.6452\n"
          ]
        }
      ]
    },
    {
      "cell_type": "code",
      "source": [
        "# Run MCMC using Stan kernel\n",
        "torch.manual_seed(0)\n",
        "pyro.clear_param_store()\n",
        "\n",
        "test_log_prob_list = []\n",
        "train_time = []\n",
        "\n",
        "def hook_fn(kernel, samples, *unused):\n",
        "  a = samples['a']\n",
        "  b = samples['b']\n",
        "  c = samples['c']\n",
        "  d = samples['d']\n",
        "  e = samples['e']\n",
        "  beta = samples['beta'] \n",
        "  logits = logit(beta, a, b, c, d, e, *test_features)\n",
        "\n",
        "  bernoulli_dist = dist.Bernoulli(logits = logits)\n",
        "\n",
        "  test_log_prob = torch.sum(bernoulli_dist.log_prob(test_targets))\n",
        "  test_log_prob /= len(test_targets)\n",
        "  train_time.append(time.time())    \n",
        "  test_log_prob_list.append(test_log_prob)\n",
        "\n",
        "nuts_kernel = NUTS(model,max_tree_depth = 4)\n",
        "\n",
        "mcmc = MCMC(\n",
        "            nuts_kernel,\n",
        "            num_samples=200,\n",
        "            warmup_steps=200,\n",
        "            disable_progbar=False,\n",
        "            num_chains = 1, \n",
        "            hook_fn = hook_fn\n",
        ")\n",
        "mcmc.run(*train_features, train_targets)\n",
        "\n",
        "output_nuts = pd.DataFrame({'t':np.array(train_time)-train_time[0], \n",
        "                            \"test_accuracy\":np.array(test_log_prob_list),\n",
        "                            \"model\":\"nuts\"})"
      ],
      "metadata": {
        "colab": {
          "base_uri": "https://localhost:8080/"
        },
        "id": "XdF2ciVviKMr",
        "outputId": "a376f108-6aac-45b2-8fad-5614b8943e84"
      },
      "execution_count": 13,
      "outputs": [
        {
          "output_type": "stream",
          "name": "stderr",
          "text": [
            "Sample: 100%|██████████| 400/400 [00:51,  7.80it/s, step size=3.39e-02, acc. prob=0.943]\n"
          ]
        }
      ]
    },
    {
      "cell_type": "code",
      "source": [
        "# Generate plot (Figure 4 in original paper)\n",
        "\n",
        "output = output_advi.append(output_nuts, ignore_index=True)\n",
        "output = output.loc[output['t'] < 100]\n",
        "output['test_accuracy'] = output['test_accuracy'].astype('float')\n",
        "\n",
        "sns.set_style(\"whitegrid\")\n",
        "results = sns.lineplot(data = output, x = 't', y = 'test_accuracy', hue = 'model')\n",
        "results.set(xscale='log', \n",
        "            xlim = (0.015, 150),\n",
        "            ylim = (-11, 0), \n",
        "            xlabel = 'Seconds',\n",
        "            ylabel = 'Average Log Predictive')\n",
        "plt.legend(labels=[\"ADVI (M=1)\",\"NUTS\"])"
      ],
      "metadata": {
        "colab": {
          "base_uri": "https://localhost:8080/",
          "height": 304
        },
        "id": "pmIeGiL4l2mW",
        "outputId": "cfa51405-8ba4-417a-c56a-46690299f81f"
      },
      "execution_count": 14,
      "outputs": [
        {
          "output_type": "execute_result",
          "data": {
            "text/plain": [
              "<matplotlib.legend.Legend at 0x7fe62bdabb90>"
            ]
          },
          "metadata": {},
          "execution_count": 14
        },
        {
          "output_type": "display_data",
          "data": {
            "text/plain": [
              "<Figure size 432x288 with 1 Axes>"
            ],
            "image/png": "[encoded data removed]"
          },
          "metadata": {}
        }
      ]
    }
  ]
}