{
  "nbformat": 4,
  "nbformat_minor": 0,
  "metadata": {
    "colab": {
      "name": "Hierarchical_Logistic_Regression.ipynb",
      "provenance": [],
      "collapsed_sections": []
    },
    "kernelspec": {
      "name": "python3",
      "display_name": "Python 3"
    },
    "language_info": {
      "name": "python"
    }
  },
  "cells": [
    {
      "cell_type": "markdown",
      "metadata": {
        "id": "view-in-github"
      },
      "source": [
        "<a href=\"https://colab.research.google.com/github/lorenzkuhn/advi/blob/main/Hierarchical_Logistic_Regression.ipynb\" target=\"_parent\"><img src=\"https://colab.research.google.com/assets/colab-badge.svg\" alt=\"Open In Colab\"/></a>"
      ]
    },
    {
      "cell_type": "markdown",
      "source": [
        "You might need the data from here: http://www.stat.columbia.edu/~gelman/arm/examples/election88/"
      ],
      "metadata": {
        "id": "CP17-ZUF5yy4"
      }
    },
    {
      "cell_type": "code",
      "source": [
        "!pip install pyreadstat pyro-ppl"
      ],
      "metadata": {
        "colab": {
          "base_uri": "https://localhost:8080/"
        },
        "id": "DWZUW152zg3K",
        "outputId": "8c8d384a-c104-4e1e-eb49-a91e94ff3915"
      },
      "execution_count": 1,
      "outputs": [
        {
          "output_type": "stream",
          "name": "stdout",
          "text": [
            "Collecting pyreadstat\n",
            "  Downloading pyreadstat-1.1.4-cp37-cp37m-manylinux_2_17_x86_64.manylinux2014_x86_64.whl (2.4 MB)\n",
            "\u001b[K     |████████████████████████████████| 2.4 MB 15.2 MB/s \n",
            "\u001b[?25hCollecting pyro-ppl\n",
            "  Downloading pyro_ppl-1.8.1-py3-none-any.whl (718 kB)\n",
            "\u001b[K     |████████████████████████████████| 718 kB 33.8 MB/s \n",
            "\u001b[?25hRequirement already satisfied: pandas>=1.2.0 in /usr/local/lib/python3.7/dist-packages (from pyreadstat) (1.3.5)\n",
            "Requirement already satisfied: numpy>=1.17.3 in /usr/local/lib/python3.7/dist-packages (from pandas>=1.2.0->pyreadstat) (1.21.5)\n",
            "Requirement already satisfied: python-dateutil>=2.7.3 in /usr/local/lib/python3.7/dist-packages (from pandas>=1.2.0->pyreadstat) (2.8.2)\n",
            "Requirement already satisfied: pytz>=2017.3 in /usr/local/lib/python3.7/dist-packages (from pandas>=1.2.0->pyreadstat) (2018.9)\n",
            "Requirement already satisfied: six>=1.5 in /usr/local/lib/python3.7/dist-packages (from python-dateutil>=2.7.3->pandas>=1.2.0->pyreadstat) (1.15.0)\n",
            "Requirement already satisfied: opt-einsum>=2.3.2 in /usr/local/lib/python3.7/dist-packages (from pyro-ppl) (3.3.0)\n",
            "Collecting torch>=1.11.0\n",
            "  Downloading torch-1.11.0-cp37-cp37m-manylinux1_x86_64.whl (750.6 MB)\n",
            "\u001b[K     |████████████████████████████████| 750.6 MB 9.5 kB/s \n",
            "\u001b[?25hRequirement already satisfied: tqdm>=4.36 in /usr/local/lib/python3.7/dist-packages (from pyro-ppl) (4.63.0)\n",
            "Collecting pyro-api>=0.1.1\n",
            "  Downloading pyro_api-0.1.2-py3-none-any.whl (11 kB)\n",
            "Requirement already satisfied: typing-extensions in /usr/local/lib/python3.7/dist-packages (from torch>=1.11.0->pyro-ppl) (3.10.0.2)\n",
            "Installing collected packages: torch, pyro-api, pyro-ppl, pyreadstat\n",
            "  Attempting uninstall: torch\n",
            "    Found existing installation: torch 1.10.0+cu111\n",
            "    Uninstalling torch-1.10.0+cu111:\n",
            "      Successfully uninstalled torch-1.10.0+cu111\n",
            "\u001b[31mERROR: pip's dependency resolver does not currently take into account all the packages that are installed. This behaviour is the source of the following dependency conflicts.\n",
            "torchvision 0.11.1+cu111 requires torch==1.10.0, but you have torch 1.11.0 which is incompatible.\n",
            "torchtext 0.11.0 requires torch==1.10.0, but you have torch 1.11.0 which is incompatible.\n",
            "torchaudio 0.10.0+cu111 requires torch==1.10.0, but you have torch 1.11.0 which is incompatible.\u001b[0m\n",
            "Successfully installed pyreadstat-1.1.4 pyro-api-0.1.2 pyro-ppl-1.8.1 torch-1.11.0\n"
          ]
        }
      ]
    },
    {
      "cell_type": "code",
      "source": [
        "import pyreadstat\n",
        "import time \n",
        "import os\n",
        "from functools import partial\n",
        "import torch\n",
        "import numpy as np\n",
        "import pandas as pd\n",
        "import seaborn as sns\n",
        "import matplotlib.pyplot as plt\n",
        "\n",
        "import pyro\n",
        "import pyro.distributions as dist\n",
        "from pyro.infer import SVI, Trace_ELBO\n",
        "from pyro.infer.autoguide import AutoDiagonalNormal\n",
        "\n",
        "\n",
        "from torch import nn\n",
        "from pyro.nn import PyroModule\n",
        "from pyro.infer import MCMC, NUTS, Predictive\n",
        "\n",
        "import sklearn.model_selection\n",
        "\n",
        "polls_df, meta = pyreadstat.read_dta('polls.dta')\n",
        "polls_df = polls_df.dropna()\n",
        "presvote_df, _ = pyreadstat.read_dta('presvote.dta')"
      ],
      "metadata": {
        "id": "6Bmq0Z6ExBJl"
      },
      "execution_count": 11,
      "outputs": []
    },
    {
      "cell_type": "code",
      "source": [
        "# Apologies, for this, this is how they do it in the R code as well. \n",
        "# The list has length 51 since they add D.C as its own state.\n",
        "state_to_region_mapping = torch.tensor([3,4,4,3,4,4,1,1,5,3,3,4,4,2,2,2,2,3,3,1,1,1,2,2,3,2,4,2,4,1,1,4,1,3,2,2,3,4,1,1,3,2,3,3,4,1,3,4,1,2,4])\n",
        "state_to_region_mapping = state_to_region_mapping.repeat(len(polls_df), 1)\n",
        "indices = torch.tensor(polls_df['state'].values, dtype=torch.int64) - 1\n",
        "polls_df['region'] = state_to_region_mapping.gather(1, indices.view(-1, 1))\n",
        "\n",
        "polls_df['black_female'] = polls_df['black']*polls_df['female']\n",
        "polls_df['age_edu'] = polls_df['age']*polls_df['edu']\n",
        "\n",
        "presvote_df = presvote_df.rename(columns={'stnum2': 'state', 'g76_84pr':'previous_vote'})\n",
        "\n",
        "polls_df = polls_df.join(other=presvote_df.set_index('state'), on='state')\n",
        "\n",
        "polls_df['age'] = polls_df['age'] - 1\n",
        "polls_df['edu'] = polls_df['edu'] - 1\n",
        "polls_df['region_full'] = polls_df['region'] - 1\n",
        "polls_df['state'] = polls_df['state'] - 1\n"
      ],
      "metadata": {
        "id": "02qQG8jV0OnZ"
      },
      "execution_count": 4,
      "outputs": []
    },
    {
      "cell_type": "markdown",
      "source": [
        "@All: Need to check that the preprocessing is correct; In my opinion the model assumes / requires that all variables are transformed such that they lie in {0, 1, ..., n_distinct_elemts}"
      ],
      "metadata": {
        "id": "T7FLjJ18FdfP"
      }
    },
    {
      "cell_type": "code",
      "source": [
        "age = torch.tensor(polls_df[[\"age\"]].values, dtype=torch.int64)\n",
        "edu = torch.tensor(polls_df[[\"edu\"]].values, dtype=torch.int64)\n",
        "age_edu = torch.tensor(polls_df[[\"age_edu\"]].values, dtype=torch.int64)\n",
        "state = torch.tensor(polls_df[[\"state\"]].values, dtype=torch.int64)\n",
        "region_full = torch.tensor(polls_df[[\"region\"]].values, dtype=torch.int64)\n",
        "female = torch.tensor(polls_df[[\"black\"]].values, dtype=torch.int64)\n",
        "black = torch.tensor(polls_df[[\"female\"]].values, dtype=torch.int64)\n",
        "v_prev_full = torch.tensor(polls_df[['previous_vote']].values, dtype = torch.float64)\n",
        "y = torch.tensor(polls_df[[\"bush\"]].values,  dtype=torch.float64)\n",
        "\n",
        "n_age_categories = max(age) + 1\n",
        "n_edu_categories = max(edu) + 1\n",
        "n_age_edu_categories = max(age_edu) + 1\n",
        "n_state_categories = max(state) + 1\n",
        "n_region_full_categories = max(region_full) + 1"
      ],
      "metadata": {
        "id": "iHowjXU1GX4K"
      },
      "execution_count": 5,
      "outputs": []
    },
    {
      "cell_type": "code",
      "source": [
        "def get_features_and_targets(dataframe):\n",
        "  feature_names = [\"female\", \"black\", \"previous_vote\", \"age\", \"edu\", \"age_edu\", \"region\", \"state\"]\n",
        "  features = []\n",
        "  for feature in feature_names:\n",
        "    if feature == \"previous_vote\":\n",
        "      dtype = torch.float64\n",
        "    else:\n",
        "      dtype = torch.int64\n",
        "    \n",
        "    features.append(torch.tensor(dataframe[[feature]].values, dtype=dtype))\n",
        "  targets = torch.tensor(dataframe[[\"bush\"]].values,  dtype=torch.float64)\n",
        "  return features, targets"
      ],
      "metadata": {
        "id": "-dPeIC3rJHfG"
      },
      "execution_count": 6,
      "outputs": []
    },
    {
      "cell_type": "code",
      "source": [
        "train_df, test_df = sklearn.model_selection.train_test_split(polls_df, train_size=10000)\n",
        "\n",
        "train_features, train_targets = get_features_and_targets(train_df)\n",
        "test_features, test_targets = get_features_and_targets(test_df)"
      ],
      "metadata": {
        "id": "hOHaosacL-Kr"
      },
      "execution_count": 7,
      "outputs": []
    },
    {
      "cell_type": "code",
      "source": [
        "def model(female, black, v_prev_full, age, edu, age_edu, region_full, state, y):\n",
        "      #Unifrom hyper-priors constraint between 0 and 100 for variances\n",
        "      sigma_a = pyro.sample('sigma_a', dist.Uniform(0., 100.))\n",
        "      sigma_b = pyro.sample('sigma_b', dist.Uniform(0., 100.))\n",
        "      sigma_c = pyro.sample('sigma_c', dist.Uniform(0., 100.))\n",
        "      sigma_d = pyro.sample('sigma_d', dist.Uniform(0., 100.))\n",
        "      sigma_e = pyro.sample('sigma_e', dist.Uniform(0., 100.))\n",
        "      \n",
        "      #priors for hierarchical log reg\n",
        "      beta = pyro.sample('beta', dist.Normal(0., 100.).expand([5]).to_event(1))\n",
        "      a = pyro.sample(\"a\", dist.Normal(0., sigma_a).expand(n_age_categories).to_event(1))\n",
        "      b = pyro.sample(\"b\", dist.Normal(0., sigma_b).expand(n_edu_categories).to_event(1))\n",
        "      c = pyro.sample(\"c\", dist.Normal(0., sigma_c).expand(n_age_edu_categories).to_event(1))\n",
        "      d = pyro.sample(\"d\", dist.Normal(0., sigma_d).expand(n_state_categories).to_event(1))\n",
        "      e = pyro.sample(\"e\", dist.Normal(0., sigma_e).expand(n_region_full_categories).to_event(1))\n",
        "\n",
        "      #logits\n",
        "      logits = beta[0] \\\n",
        "            +beta[1]*black \\\n",
        "            +beta[2]*female \\\n",
        "            +beta[4]*female*black \\\n",
        "            +beta[3]+v_prev_full \\\n",
        "            +a[age] \\\n",
        "            +b[edu] \\\n",
        "            +c[age_edu] \\\n",
        "            +d[state] \\\n",
        "            +e[region_full]\n",
        "\n",
        "      with pyro.plate(\"data\", len(logits)):\n",
        "        obs = pyro.sample(\"obs\", dist.Bernoulli(logits = logits).to_event(1), obs=y)"
      ],
      "metadata": {
        "id": "7n5oZT1aXqEQ"
      },
      "execution_count": 8,
      "outputs": []
    },
    {
      "cell_type": "code",
      "source": [
        "torch.manual_seed(0)\n",
        "\n",
        "guide = AutoDiagonalNormal(model)\n",
        "adaprop = pyro.optim.AdagradRMSProp(dict())\n",
        "svi = SVI(model, guide, adaprop, loss=Trace_ELBO())\n",
        "\n",
        "pyro.clear_param_store()\n",
        "output_advi = pd.DataFrame(columns = [\"t\", \"num_samples\", \"test_accuracy\", \"model\"])\n",
        "\n",
        "step_ids = []\n",
        "average_log_predictives = []\n",
        "train_time = 0\n",
        "\n",
        "eval_steps = np.concatenate((np.arange(0, 100, 10),\n",
        "                             np.arange(100, 2000, 100)))\n",
        "\n",
        "for j in range(2000):\n",
        "    # calculate the loss and take a gradient step\n",
        "    t0 = time.time()\n",
        "    loss = svi.step(*train_features, train_targets)\n",
        "    t1 = time.time()\n",
        "    train_time += (t1-t0)\n",
        "\n",
        "    if j in eval_steps:\n",
        "      num_samples = 100\n",
        "      predictive_svi = Predictive(model, guide=guide, num_samples=num_samples)\n",
        "      train_predictions = predictive_svi(*train_features, None)\n",
        "      test_predictions = predictive_svi(*test_features, None)\n",
        "      train_obs = train_predictions['obs'].numpy()\n",
        "      test_obs = test_predictions['obs'].numpy()\n",
        "      average_train_log_accuracy = torch.mean(torch.log(torch.sum(torch.tensor(train_obs) ==  torch.tile(train_targets, (num_samples, 1, 1)), axis=1)/len(train_targets)))\n",
        "      average_test_log_accuracy = torch.mean(torch.log(torch.sum(torch.tensor(test_obs) ==  torch.tile(test_targets, (num_samples, 1, 1)), axis=1)/len(test_targets)))\n",
        "\n",
        "      step_ids.append(j)\n",
        "      average_log_predictives.append(average_test_log_accuracy)\n",
        "\n",
        "      output_iter = {\"run_id\":\"n/a\",\n",
        "                    \"t\":train_time,\n",
        "                    \"num_samples\":\"n/a\", \n",
        "                    \"test_accuracy\":average_test_log_accuracy.detach().numpy(),\n",
        "                    \"model\":\"advi\"}\n",
        "\n",
        "      output_advi = output_advi.append(output_iter, ignore_index = True)\n",
        "      print(\"[iteration %04d] loss: %.4f\" % (j + 1, average_test_log_accuracy))\n",
        "\n",
        "    "
      ],
      "metadata": {
        "colab": {
          "base_uri": "https://localhost:8080/"
        },
        "id": "HuzXS0nTICO4",
        "outputId": "81ac72f2-0f74-449f-b92c-5a9e14e6e158"
      },
      "execution_count": 47,
      "outputs": [
        {
          "output_type": "stream",
          "name": "stdout",
          "text": [
            "[iteration 0001] loss: -0.8463\n",
            "[iteration 0011] loss: -0.7497\n",
            "[iteration 0021] loss: -0.7113\n",
            "[iteration 0031] loss: -0.6758\n",
            "[iteration 0041] loss: -0.6701\n",
            "[iteration 0051] loss: -0.6660\n",
            "[iteration 0061] loss: -0.6599\n",
            "[iteration 0071] loss: -0.6525\n",
            "[iteration 0081] loss: -0.6442\n",
            "[iteration 0091] loss: -0.6334\n",
            "[iteration 0101] loss: -0.6376\n",
            "[iteration 0201] loss: -0.6161\n",
            "[iteration 0301] loss: -0.6196\n",
            "[iteration 0401] loss: -0.6118\n",
            "[iteration 0501] loss: -0.6169\n",
            "[iteration 0601] loss: -0.6074\n",
            "[iteration 0701] loss: -0.6164\n",
            "[iteration 0801] loss: -0.6156\n",
            "[iteration 0901] loss: -0.6130\n",
            "[iteration 1001] loss: -0.6152\n",
            "[iteration 1101] loss: -0.6249\n",
            "[iteration 1201] loss: -0.6049\n",
            "[iteration 1301] loss: -0.6111\n",
            "[iteration 1401] loss: -0.6188\n",
            "[iteration 1501] loss: -0.6222\n",
            "[iteration 1601] loss: -0.6082\n",
            "[iteration 1701] loss: -0.6262\n",
            "[iteration 1801] loss: -0.6134\n",
            "[iteration 1901] loss: -0.6136\n"
          ]
        }
      ]
    },
    {
      "cell_type": "code",
      "source": [
        "# Run MCMC using Stan kernel\n",
        "torch.manual_seed(1)\n",
        "pyro.clear_param_store()\n",
        "\n",
        "output_mcmc = pd.DataFrame(columns = [\"run_id\", \"t\", \"num_samples\", \"test_accuracy\", \"model\"])\n",
        "\n",
        "sample_size_l = np.arange(10, 100, 10)\n",
        "sample_size_s = np.arange(2, 10, 5)\n",
        "sample_size = np.concatenate((sample_size_s, sample_size_l))\n",
        "\n",
        "for size in sample_size: \n",
        "  \n",
        "    num_samples = size\n",
        "    num_warmups = size\n",
        "    \n",
        "    print('Num samples: {}'.format(num_samples))\n",
        "\n",
        "    nuts_kernel = NUTS(model,\n",
        "                       max_tree_depth = 4)\n",
        "\n",
        "    mcmc = MCMC(\n",
        "            nuts_kernel,\n",
        "            num_samples=num_samples,\n",
        "            warmup_steps=num_warmups,\n",
        "            disable_progbar=False,\n",
        "            num_chains = 1\n",
        "    ) \n",
        "\n",
        "    start = time.time()\n",
        "    mcmc.run(*train_features, train_targets)\n",
        "    end = time.time()\n",
        "\n",
        "    samples = mcmc.get_samples()\n",
        "    mcmc_predictive = Predictive(model, samples)(*test_features, None)\n",
        "    test_obs = mcmc_predictive['obs'].numpy()\n",
        "    average_test_log_accuracy = torch.mean(torch.log(torch.sum(torch.tensor(test_obs) ==  torch.tile(test_targets, (num_samples, 1, 1)), axis=1)/len(test_targets)))\n",
        "    \n",
        "    output_iter = {\"run_id\":\"n/a\",\n",
        "                  \"t\":end-start,\n",
        "                  \"num_samples\":num_samples, \n",
        "                  \"test_accuracy\":average_test_log_accuracy.detach().numpy(),\n",
        "                  \"model\":\"nuts\"}\n",
        "\n",
        "    output_mcmc = output_mcmc.append(output_iter, ignore_index = True)\n",
        "    print(average_test_log_accuracy)"
      ],
      "metadata": {
        "colab": {
          "base_uri": "https://localhost:8080/"
        },
        "id": "XdF2ciVviKMr",
        "outputId": "52f0ba39-7ae5-4673-917d-250608f9c9dd"
      },
      "execution_count": 51,
      "outputs": [
        {
          "output_type": "stream",
          "name": "stdout",
          "text": [
            "Num samples: 2\n"
          ]
        },
        {
          "output_type": "stream",
          "name": "stderr",
          "text": [
            "Sample: 100%|██████████| 4/4 [00:00, 20.81it/s, step size=7.30e-02, acc. prob=0.000]\n"
          ]
        },
        {
          "output_type": "stream",
          "name": "stdout",
          "text": [
            "tensor(-0.6169)\n",
            "Num samples: 7\n"
          ]
        },
        {
          "output_type": "stream",
          "name": "stderr",
          "text": [
            "Sample: 100%|██████████| 14/14 [00:01, 10.01it/s, step size=1.55e-02, acc. prob=0.905]\n"
          ]
        },
        {
          "output_type": "stream",
          "name": "stdout",
          "text": [
            "tensor(-0.6053)\n",
            "Num samples: 10\n"
          ]
        },
        {
          "output_type": "stream",
          "name": "stderr",
          "text": [
            "Sample: 100%|██████████| 20/20 [00:02,  9.17it/s, step size=1.12e-02, acc. prob=0.934]\n"
          ]
        },
        {
          "output_type": "stream",
          "name": "stdout",
          "text": [
            "tensor(-0.6118)\n",
            "Num samples: 20\n"
          ]
        },
        {
          "output_type": "stream",
          "name": "stderr",
          "text": [
            "Sample: 100%|██████████| 40/40 [00:04,  8.87it/s, step size=8.05e-02, acc. prob=0.836]\n"
          ]
        },
        {
          "output_type": "stream",
          "name": "stdout",
          "text": [
            "tensor(-0.6176)\n",
            "Num samples: 30\n"
          ]
        },
        {
          "output_type": "stream",
          "name": "stderr",
          "text": [
            "Sample: 100%|██████████| 60/60 [00:07,  7.83it/s, step size=1.18e-01, acc. prob=0.740]\n"
          ]
        },
        {
          "output_type": "stream",
          "name": "stdout",
          "text": [
            "tensor(-0.6103)\n",
            "Num samples: 40\n"
          ]
        },
        {
          "output_type": "stream",
          "name": "stderr",
          "text": [
            "Sample: 100%|██████████| 80/80 [00:10,  7.85it/s, step size=8.40e-02, acc. prob=0.935]\n"
          ]
        },
        {
          "output_type": "stream",
          "name": "stdout",
          "text": [
            "tensor(-0.6123)\n",
            "Num samples: 50\n"
          ]
        },
        {
          "output_type": "stream",
          "name": "stderr",
          "text": [
            "Sample: 100%|██████████| 100/100 [00:12,  7.80it/s, step size=6.27e-02, acc. prob=0.959]\n"
          ]
        },
        {
          "output_type": "stream",
          "name": "stdout",
          "text": [
            "tensor(-0.6199)\n",
            "Num samples: 60\n"
          ]
        },
        {
          "output_type": "stream",
          "name": "stderr",
          "text": [
            "Sample: 100%|██████████| 120/120 [00:14,  8.21it/s, step size=6.89e-02, acc. prob=0.670]\n"
          ]
        },
        {
          "output_type": "stream",
          "name": "stdout",
          "text": [
            "tensor(-0.6151)\n",
            "Num samples: 70\n"
          ]
        },
        {
          "output_type": "stream",
          "name": "stderr",
          "text": [
            "Sample: 100%|██████████| 140/140 [00:17,  8.14it/s, step size=6.46e-02, acc. prob=0.892]\n"
          ]
        },
        {
          "output_type": "stream",
          "name": "stdout",
          "text": [
            "tensor(-0.6155)\n",
            "Num samples: 80\n"
          ]
        },
        {
          "output_type": "stream",
          "name": "stderr",
          "text": [
            "Sample: 100%|██████████| 160/160 [00:19,  8.12it/s, step size=1.20e-01, acc. prob=0.858]\n"
          ]
        },
        {
          "output_type": "stream",
          "name": "stdout",
          "text": [
            "tensor(-0.6172)\n",
            "Num samples: 90\n"
          ]
        },
        {
          "output_type": "stream",
          "name": "stderr",
          "text": [
            "Sample:  72%|███████▏  | 72/100 [02:10,  1.81s/it, step size=7.85e-02, acc. prob=0.866]\n",
            "Sample: 100%|██████████| 180/180 [00:23,  7.79it/s, step size=3.68e-02, acc. prob=0.964]\n"
          ]
        },
        {
          "output_type": "stream",
          "name": "stdout",
          "text": [
            "tensor(-0.6172)\n"
          ]
        }
      ]
    },
    {
      "cell_type": "code",
      "source": [
        "# Generate plot (Figure 4 in original paper)\n",
        "\n",
        "output = output_advi.append(output_mcmc, ignore_index=True)\n",
        "output = output.loc[output['t'] < 100]\n",
        "output['test_accuracy'] = output['test_accuracy'].astype('float')\n",
        "\n",
        "sns.set_style(\"whitegrid\")\n",
        "results = sns.lineplot(data = output, x = 't', y = 'test_accuracy', hue = 'model')\n",
        "results.set(xscale='log', \n",
        "            xlim = (0.015, 150), \n",
        "            xlabel = 'Seconds',\n",
        "            ylabel = 'Average Log Predictive')\n",
        "plt.legend(labels=[\"ADVI (M=1)\",\"NUTS\"])"
      ],
      "metadata": {
        "colab": {
          "base_uri": "https://localhost:8080/",
          "height": 300
        },
        "id": "pmIeGiL4l2mW",
        "outputId": "7ff6b66c-c24d-49cf-b19c-283759b086f1"
      },
      "execution_count": 54,
      "outputs": [
        {
          "output_type": "execute_result",
          "data": {
            "text/plain": [
              "<matplotlib.legend.Legend at 0x7fb2c5ca2690>"
            ]
          },
          "metadata": {},
          "execution_count": 54
        },
        {
          "output_type": "display_data",
          "data": {
            "text/plain": [
              "<Figure size 432x288 with 1 Axes>"
            ],
            "image/png": "[encoded data removed]"
          },
          "metadata": {}
        }
      ]
    }
  ]
}