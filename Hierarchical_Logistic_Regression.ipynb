{
  "nbformat": 4,
  "nbformat_minor": 0,
  "metadata": {
    "colab": {
      "name": "Hierarchical_Logistic_Regression.ipynb",
      "provenance": [],
      "collapsed_sections": []
    },
    "kernelspec": {
      "name": "python3",
      "display_name": "Python 3"
    },
    "language_info": {
      "name": "python"
    }
  },
  "cells": [
    {
      "cell_type": "markdown",
      "metadata": {
        "id": "view-in-github"
      },
      "source": [
        "<a href=\"https://colab.research.google.com/github/lorenzkuhn/advi/blob/main/Hierarchical_Logistic_Regression.ipynb\" target=\"_parent\"><img src=\"https://colab.research.google.com/assets/colab-badge.svg\" alt=\"Open In Colab\"/></a>"
      ]
    },
    {
      "cell_type": "markdown",
      "source": [
        "You might need the data from here: http://www.stat.columbia.edu/~gelman/arm/examples/election88/"
      ],
      "metadata": {
        "id": "CP17-ZUF5yy4"
      }
    },
    {
      "cell_type": "code",
      "source": [
        "!pip install pyreadstat pyro-ppl"
      ],
      "metadata": {
        "colab": {
          "base_uri": "https://localhost:8080/"
        },
        "id": "DWZUW152zg3K",
        "outputId": "ef66d188-85c7-4bb2-a7a0-27547825ab0c"
      },
      "execution_count": 3,
      "outputs": [
        {
          "output_type": "stream",
          "name": "stdout",
          "text": [
            "Collecting pyreadstat\n",
            "  Downloading pyreadstat-1.1.4-cp37-cp37m-manylinux_2_17_x86_64.manylinux2014_x86_64.whl (2.4 MB)\n",
            "\u001b[K     |████████████████████████████████| 2.4 MB 12.0 MB/s \n",
            "\u001b[?25hCollecting pyro-ppl\n",
            "  Downloading pyro_ppl-1.8.1-py3-none-any.whl (718 kB)\n",
            "\u001b[K     |████████████████████████████████| 718 kB 51.3 MB/s \n",
            "\u001b[?25hRequirement already satisfied: pandas>=1.2.0 in /usr/local/lib/python3.7/dist-packages (from pyreadstat) (1.3.5)\n",
            "Requirement already satisfied: python-dateutil>=2.7.3 in /usr/local/lib/python3.7/dist-packages (from pandas>=1.2.0->pyreadstat) (2.8.2)\n",
            "Requirement already satisfied: numpy>=1.17.3 in /usr/local/lib/python3.7/dist-packages (from pandas>=1.2.0->pyreadstat) (1.21.5)\n",
            "Requirement already satisfied: pytz>=2017.3 in /usr/local/lib/python3.7/dist-packages (from pandas>=1.2.0->pyreadstat) (2018.9)\n",
            "Requirement already satisfied: six>=1.5 in /usr/local/lib/python3.7/dist-packages (from python-dateutil>=2.7.3->pandas>=1.2.0->pyreadstat) (1.15.0)\n",
            "Collecting pyro-api>=0.1.1\n",
            "  Downloading pyro_api-0.1.2-py3-none-any.whl (11 kB)\n",
            "Requirement already satisfied: opt-einsum>=2.3.2 in /usr/local/lib/python3.7/dist-packages (from pyro-ppl) (3.3.0)\n",
            "Collecting torch>=1.11.0\n",
            "  Downloading torch-1.11.0-cp37-cp37m-manylinux1_x86_64.whl (750.6 MB)\n",
            "\u001b[K     |████████████████████████████████| 750.6 MB 10 kB/s \n",
            "\u001b[?25hRequirement already satisfied: tqdm>=4.36 in /usr/local/lib/python3.7/dist-packages (from pyro-ppl) (4.63.0)\n",
            "Requirement already satisfied: typing-extensions in /usr/local/lib/python3.7/dist-packages (from torch>=1.11.0->pyro-ppl) (3.10.0.2)\n",
            "Installing collected packages: torch, pyro-api, pyro-ppl, pyreadstat\n",
            "  Attempting uninstall: torch\n",
            "    Found existing installation: torch 1.10.0+cu111\n",
            "    Uninstalling torch-1.10.0+cu111:\n",
            "      Successfully uninstalled torch-1.10.0+cu111\n",
            "\u001b[31mERROR: pip's dependency resolver does not currently take into account all the packages that are installed. This behaviour is the source of the following dependency conflicts.\n",
            "torchvision 0.11.1+cu111 requires torch==1.10.0, but you have torch 1.11.0 which is incompatible.\n",
            "torchtext 0.11.0 requires torch==1.10.0, but you have torch 1.11.0 which is incompatible.\n",
            "torchaudio 0.10.0+cu111 requires torch==1.10.0, but you have torch 1.11.0 which is incompatible.\u001b[0m\n",
            "Successfully installed pyreadstat-1.1.4 pyro-api-0.1.2 pyro-ppl-1.8.1 torch-1.11.0\n"
          ]
        }
      ]
    },
    {
      "cell_type": "code",
      "source": [
        "import pyreadstat\n",
        "import time \n",
        "import os\n",
        "from functools import partial\n",
        "import torch\n",
        "import numpy as np\n",
        "import pandas as pd\n",
        "import seaborn as sns\n",
        "import matplotlib.pyplot as plt\n",
        "\n",
        "import pyro\n",
        "import pyro.distributions as dist\n",
        "from pyro.infer import SVI, Trace_ELBO\n",
        "from pyro.infer.autoguide import AutoDiagonalNormal\n",
        "\n",
        "\n",
        "from torch import nn\n",
        "from pyro.nn import PyroModule\n",
        "from pyro.infer import MCMC, NUTS, Predictive\n",
        "\n",
        "import sklearn.model_selection\n",
        "\n",
        "polls_df, meta = pyreadstat.read_dta('polls.dta')\n",
        "polls_df = polls_df.dropna()\n",
        "presvote_df, _ = pyreadstat.read_dta('presvote.dta')"
      ],
      "metadata": {
        "id": "6Bmq0Z6ExBJl"
      },
      "execution_count": 4,
      "outputs": []
    },
    {
      "cell_type": "code",
      "source": [
        "# Apologies, for this, this is how they do it in the R code as well. \n",
        "# The list has length 51 since they add D.C as its own state.\n",
        "state_to_region_mapping = torch.tensor([3,4,4,3,4,4,1,1,5,3,3,4,4,2,2,2,2,3,3,1,1,1,2,2,3,2,4,2,4,1,1,4,1,3,2,2,3,4,1,1,3,2,3,3,4,1,3,4,1,2,4])\n",
        "state_to_region_mapping = state_to_region_mapping.repeat(len(polls_df), 1)\n",
        "indices = torch.tensor(polls_df['state'].values, dtype=torch.int64) - 1\n",
        "polls_df['region'] = state_to_region_mapping.gather(1, indices.view(-1, 1))\n",
        "\n",
        "polls_df['black_female'] = polls_df['black']*polls_df['female']\n",
        "polls_df['age_edu'] = polls_df['age']*polls_df['edu']\n",
        "\n",
        "presvote_df = presvote_df.rename(columns={'stnum2': 'state', 'g76_84pr':'previous_vote'})\n",
        "\n",
        "polls_df = polls_df.join(other=presvote_df.set_index('state'), on='state')\n",
        "\n",
        "polls_df['age'] = polls_df['age'] - 1\n",
        "polls_df['edu'] = polls_df['edu'] - 1\n",
        "polls_df['region_full'] = polls_df['region'] - 1\n",
        "polls_df['state'] = polls_df['state'] - 1"
      ],
      "metadata": {
        "id": "02qQG8jV0OnZ"
      },
      "execution_count": 5,
      "outputs": []
    },
    {
      "cell_type": "markdown",
      "source": [
        "@All: Need to check that the preprocessing is correct; In my opinion the model assumes / requires that all variables are transformed such that they lie in {0, 1, ..., n_distinct_elemts}"
      ],
      "metadata": {
        "id": "T7FLjJ18FdfP"
      }
    },
    {
      "cell_type": "code",
      "source": [
        "age = torch.tensor(polls_df[[\"age\"]].values, dtype=torch.int64)\n",
        "edu = torch.tensor(polls_df[[\"edu\"]].values, dtype=torch.int64)\n",
        "age_edu = torch.tensor(polls_df[[\"age_edu\"]].values, dtype=torch.int64)\n",
        "state = torch.tensor(polls_df[[\"state\"]].values, dtype=torch.int64)\n",
        "region_full = torch.tensor(polls_df[[\"region\"]].values, dtype=torch.int64)\n",
        "female = torch.tensor(polls_df[[\"black\"]].values, dtype=torch.int64)\n",
        "black = torch.tensor(polls_df[[\"female\"]].values, dtype=torch.int64)\n",
        "v_prev_full = torch.tensor(polls_df[['previous_vote']].values, dtype = torch.float64)\n",
        "y = torch.tensor(polls_df[[\"bush\"]].values,  dtype=torch.float64)\n",
        "\n",
        "n_age_categories = max(age) + 1\n",
        "n_edu_categories = max(edu) + 1\n",
        "n_age_edu_categories = max(age_edu) + 1\n",
        "n_state_categories = max(state) + 1\n",
        "n_region_full_categories = max(region_full) + 1"
      ],
      "metadata": {
        "id": "iHowjXU1GX4K"
      },
      "execution_count": 6,
      "outputs": []
    },
    {
      "cell_type": "code",
      "source": [
        "def get_features_and_targets(dataframe):\n",
        "  feature_names = [\"female\", \"black\", \"previous_vote\", \"age\", \"edu\", \"age_edu\", \"region\", \"state\"]\n",
        "  features = []\n",
        "  for feature in feature_names:\n",
        "    if feature == \"previous_vote\":\n",
        "      dtype = torch.float64\n",
        "    else:\n",
        "      dtype = torch.int64\n",
        "    \n",
        "    features.append(torch.tensor(dataframe[[feature]].values, dtype=dtype))\n",
        "  targets = torch.tensor(dataframe[[\"bush\"]].values,  dtype=torch.float64)\n",
        "  return features, targets"
      ],
      "metadata": {
        "id": "-dPeIC3rJHfG"
      },
      "execution_count": 7,
      "outputs": []
    },
    {
      "cell_type": "code",
      "source": [
        "train_df, test_df = sklearn.model_selection.train_test_split(polls_df, train_size=10000)\n",
        "\n",
        "train_features, train_targets = get_features_and_targets(train_df)\n",
        "test_features, test_targets = get_features_and_targets(test_df)"
      ],
      "metadata": {
        "id": "hOHaosacL-Kr"
      },
      "execution_count": 8,
      "outputs": []
    },
    {
      "cell_type": "code",
      "source": [
        "def logit(beta, a, b, c, d, e, \n",
        "          female, black, v_prev_full, age, edu, age_edu, region_full, state):\n",
        "    logits = beta[0] \\\n",
        "            +beta[1]*black \\\n",
        "            +beta[2]*female \\\n",
        "            +beta[4]*female*black \\\n",
        "            +beta[3]+v_prev_full \\\n",
        "            +a[age] \\\n",
        "            +b[edu] \\\n",
        "            +c[age_edu] \\\n",
        "            +d[state] \\\n",
        "            +e[region_full]\n",
        "    return logits  "
      ],
      "metadata": {
        "id": "wYrONgmgfY9R"
      },
      "execution_count": 9,
      "outputs": []
    },
    {
      "cell_type": "code",
      "source": [
        "def model(female, black, v_prev_full, age, edu, age_edu, region_full, state, y=None):\n",
        "      #Unifrom hyper-priors constraint between 0 and 100 for variances\n",
        "      sigma_a = pyro.sample('sigma_a', dist.Uniform(0., 100.))\n",
        "      sigma_b = pyro.sample('sigma_b', dist.Uniform(0., 100.))\n",
        "      sigma_c = pyro.sample('sigma_c', dist.Uniform(0., 100.))\n",
        "      sigma_d = pyro.sample('sigma_d', dist.Uniform(0., 100.))\n",
        "      sigma_e = pyro.sample('sigma_e', dist.Uniform(0., 100.))\n",
        "      \n",
        "      #priors for hierarchical log reg\n",
        "      beta = pyro.sample('beta', dist.Normal(0., 100.).expand([5]).to_event(1))\n",
        "      a = pyro.sample(\"a\", dist.Normal(0., sigma_a).expand(n_age_categories).to_event(1))\n",
        "      b = pyro.sample(\"b\", dist.Normal(0., sigma_b).expand(n_edu_categories).to_event(1))\n",
        "      c = pyro.sample(\"c\", dist.Normal(0., sigma_c).expand(n_age_edu_categories).to_event(1))\n",
        "      d = pyro.sample(\"d\", dist.Normal(0., sigma_d).expand(n_state_categories).to_event(1))\n",
        "      e = pyro.sample(\"e\", dist.Normal(0., sigma_e).expand(n_region_full_categories).to_event(1))\n",
        "\n",
        "      logits = pyro.deterministic('logits', logit(beta, a, b, c, d, e, \n",
        "                                                  female, black, v_prev_full, age, edu, age_edu, region_full, state))\n",
        "\n",
        "      with pyro.plate(\"data\", len(female)):\n",
        "\n",
        "        obs = pyro.sample(\"obs\", dist.Bernoulli(logits = logits).to_event(1), obs=y)\n"
      ],
      "metadata": {
        "id": "7n5oZT1aXqEQ"
      },
      "execution_count": 10,
      "outputs": []
    },
    {
      "cell_type": "code",
      "source": [
        "torch.manual_seed(0)\n",
        "\n",
        "guide = AutoDiagonalNormal(model)\n",
        "adaprop = pyro.optim.AdagradRMSProp(dict())\n",
        "svi = SVI(model, guide, adaprop, loss=Trace_ELBO())\n",
        "\n",
        "pyro.clear_param_store()\n",
        "output_advi = pd.DataFrame(columns = [\"t\", \"num_samples\", \"test_accuracy\", \"model\"])\n",
        "\n",
        "step_ids = []\n",
        "average_log_predictives = []\n",
        "train_time = 0\n",
        "\n",
        "eval_steps = np.concatenate((np.arange(0, 100, 10),\n",
        "                             np.arange(100, 4000, 100)))\n",
        "\n",
        "for j in range(5000):\n",
        "    # calculate the loss and take a gradient step\n",
        "    t0 = time.time()\n",
        "    loss = svi.step(*train_features, train_targets)\n",
        "    t1 = time.time()\n",
        "    train_time += (t1-t0)\n",
        "\n",
        "    if j in eval_steps:\n",
        "      num_samples = 100\n",
        "      predictive_svi = Predictive(model, guide=guide, num_samples=num_samples)\n",
        "      test_predictions = predictive_svi(*test_features, None)\n",
        "      logits = test_predictions['logits'].mean(axis = 0).squeeze().reshape(-1,1)\n",
        "      bernoulli_dist = dist.Bernoulli(logits = logits)\n",
        "\n",
        "      test_log_prob = torch.sum(bernoulli_dist.log_prob(test_targets))\n",
        "      test_log_prob /= len(test_targets)\n",
        "      \n",
        "      average_log_predictives.append(test_log_prob)\n",
        "\n",
        "      output_iter = {\"t\":train_time,\n",
        "                    \"test_accuracy\":test_log_prob.detach().numpy(),\n",
        "                    \"model\":\"advi\"}\n",
        "\n",
        "      output_advi = output_advi.append(output_iter, ignore_index = True)\n",
        "      print(\"[iteration %04d] loss: %.4f\" % (j + 1, test_log_prob))\n",
        "    "
      ],
      "metadata": {
        "colab": {
          "base_uri": "https://localhost:8080/"
        },
        "id": "HuzXS0nTICO4",
        "outputId": "1489b74c-619f-4eea-f684-eabb6e9f50e1"
      },
      "execution_count": 23,
      "outputs": [
        {
          "output_type": "stream",
          "name": "stdout",
          "text": [
            "[iteration 0001] loss: -22.8773\n",
            "[iteration 0011] loss: -12.6769\n",
            "[iteration 0021] loss: -9.9466\n",
            "[iteration 0031] loss: -8.3130\n",
            "[iteration 0041] loss: -6.9972\n",
            "[iteration 0051] loss: -5.8596\n",
            "[iteration 0061] loss: -4.9571\n",
            "[iteration 0071] loss: -4.2498\n",
            "[iteration 0081] loss: -3.6701\n",
            "[iteration 0091] loss: -3.1660\n",
            "[iteration 0101] loss: -2.7323\n",
            "[iteration 0201] loss: -0.8273\n",
            "[iteration 0301] loss: -0.7158\n",
            "[iteration 0401] loss: -0.6619\n",
            "[iteration 0501] loss: -0.6538\n",
            "[iteration 0601] loss: -0.6542\n",
            "[iteration 0701] loss: -0.6521\n",
            "[iteration 0801] loss: -0.6521\n",
            "[iteration 0901] loss: -0.6607\n",
            "[iteration 1001] loss: -0.6500\n",
            "[iteration 1101] loss: -0.6502\n",
            "[iteration 1201] loss: -0.6539\n",
            "[iteration 1301] loss: -0.6527\n",
            "[iteration 1401] loss: -0.6504\n",
            "[iteration 1501] loss: -0.6527\n",
            "[iteration 1601] loss: -0.6504\n",
            "[iteration 1701] loss: -0.6505\n",
            "[iteration 1801] loss: -0.6502\n",
            "[iteration 1901] loss: -0.6517\n",
            "[iteration 2001] loss: -0.6500\n",
            "[iteration 2101] loss: -0.6518\n",
            "[iteration 2201] loss: -0.6517\n",
            "[iteration 2301] loss: -0.6499\n",
            "[iteration 2401] loss: -0.6496\n",
            "[iteration 2501] loss: -0.6504\n",
            "[iteration 2601] loss: -0.6506\n",
            "[iteration 2701] loss: -0.6509\n",
            "[iteration 2801] loss: -0.6506\n",
            "[iteration 2901] loss: -0.6497\n",
            "[iteration 3001] loss: -0.6502\n",
            "[iteration 3101] loss: -0.6524\n",
            "[iteration 3201] loss: -0.6494\n",
            "[iteration 3301] loss: -0.6498\n",
            "[iteration 3401] loss: -0.6522\n",
            "[iteration 3501] loss: -0.6487\n",
            "[iteration 3601] loss: -0.6494\n",
            "[iteration 3701] loss: -0.6501\n",
            "[iteration 3801] loss: -0.6501\n",
            "[iteration 3901] loss: -0.6503\n",
            "[iteration 4001] loss: -0.6496\n",
            "[iteration 4101] loss: -0.6504\n",
            "[iteration 4201] loss: -0.6491\n",
            "[iteration 4301] loss: -0.6518\n",
            "[iteration 4401] loss: -0.6505\n",
            "[iteration 4501] loss: -0.6504\n",
            "[iteration 4601] loss: -0.6500\n",
            "[iteration 4701] loss: -0.6519\n",
            "[iteration 4801] loss: -0.6502\n",
            "[iteration 4901] loss: -0.6511\n"
          ]
        }
      ]
    },
    {
      "cell_type": "code",
      "source": [
        "# Run MCMC using Stan kernel\n",
        "torch.manual_seed(0)\n",
        "pyro.clear_param_store()\n",
        "\n",
        "test_log_prob_list = []\n",
        "train_time = []\n",
        "\n",
        "def hook_fn(kernel, samples, *unused):\n",
        "  a = samples['a']\n",
        "  b = samples['b']\n",
        "  c = samples['c']\n",
        "  d = samples['d']\n",
        "  e = samples['e']\n",
        "  beta = samples['beta'] \n",
        "  logits = logit(beta, a, b, c, d, e, *test_features)\n",
        "\n",
        "  bernoulli_dist = dist.Bernoulli(logits = logits)\n",
        "\n",
        "  test_log_prob = torch.sum(bernoulli_dist.log_prob(test_targets))\n",
        "  test_log_prob /= len(test_targets)\n",
        "  train_time.append(time.time())    \n",
        "  test_log_prob_list.append(test_log_prob)\n",
        "\n",
        "nuts_kernel = NUTS(model,max_tree_depth = 4)\n",
        "\n",
        "mcmc = MCMC(\n",
        "            nuts_kernel,\n",
        "            num_samples=200,\n",
        "            warmup_steps=200,\n",
        "            disable_progbar=False,\n",
        "            num_chains = 1, \n",
        "            hook_fn = hook_fn\n",
        ")\n",
        "mcmc.run(*train_features, train_targets)\n",
        "\n",
        "output_nuts = pd.DataFrame({'t':np.array(train_time)-train_time[0], \n",
        "                            \"test_accuracy\":np.array(test_log_prob_list),\n",
        "                            \"model\":\"nuts\"})"
      ],
      "metadata": {
        "colab": {
          "base_uri": "https://localhost:8080/"
        },
        "id": "XdF2ciVviKMr",
        "outputId": "bc011cde-550b-47be-e1d4-c966ce7197a4"
      },
      "execution_count": 22,
      "outputs": [
        {
          "output_type": "stream",
          "name": "stderr",
          "text": [
            "Sample: 100%|██████████| 400/400 [00:58,  6.81it/s, step size=7.15e-02, acc. prob=0.942]\n"
          ]
        }
      ]
    },
    {
      "cell_type": "code",
      "source": [
        "# Generate plot (Figure 4 in original paper)\n",
        "\n",
        "output = output_advi.append(output_nuts, ignore_index=True)\n",
        "output = output.loc[output['t'] < 100]\n",
        "output['test_accuracy'] = output['test_accuracy'].astype('float')\n",
        "\n",
        "sns.set_style(\"whitegrid\")\n",
        "results = sns.lineplot(data = output, x = 't', y = 'test_accuracy', hue = 'model')\n",
        "results.set(xscale='log', \n",
        "            xlim = (0.015, 150),\n",
        "            ylim = (-11, 0), \n",
        "            xlabel = 'Seconds',\n",
        "            ylabel = 'Average Log Predictive')\n",
        "plt.legend(labels=[\"ADVI (M=1)\",\"NUTS\"])"
      ],
      "metadata": {
        "colab": {
          "base_uri": "https://localhost:8080/",
          "height": 304
        },
        "id": "pmIeGiL4l2mW",
        "outputId": "0e034cd0-795e-4d8e-e00b-2308d0c5bf69"
      },
      "execution_count": 25,
      "outputs": [
        {
          "output_type": "execute_result",
          "data": {
            "text/plain": [
              "<matplotlib.legend.Legend at 0x7fb9c26b3250>"
            ]
          },
          "metadata": {},
          "execution_count": 25
        },
        {
          "output_type": "display_data",
          "data": {
            "text/plain": [
              "<Figure size 432x288 with 1 Axes>"
            ],
            "image/png": "[encoded data removed]"
          },
          "metadata": {}
        }
      ]
    }
  ]
}