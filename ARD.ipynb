{
  "nbformat": 4,
  "nbformat_minor": 0,
  "metadata": {
    "colab": {
      "name": "ARD.ipynb",
      "provenance": [],
      "collapsed_sections": []
    },
    "kernelspec": {
      "name": "python3",
      "display_name": "Python 3"
    },
    "language_info": {
      "name": "python"
    }
  },
  "cells": [
    {
      "cell_type": "markdown",
      "metadata": {
        "id": "view-in-github"
      },
      "source": [
        "<a href=\"https://colab.research.google.com/github/lorenzkuhn/advi/blob/main/ARD.ipynb\" target=\"_parent\"><img src=\"https://colab.research.google.com/assets/colab-badge.svg\" alt=\"Open In Colab\"/></a>"
      ]
    },
    {
      "cell_type": "code",
      "execution_count": 2,
      "metadata": {
        "colab": {
          "base_uri": "https://localhost:8080/"
        },
        "id": "WftQNyWmExQD",
        "outputId": "7c616101-fa1e-42fb-8705-abceda5eaf62"
      },
      "outputs": [
        {
          "output_type": "stream",
          "name": "stdout",
          "text": [
            "Collecting pyro-ppl\n",
            "  Downloading pyro_ppl-1.8.1-py3-none-any.whl (718 kB)\n",
            "\u001b[K     |████████████████████████████████| 718 kB 4.7 MB/s \n",
            "\u001b[?25hRequirement already satisfied: numpy>=1.7 in /usr/local/lib/python3.7/dist-packages (from pyro-ppl) (1.21.5)\n",
            "Requirement already satisfied: opt-einsum>=2.3.2 in /usr/local/lib/python3.7/dist-packages (from pyro-ppl) (3.3.0)\n",
            "Requirement already satisfied: tqdm>=4.36 in /usr/local/lib/python3.7/dist-packages (from pyro-ppl) (4.63.0)\n",
            "Collecting torch>=1.11.0\n",
            "  Downloading torch-1.11.0-cp37-cp37m-manylinux1_x86_64.whl (750.6 MB)\n",
            "\u001b[K     |████████████████████████████████| 750.6 MB 11 kB/s \n",
            "\u001b[?25hCollecting pyro-api>=0.1.1\n",
            "  Downloading pyro_api-0.1.2-py3-none-any.whl (11 kB)\n",
            "Requirement already satisfied: typing-extensions in /usr/local/lib/python3.7/dist-packages (from torch>=1.11.0->pyro-ppl) (3.10.0.2)\n",
            "Installing collected packages: torch, pyro-api, pyro-ppl\n",
            "  Attempting uninstall: torch\n",
            "    Found existing installation: torch 1.10.0+cu111\n",
            "    Uninstalling torch-1.10.0+cu111:\n",
            "      Successfully uninstalled torch-1.10.0+cu111\n",
            "\u001b[31mERROR: pip's dependency resolver does not currently take into account all the packages that are installed. This behaviour is the source of the following dependency conflicts.\n",
            "torchvision 0.11.1+cu111 requires torch==1.10.0, but you have torch 1.11.0 which is incompatible.\n",
            "torchtext 0.11.0 requires torch==1.10.0, but you have torch 1.11.0 which is incompatible.\n",
            "torchaudio 0.10.0+cu111 requires torch==1.10.0, but you have torch 1.11.0 which is incompatible.\u001b[0m\n",
            "Successfully installed pyro-api-0.1.2 pyro-ppl-1.8.1 torch-1.11.0\n"
          ]
        }
      ],
      "source": [
        "!pip3 install pyro-ppl "
      ]
    },
    {
      "cell_type": "code",
      "source": [
        "import torch\n",
        "from torch import nn\n",
        "\n",
        "import pyro\n",
        "from pyro.nn import PyroModule\n",
        "from pyro.nn import PyroSample\n",
        "from pyro.infer import MCMC, NUTS, HMC, Predictive\n",
        "from pyro.infer.autoguide import AutoDiagonalNormal\n",
        "from pyro.infer.autoguide import AutoContinuous\n",
        "from pyro.infer import SVI, Trace_ELBO\n",
        "import pyro.distributions as dist\n",
        "from torch.distributions import constraints\n",
        "\n",
        "import seaborn as sns\n",
        "import pandas as pd\n",
        "import numpy as np\n",
        "import matplotlib.pyplot as plt\n",
        "\n",
        "import time"
      ],
      "metadata": {
        "id": "e_rlGFT2E4jg"
      },
      "execution_count": 144,
      "outputs": []
    },
    {
      "cell_type": "code",
      "source": [
        "# Making training data\n",
        "# Adopted from https://github.com/julianroth/ADVI/blob/master/ard_experiment.py\n",
        "\n",
        "def make_training_data(num_samples, dims, sigma, mu=0):\n",
        "  \"\"\"\n",
        "  Creates training data when half of the regressors are 0\n",
        "  \"\"\"\n",
        "  x = np.random.randn(num_samples, dims).astype(np.float64)\n",
        "  w = sigma * np.random.randn(1,dims).astype(np.float64)\n",
        "  noise = np.random.normal(0, 5, num_samples).astype(np.float64).reshape(-1,1)\n",
        "  #noise = 0\n",
        "  w[:,:int(dims/2)] = 0.\n",
        "  y = np.matmul(x, w.T) + (noise/2) + mu\n",
        "\n",
        "  y = torch.tensor(y, dtype = torch.float)\n",
        "  x = torch.tensor(x, dtype = torch.float)\n",
        "  return y, x, w\n",
        "\n",
        "\n",
        "def sep_training_test(y,x,test):\n",
        "  y_train = y[test:,:]\n",
        "  x_train = x[test:,:]\n",
        "  \n",
        "  y_test = y[:test,:]\n",
        "  x_test = x[:test,:]\n",
        "  return y_train, y_test, x_train, x_test\n",
        "\n",
        "num_features = 250\n",
        "\n",
        "y, x, w = make_training_data(11000, num_features, 10, mu=0)\n",
        "y_train, y_test, x_train, x_test = sep_training_test(y,x,1000)"
      ],
      "metadata": {
        "id": "sHqVY44ENbxv"
      },
      "execution_count": 198,
      "outputs": []
    },
    {
      "cell_type": "code",
      "source": [
        "# Define the bayesian model in pyro\n",
        "def model(x, y=None):\n",
        "      num_features = x.shape[1]\n",
        "\n",
        "      alpha = pyro.sample('alpha', dist.Gamma(torch.tensor([1.0]), torch.tensor([1.0])).expand([num_features]).to_event(1))\n",
        "      one_over_sqrt_alpha = 1/torch.sqrt(alpha)\n",
        "\n",
        "      sigma2 = pyro.sample('sigma2', dist.InverseGamma(torch.tensor([1.0]), torch.tensor([1.0])))\n",
        "      sigma = torch.sqrt(sigma2)\n",
        "\n",
        "      beta = pyro.sample('beta', dist.Normal(torch.tensor([0.0]), sigma*one_over_sqrt_alpha).expand([num_features]).to_event(1))\n",
        "\n",
        "      mean = torch.matmul(x, beta)\n",
        "\n",
        "      with pyro.plate(\"data\", x.shape[0]):          \n",
        "          outcome_dist = dist.Normal(mean, sigma)          \n",
        "          observation = pyro.sample(\"obs\", outcome_dist, obs=y)"
      ],
      "metadata": {
        "id": "l6p7-E48ZYbT"
      },
      "execution_count": 200,
      "outputs": []
    },
    {
      "cell_type": "code",
      "source": [
        "# Define the ADVI components: Guide, Optimizer and SVI\n",
        "torch.manual_seed(0)\n",
        "\n",
        "guide = AutoDiagonalNormal(model)\n",
        "adaprop = pyro.optim.AdagradRMSProp(dict())\n",
        "svi = SVI(model, guide, adaprop, loss=Trace_ELBO())\n",
        "\n",
        "# Run ADVI \n",
        "pyro.clear_param_store()\n",
        "\n",
        "output_advi = pd.DataFrame(columns = [\"t\", \"test_accuracy\", \"model\"])\n",
        "\n",
        "num_iterations = 10000\n",
        "step_ids = []\n",
        "step_time = []\n",
        "average_log_predictives = []\n",
        "mse_loss = nn.MSELoss()\n",
        "train_time = 0\n",
        "\n",
        "sample_size_l = np.arange(1500, 20000, 1000)\n",
        "sample_size_s = np.arange(0, 1500, 100)\n",
        "sample_size = np.concatenate((sample_size_s, sample_size_l))\n",
        "\n",
        "\n",
        "for j in range(num_iterations):\n",
        "    # calculate the loss and take a gradient step\n",
        "    t0 = time.time()\n",
        "    loss = svi.step(x_train, y_train.squeeze())\n",
        "    t1 = time.time()\n",
        "    train_time += (t1-t0)     \n",
        "\n",
        "    if j in sample_size: #Evaluate model every 1000 samples\n",
        "      learned_beta = guide.median()['beta']\n",
        "      learned_sigma2 = guide.median()['sigma2']\n",
        "\n",
        "      mean = torch.matmul(x_test, learned_beta)\n",
        "      sigma = torch.sqrt(learned_sigma2)\n",
        "\n",
        "      norm_dist = dist.Normal(mean, sigma)\n",
        "      test_log_prob = norm_dist.log_prob(y_test.squeeze()).sum()\n",
        "      test_log_prob /= len(y_test)\n",
        "\n",
        "      output_iter = {\"t\":train_time,\n",
        "                    \"test_accuracy\":test_log_prob.detach().numpy(),\n",
        "                    \"model\":\"advi\"}\n",
        "\n",
        "      output_advi = output_advi.append(output_iter, ignore_index = True)\n",
        "      print(\"[iteration %04d] loss: %.4f\" % (j + 1, test_log_prob))"
      ],
      "metadata": {
        "colab": {
          "base_uri": "https://localhost:8080/"
        },
        "id": "GMBWumSCMPjY",
        "outputId": "74d49b41-cc4c-474b-ffaf-0101dfb924a1"
      },
      "execution_count": 201,
      "outputs": [
        {
          "output_type": "stream",
          "name": "stdout",
          "text": [
            "[iteration 0001] loss: -1103.4833\n",
            "[iteration 0101] loss: -12.3408\n",
            "[iteration 0201] loss: -4.9245\n",
            "[iteration 0301] loss: -3.7205\n",
            "[iteration 0401] loss: -2.3921\n",
            "[iteration 0501] loss: -2.3762\n",
            "[iteration 0601] loss: -2.3698\n",
            "[iteration 0701] loss: -2.3682\n",
            "[iteration 0801] loss: -2.3608\n",
            "[iteration 0901] loss: -2.3688\n",
            "[iteration 1001] loss: -2.3728\n",
            "[iteration 1101] loss: -2.3672\n",
            "[iteration 1201] loss: -2.3675\n",
            "[iteration 1301] loss: -2.3552\n",
            "[iteration 1401] loss: -2.3587\n",
            "[iteration 1501] loss: -2.3657\n",
            "[iteration 2501] loss: -2.3628\n",
            "[iteration 3501] loss: -2.3621\n",
            "[iteration 4501] loss: -2.3639\n",
            "[iteration 5501] loss: -2.3627\n",
            "[iteration 6501] loss: -2.3603\n",
            "[iteration 7501] loss: -2.3581\n",
            "[iteration 8501] loss: -2.3584\n",
            "[iteration 9501] loss: -2.3612\n"
          ]
        }
      ]
    },
    {
      "cell_type": "code",
      "source": [
        "# Run MCMC using Stan kernel\n",
        "pyro.clear_param_store()\n",
        "torch.manual_seed(0)\n",
        "\n",
        "test_log_prob_list = []\n",
        "train_time = []\n",
        "\n",
        "def hook_fn(kernel, sample, stage, i):\n",
        "    #use the most recently sampled param to estimate performance\n",
        "    if i < 100 or (i % 50 == 0): #evaluate all first 100 samples and then every 50\n",
        "      learned_beta = sample['beta']\n",
        "      learned_sigma2 = torch.exp(sample['sigma2']) #ATTENTION: InvGamma uses PowerTransform\n",
        "      \n",
        "      mean = torch.matmul(x_test, learned_beta)\n",
        "      sigma = torch.sqrt(learned_sigma2)\n",
        "\n",
        "      norm_dist = dist.Normal(mean, sigma)\n",
        "      test_log_prob = torch.sum(norm_dist.log_prob(y_test.squeeze()))\n",
        "      test_log_prob /= len(y_test)\n",
        "\n",
        "      train_time.append(time.time())    \n",
        "      test_log_prob_list.append(test_log_prob)\n",
        "\n",
        "nuts_kernel = NUTS(model, max_tree_depth = 4)\n",
        "\n",
        "nuts = MCMC(\n",
        "            nuts_kernel,\n",
        "            num_samples=300,\n",
        "            warmup_steps=300,\n",
        "            disable_progbar=False,\n",
        "            num_chains = 1,\n",
        "            hook_fn = hook_fn\n",
        "    ) \n",
        "\n",
        "nuts.run(x_train, y_train.squeeze())\n",
        "\n",
        "output_nuts = pd.DataFrame({'t':np.array(train_time)-train_time[0], \n",
        "                            \"test_accuracy\":np.array(test_log_prob_list),\n",
        "                            \"model\":\"nuts\"})"
      ],
      "metadata": {
        "id": "VIBh7h2muCl-",
        "colab": {
          "base_uri": "https://localhost:8080/"
        },
        "outputId": "3c0dcf5e-36d5-406f-89e0-e9186e253ff1"
      },
      "execution_count": 202,
      "outputs": [
        {
          "output_type": "stream",
          "name": "stderr",
          "text": [
            "Sample: 100%|██████████| 600/600 [00:48, 12.38it/s, step size=3.26e-01, acc. prob=0.863]\n"
          ]
        }
      ]
    },
    {
      "cell_type": "code",
      "source": [
        "# Generate plot (Figure 4 in original paper)\n",
        "\n",
        "output = output_advi.append(output_nuts, ignore_index=True)\n",
        "output = output.loc[output['t'] < 100]\n",
        "output['test_accuracy'] = output['test_accuracy'].astype('float')\n",
        "\n",
        "sns.set_style(\"whitegrid\")\n",
        "results = sns.lineplot(data = output, x = 't', y = 'test_accuracy', hue = 'model')\n",
        "results.set(xscale='log', \n",
        "            xlim = (0.25, 150), \n",
        "            ylim = (-9, -2),\n",
        "            xlabel = 'Seconds',\n",
        "            ylabel = 'Average Log Predictive')\n",
        "plt.legend(labels=[\"ADVI (M=1)\",\"NUTS\"])"
      ],
      "metadata": {
        "colab": {
          "base_uri": "https://localhost:8080/",
          "height": 304
        },
        "id": "J2OSCCNNgp_w",
        "outputId": "cb10a455-574a-4c57-b647-8aca4a647590"
      },
      "execution_count": 206,
      "outputs": [
        {
          "output_type": "execute_result",
          "data": {
            "text/plain": [
              "<matplotlib.legend.Legend at 0x7f15fd7a3f90>"
            ]
          },
          "metadata": {},
          "execution_count": 206
        },
        {
          "output_type": "stream",
          "name": "stderr",
          "text": [
            "\rWarmup:   4%|▍         | 24/600 [10:49, 27.06s/it, step size=1.72e-03, acc. prob=0.785]\n"
          ]
        },
        {
          "output_type": "display_data",
          "data": {
            "text/plain": [
              "<Figure size 432x288 with 1 Axes>"
            ],
            "image/png": "[encoded data removed]"
          },
          "metadata": {}
        }
      ]
    }
  ]
}