{
  "nbformat": 4,
  "nbformat_minor": 0,
  "metadata": {
    "colab": {
      "name": "ARD.ipynb",
      "provenance": [],
      "collapsed_sections": [],
      "toc_visible": true
    },
    "kernelspec": {
      "name": "python3",
      "display_name": "Python 3"
    },
    "language_info": {
      "name": "python"
    }
  },
  "cells": [
    {
      "cell_type": "markdown",
      "metadata": {
        "id": "view-in-github"
      },
      "source": [
        "<a href=\"https://colab.research.google.com/github/lorenzkuhn/advi/blob/main/ARD.ipynb\" target=\"_parent\"><img src=\"https://colab.research.google.com/assets/colab-badge.svg\" alt=\"Open In Colab\"/></a>"
      ]
    },
    {
      "cell_type": "code",
      "execution_count": 3,
      "metadata": {
        "colab": {
          "base_uri": "https://localhost:8080/"
        },
        "id": "WftQNyWmExQD",
        "outputId": "0cb44b4c-0ea1-450e-e03c-26e79da76a26"
      },
      "outputs": [
        {
          "output_type": "stream",
          "name": "stdout",
          "text": [
            "Collecting pyro-ppl\n",
            "  Downloading pyro_ppl-1.8.1-py3-none-any.whl (718 kB)\n",
            "\u001b[K     |████████████████████████████████| 718 kB 4.2 MB/s \n",
            "\u001b[?25hRequirement already satisfied: tqdm>=4.36 in /usr/local/lib/python3.7/dist-packages (from pyro-ppl) (4.63.0)\n",
            "Requirement already satisfied: opt-einsum>=2.3.2 in /usr/local/lib/python3.7/dist-packages (from pyro-ppl) (3.3.0)\n",
            "Collecting pyro-api>=0.1.1\n",
            "  Downloading pyro_api-0.1.2-py3-none-any.whl (11 kB)\n",
            "Requirement already satisfied: numpy>=1.7 in /usr/local/lib/python3.7/dist-packages (from pyro-ppl) (1.21.5)\n",
            "Collecting torch>=1.11.0\n",
            "  Downloading torch-1.11.0-cp37-cp37m-manylinux1_x86_64.whl (750.6 MB)\n",
            "\u001b[K     |████████████████████████████████| 750.6 MB 11 kB/s \n",
            "\u001b[?25hRequirement already satisfied: typing-extensions in /usr/local/lib/python3.7/dist-packages (from torch>=1.11.0->pyro-ppl) (3.10.0.2)\n",
            "Installing collected packages: torch, pyro-api, pyro-ppl\n",
            "  Attempting uninstall: torch\n",
            "    Found existing installation: torch 1.10.0+cu111\n",
            "    Uninstalling torch-1.10.0+cu111:\n",
            "      Successfully uninstalled torch-1.10.0+cu111\n",
            "\u001b[31mERROR: pip's dependency resolver does not currently take into account all the packages that are installed. This behaviour is the source of the following dependency conflicts.\n",
            "torchvision 0.11.1+cu111 requires torch==1.10.0, but you have torch 1.11.0 which is incompatible.\n",
            "torchtext 0.11.0 requires torch==1.10.0, but you have torch 1.11.0 which is incompatible.\n",
            "torchaudio 0.10.0+cu111 requires torch==1.10.0, but you have torch 1.11.0 which is incompatible.\u001b[0m\n",
            "Successfully installed pyro-api-0.1.2 pyro-ppl-1.8.1 torch-1.11.0\n"
          ]
        }
      ],
      "source": [
        "!pip3 install pyro-ppl "
      ]
    },
    {
      "cell_type": "code",
      "source": [
        "import torch\n",
        "import pyro\n",
        "from torch import nn\n",
        "from pyro.nn import PyroModule\n",
        "from pyro.nn import PyroSample\n",
        "import pyro.distributions as dist\n",
        "import pandas as pd\n",
        "import numpy as np\n",
        "from pyro.infer import MCMC, NUTS, Predictive\n",
        "import matplotlib.pyplot as plt"
      ],
      "metadata": {
        "id": "e_rlGFT2E4jg"
      },
      "execution_count": 4,
      "outputs": []
    },
    {
      "cell_type": "code",
      "source": [
        "def model(x, y=None):\n",
        "      num_features = x.shape[1]\n",
        "\n",
        "      alpha = pyro.sample('alpha', dist.Gamma(torch.tensor([1.0]), torch.tensor([1.0])).expand([num_features]).to_event(1))\n",
        "      one_over_sqrt_alpha = 1/torch.sqrt(alpha)\n",
        "\n",
        "      sigma2 = pyro.sample('sigma2', dist.InverseGamma(torch.tensor([1.0]), torch.tensor([1.0])))\n",
        "      sigma = torch.sqrt(sigma2)\n",
        "\n",
        "      beta = pyro.sample('beta', dist.Normal(torch.tensor([0.0]), sigma*one_over_sqrt_alpha).expand([num_features]).to_event(1))\n",
        "\n",
        "      mean = torch.matmul(x, beta)\n",
        "\n",
        "      with pyro.plate(\"data\", x.shape[0]):\n",
        "          \n",
        "          # Assume our expected mean comes from a normal distribution with the mean which\n",
        "          # depends on the linear combination, and a standard deviatin \"sigma\"\n",
        "          outcome_dist = dist.Normal(mean, sigma)\n",
        "          \n",
        "          # Condition the expected mean on the observed target y\n",
        "          observation = pyro.sample(\"obs\", outcome_dist, obs=y)"
      ],
      "metadata": {
        "id": "lDKGuZrUjYkl"
      },
      "execution_count": 5,
      "outputs": []
    },
    {
      "cell_type": "code",
      "source": [
        "# Making training data\n",
        "def make_training_data(num_samples, dims, sigma, mu=0):\n",
        "  \"\"\"\n",
        "  Creates training data when half of the regressors are 0\n",
        "  \"\"\"\n",
        "  x = np.random.randn(num_samples, dims).astype(np.float64)\n",
        "  w = sigma * np.random.randn(1,dims).astype(np.float64)\n",
        "  noise = np.random.randn(num_samples).astype(np.float64)\n",
        "  noise = 0\n",
        "  w[:,:int(dims/2)] = 0.\n",
        "  y = np.matmul(x, w.T) + (noise/2) + mu\n",
        "\n",
        "  y = torch.tensor(y, dtype = torch.float)\n",
        "  x = torch.tensor(x, dtype = torch.float)\n",
        "  return y, x, w\n",
        "\n",
        "\n",
        "def sep_training_test(y,x,test):\n",
        "  y_train = y[test:,:]\n",
        "  x_train = x[test:,:]\n",
        "  \n",
        "  y_test = y[:test,:]\n",
        "  x_test = x[:test,:]\n",
        "  return y_train, y_test, x_train, x_test\n",
        "\n",
        "num_features = 250\n",
        "\n",
        "y, x, w = make_training_data(11000, num_features, 10, mu=0)\n",
        "y_train, y_test, x_train, x_test = sep_training_test(y,x,1000)"
      ],
      "metadata": {
        "id": "sHqVY44ENbxv"
      },
      "execution_count": 6,
      "outputs": []
    },
    {
      "cell_type": "code",
      "source": [
        "from pyro.infer.autoguide import AutoDiagonalNormal\n",
        "from pyro.infer.autoguide import AutoContinuous\n",
        "from pyro.infer import SVI, Trace_ELBO\n",
        "\n",
        "guide = AutoDiagonalNormal(model)\n",
        "adam = pyro.optim.Adam({\"lr\": 1})\n",
        "adaprop = pyro.optim.AdagradRMSProp(dict())\n",
        "\n",
        "svi = SVI(model, guide, adaprop, loss=Trace_ELBO())"
      ],
      "metadata": {
        "id": "zbGrMMidJfVQ"
      },
      "execution_count": 59,
      "outputs": []
    },
    {
      "cell_type": "code",
      "source": [
        "from scipy.stats import norm as NormalDist\n",
        "import time\n",
        "\n",
        "output = pd.DataFrame(columns = [\"run_id\", \"t\", \"num_samples\", \"test_accuracy\", \"model\"])\n",
        "\n",
        "pyro.clear_param_store()\n",
        "num_iterations = 20000\n",
        "step_ids = []\n",
        "step_time = []\n",
        "average_log_predictives = []\n",
        "mse_loss = nn.MSELoss()\n",
        "train_time = 0\n",
        "\n",
        "start = time.time()\n",
        "for j in range(num_iterations):\n",
        "    # calculate the loss and take a gradient step\n",
        "    t0 = time.time()\n",
        "    loss = svi.step(x_train, y_train.squeeze())\n",
        "    t1 = time.time()\n",
        "    train_time += (t1-t0)     \n",
        "\n",
        "    if j % 100 == 0:\n",
        "      num_samples = 100\n",
        "      predictive_svi = Predictive(model, guide=guide, num_samples=num_samples)\n",
        "\n",
        "      train_predictions = predictive_svi(x_train, None)\n",
        "      test_predictions = predictive_svi(x_test, None)\n",
        "      train_obs = train_predictions['obs']\n",
        "      test_obs = test_predictions['obs']\n",
        "\n",
        "      average_train_log_mse = torch.log(mse_loss(train_obs, torch.tile(np.squeeze(y_train), (len(train_obs), 1))))\n",
        "      average_test_log_mse = torch.log(mse_loss(test_obs, torch.tile(np.squeeze(y_test), (len(test_obs), 1))))\n",
        "  \n",
        "      step_ids.append(j)\n",
        "      print(\"[iteration %04d] loss: %.4f\" % (j + 1, average_test_log_mse))\n",
        "      step_time.append(train_time)\n",
        "      average_log_predictives.append(average_test_log_mse)\n",
        "\n",
        "      output_iter = {\"run_id\":\"n/a\",\n",
        "                    \"t\":train_time,\n",
        "                    \"num_samples\":\"n/a\", \n",
        "                    \"test_accuracy\":average_test_log_mse.detach().numpy(),\n",
        "                    \"model\":\"advi\"}\n",
        "\n",
        "      output = output.append(output_iter, ignore_index = True)\n"
      ],
      "metadata": {
        "colab": {
          "base_uri": "https://localhost:8080/"
        },
        "id": "GMBWumSCMPjY",
        "outputId": "9406ed52-a888-46a9-e7c9-b740517a0dbb"
      },
      "execution_count": 60,
      "outputs": [
        {
          "output_type": "stream",
          "name": "stdout",
          "text": [
            "[iteration 0001] loss: 9.5913\n",
            "[iteration 0101] loss: 8.8705\n",
            "[iteration 0201] loss: 8.6601\n",
            "[iteration 0301] loss: 7.5059\n",
            "[iteration 0401] loss: 6.1625\n",
            "[iteration 0501] loss: 4.4676\n",
            "[iteration 0601] loss: 0.6907\n",
            "[iteration 0701] loss: -1.3162\n",
            "[iteration 0801] loss: -1.6289\n",
            "[iteration 0901] loss: -1.7175\n",
            "[iteration 1001] loss: -1.8866\n",
            "[iteration 1101] loss: -2.0462\n",
            "[iteration 1201] loss: -1.9572\n",
            "[iteration 1301] loss: -2.3171\n",
            "[iteration 1401] loss: -2.4224\n",
            "[iteration 1501] loss: -2.2284\n",
            "[iteration 1601] loss: -2.2321\n",
            "[iteration 1701] loss: -2.3427\n",
            "[iteration 1801] loss: -2.4151\n",
            "[iteration 1901] loss: -2.5789\n",
            "[iteration 2001] loss: -2.7256\n",
            "[iteration 2101] loss: -2.7828\n",
            "[iteration 2201] loss: -2.7762\n",
            "[iteration 2301] loss: -2.7138\n",
            "[iteration 2401] loss: -2.7158\n",
            "[iteration 2501] loss: -2.8431\n",
            "[iteration 2601] loss: -2.8686\n",
            "[iteration 2701] loss: -2.9312\n",
            "[iteration 2801] loss: -2.9961\n",
            "[iteration 2901] loss: -3.1569\n",
            "[iteration 3001] loss: -2.9725\n",
            "[iteration 3101] loss: -3.1152\n",
            "[iteration 3201] loss: -3.1233\n",
            "[iteration 3301] loss: -3.2245\n",
            "[iteration 3401] loss: -3.1519\n",
            "[iteration 3501] loss: -3.0429\n",
            "[iteration 3601] loss: -3.1240\n",
            "[iteration 3701] loss: -3.3618\n",
            "[iteration 3801] loss: -3.2909\n",
            "[iteration 3901] loss: -3.2633\n",
            "[iteration 4001] loss: -3.3181\n",
            "[iteration 4101] loss: -3.3072\n",
            "[iteration 4201] loss: -3.3226\n",
            "[iteration 4301] loss: -3.4186\n",
            "[iteration 4401] loss: -3.5014\n",
            "[iteration 4501] loss: -3.4115\n",
            "[iteration 4601] loss: -3.5423\n",
            "[iteration 4701] loss: -3.4289\n",
            "[iteration 4801] loss: -3.5458\n",
            "[iteration 4901] loss: -3.4809\n",
            "[iteration 5001] loss: -3.5691\n",
            "[iteration 5101] loss: -3.7087\n",
            "[iteration 5201] loss: -3.5506\n",
            "[iteration 5301] loss: -3.6003\n",
            "[iteration 5401] loss: -3.4899\n",
            "[iteration 5501] loss: -3.6852\n",
            "[iteration 5601] loss: -3.6050\n",
            "[iteration 5701] loss: -3.6076\n",
            "[iteration 5801] loss: -3.5504\n",
            "[iteration 5901] loss: -3.6448\n",
            "[iteration 6001] loss: -3.7911\n",
            "[iteration 6101] loss: -3.5730\n",
            "[iteration 6201] loss: -3.6551\n",
            "[iteration 6301] loss: -3.6954\n",
            "[iteration 6401] loss: -3.7137\n",
            "[iteration 6501] loss: -3.6280\n",
            "[iteration 6601] loss: -3.8155\n",
            "[iteration 6701] loss: -3.7445\n",
            "[iteration 6801] loss: -3.6964\n",
            "[iteration 6901] loss: -3.8492\n",
            "[iteration 7001] loss: -3.8970\n",
            "[iteration 7101] loss: -3.8870\n",
            "[iteration 7201] loss: -4.0185\n",
            "[iteration 7301] loss: -3.9112\n",
            "[iteration 7401] loss: -3.9786\n",
            "[iteration 7501] loss: -3.9351\n",
            "[iteration 7601] loss: -3.8590\n",
            "[iteration 7701] loss: -3.9366\n",
            "[iteration 7801] loss: -4.0558\n",
            "[iteration 7901] loss: -4.0841\n",
            "[iteration 8001] loss: -4.1177\n",
            "[iteration 8101] loss: -3.9858\n",
            "[iteration 8201] loss: -4.1147\n",
            "[iteration 8301] loss: -4.0544\n",
            "[iteration 8401] loss: -4.0403\n",
            "[iteration 8501] loss: -4.1117\n",
            "[iteration 8601] loss: -3.9835\n",
            "[iteration 8701] loss: -4.1160\n",
            "[iteration 8801] loss: -4.1071\n",
            "[iteration 8901] loss: -4.1000\n",
            "[iteration 9001] loss: -4.1993\n",
            "[iteration 9101] loss: -4.2378\n",
            "[iteration 9201] loss: -4.2056\n",
            "[iteration 9301] loss: -4.1224\n",
            "[iteration 9401] loss: -4.0683\n",
            "[iteration 9501] loss: -4.2997\n",
            "[iteration 9601] loss: -4.1385\n",
            "[iteration 9701] loss: -4.1869\n",
            "[iteration 9801] loss: -4.2377\n",
            "[iteration 9901] loss: -4.3142\n",
            "[iteration 10001] loss: -4.1638\n",
            "[iteration 10101] loss: -4.2846\n",
            "[iteration 10201] loss: -4.2892\n",
            "[iteration 10301] loss: -4.2658\n",
            "[iteration 10401] loss: -4.2268\n",
            "[iteration 10501] loss: -4.2865\n",
            "[iteration 10601] loss: -4.3599\n",
            "[iteration 10701] loss: -4.2719\n",
            "[iteration 10801] loss: -4.1918\n",
            "[iteration 10901] loss: -4.2563\n",
            "[iteration 11001] loss: -4.4476\n",
            "[iteration 11101] loss: -4.3417\n",
            "[iteration 11201] loss: -4.4451\n",
            "[iteration 11301] loss: -4.3165\n",
            "[iteration 11401] loss: -4.4462\n",
            "[iteration 11501] loss: -4.4066\n",
            "[iteration 11601] loss: -4.3562\n",
            "[iteration 11701] loss: -4.3512\n",
            "[iteration 11801] loss: -4.3006\n",
            "[iteration 11901] loss: -4.4234\n",
            "[iteration 12001] loss: -4.3152\n",
            "[iteration 12101] loss: -4.4864\n",
            "[iteration 12201] loss: -4.2898\n",
            "[iteration 12301] loss: -4.4365\n",
            "[iteration 12401] loss: -4.4490\n",
            "[iteration 12501] loss: -4.5051\n",
            "[iteration 12601] loss: -4.3292\n",
            "[iteration 12701] loss: -4.5753\n",
            "[iteration 12801] loss: -4.3766\n",
            "[iteration 12901] loss: -4.5044\n",
            "[iteration 13001] loss: -4.5330\n",
            "[iteration 13101] loss: -4.4809\n",
            "[iteration 13201] loss: -4.6549\n",
            "[iteration 13301] loss: -4.6252\n",
            "[iteration 13401] loss: -4.4551\n",
            "[iteration 13501] loss: -4.5874\n",
            "[iteration 13601] loss: -4.4863\n",
            "[iteration 13701] loss: -4.4508\n",
            "[iteration 13801] loss: -4.4596\n",
            "[iteration 13901] loss: -4.5604\n",
            "[iteration 14001] loss: -4.5346\n",
            "[iteration 14101] loss: -4.6760\n",
            "[iteration 14201] loss: -4.7161\n",
            "[iteration 14301] loss: -4.4852\n",
            "[iteration 14401] loss: -4.6741\n",
            "[iteration 14501] loss: -4.5956\n",
            "[iteration 14601] loss: -4.5760\n",
            "[iteration 14701] loss: -4.7601\n",
            "[iteration 14801] loss: -4.6529\n",
            "[iteration 14901] loss: -4.5556\n",
            "[iteration 15001] loss: -4.5931\n",
            "[iteration 15101] loss: -4.5459\n",
            "[iteration 15201] loss: -4.6920\n",
            "[iteration 15301] loss: -4.7078\n",
            "[iteration 15401] loss: -4.6408\n",
            "[iteration 15501] loss: -4.6563\n",
            "[iteration 15601] loss: -4.6351\n",
            "[iteration 15701] loss: -4.7868\n",
            "[iteration 15801] loss: -4.6748\n",
            "[iteration 15901] loss: -4.6569\n",
            "[iteration 16001] loss: -4.7491\n",
            "[iteration 16101] loss: -4.7712\n",
            "[iteration 16201] loss: -4.7022\n",
            "[iteration 16301] loss: -4.7065\n",
            "[iteration 16401] loss: -4.7142\n",
            "[iteration 16501] loss: -4.7508\n",
            "[iteration 16601] loss: -4.6523\n",
            "[iteration 16701] loss: -4.6592\n",
            "[iteration 16801] loss: -4.6335\n",
            "[iteration 16901] loss: -4.6877\n",
            "[iteration 17001] loss: -4.7478\n",
            "[iteration 17101] loss: -4.7747\n",
            "[iteration 17201] loss: -4.6232\n",
            "[iteration 17301] loss: -4.8073\n",
            "[iteration 17401] loss: -4.7971\n",
            "[iteration 17501] loss: -4.7221\n",
            "[iteration 17601] loss: -4.7496\n",
            "[iteration 17701] loss: -4.8215\n",
            "[iteration 17801] loss: -4.8873\n",
            "[iteration 17901] loss: -4.8344\n",
            "[iteration 18001] loss: -4.8521\n",
            "[iteration 18101] loss: -4.8475\n",
            "[iteration 18201] loss: -4.7599\n",
            "[iteration 18301] loss: -4.7142\n",
            "[iteration 18401] loss: -4.8187\n",
            "[iteration 18501] loss: -4.9436\n",
            "[iteration 18601] loss: -4.8089\n",
            "[iteration 18701] loss: -4.7625\n",
            "[iteration 18801] loss: -4.8185\n",
            "[iteration 18901] loss: -4.8780\n",
            "[iteration 19001] loss: -4.9597\n",
            "[iteration 19101] loss: -4.9029\n",
            "[iteration 19201] loss: -4.7998\n",
            "[iteration 19301] loss: -4.7394\n",
            "[iteration 19401] loss: -4.9093\n",
            "[iteration 19501] loss: -4.9227\n",
            "[iteration 19601] loss: -4.9088\n",
            "[iteration 19701] loss: -4.9320\n",
            "[iteration 19801] loss: -4.8591\n",
            "[iteration 19901] loss: -4.8404\n"
          ]
        }
      ]
    },
    {
      "cell_type": "code",
      "source": [
        "import seaborn as sns\n",
        "output['test_accuracy'] = output['test_accuracy'].astype('float')\n",
        "sns.lineplot(data = output, x = 't', y = 'test_accuracy')"
      ],
      "metadata": {
        "id": "WJqQu49Oo7l5",
        "colab": {
          "base_uri": "https://localhost:8080/",
          "height": 296
        },
        "outputId": "873dac2e-be2d-4664-a4df-f21309999e78"
      },
      "execution_count": 61,
      "outputs": [
        {
          "output_type": "execute_result",
          "data": {
            "text/plain": [
              "<matplotlib.axes._subplots.AxesSubplot at 0x7f9f8361d3d0>"
            ]
          },
          "metadata": {},
          "execution_count": 61
        },
        {
          "output_type": "display_data",
          "data": {
            "text/plain": [
              "<Figure size 432x288 with 1 Axes>"
            ],
            "image/png": "[encoded data removed]"
          },
          "metadata": {
            "needs_background": "light"
          }
        }
      ]
    },
    {
      "cell_type": "code",
      "source": [
        "from pyro.infer import MCMC, NUTS, HMC\n",
        "pyro.clear_param_store()\n",
        "import logging\n",
        "\n",
        "num_runs = 2\n",
        "max_samples = 800\n",
        "max_warmups = 800\n",
        "\n",
        "num_steps = 10\n",
        "\n",
        "for i in range(num_steps): #range(int(max_samples/50)):\n",
        "  \n",
        "  num_samples = int(max_samples * ((i+1)/num_steps))\n",
        "  num_warmups = int(max_warmups * ((i+1)/num_steps))\n",
        "  \n",
        "  print('Num samples: {}'.format(num_samples))\n",
        "\n",
        "  for run_id in range(num_runs):\n",
        "    print('---- Run id: {}'.format(run_id))\n",
        "    nuts_kernel = NUTS(model,\n",
        "                       max_tree_depth = 4)\n",
        "\n",
        "    mcmc = MCMC(\n",
        "            nuts_kernel,\n",
        "            num_samples=num_samples,\n",
        "            warmup_steps=num_warmups,\n",
        "            disable_progbar=False,\n",
        "            num_chains = 1\n",
        "    ) \n",
        "\n",
        "    start = time.time()\n",
        "    mcmc.run(x_train, y_train.squeeze())\n",
        "    end = time.time()\n",
        "\n",
        "    samples = mcmc.get_samples()\n",
        "    mcmc_predictive = Predictive(model, samples)\n",
        "\n",
        "    test_obs = mcmc_predictive(x_test, None)['obs']\n",
        "    train_obs = mcmc_predictive(x_train, None)['obs']\n",
        "\n",
        "    average_test_log_accuracy = torch.mean(torch.log(mse_loss(test_obs, torch.tile(np.squeeze(y_test), (len(test_obs), 1)))))\n",
        "    average_train_log_accuracy = torch.mean(torch.log(mse_loss(train_obs, torch.tile(np.squeeze(y_train), (len(train_obs), 1)))))\n",
        "\n",
        "    output_iter = {\"run_id\":run_id,\n",
        "                  \"t\":end-start,\n",
        "                  \"num_samples\":num_samples, \n",
        "                  \"test_accuracy\":average_test_log_accuracy.detach().numpy(),\n",
        "                   \"model\":\"nuts\"}\n",
        "\n",
        "    output = output.append(output_iter, ignore_index = True)"
      ],
      "metadata": {
        "id": "VIBh7h2muCl-",
        "colab": {
          "base_uri": "https://localhost:8080/"
        },
        "outputId": "0f48a24a-fc1f-4454-b9b0-eac70458f35a"
      },
      "execution_count": 62,
      "outputs": [
        {
          "output_type": "stream",
          "name": "stdout",
          "text": [
            "Num samples: 80\n",
            "---- Run id: 0\n"
          ]
        },
        {
          "output_type": "stream",
          "name": "stderr",
          "text": [
            "Sample: 100%|██████████| 160/160 [00:10, 15.81it/s, step size=4.21e-02, acc. prob=0.055]\n"
          ]
        },
        {
          "output_type": "stream",
          "name": "stdout",
          "text": [
            "---- Run id: 1\n"
          ]
        },
        {
          "output_type": "stream",
          "name": "stderr",
          "text": [
            "Sample: 100%|██████████| 160/160 [00:10, 15.06it/s, step size=2.96e-02, acc. prob=0.050]\n"
          ]
        },
        {
          "output_type": "stream",
          "name": "stdout",
          "text": [
            "Num samples: 160\n",
            "---- Run id: 0\n"
          ]
        },
        {
          "output_type": "stream",
          "name": "stderr",
          "text": [
            "Sample: 100%|██████████| 320/320 [00:30, 10.38it/s, step size=4.07e-03, acc. prob=0.771]\n"
          ]
        },
        {
          "output_type": "stream",
          "name": "stdout",
          "text": [
            "---- Run id: 1\n"
          ]
        },
        {
          "output_type": "stream",
          "name": "stderr",
          "text": [
            "Sample: 100%|██████████| 320/320 [00:32,  9.89it/s, step size=3.35e-03, acc. prob=0.693]\n"
          ]
        },
        {
          "output_type": "stream",
          "name": "stdout",
          "text": [
            "Num samples: 240\n",
            "---- Run id: 0\n"
          ]
        },
        {
          "output_type": "stream",
          "name": "stderr",
          "text": [
            "Sample: 100%|██████████| 480/480 [00:45, 10.54it/s, step size=7.90e-03, acc. prob=0.859]\n"
          ]
        },
        {
          "output_type": "stream",
          "name": "stdout",
          "text": [
            "---- Run id: 1\n"
          ]
        },
        {
          "output_type": "stream",
          "name": "stderr",
          "text": [
            "Sample: 100%|██████████| 480/480 [00:46, 10.36it/s, step size=1.11e-02, acc. prob=0.834]\n"
          ]
        },
        {
          "output_type": "stream",
          "name": "stdout",
          "text": [
            "Num samples: 320\n",
            "---- Run id: 0\n"
          ]
        },
        {
          "output_type": "stream",
          "name": "stderr",
          "text": [
            "Sample: 100%|██████████| 640/640 [01:01, 10.45it/s, step size=1.48e-01, acc. prob=0.487]\n"
          ]
        },
        {
          "output_type": "stream",
          "name": "stdout",
          "text": [
            "---- Run id: 1\n"
          ]
        },
        {
          "output_type": "stream",
          "name": "stderr",
          "text": [
            "Sample: 100%|██████████| 640/640 [01:01, 10.48it/s, step size=1.71e-01, acc. prob=0.545]\n"
          ]
        },
        {
          "output_type": "stream",
          "name": "stdout",
          "text": [
            "Num samples: 400\n",
            "---- Run id: 0\n"
          ]
        },
        {
          "output_type": "stream",
          "name": "stderr",
          "text": [
            "Sample: 100%|██████████| 800/800 [01:15, 10.56it/s, step size=1.69e-01, acc. prob=0.194]\n"
          ]
        },
        {
          "output_type": "stream",
          "name": "stdout",
          "text": [
            "---- Run id: 1\n"
          ]
        },
        {
          "output_type": "stream",
          "name": "stderr",
          "text": [
            "Sample: 100%|██████████| 800/800 [01:19, 10.11it/s, step size=1.41e-01, acc. prob=0.325]\n"
          ]
        },
        {
          "output_type": "stream",
          "name": "stdout",
          "text": [
            "Num samples: 480\n",
            "---- Run id: 0\n"
          ]
        },
        {
          "output_type": "stream",
          "name": "stderr",
          "text": [
            "Sample: 100%|██████████| 960/960 [01:31, 10.49it/s, step size=1.30e-01, acc. prob=0.218]\n"
          ]
        },
        {
          "output_type": "stream",
          "name": "stdout",
          "text": [
            "---- Run id: 1\n"
          ]
        },
        {
          "output_type": "stream",
          "name": "stderr",
          "text": [
            "Sample: 100%|██████████| 960/960 [01:38,  9.75it/s, step size=1.30e-01, acc. prob=0.374]\n"
          ]
        },
        {
          "output_type": "stream",
          "name": "stdout",
          "text": [
            "Num samples: 560\n",
            "---- Run id: 0\n"
          ]
        },
        {
          "output_type": "stream",
          "name": "stderr",
          "text": [
            "Sample: 100%|██████████| 1120/1120 [01:53,  9.90it/s, step size=3.10e-02, acc. prob=0.247]\n"
          ]
        },
        {
          "output_type": "stream",
          "name": "stdout",
          "text": [
            "---- Run id: 1\n"
          ]
        },
        {
          "output_type": "stream",
          "name": "stderr",
          "text": [
            "Sample: 100%|██████████| 1120/1120 [01:51, 10.09it/s, step size=2.09e-02, acc. prob=0.498]\n"
          ]
        },
        {
          "output_type": "stream",
          "name": "stdout",
          "text": [
            "Num samples: 640\n",
            "---- Run id: 0\n"
          ]
        },
        {
          "output_type": "stream",
          "name": "stderr",
          "text": [
            "Sample: 100%|██████████| 1280/1280 [02:08,  9.97it/s, step size=2.12e-02, acc. prob=0.512]\n"
          ]
        },
        {
          "output_type": "stream",
          "name": "stdout",
          "text": [
            "---- Run id: 1\n"
          ]
        },
        {
          "output_type": "stream",
          "name": "stderr",
          "text": [
            "Sample: 100%|██████████| 1280/1280 [02:02, 10.42it/s, step size=2.37e-02, acc. prob=0.535]\n"
          ]
        },
        {
          "output_type": "stream",
          "name": "stdout",
          "text": [
            "Num samples: 720\n",
            "---- Run id: 0\n"
          ]
        },
        {
          "output_type": "stream",
          "name": "stderr",
          "text": [
            "Sample: 100%|██████████| 1440/1440 [02:25,  9.87it/s, step size=2.38e-02, acc. prob=0.353]\n"
          ]
        },
        {
          "output_type": "stream",
          "name": "stdout",
          "text": [
            "---- Run id: 1\n"
          ]
        },
        {
          "output_type": "stream",
          "name": "stderr",
          "text": [
            "Sample: 100%|██████████| 1440/1440 [02:32,  9.42it/s, step size=2.60e-02, acc. prob=0.368]\n"
          ]
        },
        {
          "output_type": "stream",
          "name": "stdout",
          "text": [
            "Num samples: 800\n",
            "---- Run id: 0\n"
          ]
        },
        {
          "output_type": "stream",
          "name": "stderr",
          "text": [
            "Sample: 100%|██████████| 1600/1600 [02:42,  9.86it/s, step size=2.29e-02, acc. prob=0.338]\n"
          ]
        },
        {
          "output_type": "stream",
          "name": "stdout",
          "text": [
            "---- Run id: 1\n"
          ]
        },
        {
          "output_type": "stream",
          "name": "stderr",
          "text": [
            "Sample: 100%|██████████| 1600/1600 [02:31, 10.58it/s, step size=4.47e-02, acc. prob=0.166]\n"
          ]
        }
      ]
    },
    {
      "cell_type": "code",
      "source": [
        "output['test_accuracy'] = output['test_accuracy'].astype('float')\n",
        "sns.lineplot(data = output, x = 't', y = 'test_accuracy', hue = 'model')"
      ],
      "metadata": {
        "colab": {
          "base_uri": "https://localhost:8080/",
          "height": 296
        },
        "id": "J2OSCCNNgp_w",
        "outputId": "0c3b641f-1409-44de-ea76-5b4dc952bfdf"
      },
      "execution_count": 63,
      "outputs": [
        {
          "output_type": "execute_result",
          "data": {
            "text/plain": [
              "<matplotlib.axes._subplots.AxesSubplot at 0x7f9f831a6b90>"
            ]
          },
          "metadata": {},
          "execution_count": 63
        },
        {
          "output_type": "display_data",
          "data": {
            "text/plain": [
              "<Figure size 432x288 with 1 Axes>"
            ],
            "image/png": "[encoded data removed]"
          },
          "metadata": {
            "needs_background": "light"
          }
        }
      ]
    },
    {
      "cell_type": "code",
      "source": [
        "output['t_rounded'] = output['t'].round(0)"
      ],
      "metadata": {
        "id": "EfG6ZJ4zjKGM"
      },
      "execution_count": 65,
      "outputs": []
    },
    {
      "cell_type": "code",
      "source": [
        "fig, ax = plt.subplots()\n",
        "sns.lineplot(data = output, x = 't_rounded', y = 'test_accuracy', hue = 'model')\n",
        "ax.set_xlim(0, 150)\n",
        "plt.show()"
      ],
      "metadata": {
        "colab": {
          "base_uri": "https://localhost:8080/",
          "height": 280
        },
        "id": "7TxcOBY9njhO",
        "outputId": "929c08f8-1862-4e01-9672-2f18e8b8aaaf"
      },
      "execution_count": 70,
      "outputs": [
        {
          "output_type": "display_data",
          "data": {
            "text/plain": [
              "<Figure size 432x288 with 1 Axes>"
            ],
            "image/png": "[encoded data removed]"
          },
          "metadata": {
            "needs_background": "light"
          }
        }
      ]
    },
    {
      "cell_type": "code",
      "source": [
        "output"
      ],
      "metadata": {
        "colab": {
          "base_uri": "https://localhost:8080/",
          "height": 419
        },
        "id": "MaDux1OmnrrU",
        "outputId": "b6d274ce-0711-4267-e7f8-d08e1d1bef54"
      },
      "execution_count": 67,
      "outputs": [
        {
          "output_type": "execute_result",
          "data": {
            "text/plain": [
              "    run_id           t num_samples  test_accuracy model  t_rounded\n",
              "0      n/a    0.020771         n/a       9.591312  advi        0.0\n",
              "1      n/a    1.010434         n/a       8.870484  advi        1.0\n",
              "2      n/a    1.999774         n/a       8.660073  advi        2.0\n",
              "3      n/a    2.968974         n/a       7.505883  advi        3.0\n",
              "4      n/a    3.926777         n/a       6.162519  advi        4.0\n",
              "..     ...         ...         ...            ...   ...        ...\n",
              "215      1  122.899859         640      -6.459474  nuts      123.0\n",
              "216      0  145.948142         720      -7.998995  nuts      146.0\n",
              "217      1  152.812090         720      -8.150456  nuts      153.0\n",
              "218      0  162.351384         800      -8.158237  nuts      162.0\n",
              "219      1  151.260390         800      -5.912011  nuts      151.0\n",
              "\n",
              "[220 rows x 6 columns]"
            ],
            "text/html": [
              "\n",
              "  <div id=\"df-d8d6597e-7402-4267-aa52-379fd700f849\">\n",
              "    <div class=\"colab-df-container\">\n",
              "      <div>\n",
              "<style scoped>\n",
              "    .dataframe tbody tr th:only-of-type {\n",
              "        vertical-align: middle;\n",
              "    }\n",
              "\n",
              "    .dataframe tbody tr th {\n",
              "        vertical-align: top;\n",
              "    }\n",
              "\n",
              "    .dataframe thead th {\n",
              "        text-align: right;\n",
              "    }\n",
              "</style>\n",
              "<table border=\"1\" class=\"dataframe\">\n",
              "  <thead>\n",
              "    <tr style=\"text-align: right;\">\n",
              "      <th></th>\n",
              "      <th>run_id</th>\n",
              "      <th>t</th>\n",
              "      <th>num_samples</th>\n",
              "      <th>test_accuracy</th>\n",
              "      <th>model</th>\n",
              "      <th>t_rounded</th>\n",
              "    </tr>\n",
              "  </thead>\n",
              "  <tbody>\n",
              "    <tr>\n",
              "      <th>0</th>\n",
              "      <td>n/a</td>\n",
              "      <td>0.020771</td>\n",
              "      <td>n/a</td>\n",
              "      <td>9.591312</td>\n",
              "      <td>advi</td>\n",
              "      <td>0.0</td>\n",
              "    </tr>\n",
              "    <tr>\n",
              "      <th>1</th>\n",
              "      <td>n/a</td>\n",
              "      <td>1.010434</td>\n",
              "      <td>n/a</td>\n",
              "      <td>8.870484</td>\n",
              "      <td>advi</td>\n",
              "      <td>1.0</td>\n",
              "    </tr>\n",
              "    <tr>\n",
              "      <th>2</th>\n",
              "      <td>n/a</td>\n",
              "      <td>1.999774</td>\n",
              "      <td>n/a</td>\n",
              "      <td>8.660073</td>\n",
              "      <td>advi</td>\n",
              "      <td>2.0</td>\n",
              "    </tr>\n",
              "    <tr>\n",
              "      <th>3</th>\n",
              "      <td>n/a</td>\n",
              "      <td>2.968974</td>\n",
              "      <td>n/a</td>\n",
              "      <td>7.505883</td>\n",
              "      <td>advi</td>\n",
              "      <td>3.0</td>\n",
              "    </tr>\n",
              "    <tr>\n",
              "      <th>4</th>\n",
              "      <td>n/a</td>\n",
              "      <td>3.926777</td>\n",
              "      <td>n/a</td>\n",
              "      <td>6.162519</td>\n",
              "      <td>advi</td>\n",
              "      <td>4.0</td>\n",
              "    </tr>\n",
              "    <tr>\n",
              "      <th>...</th>\n",
              "      <td>...</td>\n",
              "      <td>...</td>\n",
              "      <td>...</td>\n",
              "      <td>...</td>\n",
              "      <td>...</td>\n",
              "      <td>...</td>\n",
              "    </tr>\n",
              "    <tr>\n",
              "      <th>215</th>\n",
              "      <td>1</td>\n",
              "      <td>122.899859</td>\n",
              "      <td>640</td>\n",
              "      <td>-6.459474</td>\n",
              "      <td>nuts</td>\n",
              "      <td>123.0</td>\n",
              "    </tr>\n",
              "    <tr>\n",
              "      <th>216</th>\n",
              "      <td>0</td>\n",
              "      <td>145.948142</td>\n",
              "      <td>720</td>\n",
              "      <td>-7.998995</td>\n",
              "      <td>nuts</td>\n",
              "      <td>146.0</td>\n",
              "    </tr>\n",
              "    <tr>\n",
              "      <th>217</th>\n",
              "      <td>1</td>\n",
              "      <td>152.812090</td>\n",
              "      <td>720</td>\n",
              "      <td>-8.150456</td>\n",
              "      <td>nuts</td>\n",
              "      <td>153.0</td>\n",
              "    </tr>\n",
              "    <tr>\n",
              "      <th>218</th>\n",
              "      <td>0</td>\n",
              "      <td>162.351384</td>\n",
              "      <td>800</td>\n",
              "      <td>-8.158237</td>\n",
              "      <td>nuts</td>\n",
              "      <td>162.0</td>\n",
              "    </tr>\n",
              "    <tr>\n",
              "      <th>219</th>\n",
              "      <td>1</td>\n",
              "      <td>151.260390</td>\n",
              "      <td>800</td>\n",
              "      <td>-5.912011</td>\n",
              "      <td>nuts</td>\n",
              "      <td>151.0</td>\n",
              "    </tr>\n",
              "  </tbody>\n",
              "</table>\n",
              "<p>220 rows × 6 columns</p>\n",
              "</div>\n",
              "      <button class=\"colab-df-convert\" onclick=\"convertToInteractive('df-d8d6597e-7402-4267-aa52-379fd700f849')\"\n",
              "              title=\"Convert this dataframe to an interactive table.\"\n",
              "              style=\"display:none;\">\n",
              "        \n",
              "  <svg xmlns=\"http://www.w3.org/2000/svg\" height=\"24px\"viewBox=\"0 0 24 24\"\n",
              "       width=\"24px\">\n",
              "    <path d=\"M0 0h24v24H0V0z\" fill=\"none\"/>\n",
              "    <path d=\"M18.56 5.44l.94 2.06.94-2.06 2.06-.94-2.06-.94-.94-2.06-.94 2.06-2.06.94zm-11 1L8.5 8.5l.94-2.06 2.06-.94-2.06-.94L8.5 2.5l-.94 2.06-2.06.94zm10 10l.94 2.06.94-2.06 2.06-.94-2.06-.94-.94-2.06-.94 2.06-2.06.94z\"/><path d=\"M17.41 7.96l-1.37-1.37c-.4-.4-.92-.59-1.43-.59-.52 0-1.04.2-1.43.59L10.3 9.45l-7.72 7.72c-.78.78-.78 2.05 0 2.83L4 21.41c.39.39.9.59 1.41.59.51 0 1.02-.2 1.41-.59l7.78-7.78 2.81-2.81c.8-.78.8-2.07 0-2.86zM5.41 20L4 18.59l7.72-7.72 1.47 1.35L5.41 20z\"/>\n",
              "  </svg>\n",
              "      </button>\n",
              "      \n",
              "  <style>\n",
              "    .colab-df-container {\n",
              "      display:flex;\n",
              "      flex-wrap:wrap;\n",
              "      gap: 12px;\n",
              "    }\n",
              "\n",
              "    .colab-df-convert {\n",
              "      background-color: #E8F0FE;\n",
              "      border: none;\n",
              "      border-radius: 50%;\n",
              "      cursor: pointer;\n",
              "      display: none;\n",
              "      fill: #1967D2;\n",
              "      height: 32px;\n",
              "      padding: 0 0 0 0;\n",
              "      width: 32px;\n",
              "    }\n",
              "\n",
              "    .colab-df-convert:hover {\n",
              "      background-color: #E2EBFA;\n",
              "      box-shadow: 0px 1px 2px rgba(60, 64, 67, 0.3), 0px 1px 3px 1px rgba(60, 64, 67, 0.15);\n",
              "      fill: #174EA6;\n",
              "    }\n",
              "\n",
              "    [theme=dark] .colab-df-convert {\n",
              "      background-color: #3B4455;\n",
              "      fill: #D2E3FC;\n",
              "    }\n",
              "\n",
              "    [theme=dark] .colab-df-convert:hover {\n",
              "      background-color: #434B5C;\n",
              "      box-shadow: 0px 1px 3px 1px rgba(0, 0, 0, 0.15);\n",
              "      filter: drop-shadow(0px 1px 2px rgba(0, 0, 0, 0.3));\n",
              "      fill: #FFFFFF;\n",
              "    }\n",
              "  </style>\n",
              "\n",
              "      <script>\n",
              "        const buttonEl =\n",
              "          document.querySelector('#df-d8d6597e-7402-4267-aa52-379fd700f849 button.colab-df-convert');\n",
              "        buttonEl.style.display =\n",
              "          google.colab.kernel.accessAllowed ? 'block' : 'none';\n",
              "\n",
              "        async function convertToInteractive(key) {\n",
              "          const element = document.querySelector('#df-d8d6597e-7402-4267-aa52-379fd700f849');\n",
              "          const dataTable =\n",
              "            await google.colab.kernel.invokeFunction('convertToInteractive',\n",
              "                                                     [key], {});\n",
              "          if (!dataTable) return;\n",
              "\n",
              "          const docLinkHtml = 'Like what you see? Visit the ' +\n",
              "            '<a target=\"_blank\" href=https://colab.research.google.com/notebooks/data_table.ipynb>data table notebook</a>'\n",
              "            + ' to learn more about interactive tables.';\n",
              "          element.innerHTML = '';\n",
              "          dataTable['output_type'] = 'display_data';\n",
              "          await google.colab.output.renderOutput(dataTable, element);\n",
              "          const docLink = document.createElement('div');\n",
              "          docLink.innerHTML = docLinkHtml;\n",
              "          element.appendChild(docLink);\n",
              "        }\n",
              "      </script>\n",
              "    </div>\n",
              "  </div>\n",
              "  "
            ]
          },
          "metadata": {},
          "execution_count": 67
        }
      ]
    },
    {
      "cell_type": "code",
      "source": [
        ""
      ],
      "metadata": {
        "id": "_-82HhldnuYD"
      },
      "execution_count": null,
      "outputs": []
    }
  ]
}