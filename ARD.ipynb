{
  "nbformat": 4,
  "nbformat_minor": 0,
  "metadata": {
    "colab": {
      "name": "ARD.ipynb",
      "provenance": [],
      "collapsed_sections": [],
      "include_colab_link": true
    },
    "kernelspec": {
      "name": "python3",
      "display_name": "Python 3"
    },
    "language_info": {
      "name": "python"
    }
  },
  "cells": [
    {
      "cell_type": "markdown",
      "metadata": {
        "id": "view-in-github",
        "colab_type": "text"
      },
      "source": [
        "<a href=\"https://colab.research.google.com/github/lorenzkuhn/advi/blob/main/ARD.ipynb\" target=\"_parent\"><img src=\"https://colab.research.google.com/assets/colab-badge.svg\" alt=\"Open In Colab\"/></a>"
      ]
    },
    {
      "cell_type": "code",
      "execution_count": 1,
      "metadata": {
        "colab": {
          "base_uri": "https://localhost:8080/"
        },
        "id": "WftQNyWmExQD",
        "outputId": "914f3a63-dc20-4c02-c75b-8dd143e3f285"
      },
      "outputs": [
        {
          "output_type": "stream",
          "name": "stdout",
          "text": [
            "Collecting pyro-ppl\n",
            "  Downloading pyro_ppl-1.8.1-py3-none-any.whl (718 kB)\n",
            "\u001b[K     |████████████████████████████████| 718 kB 5.2 MB/s \n",
            "\u001b[?25hRequirement already satisfied: opt-einsum>=2.3.2 in /usr/local/lib/python3.7/dist-packages (from pyro-ppl) (3.3.0)\n",
            "Collecting torch>=1.11.0\n",
            "  Downloading torch-1.11.0-cp37-cp37m-manylinux1_x86_64.whl (750.6 MB)\n",
            "\u001b[K     |████████████████████████████████| 750.6 MB 11 kB/s \n",
            "\u001b[?25hRequirement already satisfied: numpy>=1.7 in /usr/local/lib/python3.7/dist-packages (from pyro-ppl) (1.21.5)\n",
            "Collecting pyro-api>=0.1.1\n",
            "  Downloading pyro_api-0.1.2-py3-none-any.whl (11 kB)\n",
            "Requirement already satisfied: tqdm>=4.36 in /usr/local/lib/python3.7/dist-packages (from pyro-ppl) (4.63.0)\n",
            "Requirement already satisfied: typing-extensions in /usr/local/lib/python3.7/dist-packages (from torch>=1.11.0->pyro-ppl) (3.10.0.2)\n",
            "Installing collected packages: torch, pyro-api, pyro-ppl\n",
            "  Attempting uninstall: torch\n",
            "    Found existing installation: torch 1.10.0+cu111\n",
            "    Uninstalling torch-1.10.0+cu111:\n",
            "      Successfully uninstalled torch-1.10.0+cu111\n",
            "\u001b[31mERROR: pip's dependency resolver does not currently take into account all the packages that are installed. This behaviour is the source of the following dependency conflicts.\n",
            "torchvision 0.11.1+cu111 requires torch==1.10.0, but you have torch 1.11.0 which is incompatible.\n",
            "torchtext 0.11.0 requires torch==1.10.0, but you have torch 1.11.0 which is incompatible.\n",
            "torchaudio 0.10.0+cu111 requires torch==1.10.0, but you have torch 1.11.0 which is incompatible.\u001b[0m\n",
            "Successfully installed pyro-api-0.1.2 pyro-ppl-1.8.1 torch-1.11.0\n"
          ]
        }
      ],
      "source": [
        "!pip3 install pyro-ppl "
      ]
    },
    {
      "cell_type": "code",
      "source": [
        "import torch\n",
        "import pyro\n",
        "from torch import nn\n",
        "from pyro.nn import PyroModule\n",
        "from pyro.nn import PyroSample\n",
        "import pyro.distributions as dist\n",
        "import pandas as pd\n",
        "import numpy as np\n",
        "from pyro.infer import MCMC, NUTS, Predictive\n",
        "import matplotlib.pyplot as plt"
      ],
      "metadata": {
        "id": "e_rlGFT2E4jg"
      },
      "execution_count": 2,
      "outputs": []
    },
    {
      "cell_type": "code",
      "source": [
        "class ARDRegression(PyroModule):\n",
        "    def __init__(self, in_features, out_features):\n",
        "        super().__init__()\n",
        "        self.alpha = pyro.sample('alpha', dist.Gamma(torch.tensor([1.0]), torch.tensor([1.0])).expand([in_features]).to_event(1))\n",
        "        self.one_over_sqrt_alpha = 1/torch.sqrt(self.alpha)\n",
        "\n",
        "        self.sigma2 = pyro.sample('sigma2', dist.InverseGamma(torch.tensor([1.0]), torch.tensor([1.0])))\n",
        "        self.sigma = torch.sqrt(self.sigma2)\n",
        "\n",
        "        self.linear = PyroModule[nn.Linear](in_features, out_features, bias = False)\n",
        "        self.linear.weight = PyroSample(dist.Normal(0., self.sigma*self.one_over_sqrt_alpha).expand([out_features, in_features]).to_event(2))\n",
        "\n",
        "    def forward(self, x, y=None):\n",
        "        mean = self.linear(x).squeeze(-1)\n",
        "        with pyro.plate(\"data\", x.shape[0]):\n",
        "            obs = pyro.sample(\"obs\", dist.Normal(mean, self.sigma), obs=y)\n",
        "        return mean"
      ],
      "metadata": {
        "id": "SyJDQzNfFPzq"
      },
      "execution_count": 3,
      "outputs": []
    },
    {
      "cell_type": "code",
      "source": [
        "# Making training data\n",
        "def make_training_data(num_samples, dims, sigma, mu=0):\n",
        "  \"\"\"\n",
        "  Creates training data when half of the regressors are 0\n",
        "  \"\"\"\n",
        "  x = np.random.randn(num_samples, dims).astype(np.float64)\n",
        "  w = sigma * np.random.randn(1,dims).astype(np.float64)\n",
        "  noise = np.random.randn(num_samples).astype(np.float64)\n",
        "  noise = 0\n",
        "  w[:,:int(dims/2)] = 0.\n",
        "  y = np.matmul(x, w.T) + (noise/2) + mu\n",
        "\n",
        "  y = torch.tensor(y, dtype = torch.float)\n",
        "  x = torch.tensor(x, dtype = torch.float)\n",
        "  return y, x, w\n",
        "\n",
        "\n",
        "def sep_training_test(y,x,test):\n",
        "  y_train = y[test:,:]\n",
        "  x_train = x[test:,:]\n",
        "  \n",
        "  y_test = y[:test,:]\n",
        "  x_test = x[:test,:]\n",
        "  return y_train, y_test, x_train, x_test\n",
        "\n",
        "num_features = 1\n",
        "\n",
        "y, x, w = make_training_data(100, num_features,1, mu=0)\n",
        "y_train, y_test, x_train, x_test = sep_training_test(y,x,20)"
      ],
      "metadata": {
        "id": "sHqVY44ENbxv"
      },
      "execution_count": 8,
      "outputs": []
    },
    {
      "cell_type": "code",
      "source": [
        "y_train.shape"
      ],
      "metadata": {
        "colab": {
          "base_uri": "https://localhost:8080/"
        },
        "id": "prUkvvAq3Y7x",
        "outputId": "aba2cc88-8744-4471-c2b4-1b04b2d0c9f0"
      },
      "execution_count": 9,
      "outputs": [
        {
          "output_type": "execute_result",
          "data": {
            "text/plain": [
              "torch.Size([80, 1])"
            ]
          },
          "metadata": {},
          "execution_count": 9
        }
      ]
    },
    {
      "cell_type": "code",
      "source": [
        "from pyro.infer.autoguide import AutoDiagonalNormal\n",
        "from pyro.infer.autoguide import AutoContinuous\n",
        "from pyro.infer import SVI, Trace_ELBO\n",
        "\n",
        "model = ARDRegression(num_features, 1)\n",
        "guide = AutoDiagonalNormal(model)\n",
        "adam = pyro.optim.Adam({\"lr\": 0.03})\n",
        "svi = SVI(model, guide, adam, loss=Trace_ELBO())"
      ],
      "metadata": {
        "id": "zbGrMMidJfVQ"
      },
      "execution_count": 10,
      "outputs": []
    },
    {
      "cell_type": "code",
      "source": [
        "from scipy.stats import norm as NormalDist\n",
        "\n",
        "pyro.clear_param_store()\n",
        "num_iterations = 2000\n",
        "step_ids = []\n",
        "average_log_predictives = []\n",
        "\n",
        "mse_loss = nn.MSELoss()\n",
        "\n",
        "for j in range(num_iterations):\n",
        "    # calculate the loss and take a gradient step\n",
        "    loss = svi.step(x_train, y_train.squeeze())\n",
        "    #step_ids.append(j)       \n",
        "\n",
        "    if j % 100 == 0:\n",
        "      print(\"[iteration %04d] loss: %.4f\" % (j + 1, loss / len(x_train)))\n",
        "      num_samples = 100\n",
        "      predictive_svi = Predictive(model, guide=guide, num_samples=num_samples)\n",
        "      train_predictions = predictive_svi(x_train, None)\n",
        "      test_predictions = predictive_svi(x_test, None)\n",
        "      train_obs = train_predictions['obs']\n",
        "      test_obs = test_predictions['obs']\n",
        "      mse_loss(torch.tensor(train_obs), torch.tile(np.squeeze(y_train), (num_samples, 1)))\n",
        "      average_train_log_mse = torch.mean(torch.log(mse_loss(train_obs, torch.tile(np.squeeze(y_train), (len(train_obs), 1)))))\n",
        "      average_test_log_mse = torch.mean(torch.log(mse_loss(test_obs, torch.tile(np.squeeze(y_test), (len(test_obs), 1)))))\n",
        "    \n",
        "      print(average_train_log_mse)\n",
        "      print(average_test_log_mse)\n",
        "\n",
        "      step_ids.append(j)\n",
        "      average_log_predictives.append(average_test_log_mse)"
      ],
      "metadata": {
        "colab": {
          "base_uri": "https://localhost:8080/"
        },
        "id": "GMBWumSCMPjY",
        "outputId": "0a341522-9892-48fd-ba1d-e576591a3737"
      },
      "execution_count": 13,
      "outputs": [
        {
          "output_type": "stream",
          "name": "stdout",
          "text": [
            "[iteration 0001] loss: 1.2786\n",
            "tensor(0.1791)\n",
            "tensor(0.1580)\n"
          ]
        },
        {
          "output_type": "stream",
          "name": "stderr",
          "text": [
            "/usr/local/lib/python3.7/dist-packages/ipykernel_launcher.py:23: UserWarning: To copy construct from a tensor, it is recommended to use sourceTensor.clone().detach() or sourceTensor.clone().detach().requires_grad_(True), rather than torch.tensor(sourceTensor).\n"
          ]
        },
        {
          "output_type": "stream",
          "name": "stdout",
          "text": [
            "[iteration 0101] loss: 0.8203\n",
            "tensor(-0.2637)\n",
            "tensor(-0.2237)\n",
            "[iteration 0201] loss: 0.8223\n",
            "tensor(-0.2415)\n",
            "tensor(-0.2365)\n",
            "[iteration 0301] loss: 0.8219\n",
            "tensor(-0.2414)\n",
            "tensor(-0.2279)\n",
            "[iteration 0401] loss: 0.8377\n",
            "tensor(-0.2289)\n",
            "tensor(-0.2340)\n",
            "[iteration 0501] loss: 0.8486\n",
            "tensor(-0.2215)\n",
            "tensor(-0.2250)\n",
            "[iteration 0601] loss: 0.8172\n",
            "tensor(-0.2392)\n",
            "tensor(-0.2226)\n",
            "[iteration 0701] loss: 0.8275\n",
            "tensor(-0.2357)\n",
            "tensor(-0.2684)\n",
            "[iteration 0801] loss: 0.8231\n",
            "tensor(-0.2486)\n",
            "tensor(-0.2504)\n",
            "[iteration 0901] loss: 0.8340\n",
            "tensor(-0.2199)\n",
            "tensor(-0.2686)\n",
            "[iteration 1001] loss: 0.8247\n",
            "tensor(-0.2318)\n",
            "tensor(-0.2859)\n",
            "[iteration 1101] loss: 0.8209\n",
            "tensor(-0.2251)\n",
            "tensor(-0.2211)\n",
            "[iteration 1201] loss: 0.8246\n",
            "tensor(-0.2454)\n",
            "tensor(-0.2241)\n",
            "[iteration 1301] loss: 0.8232\n",
            "tensor(-0.2003)\n",
            "tensor(-0.2415)\n",
            "[iteration 1401] loss: 0.8227\n",
            "tensor(-0.2384)\n",
            "tensor(-0.2425)\n",
            "[iteration 1501] loss: 0.8425\n",
            "tensor(-0.2332)\n",
            "tensor(-0.2397)\n",
            "[iteration 1601] loss: 0.8240\n",
            "tensor(-0.2988)\n",
            "tensor(-0.2389)\n",
            "[iteration 1701] loss: 0.8206\n",
            "tensor(-0.2459)\n",
            "tensor(-0.2572)\n",
            "[iteration 1801] loss: 0.8233\n",
            "tensor(-0.2239)\n",
            "tensor(-0.2261)\n",
            "[iteration 1901] loss: 0.8159\n",
            "tensor(-0.2411)\n",
            "tensor(-0.2537)\n"
          ]
        }
      ]
    },
    {
      "cell_type": "code",
      "source": [
        "test_obs[0]"
      ],
      "metadata": {
        "colab": {
          "base_uri": "https://localhost:8080/"
        },
        "id": "i6gcSxmW4AVR",
        "outputId": "0b70dcf0-4df1-4361-ddd8-8768728dd14e"
      },
      "execution_count": 14,
      "outputs": [
        {
          "output_type": "execute_result",
          "data": {
            "text/plain": [
              "tensor([-0.2303, -0.3146, -0.6047,  0.9967, -0.7925, -0.1717, -0.8014, -0.3574,\n",
              "         0.1649,  0.2467,  0.3326, -0.1133,  0.2615, -1.3690, -0.3570,  0.6282,\n",
              "         0.3765,  0.0887, -1.0627, -0.9930])"
            ]
          },
          "metadata": {},
          "execution_count": 14
        }
      ]
    },
    {
      "cell_type": "code",
      "source": [
        "y_test"
      ],
      "metadata": {
        "colab": {
          "base_uri": "https://localhost:8080/"
        },
        "id": "7c07bdKT4Brx",
        "outputId": "53386383-9d02-49fd-e2e8-dc4761514fb6"
      },
      "execution_count": 15,
      "outputs": [
        {
          "output_type": "execute_result",
          "data": {
            "text/plain": [
              "tensor([[-0.2171],\n",
              "        [ 0.4406],\n",
              "        [-0.2959],\n",
              "        [ 0.5772],\n",
              "        [ 0.1957],\n",
              "        [-0.0404],\n",
              "        [ 0.0933],\n",
              "        [ 0.1302],\n",
              "        [ 0.3192],\n",
              "        [ 0.4035],\n",
              "        [-0.1028],\n",
              "        [ 0.1611],\n",
              "        [-0.5424],\n",
              "        [-0.4109],\n",
              "        [-0.3411],\n",
              "        [ 0.3014],\n",
              "        [-0.1120],\n",
              "        [ 0.0190],\n",
              "        [ 0.1094],\n",
              "        [-0.4765]])"
            ]
          },
          "metadata": {},
          "execution_count": 15
        }
      ]
    },
    {
      "cell_type": "code",
      "source": [
        "NormalDist(0,1).pdf(0)"
      ],
      "metadata": {
        "colab": {
          "base_uri": "https://localhost:8080/"
        },
        "id": "wl5jJJcptRh1",
        "outputId": "7dc16645-8a38-4f15-b204-83b4e3040d94"
      },
      "execution_count": 16,
      "outputs": [
        {
          "output_type": "execute_result",
          "data": {
            "text/plain": [
              "0.3989422804014327"
            ]
          },
          "metadata": {},
          "execution_count": 16
        }
      ]
    },
    {
      "cell_type": "code",
      "source": [
        "plt.plot(step_ids, average_log_predictives)\n",
        "plt.xlabel(\"step number\")\n",
        "plt.ylabel(\"Average log predictive MSE\")"
      ],
      "metadata": {
        "id": "WJqQu49Oo7l5",
        "colab": {
          "base_uri": "https://localhost:8080/",
          "height": 296
        },
        "outputId": "9fcb76e5-8a68-4b7e-e077-9594cde3c4bf"
      },
      "execution_count": 17,
      "outputs": [
        {
          "output_type": "execute_result",
          "data": {
            "text/plain": [
              "Text(0, 0.5, 'Average log predictive MSE')"
            ]
          },
          "metadata": {},
          "execution_count": 17
        },
        {
          "output_type": "display_data",
          "data": {
            "text/plain": [
              "<Figure size 432x288 with 1 Axes>"
            ],
            "image/png": "[encoded data removed]"
          },
          "metadata": {
            "needs_background": "light"
          }
        }
      ]
    },
    {
      "cell_type": "code",
      "source": [
        "guide.requires_grad_(False)\n",
        "\n",
        "for name, value in pyro.get_param_store().items():\n",
        "    print(name, pyro.param(name))"
      ],
      "metadata": {
        "colab": {
          "base_uri": "https://localhost:8080/"
        },
        "id": "0d1xuJ9vMRgb",
        "outputId": "51ce1c3c-5de5-49b8-d1d3-8d2c72229030"
      },
      "execution_count": 103,
      "outputs": [
        {
          "output_type": "stream",
          "name": "stdout",
          "text": [
            "AutoDiagonalNormal.loc Parameter containing:\n",
            "tensor([13.3730])\n",
            "AutoDiagonalNormal.scale tensor([0.1569])\n"
          ]
        }
      ]
    },
    {
      "cell_type": "code",
      "source": [
        "print('Actual value of w: {}'.format(w))\n",
        "print('Fitted median of posterior: {}'.format(guide.quantiles([0.5])))"
      ],
      "metadata": {
        "colab": {
          "base_uri": "https://localhost:8080/"
        },
        "id": "acBWJLhMMlpm",
        "outputId": "f539973a-4a3e-4c1c-d348-2780f17fe2d8"
      },
      "execution_count": 104,
      "outputs": [
        {
          "output_type": "stream",
          "name": "stdout",
          "text": [
            "Actual value of w: [[13.41762172]]\n",
            "Fitted median of posterior: {'linear.weight': tensor([[[13.3730]]])}\n"
          ]
        }
      ]
    },
    {
      "cell_type": "code",
      "source": [
        "guide.quantiles([0.5])"
      ],
      "metadata": {
        "id": "ajFMRKzPT1w7",
        "colab": {
          "base_uri": "https://localhost:8080/"
        },
        "outputId": "66af8e03-ee3d-460e-9326-b9f7b4f5cbfd"
      },
      "execution_count": 105,
      "outputs": [
        {
          "output_type": "execute_result",
          "data": {
            "text/plain": [
              "{'linear.weight': tensor([[[13.3730]]])}"
            ]
          },
          "metadata": {},
          "execution_count": 105
        }
      ]
    },
    {
      "cell_type": "code",
      "source": [
        "x_train.shape"
      ],
      "metadata": {
        "colab": {
          "base_uri": "https://localhost:8080/"
        },
        "id": "HIIYwRxdAwOX",
        "outputId": "7af6302c-063d-4333-c28f-e9bf7fdff0c5"
      },
      "execution_count": 141,
      "outputs": [
        {
          "output_type": "execute_result",
          "data": {
            "text/plain": [
              "torch.Size([80, 10])"
            ]
          },
          "metadata": {},
          "execution_count": 141
        }
      ]
    },
    {
      "cell_type": "code",
      "source": [
        "from pyro.infer import MCMC, NUTS, HMC\n",
        "nuts_kernel = NUTS(model, jit_compile=False, step_size=1)\n",
        "num_samples = 200\n",
        "\n",
        "mcmc = MCMC(\n",
        "    nuts_kernel,\n",
        "    num_samples=num_samples,\n",
        "    warmup_steps=100,\n",
        "    num_chains=1,\n",
        ")\n",
        "\n",
        "\n",
        "mcmc_step_ids = []\n",
        "mcmc_average_test_log_accuracy = []\n",
        "\n",
        "mse_loss = torch.nn.MSELoss()\n",
        "\n",
        "for i in range(10):\n",
        "\n",
        "  mcmc.run(x_train, y_train)\n",
        "  #mcmc.summary(prob=0.5)\n",
        "  #diagnostics = mcmc.diagnostics()\n",
        "\n",
        "  print(diagnostics)\n",
        "  samples = mcmc.get_samples()\n",
        "  mcmc_predictive = Predictive(model, samples)\n",
        "  \n",
        "  test_obs = mcmc_predictive(x_test, None)['obs']\n",
        "  train_obs = mcmc_predictive(x_train, None)['obs']\n",
        "  print(test_obs[0])\n",
        "  print(y_test[0])\n",
        "\n",
        "  print(train_obs[0])\n",
        "  print(y_train[0])\n",
        "\n",
        "  average_test_log_accuracy = torch.mean(torch.log(mse_loss(test_obs, torch.tile(np.squeeze(y_test), (len(test_obs), 1)))))\n",
        "  average_train_log_accuracy = torch.mean(torch.log(mse_loss(train_obs, torch.tile(np.squeeze(y_train), (len(train_obs), 1)))))\n",
        "  print(average_train_log_accuracy)\n",
        "  print(average_test_log_accuracy)\n",
        "  mcmc_step_ids.append(i*num_samples)\n",
        "  mcmc_average_test_log_accuracy.append(average_test_log_accuracy)"
      ],
      "metadata": {
        "id": "VIBh7h2muCl-",
        "colab": {
          "base_uri": "https://localhost:8080/"
        },
        "outputId": "5a88647c-ed6f-4307-ce97-e99eaa6f6ee2"
      },
      "execution_count": 38,
      "outputs": [
        {
          "output_type": "stream",
          "name": "stderr",
          "text": [
            "Sample: 100%|██████████| 300/300 [00:02, 142.99it/s, step size=8.50e-01, acc. prob=0.938]\n"
          ]
        },
        {
          "output_type": "stream",
          "name": "stdout",
          "text": [
            "{'linear.weight': OrderedDict([('n_eff', tensor([[95.2513]])), ('r_hat', tensor([[0.9951]]))]), 'divergences': {'chain 0': []}, 'acceptance rate': {'chain 0': 0.97}}\n",
            "tensor([ 0.1089, -0.5878,  1.0356, -0.5184,  1.0835, -0.5418, -0.3164, -0.3468,\n",
            "         0.6241,  0.2418,  0.2635,  1.0191, -0.4989, -1.7539,  2.1181, -0.4484,\n",
            "        -0.8091, -1.1184, -0.0139, -1.6690])\n",
            "tensor([-0.2171])\n",
            "tensor([-0.2804, -1.2956, -1.7418,  0.4332,  1.0775, -0.5718,  1.6834,  0.2837,\n",
            "        -2.1782, -0.1252,  0.7037,  0.5081,  0.4392,  0.2478,  1.9090,  0.2424,\n",
            "         0.7215,  0.4926, -1.0732, -1.6874, -0.6593, -0.5671,  0.8140,  0.9842,\n",
            "         1.4336,  0.3502, -0.2906, -0.3515, -1.3654, -0.0214,  0.3860, -1.7385,\n",
            "         1.5970,  0.4214,  0.3758, -0.0113, -0.1942, -1.3491, -0.8018,  0.0166,\n",
            "         0.1062,  1.5913,  0.4246, -0.2129, -0.6871,  0.5183,  1.0274, -0.9787,\n",
            "         0.2252, -0.2504, -1.4032, -0.2898, -0.4158, -1.5903, -1.0358, -0.3100,\n",
            "        -0.7148,  0.6388, -0.1188, -1.5219, -0.8012, -0.5693,  0.0521,  0.7819,\n",
            "        -0.2026,  0.1401, -1.3169, -0.3111,  0.3994, -0.6696, -0.4025, -0.6649,\n",
            "         1.4355, -0.9878,  1.2579, -0.7380,  1.0076,  0.8564, -0.0544,  1.2043])\n",
            "tensor([0.0877])\n",
            "tensor(-0.1178)\n",
            "tensor(-0.1269)\n"
          ]
        },
        {
          "output_type": "stream",
          "name": "stderr",
          "text": [
            "Sample: 100%|██████████| 300/300 [00:01, 214.27it/s, step size=1.07e+00, acc. prob=0.880]\n"
          ]
        },
        {
          "output_type": "stream",
          "name": "stdout",
          "text": [
            "{'linear.weight': OrderedDict([('n_eff', tensor([[76.1820]])), ('r_hat', tensor([[0.9951]]))]), 'divergences': {'chain 0': []}, 'acceptance rate': {'chain 0': 0.915}}\n",
            "tensor([-0.3298, -0.3345,  1.5878,  0.6321,  0.0483, -0.3298, -0.8184,  0.0915,\n",
            "         0.1177, -1.0254, -1.5448, -1.9561, -0.3904,  0.0046,  0.0429,  0.8676,\n",
            "        -0.1253, -0.0217, -1.1959,  0.0168])\n",
            "tensor([-0.2171])\n",
            "tensor([ 1.7701e+00, -8.9344e-02,  1.6156e+00,  4.2510e-02, -8.9621e-01,\n",
            "        -5.3957e-01, -3.0083e-01, -2.1497e-01, -4.9875e-01, -5.9283e-01,\n",
            "        -5.5255e-01, -1.5678e+00, -8.9477e-01,  2.5816e-02,  2.5636e-01,\n",
            "         4.2050e-01,  1.3147e-01,  2.1079e-01,  7.9325e-01, -5.5785e-01,\n",
            "        -6.2330e-01,  9.8672e-02,  9.5765e-01, -2.5137e+00, -1.2333e+00,\n",
            "        -1.2658e+00, -1.2552e+00,  3.7464e-01,  1.5298e+00, -4.9221e-01,\n",
            "        -1.6090e-01,  3.3169e-01,  1.5625e+00,  7.3941e-01, -5.2393e-01,\n",
            "        -4.1063e-01, -6.0027e-01, -9.1478e-01, -1.7954e+00,  1.2587e+00,\n",
            "        -2.3962e-03, -1.2147e+00, -1.6373e-02,  8.5611e-01, -1.2952e+00,\n",
            "        -5.9459e-01, -2.7231e+00,  4.9361e-02, -1.4330e+00,  1.9232e-03,\n",
            "        -3.2768e-01, -1.1990e+00,  9.2585e-01, -1.1997e-01,  1.0258e+00,\n",
            "         4.0399e-01, -7.3214e-01,  7.1735e-01,  7.8319e-01, -3.8227e-01,\n",
            "        -2.7695e-01,  6.0762e-01,  5.6434e-01,  3.1298e-01, -1.9378e+00,\n",
            "        -3.7420e-01, -3.9596e-01,  7.7962e-01,  8.3284e-01,  1.0301e+00,\n",
            "        -8.2826e-02,  4.9153e-01,  4.0731e-01, -6.0251e-01,  4.2256e-02,\n",
            "        -8.3948e-01, -9.9725e-01,  1.0050e+00, -1.1748e+00,  1.5656e-01])\n",
            "tensor([0.0877])\n",
            "tensor(-0.1075)\n",
            "tensor(-0.1434)\n"
          ]
        },
        {
          "output_type": "stream",
          "name": "stderr",
          "text": [
            "Sample: 100%|██████████| 300/300 [00:01, 154.13it/s, step size=5.30e-01, acc. prob=0.968]\n"
          ]
        },
        {
          "output_type": "stream",
          "name": "stdout",
          "text": [
            "{'linear.weight': OrderedDict([('n_eff', tensor([[43.1782]])), ('r_hat', tensor([[0.9997]]))]), 'divergences': {'chain 0': []}, 'acceptance rate': {'chain 0': 0.995}}\n",
            "tensor([ 0.3841,  0.3897,  0.9233, -0.7715, -1.0504, -0.2728,  1.3818,  0.1877,\n",
            "        -1.0242,  1.5895,  2.1960, -0.7221, -1.1566, -0.3786,  0.0139,  0.0414,\n",
            "        -0.7761, -0.3431, -0.6997,  0.2026])\n",
            "tensor([-0.2171])\n",
            "tensor([ 0.1757, -0.2922,  0.1051,  0.2551, -1.2743, -0.7667, -0.2774, -0.5886,\n",
            "        -0.5629,  0.0056,  1.3260,  0.0680,  0.9001, -1.6310, -0.7223, -0.4222,\n",
            "         0.0432,  1.7647,  1.0127,  0.2544,  0.6945,  0.3108, -0.0907, -0.5199,\n",
            "         0.2847,  1.4172,  0.4484, -2.5483, -1.5004,  0.6354,  1.3746,  0.2571,\n",
            "         0.3645, -1.4896,  0.5265, -0.2323,  0.7201, -0.8408, -0.6626, -0.1402,\n",
            "        -0.0296, -0.2344,  0.3216, -1.0775,  0.8662,  1.2212,  0.0943,  0.5463,\n",
            "         0.3404,  0.1144,  0.6171,  0.1356, -0.0486, -0.5817, -0.8171,  2.3083,\n",
            "         0.4467, -0.0591,  1.4567,  0.1474, -0.1464,  0.1592, -0.2083,  0.5796,\n",
            "        -0.2779,  2.8746,  0.8637,  0.9499,  0.4576, -1.5323, -0.5905,  0.0918,\n",
            "        -0.5457, -1.6008,  1.3985, -0.0415, -0.4984, -0.3309,  0.0307,  0.8438])\n",
            "tensor([0.0877])\n",
            "tensor(-0.1108)\n",
            "tensor(-0.1361)\n"
          ]
        },
        {
          "output_type": "stream",
          "name": "stderr",
          "text": [
            "Sample: 100%|██████████| 300/300 [00:01, 186.47it/s, step size=9.43e-01, acc. prob=0.895]\n"
          ]
        },
        {
          "output_type": "stream",
          "name": "stdout",
          "text": [
            "{'linear.weight': OrderedDict([('n_eff', tensor([[86.6302]])), ('r_hat', tensor([[1.0071]]))]), 'divergences': {'chain 0': []}, 'acceptance rate': {'chain 0': 0.92}}\n",
            "tensor([ 1.2169,  0.3561, -1.5274,  0.0933, -0.1118, -0.6855,  1.3271, -0.1079,\n",
            "         0.2108,  1.4925,  1.0379,  0.0095,  0.2439, -0.8525, -0.9460,  0.2150,\n",
            "        -2.4446,  0.9809,  1.7823,  1.2224])\n",
            "tensor([-0.2171])\n",
            "tensor([-7.9853e-01, -1.4389e-01,  2.1788e-02,  7.3920e-02, -6.9861e-01,\n",
            "        -3.3570e-01, -1.6443e-01,  2.0628e-01,  1.2703e-01,  5.9366e-01,\n",
            "        -9.6325e-01,  1.3092e-01,  4.8997e-01,  1.7296e+00,  1.1707e+00,\n",
            "        -1.6113e+00,  1.8674e+00,  5.6316e-02,  3.1380e-01,  1.3419e-04,\n",
            "         3.4259e-01, -1.9495e-01,  1.4929e+00, -5.6453e-01, -2.3912e-01,\n",
            "         1.4380e+00, -5.2947e-01, -2.3287e+00, -9.2126e-01,  8.5431e-01,\n",
            "        -8.6235e-01, -7.0240e-01,  6.8611e-02,  6.1809e-01, -2.4622e-01,\n",
            "         2.0660e+00,  2.4245e+00,  4.8456e-01, -3.6878e-01, -7.8267e-02,\n",
            "        -1.3299e+00, -4.2808e-02, -1.5186e+00,  4.8280e-01,  3.1967e-02,\n",
            "        -6.4063e-01,  9.7287e-01, -5.1106e-01, -9.0765e-01, -7.9321e-01,\n",
            "        -9.2993e-01,  1.0763e+00,  4.9484e-02,  4.7763e-02, -3.7759e-01,\n",
            "        -1.8660e+00,  1.2693e+00, -1.5544e-01, -1.0550e+00, -5.4221e-01,\n",
            "        -4.7719e-01, -1.0946e+00,  8.4546e-02, -4.9201e-01,  2.1723e+00,\n",
            "         7.6625e-01,  9.3357e-01, -4.4470e-01,  6.3200e-01,  2.7664e-01,\n",
            "        -7.7831e-01,  6.1304e-01,  9.6505e-01, -5.8425e-01,  2.6663e-01,\n",
            "         6.1624e-01, -7.9485e-01,  3.6761e-01, -2.6536e-01, -2.2872e-01])\n",
            "tensor([0.0877])\n",
            "tensor(-0.1176)\n",
            "tensor(-0.1367)\n"
          ]
        },
        {
          "output_type": "stream",
          "name": "stderr",
          "text": [
            "Sample: 100%|██████████| 300/300 [00:01, 207.73it/s, step size=8.70e-01, acc. prob=0.931]\n"
          ]
        },
        {
          "output_type": "stream",
          "name": "stdout",
          "text": [
            "{'linear.weight': OrderedDict([('n_eff', tensor([[76.5066]])), ('r_hat', tensor([[1.0288]]))]), 'divergences': {'chain 0': []}, 'acceptance rate': {'chain 0': 0.945}}\n",
            "tensor([-0.6497,  0.1233,  0.3573, -0.4539, -0.5474, -0.8303, -1.1369, -0.4748,\n",
            "         0.2582, -0.3557,  0.2694,  0.2051,  0.9743, -0.0076, -0.3878, -1.1854,\n",
            "         0.4023,  0.8576, -1.9877,  0.7496])\n",
            "tensor([-0.2171])\n",
            "tensor([ 0.5607, -1.6848, -0.0188,  0.2792, -1.9629, -0.2895, -1.0880,  1.3667,\n",
            "        -1.2305, -0.5941, -0.2674, -0.0075, -0.7756, -1.0843,  0.4759,  0.2522,\n",
            "         0.3016, -0.8581, -0.2755,  1.9815, -0.6432, -0.3197, -0.3089,  1.0636,\n",
            "         0.1364, -0.7554,  0.9654,  0.4044, -1.4733,  1.5230, -1.0290,  0.7130,\n",
            "        -0.5049, -0.3997,  0.7210,  0.4639,  0.9535,  2.0187,  1.7530, -0.2950,\n",
            "        -0.4222,  0.4556, -0.6773,  0.5350, -0.5589, -0.6375, -0.5300,  0.7930,\n",
            "        -0.3367, -1.1089, -0.2949,  0.4619, -0.5393, -0.5242, -0.0410,  0.0471,\n",
            "        -0.9289,  0.8580, -0.6745, -0.0495,  0.6670, -1.0806,  0.1739,  1.3381,\n",
            "        -0.6253,  1.5603, -0.3992, -0.1882,  0.7096,  0.1671, -0.8435, -0.3316,\n",
            "        -0.2427, -1.2512, -1.2670, -0.6344,  1.4503,  0.6620, -0.2087,  0.7585])\n",
            "tensor([0.0877])\n",
            "tensor(-0.1124)\n",
            "tensor(-0.1558)\n"
          ]
        },
        {
          "output_type": "stream",
          "name": "stderr",
          "text": [
            "Sample: 100%|██████████| 300/300 [00:01, 210.87it/s, step size=1.18e+00, acc. prob=0.816]\n"
          ]
        },
        {
          "output_type": "stream",
          "name": "stdout",
          "text": [
            "{'linear.weight': OrderedDict([('n_eff', tensor([[133.1688]])), ('r_hat', tensor([[0.9951]]))]), 'divergences': {'chain 0': []}, 'acceptance rate': {'chain 0': 0.91}}\n",
            "tensor([-0.2783, -1.1077,  0.0470, -0.0483, -0.2857, -0.1462,  0.7891, -0.5943,\n",
            "         0.4024,  1.4273,  0.6795, -1.3530, -0.1495, -0.5243, -1.5231,  0.0342,\n",
            "         1.0292, -0.2090,  0.7121,  0.1286])\n",
            "tensor([-0.2171])\n",
            "tensor([ 0.0662, -0.6536, -0.4266,  1.1221, -0.8421,  1.5451,  0.5285,  0.0384,\n",
            "        -0.3334, -0.4842, -0.3569, -0.6688, -1.2979,  0.5322,  0.2020, -1.1705,\n",
            "         1.7167, -1.2904, -0.5186, -1.6649, -1.9641, -1.0586, -0.3229, -1.0320,\n",
            "        -0.5032,  0.2142, -0.5176, -0.0996,  1.2379,  0.0978, -0.1695, -0.8741,\n",
            "         0.5989,  0.3855,  0.4015, -0.6998, -3.5055,  0.0646,  0.8113, -0.3044,\n",
            "        -1.8095,  0.4044,  0.6600, -1.2003, -0.2500,  0.2161,  1.2306, -0.2543,\n",
            "        -0.9099, -0.5621,  0.4130, -0.5200,  0.1022, -0.3546, -1.2500, -2.2817,\n",
            "        -0.0107,  1.0602,  0.3330,  0.8588,  1.1214, -1.2937,  0.4788, -1.9202,\n",
            "        -0.1164,  1.9605, -1.8405,  1.3689,  0.5102, -1.8550,  0.9558, -0.9844,\n",
            "         0.9383,  0.3688,  1.1816, -0.5147, -1.1855,  0.5168, -0.1298,  0.3272])\n",
            "tensor([0.0877])\n",
            "tensor(-0.1156)\n",
            "tensor(-0.1196)\n"
          ]
        },
        {
          "output_type": "stream",
          "name": "stderr",
          "text": [
            "Sample: 100%|██████████| 300/300 [00:01, 246.57it/s, step size=1.28e+00, acc. prob=0.675]\n"
          ]
        },
        {
          "output_type": "stream",
          "name": "stdout",
          "text": [
            "{'linear.weight': OrderedDict([('n_eff', tensor([[184.7250]])), ('r_hat', tensor([[0.9982]]))]), 'divergences': {'chain 0': []}, 'acceptance rate': {'chain 0': 0.69}}\n",
            "tensor([ 1.3472,  0.4537, -0.5311,  0.2167,  0.1464,  0.3592,  1.4806, -1.2748,\n",
            "         0.0619,  0.8933, -0.3774,  1.5311, -0.8358, -0.2804,  0.3515,  1.3824,\n",
            "         1.0674,  1.0888,  1.2722, -0.9611])\n",
            "tensor([-0.2171])\n",
            "tensor([ 0.5701,  0.6762, -0.3814, -0.6790, -0.2116, -1.0312,  0.2429,  0.3474,\n",
            "        -0.2141,  1.7522, -1.2321,  0.9141,  0.2925,  2.0217,  0.4172, -0.3991,\n",
            "        -1.0816, -0.9937, -0.3413,  0.2225,  1.1942, -0.7645,  0.4820, -0.4696,\n",
            "         0.9179, -0.2349,  0.1992, -0.1472, -0.2054,  0.4938, -1.5455,  0.7314,\n",
            "         0.9609,  0.0212, -1.9763,  0.1073, -1.3578,  0.0079, -1.6460, -0.5547,\n",
            "        -1.5578,  0.5287,  1.5053, -0.5349,  0.7506, -0.1453, -0.4300, -0.7755,\n",
            "        -0.8811,  1.3467, -0.3143, -0.5724,  0.2293, -0.1652, -1.8831,  0.4163,\n",
            "        -0.0915,  0.2423,  1.3326, -1.5745, -1.7882,  1.1026,  0.3137,  0.9816,\n",
            "        -0.2779,  0.0595, -0.4716, -1.1205, -1.4641,  2.1080, -0.4765, -1.5702,\n",
            "         0.7920,  0.7459, -0.4097,  0.2478,  0.6191, -0.3141,  0.5660,  1.4867])\n",
            "tensor([0.0877])\n",
            "tensor(-0.1331)\n",
            "tensor(-0.1678)\n"
          ]
        },
        {
          "output_type": "stream",
          "name": "stderr",
          "text": [
            "Sample: 100%|██████████| 300/300 [00:02, 144.64it/s, step size=6.40e-01, acc. prob=0.964]\n"
          ]
        },
        {
          "output_type": "stream",
          "name": "stdout",
          "text": [
            "{'linear.weight': OrderedDict([('n_eff', tensor([[62.3715]])), ('r_hat', tensor([[1.0142]]))]), 'divergences': {'chain 0': []}, 'acceptance rate': {'chain 0': 0.99}}\n",
            "tensor([-0.2796, -0.3652, -1.2182,  0.3267,  0.5324, -0.6619, -0.5018,  0.0311,\n",
            "        -0.0327,  0.9244,  0.0116, -0.2701,  0.8323,  0.2888, -0.0159, -0.7694,\n",
            "        -0.5520,  0.9062,  0.1092,  0.5184])\n",
            "tensor([-0.2171])\n",
            "tensor([-0.0268,  0.8212,  0.0239,  0.8444, -0.4041, -0.9492,  0.1166,  0.5458,\n",
            "        -0.6199, -1.0047,  0.4103,  0.9630,  0.0032,  2.0960,  1.1587, -0.2147,\n",
            "        -0.3582,  0.5720,  0.1614,  0.7794, -0.1482, -0.1789, -0.0797,  0.2651,\n",
            "        -1.1334,  1.1482, -0.6743, -2.2520,  1.0716, -0.3522,  1.5318, -0.7038,\n",
            "         0.0448,  0.2756, -0.4104, -0.1088,  1.5193, -0.0634, -0.3907, -0.0265,\n",
            "         0.4113, -0.8039, -0.2321, -0.8251, -0.5118, -0.5673,  2.4093, -0.6342,\n",
            "         0.6135,  0.3917,  1.1757, -0.7285, -0.1314, -0.0761, -1.1982, -0.0892,\n",
            "        -0.0470,  1.4206,  0.1079,  1.4820, -0.7041,  0.2788,  1.0161, -0.6575,\n",
            "        -0.6345,  1.4121, -1.2626,  0.5207,  1.8414, -1.3206, -1.3783,  0.3470,\n",
            "         0.1992,  0.5936,  0.3968, -0.0857,  0.3136, -0.1712, -0.8367, -1.3712])\n",
            "tensor([0.0877])\n",
            "tensor(-0.1354)\n",
            "tensor(-0.1215)\n"
          ]
        },
        {
          "output_type": "stream",
          "name": "stderr",
          "text": [
            "Sample: 100%|██████████| 300/300 [00:01, 161.24it/s, step size=5.87e-01, acc. prob=0.950]\n"
          ]
        },
        {
          "output_type": "stream",
          "name": "stdout",
          "text": [
            "{'linear.weight': OrderedDict([('n_eff', tensor([[131.1162]])), ('r_hat', tensor([[0.9951]]))]), 'divergences': {'chain 0': []}, 'acceptance rate': {'chain 0': 0.965}}\n",
            "tensor([-0.7773,  0.6136,  0.1069, -0.9184, -0.9251,  0.5138, -1.3453,  0.9210,\n",
            "         1.5331, -0.0928,  0.6065,  0.6687, -0.0370,  1.9841, -0.3735,  0.3318,\n",
            "        -0.1429,  0.1591, -0.1929,  1.4866])\n",
            "tensor([-0.2171])\n",
            "tensor([-1.1368, -0.4269,  0.5309,  1.0875,  0.1679, -0.1675,  0.9258, -0.2049,\n",
            "         0.4120, -1.5970,  0.6043,  0.4557, -1.2607,  0.5226, -0.3901, -0.2252,\n",
            "        -0.4254, -0.2120, -0.8363, -0.9958,  2.0476,  0.0475, -1.4629,  1.6334,\n",
            "        -0.1637,  0.7880,  0.7262,  0.1471, -1.2638, -0.3212, -0.8714, -2.1601,\n",
            "        -0.1786,  0.4498,  0.1498,  1.7457, -1.3100, -1.2261,  0.7868, -1.1009,\n",
            "         0.2803,  0.0606,  0.8947, -0.8641, -0.9234,  0.1484,  1.7471, -0.5602,\n",
            "        -0.1289,  1.1009, -1.5132,  0.0695,  1.4941,  0.2933,  0.0776,  0.6728,\n",
            "         0.9048, -0.1830, -0.5001,  0.3552, -0.0237, -1.2029, -1.5462,  0.1761,\n",
            "         0.6716,  0.5690,  1.5501,  0.8400,  0.6515,  0.2994,  0.4252, -0.2038,\n",
            "        -0.0903, -0.3174, -0.1191, -0.7242, -0.2430,  0.1509, -1.7829,  0.3725])\n",
            "tensor([0.0877])\n",
            "tensor(-0.1137)\n",
            "tensor(-0.1370)\n"
          ]
        },
        {
          "output_type": "stream",
          "name": "stderr",
          "text": [
            "Sample: 100%|██████████| 300/300 [00:01, 197.82it/s, step size=8.45e-01, acc. prob=0.908]\n"
          ]
        },
        {
          "output_type": "stream",
          "name": "stdout",
          "text": [
            "{'linear.weight': OrderedDict([('n_eff', tensor([[107.6428]])), ('r_hat', tensor([[1.0261]]))]), 'divergences': {'chain 0': []}, 'acceptance rate': {'chain 0': 0.935}}\n",
            "tensor([-0.3612,  0.7571,  1.9885, -2.5343,  1.7598, -0.8409, -1.1702,  0.9699,\n",
            "         1.1073, -1.3280, -0.5773,  0.0747,  0.2150,  0.5801,  0.0174,  0.4283,\n",
            "         2.1796, -1.3843, -0.6281, -0.1917])\n",
            "tensor([-0.2171])\n",
            "tensor([ 0.2214,  0.1388, -0.8943,  0.6639,  0.6619,  0.8040, -0.1283, -0.0038,\n",
            "         1.1079,  0.2224, -2.7888, -1.1729,  0.4014,  0.2699,  1.4307,  0.8384,\n",
            "        -0.3187,  0.5594, -1.6078,  1.1580,  0.0626,  0.5824,  0.4470,  1.2296,\n",
            "        -0.3263, -1.3644, -0.2244,  1.2274,  0.3947,  0.1431,  0.3325, -0.0061,\n",
            "         1.2691, -0.5190, -0.1898, -0.3656,  0.3829, -0.4631,  1.8996, -0.1105,\n",
            "         1.2884,  0.2707, -0.0285, -0.2712,  0.4244, -1.2617, -0.3444, -0.6652,\n",
            "        -1.1953, -0.9326,  1.2173, -0.0632, -0.9153,  0.5850,  0.2296, -1.2128,\n",
            "        -0.9236, -1.5271,  0.1708,  1.0514, -2.0371,  0.3204,  1.0087,  0.5240,\n",
            "         1.7212, -0.8496,  1.0164,  1.3931,  1.3308, -0.3431,  0.1163,  0.4115,\n",
            "        -0.2552,  0.1700,  0.7975,  1.5958, -1.4326, -0.7757, -0.9765, -0.6332])\n",
            "tensor([0.0877])\n",
            "tensor(-0.1253)\n",
            "tensor(-0.1338)\n"
          ]
        }
      ]
    },
    {
      "cell_type": "code",
      "source": [
        "plt.plot(step_ids, average_log_predictives)\n",
        "plt.xlabel(\"step number\")\n",
        "plt.ylabel(\"Average log predictive MSE\")\n",
        "plt.plot(mcmc_step_ids, mcmc_average_test_log_accuracy)"
      ],
      "metadata": {
        "colab": {
          "base_uri": "https://localhost:8080/",
          "height": 296
        },
        "id": "wgmKufp2wetj",
        "outputId": "3eae102c-c1fd-4420-9fb4-4acf6f116329"
      },
      "execution_count": 39,
      "outputs": [
        {
          "output_type": "execute_result",
          "data": {
            "text/plain": [
              "[<matplotlib.lines.Line2D at 0x7f1fe864bad0>]"
            ]
          },
          "metadata": {},
          "execution_count": 39
        },
        {
          "output_type": "display_data",
          "data": {
            "text/plain": [
              "<Figure size 432x288 with 1 Axes>"
            ],
            "image/png": "[encoded data removed]"
          },
          "metadata": {
            "needs_background": "light"
          }
        }
      ]
    },
    {
      "cell_type": "code",
      "source": [
        ""
      ],
      "metadata": {
        "id": "5PypXV1dw2Rb"
      },
      "execution_count": null,
      "outputs": []
    }
  ]
}