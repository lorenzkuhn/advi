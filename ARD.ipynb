{
  "nbformat": 4,
  "nbformat_minor": 0,
  "metadata": {
    "colab": {
      "name": "ARD.ipynb",
      "provenance": [],
      "collapsed_sections": [],
      "include_colab_link": true
    },
    "kernelspec": {
      "name": "python3",
      "display_name": "Python 3"
    },
    "language_info": {
      "name": "python"
    }
  },
  "cells": [
    {
      "cell_type": "markdown",
      "metadata": {
        "id": "view-in-github",
        "colab_type": "text"
      },
      "source": [
        "<a href=\"https://colab.research.google.com/github/lorenzkuhn/advi/blob/main/ARD.ipynb\" target=\"_parent\"><img src=\"https://colab.research.google.com/assets/colab-badge.svg\" alt=\"Open In Colab\"/></a>"
      ]
    },
    {
      "cell_type": "code",
      "execution_count": null,
      "metadata": {
        "colab": {
          "base_uri": "https://localhost:8080/"
        },
        "id": "WftQNyWmExQD",
        "outputId": "914f3a63-dc20-4c02-c75b-8dd143e3f285"
      },
      "outputs": [
        {
          "output_type": "stream",
          "name": "stdout",
          "text": [
            "Collecting pyro-ppl\n",
            "  Downloading pyro_ppl-1.8.1-py3-none-any.whl (718 kB)\n",
            "\u001b[K     |████████████████████████████████| 718 kB 5.2 MB/s \n",
            "\u001b[?25hRequirement already satisfied: opt-einsum>=2.3.2 in /usr/local/lib/python3.7/dist-packages (from pyro-ppl) (3.3.0)\n",
            "Collecting torch>=1.11.0\n",
            "  Downloading torch-1.11.0-cp37-cp37m-manylinux1_x86_64.whl (750.6 MB)\n",
            "\u001b[K     |████████████████████████████████| 750.6 MB 11 kB/s \n",
            "\u001b[?25hRequirement already satisfied: numpy>=1.7 in /usr/local/lib/python3.7/dist-packages (from pyro-ppl) (1.21.5)\n",
            "Collecting pyro-api>=0.1.1\n",
            "  Downloading pyro_api-0.1.2-py3-none-any.whl (11 kB)\n",
            "Requirement already satisfied: tqdm>=4.36 in /usr/local/lib/python3.7/dist-packages (from pyro-ppl) (4.63.0)\n",
            "Requirement already satisfied: typing-extensions in /usr/local/lib/python3.7/dist-packages (from torch>=1.11.0->pyro-ppl) (3.10.0.2)\n",
            "Installing collected packages: torch, pyro-api, pyro-ppl\n",
            "  Attempting uninstall: torch\n",
            "    Found existing installation: torch 1.10.0+cu111\n",
            "    Uninstalling torch-1.10.0+cu111:\n",
            "      Successfully uninstalled torch-1.10.0+cu111\n",
            "\u001b[31mERROR: pip's dependency resolver does not currently take into account all the packages that are installed. This behaviour is the source of the following dependency conflicts.\n",
            "torchvision 0.11.1+cu111 requires torch==1.10.0, but you have torch 1.11.0 which is incompatible.\n",
            "torchtext 0.11.0 requires torch==1.10.0, but you have torch 1.11.0 which is incompatible.\n",
            "torchaudio 0.10.0+cu111 requires torch==1.10.0, but you have torch 1.11.0 which is incompatible.\u001b[0m\n",
            "Successfully installed pyro-api-0.1.2 pyro-ppl-1.8.1 torch-1.11.0\n"
          ]
        }
      ],
      "source": [
        "!pip3 install pyro-ppl "
      ]
    },
    {
      "cell_type": "code",
      "source": [
        "import torch\n",
        "import pyro\n",
        "from torch import nn\n",
        "from pyro.nn import PyroModule\n",
        "from pyro.nn import PyroSample\n",
        "import pyro.distributions as dist\n",
        "import pandas as pd\n",
        "import numpy as np\n",
        "from pyro.infer import MCMC, NUTS, Predictive\n",
        "import matplotlib.pyplot as plt"
      ],
      "metadata": {
        "id": "e_rlGFT2E4jg"
      },
      "execution_count": null,
      "outputs": []
    },
    {
      "cell_type": "code",
      "source": [
        "class ARDRegression(PyroModule):\n",
        "    def __init__(self, in_features, out_features):\n",
        "        super().__init__()\n",
        "        self.alpha = pyro.sample('alpha', dist.Gamma(torch.tensor([1.0]), torch.tensor([1.0])).expand([in_features]).to_event(1))\n",
        "        self.one_over_sqrt_alpha = 1/torch.sqrt(self.alpha)\n",
        "\n",
        "        self.sigma2 = pyro.sample('sigma2', dist.InverseGamma(torch.tensor([1.0]), torch.tensor([1.0])))\n",
        "        self.sigma = torch.sqrt(self.sigma2)\n",
        "\n",
        "        self.linear = PyroModule[nn.Linear](in_features, out_features, bias = False)\n",
        "        self.linear.weight = PyroSample(dist.Normal(0., self.sigma*self.one_over_sqrt_alpha).expand([out_features, in_features]).to_event(2))\n",
        "\n",
        "    def forward(self, x, y=None):\n",
        "        mean = self.linear(x).squeeze(-1)\n",
        "        with pyro.plate(\"data\", x.shape[0]):\n",
        "            obs = pyro.sample(\"obs\", dist.Normal(mean, self.sigma), obs=y)\n",
        "        return mean"
      ],
      "metadata": {
        "id": "SyJDQzNfFPzq"
      },
      "execution_count": null,
      "outputs": []
    },
    {
      "cell_type": "code",
      "source": [
        "# Making training data\n",
        "def make_training_data(num_samples, dims, sigma, mu=0):\n",
        "  \"\"\"\n",
        "  Creates training data when half of the regressors are 0\n",
        "  \"\"\"\n",
        "  x = np.random.randn(num_samples, dims).astype(np.float64)\n",
        "  w = sigma * np.random.randn(1,dims).astype(np.float64)\n",
        "  noise = np.random.randn(num_samples).astype(np.float64)\n",
        "  noise = 0\n",
        "  w[:,:int(dims/2)] = 0.\n",
        "  y = np.matmul(x, w.T) + (noise/2) + mu\n",
        "\n",
        "  y = torch.tensor(y, dtype = torch.float)\n",
        "  x = torch.tensor(x, dtype = torch.float)\n",
        "  return y, x, w\n",
        "\n",
        "\n",
        "def sep_training_test(y,x,test):\n",
        "  y_train = y[test:,:]\n",
        "  x_train = x[test:,:]\n",
        "  \n",
        "  y_test = y[:test,:]\n",
        "  x_test = x[:test,:]\n",
        "  return y_train, y_test, x_train, x_test\n",
        "\n",
        "num_features = 5\n",
        "\n",
        "y, x, w = make_training_data(1000, num_features, 0.1, mu=0)\n",
        "y_train, y_test, x_train, x_test = sep_training_test(y,x,20)"
      ],
      "metadata": {
        "id": "sHqVY44ENbxv"
      },
      "execution_count": null,
      "outputs": []
    },
    {
      "cell_type": "code",
      "source": [
        "from pyro.infer.autoguide import AutoDiagonalNormal\n",
        "from pyro.infer.autoguide import AutoContinuous\n",
        "from pyro.infer import SVI, Trace_ELBO\n",
        "\n",
        "model = ARDRegression(num_features, 1)\n",
        "guide = AutoDiagonalNormal(model)\n",
        "adam = pyro.optim.Adam({\"lr\": 0.03})\n",
        "svi = SVI(model, guide, adam, loss=Trace_ELBO())"
      ],
      "metadata": {
        "id": "zbGrMMidJfVQ"
      },
      "execution_count": null,
      "outputs": []
    },
    {
      "cell_type": "code",
      "source": [
        "from scipy.stats import norm as NormalDist\n",
        "\n",
        "pyro.clear_param_store()\n",
        "num_iterations = 2000\n",
        "step_ids = []\n",
        "average_log_predictives = []\n",
        "\n",
        "mse_loss = nn.MSELoss()\n",
        "\n",
        "for j in range(num_iterations):\n",
        "    # calculate the loss and take a gradient step\n",
        "    loss = svi.step(x_train, y_train.squeeze())\n",
        "    #step_ids.append(j)       \n",
        "\n",
        "    if j % 100 == 0:\n",
        "      print(\"[iteration %04d] loss: %.4f\" % (j + 1, loss / len(x_train)))\n",
        "      num_samples = 100\n",
        "      predictive_svi = Predictive(model, guide=guide, num_samples=num_samples)\n",
        "      train_predictions = predictive_svi(x_train, None)\n",
        "      test_predictions = predictive_svi(x_test, None)\n",
        "      train_obs = train_predictions['obs']\n",
        "      test_obs = test_predictions['obs']\n",
        "      mse_loss(torch.tensor(train_obs), torch.tile(np.squeeze(y_train), (num_samples, 1)))\n",
        "      average_train_log_mse = torch.log(mse_loss(train_obs, torch.tile(np.squeeze(y_train), (len(train_obs), 1))))\n",
        "      average_test_log_mse = torch.log(mse_loss(test_obs, torch.tile(np.squeeze(y_test), (len(test_obs), 1))))\n",
        "    \n",
        "      print(average_train_log_mse)\n",
        "      print(average_test_log_mse)\n",
        "\n",
        "      step_ids.append(j)\n",
        "      average_log_predictives.append(average_test_log_mse)"
      ],
      "metadata": {
        "colab": {
          "base_uri": "https://localhost:8080/"
        },
        "id": "GMBWumSCMPjY",
        "outputId": "a80a4c09-b6fb-4e0c-cb6d-84a1b15128ff"
      },
      "execution_count": null,
      "outputs": [
        {
          "output_type": "stream",
          "name": "stdout",
          "text": [
            "[iteration 0001] loss: 21.2382\n",
            "tensor(3.5397)\n",
            "tensor(3.9586)\n"
          ]
        },
        {
          "output_type": "stream",
          "name": "stderr",
          "text": [
            "/usr/local/lib/python3.7/dist-packages/ipykernel_launcher.py:23: UserWarning: To copy construct from a tensor, it is recommended to use sourceTensor.clone().detach() or sourceTensor.clone().detach().requires_grad_(True), rather than torch.tensor(sourceTensor).\n"
          ]
        },
        {
          "output_type": "stream",
          "name": "stdout",
          "text": [
            "[iteration 0101] loss: 4.4351\n",
            "tensor(1.9548)\n",
            "tensor(2.1322)\n",
            "[iteration 0201] loss: 1.4191\n",
            "tensor(0.5806)\n",
            "tensor(0.5419)\n",
            "[iteration 0301] loss: 0.9367\n",
            "tensor(-0.0422)\n",
            "tensor(-0.0626)\n",
            "[iteration 0401] loss: 0.8815\n",
            "tensor(-0.0953)\n",
            "tensor(-0.1370)\n",
            "[iteration 0501] loss: 0.8847\n",
            "tensor(-0.1082)\n",
            "tensor(-0.0721)\n",
            "[iteration 0601] loss: 0.8847\n",
            "tensor(-0.1211)\n",
            "tensor(-0.1381)\n",
            "[iteration 0701] loss: 0.8846\n",
            "tensor(-0.1156)\n",
            "tensor(-0.0996)\n",
            "[iteration 0801] loss: 0.8850\n",
            "tensor(-0.1204)\n",
            "tensor(-0.1253)\n",
            "[iteration 0901] loss: 0.8846\n",
            "tensor(-0.1121)\n",
            "tensor(-0.1715)\n",
            "[iteration 1001] loss: 0.8836\n",
            "tensor(-0.1030)\n",
            "tensor(-0.0969)\n",
            "[iteration 1101] loss: 0.8840\n",
            "tensor(-0.1145)\n",
            "tensor(-0.1158)\n",
            "[iteration 1201] loss: 0.8843\n",
            "tensor(-0.1150)\n",
            "tensor(-0.1079)\n",
            "[iteration 1301] loss: 0.8828\n",
            "tensor(-0.1157)\n",
            "tensor(-0.1408)\n",
            "[iteration 1401] loss: 0.8823\n",
            "tensor(-0.1112)\n",
            "tensor(-0.1462)\n",
            "[iteration 1501] loss: 0.8833\n",
            "tensor(-0.1157)\n",
            "tensor(-0.0906)\n",
            "[iteration 1601] loss: 0.8855\n",
            "tensor(-0.1159)\n",
            "tensor(-0.0914)\n",
            "[iteration 1701] loss: 0.8836\n",
            "tensor(-0.1192)\n",
            "tensor(-0.0791)\n",
            "[iteration 1801] loss: 0.8834\n",
            "tensor(-0.1096)\n",
            "tensor(-0.1315)\n",
            "[iteration 1901] loss: 0.8858\n",
            "tensor(-0.1214)\n",
            "tensor(-0.1126)\n"
          ]
        },
        {
          "output_type": "stream",
          "name": "stderr",
          "text": [
            "\rWarmup:  10%|▉         | 38/400 [00:23, 12.83it/s, step size=1.21e-03, acc. prob=0.771]"
          ]
        }
      ]
    },
    {
      "cell_type": "code",
      "source": [
        "NormalDist(0,1).pdf(0)"
      ],
      "metadata": {
        "colab": {
          "base_uri": "https://localhost:8080/"
        },
        "id": "wl5jJJcptRh1",
        "outputId": "ef814460-b862-4a3d-9338-8ff5e6e183f9"
      },
      "execution_count": null,
      "outputs": [
        {
          "output_type": "execute_result",
          "data": {
            "text/plain": [
              "0.3989422804014327"
            ]
          },
          "metadata": {},
          "execution_count": 137
        }
      ]
    },
    {
      "cell_type": "code",
      "source": [
        "plt.plot(step_ids, average_log_predictives)\n",
        "plt.xlabel(\"step number\")\n",
        "plt.ylabel(\"Average log predictive MSE\")"
      ],
      "metadata": {
        "id": "WJqQu49Oo7l5",
        "colab": {
          "base_uri": "https://localhost:8080/",
          "height": 296
        },
        "outputId": "85428fb9-79ea-4828-e5ec-30501db51b01"
      },
      "execution_count": null,
      "outputs": [
        {
          "output_type": "execute_result",
          "data": {
            "text/plain": [
              "Text(0, 0.5, 'Average log predictive MSE')"
            ]
          },
          "metadata": {},
          "execution_count": 138
        },
        {
          "output_type": "display_data",
          "data": {
            "text/plain": [
              "<Figure size 432x288 with 1 Axes>"
            ],
            "image/png": "[encoded data removed]"
          },
          "metadata": {
            "needs_background": "light"
          }
        }
      ]
    },
    {
      "cell_type": "code",
      "source": [
        "guide.requires_grad_(False)\n",
        "\n",
        "for name, value in pyro.get_param_store().items():\n",
        "    print(name, pyro.param(name))"
      ],
      "metadata": {
        "colab": {
          "base_uri": "https://localhost:8080/"
        },
        "id": "0d1xuJ9vMRgb",
        "outputId": "e6be58d2-75ca-462a-c7cb-39666cbcbe29"
      },
      "execution_count": null,
      "outputs": [
        {
          "output_type": "stream",
          "name": "stdout",
          "text": [
            "AutoDiagonalNormal.loc Parameter containing:\n",
            "tensor([-0.0094, -0.0132,  2.2319, -2.3762, -5.9261])\n",
            "AutoDiagonalNormal.scale tensor([0.0333, 0.0267, 0.0306, 0.0311, 0.0356])\n"
          ]
        }
      ]
    },
    {
      "cell_type": "code",
      "source": [
        "print('Actual value of w: {}'.format(w))\n",
        "print('Fitted median of posterior: {}'.format(guide.quantiles([0.5])))"
      ],
      "metadata": {
        "colab": {
          "base_uri": "https://localhost:8080/"
        },
        "id": "acBWJLhMMlpm",
        "outputId": "110b485c-e787-4ddc-9ded-3e96e6b1ab4c"
      },
      "execution_count": null,
      "outputs": [
        {
          "output_type": "stream",
          "name": "stdout",
          "text": [
            "Actual value of w: [[ 0.          0.          2.2358975  -2.37241287 -5.92823548]]\n",
            "Fitted median of posterior: {'linear.weight': tensor([[[-0.0094, -0.0132,  2.2319, -2.3762, -5.9261]]])}\n"
          ]
        }
      ]
    },
    {
      "cell_type": "code",
      "source": [
        "guide.quantiles([0.5])"
      ],
      "metadata": {
        "id": "ajFMRKzPT1w7",
        "colab": {
          "base_uri": "https://localhost:8080/"
        },
        "outputId": "03f2bb0e-39d1-4fc3-de6c-267b8ec1f6cf"
      },
      "execution_count": null,
      "outputs": [
        {
          "output_type": "execute_result",
          "data": {
            "text/plain": [
              "{'linear.weight': tensor([[[-0.0094, -0.0132,  2.2319, -2.3762, -5.9261]]])}"
            ]
          },
          "metadata": {},
          "execution_count": 141
        }
      ]
    },
    {
      "cell_type": "code",
      "source": [
        "from pyro.infer import MCMC, NUTS, HMC\n",
        "nuts_kernel = NUTS(model, jit_compile=False, step_size=1)\n",
        "num_samples = 20\n",
        "\n",
        "mcmc = MCMC(\n",
        "    nuts_kernel,\n",
        "    num_samples=num_samples,\n",
        "    warmup_steps=10,\n",
        "    num_chains=1,\n",
        ")\n",
        "\n",
        "\n",
        "mcmc_step_ids = []\n",
        "mcmc_average_test_log_accuracy = []\n",
        "\n",
        "mse_loss = torch.nn.MSELoss()\n",
        "\n",
        "for i in range(10):\n",
        "\n",
        "  mcmc.run(x_train, y_train)\n",
        "  #mcmc.summary(prob=0.5)\n",
        "  #diagnostics = mcmc.diagnostics()\n",
        "\n",
        "  samples = mcmc.get_samples()\n",
        "  mcmc_predictive = Predictive(model, samples)\n",
        "  \n",
        "  test_obs = mcmc_predictive(x_test, None)['obs']\n",
        "  train_obs = mcmc_predictive(x_train, None)['obs']\n",
        "\n",
        "\n",
        "  average_test_log_accuracy = torch.mean(torch.log(mse_loss(test_obs, torch.tile(np.squeeze(y_test), (len(test_obs), 1)))))\n",
        "  average_train_log_accuracy = torch.mean(torch.log(mse_loss(train_obs, torch.tile(np.squeeze(y_train), (len(train_obs), 1)))))\n",
        "  print(average_train_log_accuracy)\n",
        "  print(average_test_log_accuracy)\n",
        "  mcmc_step_ids.append(i*num_samples)\n",
        "  mcmc_average_test_log_accuracy.append(average_test_log_accuracy)"
      ],
      "metadata": {
        "id": "VIBh7h2muCl-",
        "colab": {
          "base_uri": "https://localhost:8080/"
        },
        "outputId": "ba50ee79-7d9e-4f56-db24-07b63d93f4af"
      },
      "execution_count": null,
      "outputs": [
        {
          "output_type": "stream",
          "name": "stderr",
          "text": [
            "Sample: 100%|██████████| 30/30 [00:01, 16.29it/s, step size=8.06e-04, acc. prob=0.868]\n"
          ]
        },
        {
          "output_type": "stream",
          "name": "stdout",
          "text": [
            "tensor(-0.3175)\n",
            "tensor(-0.2847)\n"
          ]
        },
        {
          "output_type": "stream",
          "name": "stderr",
          "text": [
            "Sample: 100%|██████████| 30/30 [00:01, 17.31it/s, step size=8.06e-04, acc. prob=0.881]\n"
          ]
        },
        {
          "output_type": "stream",
          "name": "stdout",
          "text": [
            "tensor(-0.3239)\n",
            "tensor(-0.3382)\n"
          ]
        },
        {
          "output_type": "stream",
          "name": "stderr",
          "text": [
            "Sample: 100%|██████████| 30/30 [00:02, 12.25it/s, step size=7.03e-04, acc. prob=0.909]\n"
          ]
        },
        {
          "output_type": "stream",
          "name": "stdout",
          "text": [
            "tensor(-0.2954)\n",
            "tensor(-0.3464)\n"
          ]
        },
        {
          "output_type": "stream",
          "name": "stderr",
          "text": [
            "Sample: 100%|██████████| 30/30 [00:01, 16.12it/s, step size=8.06e-04, acc. prob=0.842]\n"
          ]
        },
        {
          "output_type": "stream",
          "name": "stdout",
          "text": [
            "tensor(-0.3100)\n",
            "tensor(-0.2780)\n"
          ]
        },
        {
          "output_type": "stream",
          "name": "stderr",
          "text": [
            "Sample: 100%|██████████| 30/30 [00:01, 19.23it/s, step size=8.06e-04, acc. prob=0.865]\n"
          ]
        },
        {
          "output_type": "stream",
          "name": "stdout",
          "text": [
            "tensor(-0.3041)\n",
            "tensor(-0.1461)\n"
          ]
        },
        {
          "output_type": "stream",
          "name": "stderr",
          "text": [
            "Sample: 100%|██████████| 30/30 [00:01, 16.17it/s, step size=8.06e-04, acc. prob=0.893]\n"
          ]
        },
        {
          "output_type": "stream",
          "name": "stdout",
          "text": [
            "tensor(-0.3014)\n",
            "tensor(-0.3686)\n"
          ]
        },
        {
          "output_type": "stream",
          "name": "stderr",
          "text": [
            "Sample: 100%|██████████| 30/30 [00:01, 17.20it/s, step size=8.06e-04, acc. prob=0.875]\n"
          ]
        },
        {
          "output_type": "stream",
          "name": "stdout",
          "text": [
            "tensor(-0.3091)\n",
            "tensor(-0.3433)\n"
          ]
        },
        {
          "output_type": "stream",
          "name": "stderr",
          "text": [
            "Sample: 100%|██████████| 30/30 [00:02, 14.91it/s, step size=8.06e-04, acc. prob=0.889]\n"
          ]
        },
        {
          "output_type": "stream",
          "name": "stdout",
          "text": [
            "tensor(-0.3046)\n",
            "tensor(-0.2692)\n"
          ]
        },
        {
          "output_type": "stream",
          "name": "stderr",
          "text": [
            "Sample: 100%|██████████| 30/30 [00:02, 14.26it/s, step size=8.06e-04, acc. prob=0.855]\n"
          ]
        },
        {
          "output_type": "stream",
          "name": "stdout",
          "text": [
            "tensor(-0.3164)\n",
            "tensor(-0.4032)\n"
          ]
        },
        {
          "output_type": "stream",
          "name": "stderr",
          "text": [
            "Sample: 100%|██████████| 30/30 [00:03,  9.25it/s, step size=4.78e-04, acc. prob=0.938]"
          ]
        },
        {
          "output_type": "stream",
          "name": "stdout",
          "text": [
            "tensor(-0.3089)\n",
            "tensor(-0.2611)\n"
          ]
        },
        {
          "output_type": "stream",
          "name": "stderr",
          "text": [
            "\n"
          ]
        }
      ]
    },
    {
      "cell_type": "code",
      "source": [
        "plt.plot(step_ids, average_log_predictives, label='ADVI')\n",
        "plt.plot(np.array(mcmc_step_ids)*10, mcmc_average_test_log_accuracy, label='NUTS')\n",
        "plt.legend()\n",
        "plt.xlabel(\"step number\")\n",
        "plt.ylabel(\"Average log predictive MSE\")\n"
      ],
      "metadata": {
        "colab": {
          "base_uri": "https://localhost:8080/",
          "height": 296
        },
        "id": "wgmKufp2wetj",
        "outputId": "5081d289-6565-49c7-98d9-c654a1318a48"
      },
      "execution_count": null,
      "outputs": [
        {
          "output_type": "execute_result",
          "data": {
            "text/plain": [
              "Text(0, 0.5, 'Average log predictive MSE')"
            ]
          },
          "metadata": {},
          "execution_count": 153
        },
        {
          "output_type": "display_data",
          "data": {
            "text/plain": [
              "<Figure size 432x288 with 1 Axes>"
            ],
            "image/png": "[encoded data removed]"
          },
          "metadata": {
            "needs_background": "light"
          }
        }
      ]
    },
    {
      "cell_type": "code",
      "source": [
        ""
      ],
      "metadata": {
        "id": "5PypXV1dw2Rb"
      },
      "execution_count": null,
      "outputs": []
    },
    {
      "cell_type": "markdown",
      "source": [
        "## Subsampling behaviour of approximate inference methods"
      ],
      "metadata": {
        "id": "b42pIE-0gIDa"
      }
    },
    {
      "cell_type": "code",
      "source": [
        "from torch.utils.data import TensorDataset, DataLoader\n",
        "\n",
        "dataset = TensorDataset(x_train, y_train)\n",
        "dataloader = DataLoader(dataset, batch_size=10)"
      ],
      "metadata": {
        "id": "GHMmJ2MdiYRC"
      },
      "execution_count": null,
      "outputs": []
    },
    {
      "cell_type": "code",
      "source": [
        "nuts_kernel = NUTS(model, jit_compile=False, step_size=0.5)\n",
        "num_samples = 200\n",
        "\n",
        "mcmc = MCMC(\n",
        "    nuts_kernel,\n",
        "    num_samples=num_samples,\n",
        "    warmup_steps=0,\n",
        "    num_chains=1,\n",
        ")\n",
        "\n",
        "\n",
        "mcmc_step_ids = []\n",
        "mcmc_average_test_log_accuracy = []\n",
        "\n",
        "mse_loss = torch.nn.MSELoss()\n",
        "\n",
        "\n",
        "for i in range(1):\n",
        "\n",
        "  for x, y in dataloader:\n",
        "    mcmc.run(x, y)\n",
        "    #mcmc.summary(prob=0.5)\n",
        "    #diagnostics = mcmc.diagnostics()\n",
        "\n",
        "    samples = mcmc.get_samples()\n",
        "    mcmc_predictive = Predictive(model, samples)\n",
        "    \n",
        "    test_obs = mcmc_predictive(x_test, None)['obs']\n",
        "    train_obs = mcmc_predictive(x_train, None)['obs']\n",
        "\n",
        "\n",
        "    average_test_log_accuracy = torch.mean(torch.log(mse_loss(test_obs, torch.tile(np.squeeze(y_test), (len(test_obs), 1)))))\n",
        "    average_train_log_accuracy = torch.mean(torch.log(mse_loss(train_obs, torch.tile(np.squeeze(y_train), (len(train_obs), 1)))))\n",
        "    print(average_train_log_accuracy)\n",
        "    print(average_test_log_accuracy)\n",
        "    mcmc_step_ids.append(i*num_samples)\n",
        "    mcmc_average_test_log_accuracy.append(average_test_log_accuracy)"
      ],
      "metadata": {
        "colab": {
          "base_uri": "https://localhost:8080/"
        },
        "id": "fFictPCMgHej",
        "outputId": "cecd7e2d-7264-496c-ce1c-7eaad02c324d"
      },
      "execution_count": null,
      "outputs": [
        {
          "output_type": "stream",
          "name": "stderr",
          "text": [
            "Sample: 100%|██████████| 200/200 [00:01, 175.46it/s, step size=1.25e-01, acc. prob=0.247]\n"
          ]
        },
        {
          "output_type": "stream",
          "name": "stdout",
          "text": [
            "tensor(-0.1714)\n",
            "tensor(-0.1489)\n"
          ]
        },
        {
          "output_type": "stream",
          "name": "stderr",
          "text": [
            "Sample: 100%|██████████| 200/200 [00:01, 108.14it/s, step size=6.25e-02, acc. prob=0.848]\n"
          ]
        },
        {
          "output_type": "stream",
          "name": "stdout",
          "text": [
            "tensor(-0.2325)\n",
            "tensor(-0.2333)\n"
          ]
        },
        {
          "output_type": "stream",
          "name": "stderr",
          "text": [
            "Sample: 100%|██████████| 200/200 [00:02, 79.67it/s, step size=6.25e-02, acc. prob=0.887]\n"
          ]
        },
        {
          "output_type": "stream",
          "name": "stdout",
          "text": [
            "tensor(-0.1615)\n",
            "tensor(-0.1059)\n"
          ]
        },
        {
          "output_type": "stream",
          "name": "stderr",
          "text": [
            "Sample: 100%|██████████| 200/200 [00:02, 87.94it/s, step size=6.25e-02, acc. prob=0.865]\n"
          ]
        },
        {
          "output_type": "stream",
          "name": "stdout",
          "text": [
            "tensor(-0.1586)\n",
            "tensor(-0.1431)\n"
          ]
        },
        {
          "output_type": "stream",
          "name": "stderr",
          "text": [
            "Sample: 100%|██████████| 200/200 [00:01, 135.96it/s, step size=1.25e-01, acc. prob=0.645]\n"
          ]
        },
        {
          "output_type": "stream",
          "name": "stdout",
          "text": [
            "tensor(-0.1388)\n",
            "tensor(-0.0518)\n"
          ]
        },
        {
          "output_type": "stream",
          "name": "stderr",
          "text": [
            "Sample: 100%|██████████| 200/200 [00:01, 140.59it/s, step size=1.25e-01, acc. prob=0.426]\n"
          ]
        },
        {
          "output_type": "stream",
          "name": "stdout",
          "text": [
            "tensor(-0.1661)\n",
            "tensor(-0.1471)\n"
          ]
        },
        {
          "output_type": "stream",
          "name": "stderr",
          "text": [
            "Sample: 100%|██████████| 200/200 [00:02, 85.29it/s, step size=6.25e-02, acc. prob=0.855]\n"
          ]
        },
        {
          "output_type": "stream",
          "name": "stdout",
          "text": [
            "tensor(-0.1983)\n",
            "tensor(-0.1781)\n"
          ]
        },
        {
          "output_type": "stream",
          "name": "stderr",
          "text": [
            "Sample: 100%|██████████| 200/200 [00:02, 81.16it/s, step size=6.25e-02, acc. prob=0.866]\n"
          ]
        },
        {
          "output_type": "stream",
          "name": "stdout",
          "text": [
            "tensor(-0.1314)\n",
            "tensor(-0.0330)\n"
          ]
        },
        {
          "output_type": "stream",
          "name": "stderr",
          "text": [
            "Sample: 100%|██████████| 200/200 [00:01, 101.04it/s, step size=6.25e-02, acc. prob=0.883]\n"
          ]
        },
        {
          "output_type": "stream",
          "name": "stdout",
          "text": [
            "tensor(-0.1479)\n",
            "tensor(-0.1494)\n"
          ]
        },
        {
          "output_type": "stream",
          "name": "stderr",
          "text": [
            "Sample: 100%|██████████| 200/200 [00:01, 139.08it/s, step size=1.25e-01, acc. prob=0.266]\n"
          ]
        },
        {
          "output_type": "stream",
          "name": "stdout",
          "text": [
            "tensor(-0.1899)\n",
            "tensor(-0.1921)\n"
          ]
        },
        {
          "output_type": "stream",
          "name": "stderr",
          "text": [
            "Sample: 100%|██████████| 200/200 [00:01, 137.44it/s, step size=1.25e-01, acc. prob=0.184]\n"
          ]
        },
        {
          "output_type": "stream",
          "name": "stdout",
          "text": [
            "tensor(-0.1770)\n",
            "tensor(-0.2099)\n"
          ]
        },
        {
          "output_type": "stream",
          "name": "stderr",
          "text": [
            "Sample: 100%|██████████| 200/200 [00:00, 270.98it/s, step size=1.25e-01, acc. prob=0.006]\n"
          ]
        },
        {
          "output_type": "stream",
          "name": "stdout",
          "text": [
            "tensor(1.0284)\n",
            "tensor(0.9391)\n"
          ]
        },
        {
          "output_type": "stream",
          "name": "stderr",
          "text": [
            "Sample: 100%|██████████| 200/200 [00:02, 87.22it/s, step size=6.25e-02, acc. prob=0.876]\n"
          ]
        },
        {
          "output_type": "stream",
          "name": "stdout",
          "text": [
            "tensor(-0.1286)\n",
            "tensor(-0.1626)\n"
          ]
        },
        {
          "output_type": "stream",
          "name": "stderr",
          "text": [
            "Sample: 100%|██████████| 200/200 [00:01, 116.65it/s, step size=6.25e-02, acc. prob=0.854]\n"
          ]
        },
        {
          "output_type": "stream",
          "name": "stdout",
          "text": [
            "tensor(-0.2601)\n",
            "tensor(-0.2652)\n"
          ]
        },
        {
          "output_type": "stream",
          "name": "stderr",
          "text": [
            "Sample: 100%|██████████| 200/200 [00:01, 190.86it/s, step size=1.25e-01, acc. prob=0.107]\n"
          ]
        },
        {
          "output_type": "stream",
          "name": "stdout",
          "text": [
            "tensor(0.0139)\n",
            "tensor(0.0307)\n"
          ]
        },
        {
          "output_type": "stream",
          "name": "stderr",
          "text": [
            "Sample: 100%|██████████| 200/200 [00:01, 109.62it/s, step size=1.25e-01, acc. prob=0.170]\n"
          ]
        },
        {
          "output_type": "stream",
          "name": "stdout",
          "text": [
            "tensor(0.2815)\n",
            "tensor(0.3182)\n"
          ]
        },
        {
          "output_type": "stream",
          "name": "stderr",
          "text": [
            "Sample: 100%|██████████| 200/200 [00:01, 143.97it/s, step size=1.25e-01, acc. prob=0.165]\n"
          ]
        },
        {
          "output_type": "stream",
          "name": "stdout",
          "text": [
            "tensor(-0.1020)\n",
            "tensor(-0.0704)\n"
          ]
        },
        {
          "output_type": "stream",
          "name": "stderr",
          "text": [
            "Sample: 100%|██████████| 200/200 [00:02, 82.49it/s, step size=6.25e-02, acc. prob=0.875]\n"
          ]
        },
        {
          "output_type": "stream",
          "name": "stdout",
          "text": [
            "tensor(-0.2214)\n",
            "tensor(-0.2169)\n"
          ]
        },
        {
          "output_type": "stream",
          "name": "stderr",
          "text": [
            "Sample: 100%|██████████| 200/200 [00:01, 102.22it/s, step size=6.25e-02, acc. prob=0.851]\n"
          ]
        },
        {
          "output_type": "stream",
          "name": "stdout",
          "text": [
            "tensor(-0.2197)\n",
            "tensor(-0.1875)\n"
          ]
        },
        {
          "output_type": "stream",
          "name": "stderr",
          "text": [
            "Sample: 100%|██████████| 200/200 [00:01, 103.37it/s, step size=6.25e-02, acc. prob=0.865]\n"
          ]
        },
        {
          "output_type": "stream",
          "name": "stdout",
          "text": [
            "tensor(-0.0831)\n",
            "tensor(-0.0701)\n"
          ]
        },
        {
          "output_type": "stream",
          "name": "stderr",
          "text": [
            "Sample: 100%|██████████| 200/200 [00:01, 105.58it/s, step size=6.25e-02, acc. prob=0.837]\n"
          ]
        },
        {
          "output_type": "stream",
          "name": "stdout",
          "text": [
            "tensor(-0.2235)\n",
            "tensor(-0.2438)\n"
          ]
        },
        {
          "output_type": "stream",
          "name": "stderr",
          "text": [
            "Sample: 100%|██████████| 200/200 [00:01, 174.68it/s, step size=1.25e-01, acc. prob=0.133]\n"
          ]
        },
        {
          "output_type": "stream",
          "name": "stdout",
          "text": [
            "tensor(-0.1347)\n",
            "tensor(-0.1395)\n"
          ]
        },
        {
          "output_type": "stream",
          "name": "stderr",
          "text": [
            "Sample: 100%|██████████| 200/200 [00:01, 148.44it/s, step size=1.25e-01, acc. prob=0.272]\n"
          ]
        },
        {
          "output_type": "stream",
          "name": "stdout",
          "text": [
            "tensor(-0.0672)\n",
            "tensor(-0.0484)\n"
          ]
        },
        {
          "output_type": "stream",
          "name": "stderr",
          "text": [
            "Sample: 100%|██████████| 200/200 [00:02, 94.06it/s, step size=6.25e-02, acc. prob=0.847]\n"
          ]
        },
        {
          "output_type": "stream",
          "name": "stdout",
          "text": [
            "tensor(-0.1842)\n",
            "tensor(-0.1440)\n"
          ]
        },
        {
          "output_type": "stream",
          "name": "stderr",
          "text": [
            "Sample: 100%|██████████| 200/200 [00:01, 140.96it/s, step size=1.25e-01, acc. prob=0.272]\n"
          ]
        },
        {
          "output_type": "stream",
          "name": "stdout",
          "text": [
            "tensor(-0.2107)\n",
            "tensor(-0.2506)\n"
          ]
        },
        {
          "output_type": "stream",
          "name": "stderr",
          "text": [
            "Sample: 100%|██████████| 200/200 [00:01, 139.87it/s, step size=1.25e-01, acc. prob=0.580]\n"
          ]
        },
        {
          "output_type": "stream",
          "name": "stdout",
          "text": [
            "tensor(-0.1926)\n",
            "tensor(-0.1841)\n"
          ]
        },
        {
          "output_type": "stream",
          "name": "stderr",
          "text": [
            "Sample: 100%|██████████| 200/200 [00:02, 80.08it/s, step size=6.25e-02, acc. prob=0.917]\n"
          ]
        },
        {
          "output_type": "stream",
          "name": "stdout",
          "text": [
            "tensor(-0.1935)\n",
            "tensor(-0.1789)\n"
          ]
        },
        {
          "output_type": "stream",
          "name": "stderr",
          "text": [
            "Sample: 100%|██████████| 200/200 [00:02, 92.44it/s, step size=6.25e-02, acc. prob=0.797]\n"
          ]
        },
        {
          "output_type": "stream",
          "name": "stdout",
          "text": [
            "tensor(-0.1907)\n",
            "tensor(-0.2047)\n"
          ]
        },
        {
          "output_type": "stream",
          "name": "stderr",
          "text": [
            "Sample: 100%|██████████| 200/200 [00:02, 84.81it/s, step size=6.25e-02, acc. prob=0.908]\n"
          ]
        },
        {
          "output_type": "stream",
          "name": "stdout",
          "text": [
            "tensor(-0.2174)\n",
            "tensor(-0.2079)\n"
          ]
        },
        {
          "output_type": "stream",
          "name": "stderr",
          "text": [
            "Sample: 100%|██████████| 200/200 [00:01, 183.38it/s, step size=1.25e-01, acc. prob=0.092]\n"
          ]
        },
        {
          "output_type": "stream",
          "name": "stdout",
          "text": [
            "tensor(-0.1879)\n",
            "tensor(-0.2052)\n"
          ]
        },
        {
          "output_type": "stream",
          "name": "stderr",
          "text": [
            "Sample: 100%|██████████| 200/200 [00:01, 115.57it/s, step size=6.25e-02, acc. prob=0.808]\n"
          ]
        },
        {
          "output_type": "stream",
          "name": "stdout",
          "text": [
            "tensor(-0.2216)\n",
            "tensor(-0.1941)\n"
          ]
        },
        {
          "output_type": "stream",
          "name": "stderr",
          "text": [
            "Sample: 100%|██████████| 200/200 [00:01, 140.43it/s, step size=1.25e-01, acc. prob=0.427]\n"
          ]
        },
        {
          "output_type": "stream",
          "name": "stdout",
          "text": [
            "tensor(-0.1767)\n",
            "tensor(-0.1180)\n"
          ]
        },
        {
          "output_type": "stream",
          "name": "stderr",
          "text": [
            "Sample: 100%|██████████| 200/200 [00:01, 138.81it/s, step size=1.25e-01, acc. prob=0.453]\n"
          ]
        },
        {
          "output_type": "stream",
          "name": "stdout",
          "text": [
            "tensor(-0.1612)\n",
            "tensor(-0.1485)\n"
          ]
        },
        {
          "output_type": "stream",
          "name": "stderr",
          "text": [
            "Sample: 100%|██████████| 200/200 [00:00, 225.44it/s, step size=1.25e-01, acc. prob=0.115]\n"
          ]
        },
        {
          "output_type": "stream",
          "name": "stdout",
          "text": [
            "tensor(-0.0572)\n",
            "tensor(-0.0471)\n"
          ]
        },
        {
          "output_type": "stream",
          "name": "stderr",
          "text": [
            "Sample: 100%|██████████| 200/200 [00:02, 98.38it/s, step size=6.25e-02, acc. prob=0.832]\n"
          ]
        },
        {
          "output_type": "stream",
          "name": "stdout",
          "text": [
            "tensor(-0.2307)\n",
            "tensor(-0.2536)\n"
          ]
        },
        {
          "output_type": "stream",
          "name": "stderr",
          "text": [
            "Sample: 100%|██████████| 200/200 [00:01, 181.37it/s, step size=1.25e-01, acc. prob=0.115]\n"
          ]
        },
        {
          "output_type": "stream",
          "name": "stdout",
          "text": [
            "tensor(-0.2263)\n",
            "tensor(-0.2446)\n"
          ]
        },
        {
          "output_type": "stream",
          "name": "stderr",
          "text": [
            "Sample: 100%|██████████| 200/200 [00:01, 182.49it/s, step size=1.25e-01, acc. prob=0.445]\n"
          ]
        },
        {
          "output_type": "stream",
          "name": "stdout",
          "text": [
            "tensor(-0.2081)\n",
            "tensor(-0.2019)\n"
          ]
        },
        {
          "output_type": "stream",
          "name": "stderr",
          "text": [
            "Sample: 100%|██████████| 200/200 [00:01, 100.63it/s, step size=6.25e-02, acc. prob=0.879]\n"
          ]
        },
        {
          "output_type": "stream",
          "name": "stdout",
          "text": [
            "tensor(-0.1909)\n",
            "tensor(-0.1993)\n"
          ]
        },
        {
          "output_type": "stream",
          "name": "stderr",
          "text": [
            "Sample: 100%|██████████| 200/200 [00:00, 255.86it/s, step size=1.25e-01, acc. prob=0.007]\n"
          ]
        },
        {
          "output_type": "stream",
          "name": "stdout",
          "text": [
            "tensor(0.8414)\n",
            "tensor(1.0231)\n"
          ]
        },
        {
          "output_type": "stream",
          "name": "stderr",
          "text": [
            "Sample: 100%|██████████| 200/200 [00:02, 69.17it/s, step size=6.25e-02, acc. prob=0.867]\n"
          ]
        },
        {
          "output_type": "stream",
          "name": "stdout",
          "text": [
            "tensor(-0.1530)\n",
            "tensor(-0.1710)\n"
          ]
        },
        {
          "output_type": "stream",
          "name": "stderr",
          "text": [
            "Sample: 100%|██████████| 200/200 [00:01, 116.85it/s, step size=1.25e-01, acc. prob=0.301]\n"
          ]
        },
        {
          "output_type": "stream",
          "name": "stdout",
          "text": [
            "tensor(-0.1387)\n",
            "tensor(-0.1403)\n"
          ]
        },
        {
          "output_type": "stream",
          "name": "stderr",
          "text": [
            "Sample: 100%|██████████| 200/200 [00:01, 142.27it/s, step size=1.25e-01, acc. prob=0.207]\n"
          ]
        },
        {
          "output_type": "stream",
          "name": "stdout",
          "text": [
            "tensor(-0.1995)\n",
            "tensor(-0.1839)\n"
          ]
        },
        {
          "output_type": "stream",
          "name": "stderr",
          "text": [
            "Sample: 100%|██████████| 200/200 [00:02, 93.55it/s, step size=6.25e-02, acc. prob=0.822]\n"
          ]
        },
        {
          "output_type": "stream",
          "name": "stdout",
          "text": [
            "tensor(-0.1988)\n",
            "tensor(-0.1655)\n"
          ]
        },
        {
          "output_type": "stream",
          "name": "stderr",
          "text": [
            "Sample: 100%|██████████| 200/200 [00:01, 175.04it/s, step size=1.25e-01, acc. prob=0.445]\n"
          ]
        },
        {
          "output_type": "stream",
          "name": "stdout",
          "text": [
            "tensor(-0.2174)\n",
            "tensor(-0.2118)\n"
          ]
        },
        {
          "output_type": "stream",
          "name": "stderr",
          "text": [
            "Sample: 100%|██████████| 200/200 [00:01, 147.93it/s, step size=1.25e-01, acc. prob=0.450]\n"
          ]
        },
        {
          "output_type": "stream",
          "name": "stdout",
          "text": [
            "tensor(-0.2221)\n",
            "tensor(-0.2241)\n"
          ]
        },
        {
          "output_type": "stream",
          "name": "stderr",
          "text": [
            "Sample: 100%|██████████| 200/200 [00:02, 70.80it/s, step size=6.25e-02, acc. prob=0.810]\n"
          ]
        },
        {
          "output_type": "stream",
          "name": "stdout",
          "text": [
            "tensor(-0.1302)\n",
            "tensor(-0.0871)\n"
          ]
        },
        {
          "output_type": "stream",
          "name": "stderr",
          "text": [
            "Sample: 100%|██████████| 200/200 [00:01, 141.84it/s, step size=1.25e-01, acc. prob=0.274]\n"
          ]
        },
        {
          "output_type": "stream",
          "name": "stdout",
          "text": [
            "tensor(-0.1805)\n",
            "tensor(-0.1517)\n"
          ]
        },
        {
          "output_type": "stream",
          "name": "stderr",
          "text": [
            "Sample: 100%|██████████| 200/200 [00:01, 105.66it/s, step size=6.25e-02, acc. prob=0.781]\n"
          ]
        },
        {
          "output_type": "stream",
          "name": "stdout",
          "text": [
            "tensor(-0.1909)\n",
            "tensor(-0.1683)\n"
          ]
        },
        {
          "output_type": "stream",
          "name": "stderr",
          "text": [
            "Sample: 100%|██████████| 200/200 [00:01, 148.01it/s, step size=1.25e-01, acc. prob=0.510]\n"
          ]
        },
        {
          "output_type": "stream",
          "name": "stdout",
          "text": [
            "tensor(-0.2202)\n",
            "tensor(-0.1836)\n"
          ]
        },
        {
          "output_type": "stream",
          "name": "stderr",
          "text": [
            "Sample: 100%|██████████| 200/200 [00:00, 244.97it/s, step size=1.25e-01, acc. prob=0.012]\n"
          ]
        },
        {
          "output_type": "stream",
          "name": "stdout",
          "text": [
            "tensor(0.6077)\n",
            "tensor(0.5787)\n"
          ]
        },
        {
          "output_type": "stream",
          "name": "stderr",
          "text": [
            "Sample: 100%|██████████| 200/200 [00:00, 289.91it/s, step size=1.25e-01, acc. prob=0.003]\n"
          ]
        },
        {
          "output_type": "stream",
          "name": "stdout",
          "text": [
            "tensor(0.9432)\n",
            "tensor(1.1361)\n"
          ]
        },
        {
          "output_type": "stream",
          "name": "stderr",
          "text": [
            "Sample: 100%|██████████| 200/200 [00:01, 168.59it/s, step size=1.25e-01, acc. prob=0.503]\n"
          ]
        },
        {
          "output_type": "stream",
          "name": "stdout",
          "text": [
            "tensor(-0.1931)\n",
            "tensor(-0.1897)\n"
          ]
        },
        {
          "output_type": "stream",
          "name": "stderr",
          "text": [
            "Sample: 100%|██████████| 200/200 [00:00, 208.28it/s, step size=1.25e-01, acc. prob=0.005]\n"
          ]
        },
        {
          "output_type": "stream",
          "name": "stdout",
          "text": [
            "tensor(0.3146)\n",
            "tensor(0.3299)\n"
          ]
        },
        {
          "output_type": "stream",
          "name": "stderr",
          "text": [
            "Sample: 100%|██████████| 200/200 [00:01, 164.95it/s, step size=1.25e-01, acc. prob=0.470]\n"
          ]
        },
        {
          "output_type": "stream",
          "name": "stdout",
          "text": [
            "tensor(-0.2157)\n",
            "tensor(-0.2550)\n"
          ]
        },
        {
          "output_type": "stream",
          "name": "stderr",
          "text": [
            "Sample: 100%|██████████| 200/200 [00:02, 69.07it/s, step size=6.25e-02, acc. prob=0.880]\n"
          ]
        },
        {
          "output_type": "stream",
          "name": "stdout",
          "text": [
            "tensor(-0.0224)\n",
            "tensor(-0.0794)\n"
          ]
        },
        {
          "output_type": "stream",
          "name": "stderr",
          "text": [
            "Sample: 100%|██████████| 200/200 [00:01, 144.91it/s, step size=1.25e-01, acc. prob=0.229]\n"
          ]
        },
        {
          "output_type": "stream",
          "name": "stdout",
          "text": [
            "tensor(-0.1732)\n",
            "tensor(-0.2111)\n"
          ]
        },
        {
          "output_type": "stream",
          "name": "stderr",
          "text": [
            "Sample: 100%|██████████| 200/200 [00:01, 134.96it/s, step size=1.25e-01, acc. prob=0.192]\n"
          ]
        },
        {
          "output_type": "stream",
          "name": "stdout",
          "text": [
            "tensor(-0.1674)\n",
            "tensor(-0.1626)\n"
          ]
        },
        {
          "output_type": "stream",
          "name": "stderr",
          "text": [
            "Sample: 100%|██████████| 200/200 [00:01, 125.19it/s, step size=1.25e-01, acc. prob=0.399]\n"
          ]
        },
        {
          "output_type": "stream",
          "name": "stdout",
          "text": [
            "tensor(-0.2001)\n",
            "tensor(-0.1409)\n"
          ]
        },
        {
          "output_type": "stream",
          "name": "stderr",
          "text": [
            "Sample: 100%|██████████| 200/200 [00:01, 154.15it/s, step size=1.25e-01, acc. prob=0.548]\n"
          ]
        },
        {
          "output_type": "stream",
          "name": "stdout",
          "text": [
            "tensor(-0.2016)\n",
            "tensor(-0.2000)\n"
          ]
        },
        {
          "output_type": "stream",
          "name": "stderr",
          "text": [
            "Sample: 100%|██████████| 200/200 [00:00, 250.64it/s, step size=1.25e-01, acc. prob=0.006]\n"
          ]
        },
        {
          "output_type": "stream",
          "name": "stdout",
          "text": [
            "tensor(0.6532)\n",
            "tensor(0.7039)\n"
          ]
        },
        {
          "output_type": "stream",
          "name": "stderr",
          "text": [
            "Sample: 100%|██████████| 200/200 [00:01, 118.46it/s, step size=1.25e-01, acc. prob=0.317]\n"
          ]
        },
        {
          "output_type": "stream",
          "name": "stdout",
          "text": [
            "tensor(-0.1333)\n",
            "tensor(-0.1333)\n"
          ]
        },
        {
          "output_type": "stream",
          "name": "stderr",
          "text": [
            "Sample: 100%|██████████| 200/200 [00:02, 70.89it/s, step size=6.25e-02, acc. prob=0.867]\n"
          ]
        },
        {
          "output_type": "stream",
          "name": "stdout",
          "text": [
            "tensor(-0.1789)\n",
            "tensor(-0.1950)\n"
          ]
        },
        {
          "output_type": "stream",
          "name": "stderr",
          "text": [
            "Sample: 100%|██████████| 200/200 [00:02, 87.42it/s, step size=6.25e-02, acc. prob=0.869]\n"
          ]
        },
        {
          "output_type": "stream",
          "name": "stdout",
          "text": [
            "tensor(-0.1777)\n",
            "tensor(-0.1295)\n"
          ]
        },
        {
          "output_type": "stream",
          "name": "stderr",
          "text": [
            "Sample: 100%|██████████| 200/200 [00:02, 95.83it/s, step size=6.25e-02, acc. prob=0.872]\n"
          ]
        },
        {
          "output_type": "stream",
          "name": "stdout",
          "text": [
            "tensor(-0.1696)\n",
            "tensor(-0.1543)\n"
          ]
        },
        {
          "output_type": "stream",
          "name": "stderr",
          "text": [
            "Sample: 100%|██████████| 200/200 [00:01, 130.77it/s, step size=1.25e-01, acc. prob=0.596]\n"
          ]
        },
        {
          "output_type": "stream",
          "name": "stdout",
          "text": [
            "tensor(-0.1358)\n",
            "tensor(-0.1025)\n"
          ]
        },
        {
          "output_type": "stream",
          "name": "stderr",
          "text": [
            "Sample: 100%|██████████| 200/200 [00:02, 80.29it/s, step size=6.25e-02, acc. prob=0.889]\n"
          ]
        },
        {
          "output_type": "stream",
          "name": "stdout",
          "text": [
            "tensor(-0.1634)\n",
            "tensor(-0.1567)\n"
          ]
        },
        {
          "output_type": "stream",
          "name": "stderr",
          "text": [
            "Sample: 100%|██████████| 200/200 [00:01, 177.62it/s, step size=1.25e-01, acc. prob=0.212]\n"
          ]
        },
        {
          "output_type": "stream",
          "name": "stdout",
          "text": [
            "tensor(-0.2176)\n",
            "tensor(-0.2000)\n"
          ]
        },
        {
          "output_type": "stream",
          "name": "stderr",
          "text": [
            "Sample: 100%|██████████| 200/200 [00:01, 118.33it/s, step size=1.25e-01, acc. prob=0.439]\n"
          ]
        },
        {
          "output_type": "stream",
          "name": "stdout",
          "text": [
            "tensor(-0.1627)\n",
            "tensor(-0.1014)\n"
          ]
        },
        {
          "output_type": "stream",
          "name": "stderr",
          "text": [
            "Sample: 100%|██████████| 200/200 [00:01, 145.86it/s, step size=1.25e-01, acc. prob=0.205]\n"
          ]
        },
        {
          "output_type": "stream",
          "name": "stdout",
          "text": [
            "tensor(-0.0456)\n",
            "tensor(0.0198)\n"
          ]
        },
        {
          "output_type": "stream",
          "name": "stderr",
          "text": [
            "Sample: 100%|██████████| 200/200 [00:01, 130.45it/s, step size=1.25e-01, acc. prob=0.511]\n"
          ]
        },
        {
          "output_type": "stream",
          "name": "stdout",
          "text": [
            "tensor(-0.1937)\n",
            "tensor(-0.1848)\n"
          ]
        },
        {
          "output_type": "stream",
          "name": "stderr",
          "text": [
            "Sample: 100%|██████████| 200/200 [00:02, 86.59it/s, step size=6.25e-02, acc. prob=0.866]\n"
          ]
        },
        {
          "output_type": "stream",
          "name": "stdout",
          "text": [
            "tensor(-0.1766)\n",
            "tensor(-0.2147)\n"
          ]
        },
        {
          "output_type": "stream",
          "name": "stderr",
          "text": [
            "Sample: 100%|██████████| 200/200 [00:02, 74.00it/s, step size=6.25e-02, acc. prob=0.869]\n"
          ]
        },
        {
          "output_type": "stream",
          "name": "stdout",
          "text": [
            "tensor(-0.1146)\n",
            "tensor(-0.0574)\n"
          ]
        },
        {
          "output_type": "stream",
          "name": "stderr",
          "text": [
            "Sample: 100%|██████████| 200/200 [00:01, 138.97it/s, step size=1.25e-01, acc. prob=0.437]\n"
          ]
        },
        {
          "output_type": "stream",
          "name": "stdout",
          "text": [
            "tensor(-0.2009)\n",
            "tensor(-0.1969)\n"
          ]
        },
        {
          "output_type": "stream",
          "name": "stderr",
          "text": [
            "Sample: 100%|██████████| 200/200 [00:01, 102.52it/s, step size=6.25e-02, acc. prob=0.823]\n"
          ]
        },
        {
          "output_type": "stream",
          "name": "stdout",
          "text": [
            "tensor(-0.2043)\n",
            "tensor(-0.1873)\n"
          ]
        },
        {
          "output_type": "stream",
          "name": "stderr",
          "text": [
            "Sample: 100%|██████████| 200/200 [00:02, 74.71it/s, step size=6.25e-02, acc. prob=0.879]\n"
          ]
        },
        {
          "output_type": "stream",
          "name": "stdout",
          "text": [
            "tensor(-0.0968)\n",
            "tensor(-0.1133)\n"
          ]
        },
        {
          "output_type": "stream",
          "name": "stderr",
          "text": [
            "Sample: 100%|██████████| 200/200 [00:02, 75.78it/s, step size=6.25e-02, acc. prob=0.888]\n"
          ]
        },
        {
          "output_type": "stream",
          "name": "stdout",
          "text": [
            "tensor(-0.1427)\n",
            "tensor(-0.1171)\n"
          ]
        },
        {
          "output_type": "stream",
          "name": "stderr",
          "text": [
            "Sample: 100%|██████████| 200/200 [00:02, 83.37it/s, step size=6.25e-02, acc. prob=0.859]\n"
          ]
        },
        {
          "output_type": "stream",
          "name": "stdout",
          "text": [
            "tensor(-0.1272)\n",
            "tensor(-0.1623)\n"
          ]
        },
        {
          "output_type": "stream",
          "name": "stderr",
          "text": [
            "Sample: 100%|██████████| 200/200 [00:01, 101.24it/s, step size=6.25e-02, acc. prob=0.871]\n"
          ]
        },
        {
          "output_type": "stream",
          "name": "stdout",
          "text": [
            "tensor(-0.2463)\n",
            "tensor(-0.2571)\n"
          ]
        },
        {
          "output_type": "stream",
          "name": "stderr",
          "text": [
            "Sample: 100%|██████████| 200/200 [00:02, 80.99it/s, step size=6.25e-02, acc. prob=0.867]\n"
          ]
        },
        {
          "output_type": "stream",
          "name": "stdout",
          "text": [
            "tensor(-0.0491)\n",
            "tensor(-0.0384)\n"
          ]
        },
        {
          "output_type": "stream",
          "name": "stderr",
          "text": [
            "Sample: 100%|██████████| 200/200 [00:00, 226.71it/s, step size=1.25e-01, acc. prob=0.009]\n"
          ]
        },
        {
          "output_type": "stream",
          "name": "stdout",
          "text": [
            "tensor(0.1706)\n",
            "tensor(0.2255)\n"
          ]
        },
        {
          "output_type": "stream",
          "name": "stderr",
          "text": [
            "Sample: 100%|██████████| 200/200 [00:01, 165.28it/s, step size=1.25e-01, acc. prob=0.234]\n"
          ]
        },
        {
          "output_type": "stream",
          "name": "stdout",
          "text": [
            "tensor(-0.0650)\n",
            "tensor(-0.0115)\n"
          ]
        },
        {
          "output_type": "stream",
          "name": "stderr",
          "text": [
            "Sample: 100%|██████████| 200/200 [00:01, 147.89it/s, step size=1.25e-01, acc. prob=0.146]\n"
          ]
        },
        {
          "output_type": "stream",
          "name": "stdout",
          "text": [
            "tensor(0.7558)\n",
            "tensor(0.8766)\n"
          ]
        },
        {
          "output_type": "stream",
          "name": "stderr",
          "text": [
            "Sample: 100%|██████████| 200/200 [00:00, 283.58it/s, step size=1.25e-01, acc. prob=0.005]\n"
          ]
        },
        {
          "output_type": "stream",
          "name": "stdout",
          "text": [
            "tensor(0.8398)\n",
            "tensor(0.8573)\n"
          ]
        },
        {
          "output_type": "stream",
          "name": "stderr",
          "text": [
            "Sample: 100%|██████████| 200/200 [00:02, 94.88it/s, step size=6.25e-02, acc. prob=0.838]\n"
          ]
        },
        {
          "output_type": "stream",
          "name": "stdout",
          "text": [
            "tensor(-0.1918)\n",
            "tensor(-0.1989)\n"
          ]
        },
        {
          "output_type": "stream",
          "name": "stderr",
          "text": [
            "Sample: 100%|██████████| 200/200 [00:01, 119.51it/s, step size=6.25e-02, acc. prob=0.859]\n"
          ]
        },
        {
          "output_type": "stream",
          "name": "stdout",
          "text": [
            "tensor(-0.2600)\n",
            "tensor(-0.2907)\n"
          ]
        },
        {
          "output_type": "stream",
          "name": "stderr",
          "text": [
            "Sample: 100%|██████████| 200/200 [00:00, 289.53it/s, step size=1.25e-01, acc. prob=0.008]\n"
          ]
        },
        {
          "output_type": "stream",
          "name": "stdout",
          "text": [
            "tensor(0.6762)\n",
            "tensor(0.6877)\n"
          ]
        },
        {
          "output_type": "stream",
          "name": "stderr",
          "text": [
            "Sample: 100%|██████████| 200/200 [00:01, 112.71it/s, step size=6.25e-02, acc. prob=0.844]\n"
          ]
        },
        {
          "output_type": "stream",
          "name": "stdout",
          "text": [
            "tensor(-0.2004)\n",
            "tensor(-0.2013)\n"
          ]
        },
        {
          "output_type": "stream",
          "name": "stderr",
          "text": [
            "Sample: 100%|██████████| 200/200 [00:02, 79.23it/s, step size=6.25e-02, acc. prob=0.890]\n"
          ]
        },
        {
          "output_type": "stream",
          "name": "stdout",
          "text": [
            "tensor(-0.1414)\n",
            "tensor(-0.1460)\n"
          ]
        },
        {
          "output_type": "stream",
          "name": "stderr",
          "text": [
            "Sample: 100%|██████████| 200/200 [00:03, 65.04it/s, step size=6.25e-02, acc. prob=0.875]\n"
          ]
        },
        {
          "output_type": "stream",
          "name": "stdout",
          "text": [
            "tensor(-0.1166)\n",
            "tensor(-0.0987)\n"
          ]
        },
        {
          "output_type": "stream",
          "name": "stderr",
          "text": [
            "Sample: 100%|██████████| 200/200 [00:02, 96.81it/s, step size=6.25e-02, acc. prob=0.876]\n"
          ]
        },
        {
          "output_type": "stream",
          "name": "stdout",
          "text": [
            "tensor(-0.1718)\n",
            "tensor(-0.1694)\n"
          ]
        },
        {
          "output_type": "stream",
          "name": "stderr",
          "text": [
            "Sample: 100%|██████████| 200/200 [00:01, 107.93it/s, step size=1.25e-01, acc. prob=0.627]\n"
          ]
        },
        {
          "output_type": "stream",
          "name": "stdout",
          "text": [
            "tensor(-0.0479)\n",
            "tensor(-0.0327)\n"
          ]
        },
        {
          "output_type": "stream",
          "name": "stderr",
          "text": [
            "Sample: 100%|██████████| 200/200 [00:02, 85.00it/s, step size=6.25e-02, acc. prob=0.818]\n"
          ]
        },
        {
          "output_type": "stream",
          "name": "stdout",
          "text": [
            "tensor(-0.1894)\n",
            "tensor(-0.1537)\n"
          ]
        },
        {
          "output_type": "stream",
          "name": "stderr",
          "text": [
            "Sample: 100%|██████████| 200/200 [00:02, 80.62it/s, step size=6.25e-02, acc. prob=0.887]\n"
          ]
        },
        {
          "output_type": "stream",
          "name": "stdout",
          "text": [
            "tensor(-0.1763)\n",
            "tensor(-0.1408)\n"
          ]
        },
        {
          "output_type": "stream",
          "name": "stderr",
          "text": [
            "Sample: 100%|██████████| 200/200 [00:02, 99.80it/s, step size=6.25e-02, acc. prob=0.894] \n"
          ]
        },
        {
          "output_type": "stream",
          "name": "stdout",
          "text": [
            "tensor(-0.2388)\n",
            "tensor(-0.2801)\n"
          ]
        },
        {
          "output_type": "stream",
          "name": "stderr",
          "text": [
            "Sample: 100%|██████████| 200/200 [00:01, 100.15it/s, step size=6.25e-02, acc. prob=0.884]\n"
          ]
        },
        {
          "output_type": "stream",
          "name": "stdout",
          "text": [
            "tensor(-0.2162)\n",
            "tensor(-0.2485)\n"
          ]
        },
        {
          "output_type": "stream",
          "name": "stderr",
          "text": [
            "Sample: 100%|██████████| 200/200 [00:01, 167.31it/s, step size=1.25e-01, acc. prob=0.267]\n"
          ]
        },
        {
          "output_type": "stream",
          "name": "stdout",
          "text": [
            "tensor(-0.1615)\n",
            "tensor(-0.1573)\n"
          ]
        },
        {
          "output_type": "stream",
          "name": "stderr",
          "text": [
            "Sample: 100%|██████████| 200/200 [00:01, 104.63it/s, step size=6.25e-02, acc. prob=0.856]\n"
          ]
        },
        {
          "output_type": "stream",
          "name": "stdout",
          "text": [
            "tensor(-0.2196)\n",
            "tensor(-0.1743)\n"
          ]
        },
        {
          "output_type": "stream",
          "name": "stderr",
          "text": [
            "Sample: 100%|██████████| 200/200 [00:01, 111.43it/s, step size=6.25e-02, acc. prob=0.832]\n"
          ]
        },
        {
          "output_type": "stream",
          "name": "stdout",
          "text": [
            "tensor(-0.2270)\n",
            "tensor(-0.2217)\n"
          ]
        }
      ]
    },
    {
      "cell_type": "code",
      "source": [
        ""
      ],
      "metadata": {
        "id": "EfG6ZJ4zjKGM"
      },
      "execution_count": null,
      "outputs": []
    }
  ]
}