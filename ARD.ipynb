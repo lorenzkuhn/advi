{
  "nbformat": 4,
  "nbformat_minor": 0,
  "metadata": {
    "colab": {
      "name": "ARD.ipynb",
      "provenance": [],
      "collapsed_sections": [],
      "include_colab_link": true
    },
    "kernelspec": {
      "name": "python3",
      "display_name": "Python 3"
    },
    "language_info": {
      "name": "python"
    }
  },
  "cells": [
    {
      "cell_type": "markdown",
      "metadata": {
        "id": "view-in-github",
        "colab_type": "text"
      },
      "source": [
        "<a href=\"https://colab.research.google.com/github/lorenzkuhn/advi/blob/main/ARD.ipynb\" target=\"_parent\"><img src=\"https://colab.research.google.com/assets/colab-badge.svg\" alt=\"Open In Colab\"/></a>"
      ]
    },
    {
      "cell_type": "code",
      "execution_count": 2,
      "metadata": {
        "colab": {
          "base_uri": "https://localhost:8080/"
        },
        "id": "WftQNyWmExQD",
        "outputId": "a76688af-479e-4172-8e02-546529406128"
      },
      "outputs": [
        {
          "output_type": "stream",
          "name": "stdout",
          "text": [
            "Collecting pyro-ppl\n",
            "  Downloading pyro_ppl-1.8.1-py3-none-any.whl (718 kB)\n",
            "\u001b[K     |████████████████████████████████| 718 kB 5.2 MB/s \n",
            "\u001b[?25hRequirement already satisfied: opt-einsum>=2.3.2 in /usr/local/lib/python3.7/dist-packages (from pyro-ppl) (3.3.0)\n",
            "Requirement already satisfied: tqdm>=4.36 in /usr/local/lib/python3.7/dist-packages (from pyro-ppl) (4.63.0)\n",
            "Requirement already satisfied: numpy>=1.7 in /usr/local/lib/python3.7/dist-packages (from pyro-ppl) (1.21.5)\n",
            "Collecting pyro-api>=0.1.1\n",
            "  Downloading pyro_api-0.1.2-py3-none-any.whl (11 kB)\n",
            "Collecting torch>=1.11.0\n",
            "  Downloading torch-1.11.0-cp37-cp37m-manylinux1_x86_64.whl (750.6 MB)\n",
            "\u001b[K     |████████████████████████████████| 750.6 MB 11 kB/s \n",
            "\u001b[?25hRequirement already satisfied: typing-extensions in /usr/local/lib/python3.7/dist-packages (from torch>=1.11.0->pyro-ppl) (3.10.0.2)\n",
            "Installing collected packages: torch, pyro-api, pyro-ppl\n",
            "  Attempting uninstall: torch\n",
            "    Found existing installation: torch 1.10.0+cu111\n",
            "    Uninstalling torch-1.10.0+cu111:\n",
            "      Successfully uninstalled torch-1.10.0+cu111\n",
            "\u001b[31mERROR: pip's dependency resolver does not currently take into account all the packages that are installed. This behaviour is the source of the following dependency conflicts.\n",
            "torchvision 0.11.1+cu111 requires torch==1.10.0, but you have torch 1.11.0 which is incompatible.\n",
            "torchtext 0.11.0 requires torch==1.10.0, but you have torch 1.11.0 which is incompatible.\n",
            "torchaudio 0.10.0+cu111 requires torch==1.10.0, but you have torch 1.11.0 which is incompatible.\u001b[0m\n",
            "Successfully installed pyro-api-0.1.2 pyro-ppl-1.8.1 torch-1.11.0\n"
          ]
        }
      ],
      "source": [
        "!pip3 install pyro-ppl "
      ]
    },
    {
      "cell_type": "code",
      "source": [
        "import torch\n",
        "import pyro\n",
        "from torch import nn\n",
        "from pyro.nn import PyroModule\n",
        "from pyro.nn import PyroSample\n",
        "import pyro.distributions as dist\n",
        "import pandas as pd\n",
        "import numpy as np\n",
        "from pyro.infer import MCMC, NUTS, Predictive\n",
        "import matplotlib.pyplot as plt"
      ],
      "metadata": {
        "id": "e_rlGFT2E4jg"
      },
      "execution_count": 34,
      "outputs": []
    },
    {
      "cell_type": "code",
      "source": [
        "class ARDRegression(PyroModule):\n",
        "    def __init__(self, in_features, out_features):\n",
        "        super().__init__()\n",
        "        self.alpha = pyro.sample('alpha', dist.Gamma(torch.tensor([1.0]), torch.tensor([1.0])).expand([in_features]).to_event(1))\n",
        "        self.one_over_sqrt_alpha = 1/torch.sqrt(self.alpha)\n",
        "\n",
        "        self.sigma2 = pyro.sample('sigma2', dist.InverseGamma(torch.tensor([1.0]), torch.tensor([1.0])))\n",
        "        self.sigma = torch.sqrt(self.sigma2)\n",
        "\n",
        "        self.linear = PyroModule[nn.Linear](in_features, out_features, bias = False)\n",
        "        self.linear.weight = PyroSample(dist.Normal(0., self.sigma*self.one_over_sqrt_alpha).expand([out_features, in_features]).to_event(2))\n",
        "\n",
        "    def forward(self, x, y=None):\n",
        "        mean = self.linear(x).squeeze(-1)\n",
        "        with pyro.plate(\"data\", x.shape[0]):\n",
        "            obs = pyro.sample(\"obs\", dist.Normal(mean, self.sigma), obs=y)\n",
        "        return mean"
      ],
      "metadata": {
        "id": "SyJDQzNfFPzq"
      },
      "execution_count": 4,
      "outputs": []
    },
    {
      "cell_type": "code",
      "source": [
        "# Making training data\n",
        "def make_training_data(num_samples, dims, sigma, mu=0):\n",
        "  \"\"\"\n",
        "  Creates training data when half of the regressors are 0\n",
        "  \"\"\"\n",
        "  x = np.random.randn(num_samples, dims).astype(np.float64)\n",
        "  w = sigma * np.random.randn(1,dims).astype(np.float64)\n",
        "  noise = np.random.randn(num_samples).astype(np.float64)\n",
        "  noise = 0\n",
        "  w[:,:int(dims/2)] = 0.\n",
        "  y = np.matmul(x, w.T) + (noise/2) + mu\n",
        "\n",
        "  y = torch.tensor(y, dtype = torch.float)\n",
        "  x = torch.tensor(x, dtype = torch.float)\n",
        "  return y, x, w\n",
        "\n",
        "\n",
        "def sep_training_test(y,x,test):\n",
        "  y_train = y[test:,:]\n",
        "  x_train = x[test:,:]\n",
        "  \n",
        "  y_test = y[:test,:]\n",
        "  x_test = x[:test,:]\n",
        "  return y_train, y_test, x_train, x_test\n",
        "\n",
        "num_features = 10\n",
        "\n",
        "y, x, w = make_training_data(100, num_features,10, mu=0)\n",
        "y_train, y_test, x_train, x_test = sep_training_test(y,x,20)"
      ],
      "metadata": {
        "id": "sHqVY44ENbxv"
      },
      "execution_count": 5,
      "outputs": []
    },
    {
      "cell_type": "code",
      "source": [
        "from pyro.infer.autoguide import AutoDiagonalNormal\n",
        "from pyro.infer.autoguide import AutoContinuous\n",
        "from pyro.infer import SVI, Trace_ELBO\n",
        "\n",
        "model = ARDRegression(num_features, 1)\n",
        "guide = AutoDiagonalNormal(model)\n",
        "adam = pyro.optim.Adam({\"lr\": 0.03})\n",
        "svi = SVI(model, guide, adam, loss=Trace_ELBO())"
      ],
      "metadata": {
        "id": "zbGrMMidJfVQ"
      },
      "execution_count": 37,
      "outputs": []
    },
    {
      "cell_type": "code",
      "source": [
        "torch.tile(np.squeeze(y_train), (100, 1)).shape"
      ],
      "metadata": {
        "colab": {
          "base_uri": "https://localhost:8080/"
        },
        "id": "jp8By5ebuP9m",
        "outputId": "2fa873f7-28b6-490c-ba00-a01888b28e43"
      },
      "execution_count": 38,
      "outputs": [
        {
          "output_type": "execute_result",
          "data": {
            "text/plain": [
              "torch.Size([100, 80])"
            ]
          },
          "metadata": {},
          "execution_count": 38
        }
      ]
    },
    {
      "cell_type": "code",
      "source": [
        "y_test.shape"
      ],
      "metadata": {
        "colab": {
          "base_uri": "https://localhost:8080/"
        },
        "id": "6umvVqPPuY4l",
        "outputId": "d6340170-b904-4fb5-c96f-624e030040bf"
      },
      "execution_count": 39,
      "outputs": [
        {
          "output_type": "execute_result",
          "data": {
            "text/plain": [
              "torch.Size([20, 1])"
            ]
          },
          "metadata": {},
          "execution_count": 39
        }
      ]
    },
    {
      "cell_type": "code",
      "source": [
        "from scipy.stats import norm as NormalDist\n",
        "\n",
        "pyro.clear_param_store()\n",
        "num_iterations = 1000\n",
        "step_ids = []\n",
        "average_log_predictives = []\n",
        "\n",
        "mse_loss = nn.MSELoss()\n",
        "\n",
        "for j in range(num_iterations):\n",
        "    # calculate the loss and take a gradient step\n",
        "    loss = svi.step(x_train, y_train.squeeze())\n",
        "    #step_ids.append(j)       \n",
        "\n",
        "    if j % 100 == 0:\n",
        "      print(\"[iteration %04d] loss: %.4f\" % (j + 1, loss / len(x_train)))\n",
        "      num_samples = 100\n",
        "      predictive_svi = Predictive(model, guide=guide, num_samples=num_samples)\n",
        "      train_predictions = predictive_svi(x_train, None)\n",
        "      test_predictions = predictive_svi(x_test, None)\n",
        "      train_obs = train_predictions['obs']\n",
        "      test_obs = test_predictions['obs']\n",
        "      mse_loss(torch.tensor(train_obs), torch.tile(np.squeeze(y_train), (num_samples, 1)))\n",
        "      average_train_log_accuracy = torch.mean(torch.log(mse_loss(train_obs, torch.tile(np.squeeze(y_train), (len(train_obs), 1)))))\n",
        "      average_test_log_accuracy = torch.mean(torch.log(mse_loss(test_obs, torch.tile(np.squeeze(y_test), (len(test_obs), 1)))))\n",
        "    \n",
        "      print(average_train_log_accuracy)\n",
        "      print(average_test_log_accuracy)\n",
        "\n",
        "      step_ids.append(j)\n",
        "      average_log_predictives.append(average_test_log_accuracy)"
      ],
      "metadata": {
        "colab": {
          "base_uri": "https://localhost:8080/"
        },
        "id": "GMBWumSCMPjY",
        "outputId": "f9daa679-1ad1-4394-96ef-1b693b9a083e"
      },
      "execution_count": 40,
      "outputs": [
        {
          "output_type": "stream",
          "name": "stdout",
          "text": [
            "[iteration 0001] loss: 6.8485\n"
          ]
        },
        {
          "output_type": "stream",
          "name": "stderr",
          "text": [
            "/usr/local/lib/python3.7/dist-packages/ipykernel_launcher.py:23: UserWarning: To copy construct from a tensor, it is recommended to use sourceTensor.clone().detach() or sourceTensor.clone().detach().requires_grad_(True), rather than torch.tensor(sourceTensor).\n"
          ]
        },
        {
          "output_type": "stream",
          "name": "stdout",
          "text": [
            "tensor(5.7597)\n",
            "tensor(5.1177)\n",
            "[iteration 0101] loss: 4.6262\n",
            "tensor(5.0902)\n",
            "tensor(4.6361)\n",
            "[iteration 0201] loss: 3.7405\n",
            "tensor(4.5511)\n",
            "tensor(4.3449)\n",
            "[iteration 0301] loss: 3.2754\n",
            "tensor(4.1655)\n",
            "tensor(4.1373)\n",
            "[iteration 0401] loss: 3.1997\n",
            "tensor(3.9530)\n",
            "tensor(3.9457)\n",
            "[iteration 0501] loss: 3.0846\n",
            "tensor(3.8423)\n",
            "tensor(3.8932)\n",
            "[iteration 0601] loss: 3.1099\n",
            "tensor(3.8223)\n",
            "tensor(3.8351)\n",
            "[iteration 0701] loss: 3.0741\n",
            "tensor(3.8484)\n",
            "tensor(3.7499)\n",
            "[iteration 0801] loss: 3.0952\n",
            "tensor(3.8275)\n",
            "tensor(3.8704)\n",
            "[iteration 0901] loss: 3.0935\n",
            "tensor(3.7925)\n",
            "tensor(3.7768)\n"
          ]
        }
      ]
    },
    {
      "cell_type": "code",
      "source": [
        "NormalDist(0,1).pdf(0)"
      ],
      "metadata": {
        "colab": {
          "base_uri": "https://localhost:8080/"
        },
        "id": "wl5jJJcptRh1",
        "outputId": "f582c1fa-04ba-4133-d3fe-e80375aaa892"
      },
      "execution_count": 41,
      "outputs": [
        {
          "output_type": "execute_result",
          "data": {
            "text/plain": [
              "0.3989422804014327"
            ]
          },
          "metadata": {},
          "execution_count": 41
        }
      ]
    },
    {
      "cell_type": "code",
      "source": [
        "plt.plot(step_ids, average_log_predictives)\n",
        "plt.xlabel(\"step number\")\n",
        "plt.ylabel(\"Average log predictive\")"
      ],
      "metadata": {
        "id": "WJqQu49Oo7l5",
        "colab": {
          "base_uri": "https://localhost:8080/",
          "height": 296
        },
        "outputId": "352871f2-ef53-46f9-b0ac-8177bacb0169"
      },
      "execution_count": 42,
      "outputs": [
        {
          "output_type": "execute_result",
          "data": {
            "text/plain": [
              "Text(0, 0.5, 'Average log predictive')"
            ]
          },
          "metadata": {},
          "execution_count": 42
        },
        {
          "output_type": "display_data",
          "data": {
            "text/plain": [
              "<Figure size 432x288 with 1 Axes>"
            ],
            "image/png": "[encoded data removed]"
          },
          "metadata": {
            "needs_background": "light"
          }
        }
      ]
    },
    {
      "cell_type": "code",
      "source": [
        "guide.requires_grad_(False)\n",
        "\n",
        "for name, value in pyro.get_param_store().items():\n",
        "    print(name, pyro.param(name))"
      ],
      "metadata": {
        "colab": {
          "base_uri": "https://localhost:8080/"
        },
        "id": "0d1xuJ9vMRgb",
        "outputId": "196b413d-a9eb-4bbf-90e7-c2515b7e147e"
      },
      "execution_count": null,
      "outputs": [
        {
          "output_type": "stream",
          "name": "stdout",
          "text": [
            "AutoDiagonalNormal.loc Parameter containing:\n",
            "tensor([-0.0998,  0.1317, -0.0814,  0.3648, -0.0752, 13.9789,  7.3794, 13.0570,\n",
            "         0.2388,  0.8030])\n",
            "AutoDiagonalNormal.scale tensor([0.0745, 0.0968, 0.0863, 0.0740, 0.0972, 0.0683, 0.0942, 0.0787, 0.0739,\n",
            "        0.0691])\n"
          ]
        }
      ]
    },
    {
      "cell_type": "code",
      "source": [
        "print('Actual value of w: {}'.format(w))\n",
        "print('Fitted median of posterior: {}'.format(guide.quantiles([0.5])))"
      ],
      "metadata": {
        "colab": {
          "base_uri": "https://localhost:8080/"
        },
        "id": "acBWJLhMMlpm",
        "outputId": "ae4842b8-675a-4b3d-b51c-e24b0f9da903"
      },
      "execution_count": null,
      "outputs": [
        {
          "output_type": "stream",
          "name": "stdout",
          "text": [
            "Actual value of w: [[ 0.          0.          0.          0.          0.         14.64492842\n",
            "   7.13703273 13.4605053   0.16320927  0.75389908]]\n",
            "Fitted median of posterior: {'linear.weight': tensor([[[-0.1095,  0.0610, -0.1645,  0.5143,  0.1007, 13.5663,  7.1861,\n",
            "          13.3372,  0.3150,  0.7708]]])}\n"
          ]
        }
      ]
    },
    {
      "cell_type": "code",
      "source": [
        "y_train.squeeze().shape"
      ],
      "metadata": {
        "id": "IhpstJAkWjLQ",
        "colab": {
          "base_uri": "https://localhost:8080/"
        },
        "outputId": "521aeb9c-8aa6-46a0-cfad-39b28d4bc74a"
      },
      "execution_count": null,
      "outputs": [
        {
          "output_type": "execute_result",
          "data": {
            "text/plain": [
              "torch.Size([80])"
            ]
          },
          "metadata": {},
          "execution_count": 6
        }
      ]
    },
    {
      "cell_type": "code",
      "source": [
        "guide.quantiles([0.5])"
      ],
      "metadata": {
        "id": "ajFMRKzPT1w7",
        "colab": {
          "base_uri": "https://localhost:8080/"
        },
        "outputId": "8f8c4e12-1ec3-48b1-e1cb-ddc01d647abc"
      },
      "execution_count": null,
      "outputs": [
        {
          "output_type": "execute_result",
          "data": {
            "text/plain": [
              "{'linear.weight': tensor([[[ 1.5882e-01, -1.9924e-01, -7.2937e-01,  1.1681e-02, -6.1948e-01,\n",
              "           -1.3818e+01,  1.3608e+01,  1.5446e+01,  1.2169e+01, -7.8934e+00]]])}"
            ]
          },
          "metadata": {},
          "execution_count": 9
        }
      ]
    },
    {
      "cell_type": "code",
      "source": [
        ""
      ],
      "metadata": {
        "id": "VIBh7h2muCl-"
      },
      "execution_count": null,
      "outputs": []
    }
  ]
}