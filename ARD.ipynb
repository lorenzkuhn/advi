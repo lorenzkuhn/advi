{
  "nbformat": 4,
  "nbformat_minor": 0,
  "metadata": {
    "colab": {
      "name": "ARD.ipynb",
      "provenance": [],
      "collapsed_sections": []
    },
    "kernelspec": {
      "name": "python3",
      "display_name": "Python 3"
    },
    "language_info": {
      "name": "python"
    }
  },
  "cells": [
    {
      "cell_type": "markdown",
      "metadata": {
        "id": "view-in-github"
      },
      "source": [
        "<a href=\"https://colab.research.google.com/github/lorenzkuhn/advi/blob/main/ARD.ipynb\" target=\"_parent\"><img src=\"https://colab.research.google.com/assets/colab-badge.svg\" alt=\"Open In Colab\"/></a>"
      ]
    },
    {
      "cell_type": "code",
      "execution_count": 1,
      "metadata": {
        "colab": {
          "base_uri": "https://localhost:8080/"
        },
        "id": "WftQNyWmExQD",
        "outputId": "b7aa0f88-a09b-424e-83db-e2735d7ad712"
      },
      "outputs": [
        {
          "output_type": "stream",
          "name": "stdout",
          "text": [
            "Collecting pyro-ppl\n",
            "  Downloading pyro_ppl-1.8.1-py3-none-any.whl (718 kB)\n",
            "\u001b[K     |████████████████████████████████| 718 kB 5.1 MB/s \n",
            "\u001b[?25hCollecting torch>=1.11.0\n",
            "  Downloading torch-1.11.0-cp37-cp37m-manylinux1_x86_64.whl (750.6 MB)\n",
            "\u001b[K     |████████████████████████████████| 750.6 MB 11 kB/s \n",
            "\u001b[?25hCollecting pyro-api>=0.1.1\n",
            "  Downloading pyro_api-0.1.2-py3-none-any.whl (11 kB)\n",
            "Requirement already satisfied: numpy>=1.7 in /usr/local/lib/python3.7/dist-packages (from pyro-ppl) (1.21.5)\n",
            "Requirement already satisfied: tqdm>=4.36 in /usr/local/lib/python3.7/dist-packages (from pyro-ppl) (4.63.0)\n",
            "Requirement already satisfied: opt-einsum>=2.3.2 in /usr/local/lib/python3.7/dist-packages (from pyro-ppl) (3.3.0)\n",
            "Requirement already satisfied: typing-extensions in /usr/local/lib/python3.7/dist-packages (from torch>=1.11.0->pyro-ppl) (3.10.0.2)\n",
            "Installing collected packages: torch, pyro-api, pyro-ppl\n",
            "  Attempting uninstall: torch\n",
            "    Found existing installation: torch 1.10.0+cu111\n",
            "    Uninstalling torch-1.10.0+cu111:\n",
            "      Successfully uninstalled torch-1.10.0+cu111\n",
            "\u001b[31mERROR: pip's dependency resolver does not currently take into account all the packages that are installed. This behaviour is the source of the following dependency conflicts.\n",
            "torchvision 0.11.1+cu111 requires torch==1.10.0, but you have torch 1.11.0 which is incompatible.\n",
            "torchtext 0.11.0 requires torch==1.10.0, but you have torch 1.11.0 which is incompatible.\n",
            "torchaudio 0.10.0+cu111 requires torch==1.10.0, but you have torch 1.11.0 which is incompatible.\u001b[0m\n",
            "Successfully installed pyro-api-0.1.2 pyro-ppl-1.8.1 torch-1.11.0\n"
          ]
        }
      ],
      "source": [
        "!pip3 install pyro-ppl "
      ]
    },
    {
      "cell_type": "code",
      "source": [
        "import torch\n",
        "from torch import nn\n",
        "\n",
        "import pyro\n",
        "from pyro.nn import PyroModule\n",
        "from pyro.nn import PyroSample\n",
        "from pyro.infer import MCMC, NUTS, HMC, Predictive\n",
        "from pyro.infer.autoguide import AutoDiagonalNormal\n",
        "from pyro.infer.autoguide import AutoContinuous\n",
        "from pyro.infer import SVI, Trace_ELBO\n",
        "import pyro.distributions as dist\n",
        "import seaborn as sns\n",
        "\n",
        "import pandas as pd\n",
        "import numpy as np\n",
        "import matplotlib.pyplot as plt\n",
        "\n",
        "import time"
      ],
      "metadata": {
        "id": "e_rlGFT2E4jg"
      },
      "execution_count": 13,
      "outputs": []
    },
    {
      "cell_type": "code",
      "source": [
        "# Making training data\n",
        "def make_training_data(num_samples, dims, sigma, mu=0):\n",
        "  \"\"\"\n",
        "  Creates training data when half of the regressors are 0\n",
        "  \"\"\"\n",
        "  x = np.random.randn(num_samples, dims).astype(np.float64)\n",
        "  w = sigma * np.random.randn(1,dims).astype(np.float64)\n",
        "  noise = np.random.randn(num_samples).astype(np.float64)\n",
        "  noise = 0\n",
        "  w[:,:int(dims/2)] = 0.\n",
        "  y = np.matmul(x, w.T) + (noise/2) + mu\n",
        "\n",
        "  y = torch.tensor(y, dtype = torch.float)\n",
        "  x = torch.tensor(x, dtype = torch.float)\n",
        "  return y, x, w\n",
        "\n",
        "\n",
        "def sep_training_test(y,x,test):\n",
        "  y_train = y[test:,:]\n",
        "  x_train = x[test:,:]\n",
        "  \n",
        "  y_test = y[:test,:]\n",
        "  x_test = x[:test,:]\n",
        "  return y_train, y_test, x_train, x_test\n",
        "\n",
        "num_features = 250\n",
        "\n",
        "y, x, w = make_training_data(11000, num_features, 10, mu=0)\n",
        "y_train, y_test, x_train, x_test = sep_training_test(y,x,1000)"
      ],
      "metadata": {
        "id": "sHqVY44ENbxv"
      },
      "execution_count": 7,
      "outputs": []
    },
    {
      "cell_type": "code",
      "source": [
        "# Define the bayesian model in pyro\n",
        "def model(x, y=None):\n",
        "      num_features = x.shape[1]\n",
        "\n",
        "      alpha = pyro.sample('alpha', dist.Gamma(torch.tensor([1.0]), torch.tensor([1.0])).expand([num_features]).to_event(1))\n",
        "      one_over_sqrt_alpha = 1/torch.sqrt(alpha)\n",
        "\n",
        "      sigma2 = pyro.sample('sigma2', dist.InverseGamma(torch.tensor([1.0]), torch.tensor([1.0])))\n",
        "      sigma = torch.sqrt(sigma2)\n",
        "\n",
        "      beta = pyro.sample('beta', dist.Normal(torch.tensor([0.0]), sigma*one_over_sqrt_alpha).expand([num_features]).to_event(1))\n",
        "\n",
        "      mean = torch.matmul(x, beta)\n",
        "\n",
        "      with pyro.plate(\"data\", x.shape[0]):          \n",
        "          outcome_dist = dist.Normal(mean, sigma)          \n",
        "          observation = pyro.sample(\"obs\", outcome_dist, obs=y)"
      ],
      "metadata": {
        "id": "l6p7-E48ZYbT"
      },
      "execution_count": 8,
      "outputs": []
    },
    {
      "cell_type": "code",
      "source": [
        "# Define the ADVI components: Guide, Optimizer and SVI\n",
        "guide = AutoDiagonalNormal(model)\n",
        "adaprop = pyro.optim.AdagradRMSProp(dict())\n",
        "svi = SVI(model, guide, adaprop, loss=Trace_ELBO())\n",
        "\n",
        "# Run ADVI \n",
        "pyro.clear_param_store()\n",
        "\n",
        "output_advi = pd.DataFrame(columns = [\"run_id\", \"t\", \"num_samples\", \"test_accuracy\", \"model\"])\n",
        "\n",
        "num_iterations = 20000\n",
        "step_ids = []\n",
        "step_time = []\n",
        "average_log_predictives = []\n",
        "mse_loss = nn.MSELoss()\n",
        "train_time = 0\n",
        "\n",
        "for j in range(num_iterations):\n",
        "    # calculate the loss and take a gradient step\n",
        "    t0 = time.time()\n",
        "    loss = svi.step(x_train, y_train.squeeze())\n",
        "    t1 = time.time()\n",
        "    train_time += (t1-t0)     \n",
        "\n",
        "    if j % 100 == 0: #Evaluate model every 1000 samples\n",
        "      num_samples = 100\n",
        "      predictive_svi = Predictive(model, guide=guide, num_samples=num_samples)\n",
        "\n",
        "      train_predictions = predictive_svi(x_train, None)\n",
        "      test_predictions = predictive_svi(x_test, None)\n",
        "      train_obs = train_predictions['obs']\n",
        "      test_obs = test_predictions['obs']\n",
        "\n",
        "      average_train_log_mse = torch.log(mse_loss(train_obs, torch.tile(np.squeeze(y_train), (len(train_obs), 1))))\n",
        "      average_test_log_mse = torch.log(mse_loss(test_obs, torch.tile(np.squeeze(y_test), (len(test_obs), 1))))\n",
        "  \n",
        "      step_ids.append(j)\n",
        "      step_time.append(train_time)\n",
        "      average_log_predictives.append(average_test_log_mse)\n",
        "\n",
        "      output_iter = {\"run_id\":\"n/a\",\n",
        "                    \"t\":train_time,\n",
        "                    \"num_samples\":\"n/a\", \n",
        "                    \"test_accuracy\":average_test_log_mse.detach().numpy(),\n",
        "                    \"model\":\"advi\"}\n",
        "\n",
        "      output_advi = output_advi.append(output_iter, ignore_index = True)\n",
        "      print(\"[iteration %04d] loss: %.4f\" % (j + 1, average_test_log_mse))"
      ],
      "metadata": {
        "colab": {
          "base_uri": "https://localhost:8080/"
        },
        "id": "GMBWumSCMPjY",
        "outputId": "2c194912-c401-4708-f174-31d64d0b1733"
      },
      "execution_count": 19,
      "outputs": [
        {
          "output_type": "stream",
          "name": "stdout",
          "text": [
            "[iteration 0001] loss: 9.0876\n",
            "[iteration 0101] loss: 8.1008\n",
            "[iteration 0201] loss: 7.3945\n",
            "[iteration 0301] loss: 4.6524\n",
            "[iteration 0401] loss: 0.0344\n",
            "[iteration 0501] loss: -1.0487\n",
            "[iteration 0601] loss: -1.2426\n",
            "[iteration 0701] loss: -1.6054\n",
            "[iteration 0801] loss: -1.8058\n",
            "[iteration 0901] loss: -1.8429\n",
            "[iteration 1001] loss: -2.0059\n",
            "[iteration 1101] loss: -1.9807\n",
            "[iteration 1201] loss: -1.8581\n",
            "[iteration 1301] loss: -2.1227\n",
            "[iteration 1401] loss: -2.4624\n",
            "[iteration 1501] loss: -2.4404\n",
            "[iteration 1601] loss: -2.4256\n",
            "[iteration 1701] loss: -2.5614\n",
            "[iteration 1801] loss: -2.4180\n",
            "[iteration 1901] loss: -2.5049\n",
            "[iteration 2001] loss: -2.6483\n",
            "[iteration 2101] loss: -2.5759\n",
            "[iteration 2201] loss: -2.6479\n",
            "[iteration 2301] loss: -2.7055\n",
            "[iteration 2401] loss: -2.8177\n",
            "[iteration 2501] loss: -2.8821\n",
            "[iteration 2601] loss: -2.8735\n",
            "[iteration 2701] loss: -2.9761\n",
            "[iteration 2801] loss: -3.0938\n",
            "[iteration 2901] loss: -2.8803\n",
            "[iteration 3001] loss: -3.1240\n",
            "[iteration 3101] loss: -3.0063\n",
            "[iteration 3201] loss: -3.0557\n",
            "[iteration 3301] loss: -3.1288\n",
            "[iteration 3401] loss: -3.0131\n",
            "[iteration 3501] loss: -3.2130\n",
            "[iteration 3601] loss: -3.2256\n",
            "[iteration 3701] loss: -3.2863\n",
            "[iteration 3801] loss: -3.2931\n",
            "[iteration 3901] loss: -3.3250\n",
            "[iteration 4001] loss: -3.3656\n",
            "[iteration 4101] loss: -3.4216\n",
            "[iteration 4201] loss: -3.3782\n",
            "[iteration 4301] loss: -3.3946\n",
            "[iteration 4401] loss: -3.4712\n",
            "[iteration 4501] loss: -3.3370\n",
            "[iteration 4601] loss: -3.5179\n",
            "[iteration 4701] loss: -3.5486\n",
            "[iteration 4801] loss: -3.5791\n",
            "[iteration 4901] loss: -3.4615\n",
            "[iteration 5001] loss: -3.6541\n",
            "[iteration 5101] loss: -3.4601\n",
            "[iteration 5201] loss: -3.5388\n",
            "[iteration 5301] loss: -3.7578\n",
            "[iteration 5401] loss: -3.6456\n",
            "[iteration 5501] loss: -3.5055\n",
            "[iteration 5601] loss: -3.7388\n",
            "[iteration 5701] loss: -3.7293\n",
            "[iteration 5801] loss: -3.5853\n",
            "[iteration 5901] loss: -3.6696\n",
            "[iteration 6001] loss: -3.7882\n",
            "[iteration 6101] loss: -3.7798\n",
            "[iteration 6201] loss: -3.6739\n",
            "[iteration 6301] loss: -3.8977\n",
            "[iteration 6401] loss: -3.8260\n",
            "[iteration 6501] loss: -3.7720\n",
            "[iteration 6601] loss: -3.7981\n",
            "[iteration 6701] loss: -3.8771\n",
            "[iteration 6801] loss: -3.9092\n",
            "[iteration 6901] loss: -3.8422\n",
            "[iteration 7001] loss: -3.8333\n",
            "[iteration 7101] loss: -3.9672\n",
            "[iteration 7201] loss: -3.8264\n",
            "[iteration 7301] loss: -3.9369\n",
            "[iteration 7401] loss: -4.0450\n",
            "[iteration 7501] loss: -3.8656\n",
            "[iteration 7601] loss: -4.0535\n",
            "[iteration 7701] loss: -4.0175\n",
            "[iteration 7801] loss: -3.9619\n",
            "[iteration 7901] loss: -4.0000\n",
            "[iteration 8001] loss: -3.9694\n",
            "[iteration 8101] loss: -4.1521\n",
            "[iteration 8201] loss: -4.0309\n",
            "[iteration 8301] loss: -4.1222\n",
            "[iteration 8401] loss: -4.1970\n",
            "[iteration 8501] loss: -4.0954\n",
            "[iteration 8601] loss: -4.0163\n",
            "[iteration 8701] loss: -4.0868\n",
            "[iteration 8801] loss: -3.9422\n",
            "[iteration 8901] loss: -4.0490\n",
            "[iteration 9001] loss: -4.1637\n",
            "[iteration 9101] loss: -4.1992\n",
            "[iteration 9201] loss: -4.2087\n",
            "[iteration 9301] loss: -4.1057\n",
            "[iteration 9401] loss: -4.2241\n",
            "[iteration 9501] loss: -4.2517\n",
            "[iteration 9601] loss: -4.1784\n",
            "[iteration 9701] loss: -4.1815\n",
            "[iteration 9801] loss: -4.3590\n",
            "[iteration 9901] loss: -4.2703\n",
            "[iteration 10001] loss: -4.2013\n",
            "[iteration 10101] loss: -4.3403\n",
            "[iteration 10201] loss: -4.1988\n",
            "[iteration 10301] loss: -4.2635\n",
            "[iteration 10401] loss: -4.2176\n",
            "[iteration 10501] loss: -4.2936\n",
            "[iteration 10601] loss: -4.2957\n",
            "[iteration 10701] loss: -4.3091\n",
            "[iteration 10801] loss: -4.3202\n",
            "[iteration 10901] loss: -4.3060\n",
            "[iteration 11001] loss: -4.3997\n",
            "[iteration 11101] loss: -4.3380\n",
            "[iteration 11201] loss: -4.3741\n",
            "[iteration 11301] loss: -4.3798\n",
            "[iteration 11401] loss: -4.4087\n",
            "[iteration 11501] loss: -4.3443\n",
            "[iteration 11601] loss: -4.3850\n",
            "[iteration 11701] loss: -4.3461\n",
            "[iteration 11801] loss: -4.4777\n",
            "[iteration 11901] loss: -4.3830\n",
            "[iteration 12001] loss: -4.4584\n",
            "[iteration 12101] loss: -4.5450\n",
            "[iteration 12201] loss: -4.4958\n",
            "[iteration 12301] loss: -4.3928\n",
            "[iteration 12401] loss: -4.4543\n",
            "[iteration 12501] loss: -4.3906\n",
            "[iteration 12601] loss: -4.3687\n",
            "[iteration 12701] loss: -4.4984\n",
            "[iteration 12801] loss: -4.5159\n",
            "[iteration 12901] loss: -4.4829\n",
            "[iteration 13001] loss: -4.4726\n",
            "[iteration 13101] loss: -4.4275\n",
            "[iteration 13201] loss: -4.4732\n",
            "[iteration 13301] loss: -4.4175\n",
            "[iteration 13401] loss: -4.5646\n",
            "[iteration 13501] loss: -4.5583\n",
            "[iteration 13601] loss: -4.5345\n",
            "[iteration 13701] loss: -4.5786\n",
            "[iteration 13801] loss: -4.4797\n",
            "[iteration 13901] loss: -4.5682\n",
            "[iteration 14001] loss: -4.5413\n",
            "[iteration 14101] loss: -4.4802\n",
            "[iteration 14201] loss: -4.4909\n",
            "[iteration 14301] loss: -4.3973\n",
            "[iteration 14401] loss: -4.6671\n",
            "[iteration 14501] loss: -4.5296\n",
            "[iteration 14601] loss: -4.6098\n",
            "[iteration 14701] loss: -4.6275\n",
            "[iteration 14801] loss: -4.5462\n",
            "[iteration 14901] loss: -4.5437\n",
            "[iteration 15001] loss: -4.7606\n",
            "[iteration 15101] loss: -4.5393\n",
            "[iteration 15201] loss: -4.7271\n",
            "[iteration 15301] loss: -4.6745\n",
            "[iteration 15401] loss: -4.7144\n",
            "[iteration 15501] loss: -4.6266\n",
            "[iteration 15601] loss: -4.7230\n",
            "[iteration 15701] loss: -4.6486\n",
            "[iteration 15801] loss: -4.7629\n",
            "[iteration 15901] loss: -4.7680\n",
            "[iteration 16001] loss: -4.7323\n",
            "[iteration 16101] loss: -4.7349\n",
            "[iteration 16201] loss: -4.6950\n",
            "[iteration 16301] loss: -4.7222\n",
            "[iteration 16401] loss: -4.7371\n",
            "[iteration 16501] loss: -4.7060\n",
            "[iteration 16601] loss: -4.8045\n",
            "[iteration 16701] loss: -4.8460\n",
            "[iteration 16801] loss: -4.7150\n",
            "[iteration 16901] loss: -4.8114\n",
            "[iteration 17001] loss: -4.7559\n",
            "[iteration 17101] loss: -4.7972\n",
            "[iteration 17201] loss: -4.8729\n",
            "[iteration 17301] loss: -4.7603\n",
            "[iteration 17401] loss: -4.7742\n",
            "[iteration 17501] loss: -4.8453\n",
            "[iteration 17601] loss: -4.8366\n",
            "[iteration 17701] loss: -4.7802\n",
            "[iteration 17801] loss: -4.7233\n",
            "[iteration 17901] loss: -4.9636\n",
            "[iteration 18001] loss: -4.7043\n",
            "[iteration 18101] loss: -4.8820\n",
            "[iteration 18201] loss: -4.8555\n",
            "[iteration 18301] loss: -4.7469\n",
            "[iteration 18401] loss: -4.8450\n",
            "[iteration 18501] loss: -4.9757\n",
            "[iteration 18601] loss: -4.8901\n",
            "[iteration 18701] loss: -4.9553\n",
            "[iteration 18801] loss: -4.8593\n",
            "[iteration 18901] loss: -4.8810\n",
            "[iteration 19001] loss: -4.8462\n",
            "[iteration 19101] loss: -4.8806\n",
            "[iteration 19201] loss: -4.9076\n",
            "[iteration 19301] loss: -4.8211\n",
            "[iteration 19401] loss: -4.8317\n",
            "[iteration 19501] loss: -4.8607\n",
            "[iteration 19601] loss: -4.8540\n",
            "[iteration 19701] loss: -4.7284\n",
            "[iteration 19801] loss: -4.9553\n",
            "[iteration 19901] loss: -4.9708\n"
          ]
        }
      ]
    },
    {
      "cell_type": "code",
      "source": [
        "sample_size_l = np.arange(50, 500, 50)\n",
        "sample_size_s = np.arange(5, 50, 10)\n",
        "sample_size = np.concatenate((sample_size_s, sample_size_l))\n",
        "\n",
        "for i in sample_size:\n",
        "  print(i)"
      ],
      "metadata": {
        "colab": {
          "base_uri": "https://localhost:8080/"
        },
        "id": "ZAjtiG6epOO5",
        "outputId": "fbad7c77-e1ab-41ba-b858-9a23854a967e"
      },
      "execution_count": 42,
      "outputs": [
        {
          "output_type": "stream",
          "name": "stdout",
          "text": [
            "5\n",
            "15\n",
            "25\n",
            "35\n",
            "45\n",
            "50\n",
            "100\n",
            "150\n",
            "200\n",
            "250\n",
            "300\n",
            "350\n",
            "400\n",
            "450\n"
          ]
        }
      ]
    },
    {
      "cell_type": "code",
      "source": [
        "# Run MCMC using Stan kernel\n",
        "pyro.clear_param_store()\n",
        "\n",
        "output_mcmc = pd.DataFrame(columns = [\"run_id\", \"t\", \"num_samples\", \"test_accuracy\", \"model\"])\n",
        "\n",
        "sample_size_l = np.arange(50, 700, 50)\n",
        "sample_size_s = np.arange(2, 50, 10)\n",
        "sample_size = np.concatenate((sample_size_s, sample_size_l))\n",
        "\n",
        "for size in sample_size: \n",
        "  \n",
        "    num_samples = size\n",
        "    num_warmups = size\n",
        "    \n",
        "    print('Num samples: {}'.format(num_samples))\n",
        "\n",
        "    nuts_kernel = NUTS(model,\n",
        "                       max_tree_depth = 4)\n",
        "\n",
        "    mcmc = MCMC(\n",
        "            nuts_kernel,\n",
        "            num_samples=num_samples,\n",
        "            warmup_steps=num_warmups,\n",
        "            disable_progbar=False,\n",
        "            num_chains = 1\n",
        "    ) \n",
        "\n",
        "    start = time.time()\n",
        "    mcmc.run(x_train, y_train.squeeze())\n",
        "    end = time.time()\n",
        "\n",
        "    samples = mcmc.get_samples()\n",
        "    mcmc_predictive = Predictive(model, samples)\n",
        "    test_obs = mcmc_predictive(x_test, None)['obs']\n",
        "    average_test_log_accuracy = torch.mean(torch.log(mse_loss(test_obs, torch.tile(np.squeeze(y_test), (len(test_obs), 1)))))\n",
        "\n",
        "    output_iter = {\"run_id\":\"n/a\",\n",
        "                  \"t\":end-start,\n",
        "                  \"num_samples\":num_samples, \n",
        "                  \"test_accuracy\":average_test_log_accuracy.detach().numpy(),\n",
        "                  \"model\":\"nuts\"}\n",
        "\n",
        "    output_mcmc = output_mcmc.append(output_iter, ignore_index = True)\n",
        "    print(average_test_log_accuracy)"
      ],
      "metadata": {
        "id": "VIBh7h2muCl-",
        "colab": {
          "base_uri": "https://localhost:8080/"
        },
        "outputId": "56b4b0d6-d692-4b53-c2f5-74a4c9240e9e"
      },
      "execution_count": 47,
      "outputs": [
        {
          "output_type": "stream",
          "name": "stdout",
          "text": [
            "Num samples: 2\n"
          ]
        },
        {
          "output_type": "stream",
          "name": "stderr",
          "text": [
            "Sample: 100%|██████████| 4/4 [00:00, 22.25it/s, step size=1.76e-03, acc. prob=0.000]\n"
          ]
        },
        {
          "output_type": "stream",
          "name": "stdout",
          "text": [
            "tensor(9.2790)\n",
            "Num samples: 12\n"
          ]
        },
        {
          "output_type": "stream",
          "name": "stderr",
          "text": [
            "Sample: 100%|██████████| 24/24 [00:01, 13.25it/s, step size=6.03e-03, acc. prob=0.990]\n"
          ]
        },
        {
          "output_type": "stream",
          "name": "stdout",
          "text": [
            "tensor(9.9074)\n",
            "Num samples: 22\n"
          ]
        },
        {
          "output_type": "stream",
          "name": "stderr",
          "text": [
            "Sample: 100%|██████████| 44/44 [00:01, 24.65it/s, step size=2.35e-02, acc. prob=0.082]\n"
          ]
        },
        {
          "output_type": "stream",
          "name": "stdout",
          "text": [
            "tensor(9.7912)\n",
            "Num samples: 32\n"
          ]
        },
        {
          "output_type": "stream",
          "name": "stderr",
          "text": [
            "Sample: 100%|██████████| 64/64 [00:04, 14.32it/s, step size=1.26e-02, acc. prob=0.748]\n"
          ]
        },
        {
          "output_type": "stream",
          "name": "stdout",
          "text": [
            "tensor(9.7184)\n",
            "Num samples: 42\n"
          ]
        },
        {
          "output_type": "stream",
          "name": "stderr",
          "text": [
            "Sample: 100%|██████████| 84/84 [00:04, 18.02it/s, step size=7.16e-02, acc. prob=0.169]\n"
          ]
        },
        {
          "output_type": "stream",
          "name": "stdout",
          "text": [
            "tensor(4.9759)\n",
            "Num samples: 50\n"
          ]
        },
        {
          "output_type": "stream",
          "name": "stderr",
          "text": [
            "Sample: 100%|██████████| 100/100 [00:06, 15.76it/s, step size=2.20e-02, acc. prob=0.408]\n"
          ]
        },
        {
          "output_type": "stream",
          "name": "stdout",
          "text": [
            "tensor(5.9795)\n",
            "Num samples: 100\n"
          ]
        },
        {
          "output_type": "stream",
          "name": "stderr",
          "text": [
            "Sample: 100%|██████████| 200/200 [00:11, 17.52it/s, step size=7.30e-03, acc. prob=0.028]\n"
          ]
        },
        {
          "output_type": "stream",
          "name": "stdout",
          "text": [
            "tensor(2.0556)\n",
            "Num samples: 150\n"
          ]
        },
        {
          "output_type": "stream",
          "name": "stderr",
          "text": [
            "Sample: 100%|██████████| 300/300 [00:23, 12.85it/s, step size=9.57e-03, acc. prob=0.833]\n"
          ]
        },
        {
          "output_type": "stream",
          "name": "stdout",
          "text": [
            "tensor(0.0840)\n",
            "Num samples: 200\n"
          ]
        },
        {
          "output_type": "stream",
          "name": "stderr",
          "text": [
            "Sample: 100%|██████████| 400/400 [00:31, 12.78it/s, step size=1.36e-02, acc. prob=0.912]\n"
          ]
        },
        {
          "output_type": "stream",
          "name": "stdout",
          "text": [
            "tensor(-0.0626)\n",
            "Num samples: 250\n"
          ]
        },
        {
          "output_type": "stream",
          "name": "stderr",
          "text": [
            "Sample: 100%|██████████| 500/500 [00:39, 12.77it/s, step size=1.19e-02, acc. prob=0.869]\n"
          ]
        },
        {
          "output_type": "stream",
          "name": "stdout",
          "text": [
            "tensor(-0.4485)\n",
            "Num samples: 300\n"
          ]
        },
        {
          "output_type": "stream",
          "name": "stderr",
          "text": [
            "Sample: 100%|██████████| 600/600 [00:47, 12.74it/s, step size=1.65e-01, acc. prob=0.459]\n"
          ]
        },
        {
          "output_type": "stream",
          "name": "stdout",
          "text": [
            "tensor(-2.3024)\n",
            "Num samples: 350\n"
          ]
        },
        {
          "output_type": "stream",
          "name": "stderr",
          "text": [
            "Sample: 100%|██████████| 700/700 [00:54, 12.86it/s, step size=9.66e-02, acc. prob=0.773]\n"
          ]
        },
        {
          "output_type": "stream",
          "name": "stdout",
          "text": [
            "tensor(-2.3000)\n",
            "Num samples: 400\n"
          ]
        },
        {
          "output_type": "stream",
          "name": "stderr",
          "text": [
            "Sample: 100%|██████████| 800/800 [01:01, 13.06it/s, step size=8.23e-02, acc. prob=0.834]\n"
          ]
        },
        {
          "output_type": "stream",
          "name": "stdout",
          "text": [
            "tensor(-2.4708)\n",
            "Num samples: 450\n"
          ]
        },
        {
          "output_type": "stream",
          "name": "stderr",
          "text": [
            "Sample: 100%|██████████| 900/900 [01:08, 13.15it/s, step size=1.03e-01, acc. prob=0.604]\n"
          ]
        },
        {
          "output_type": "stream",
          "name": "stdout",
          "text": [
            "tensor(-2.7566)\n",
            "Num samples: 500\n"
          ]
        },
        {
          "output_type": "stream",
          "name": "stderr",
          "text": [
            "Sample: 100%|██████████| 1000/1000 [01:16, 13.01it/s, step size=2.47e-02, acc. prob=0.449]\n"
          ]
        },
        {
          "output_type": "stream",
          "name": "stdout",
          "text": [
            "tensor(-7.2436)\n",
            "Num samples: 550\n"
          ]
        },
        {
          "output_type": "stream",
          "name": "stderr",
          "text": [
            "Sample: 100%|██████████| 1100/1100 [01:24, 13.06it/s, step size=3.01e-02, acc. prob=0.212]\n"
          ]
        },
        {
          "output_type": "stream",
          "name": "stdout",
          "text": [
            "tensor(-7.6767)\n",
            "Num samples: 600\n"
          ]
        },
        {
          "output_type": "stream",
          "name": "stderr",
          "text": [
            "Sample: 100%|██████████| 1200/1200 [01:32, 13.02it/s, step size=2.68e-02, acc. prob=0.374]\n"
          ]
        },
        {
          "output_type": "stream",
          "name": "stdout",
          "text": [
            "tensor(-7.4915)\n",
            "Num samples: 650\n"
          ]
        },
        {
          "output_type": "stream",
          "name": "stderr",
          "text": [
            "Sample: 100%|██████████| 1300/1300 [01:38, 13.15it/s, step size=3.10e-02, acc. prob=0.209]\n"
          ]
        },
        {
          "output_type": "stream",
          "name": "stdout",
          "text": [
            "tensor(-7.5694)\n"
          ]
        }
      ]
    },
    {
      "cell_type": "code",
      "source": [
        "# Generate plot (Figure 4 in original paper)\n",
        "\n",
        "output = output_advi.append(output_mcmc, ignore_index=True)\n",
        "output = output.loc[output['t'] < 100]\n",
        "output['test_accuracy'] = output['test_accuracy'].astype('float')\n",
        "\n",
        "sns.set_style(\"whitegrid\")\n",
        "results = sns.lineplot(data = output, x = 't', y = 'test_accuracy', hue = 'model')\n",
        "results.set(xscale='log', \n",
        "            xlim = (0.015, 150), \n",
        "            xlabel = 'Seconds',\n",
        "            ylabel = 'Average Log Predictive')\n",
        "plt.legend(labels=[\"ADVI (M=1)\",\"NUTS\"])"
      ],
      "metadata": {
        "colab": {
          "base_uri": "https://localhost:8080/",
          "height": 300
        },
        "id": "J2OSCCNNgp_w",
        "outputId": "c36bb63e-1070-4b28-be81-9ff604119e7d"
      },
      "execution_count": 65,
      "outputs": [
        {
          "output_type": "execute_result",
          "data": {
            "text/plain": [
              "<matplotlib.legend.Legend at 0x7fa4d77f4b50>"
            ]
          },
          "metadata": {},
          "execution_count": 65
        },
        {
          "output_type": "display_data",
          "data": {
            "text/plain": [
              "<Figure size 432x288 with 1 Axes>"
            ],
            "image/png": "[encoded data removed]"
          },
          "metadata": {}
        }
      ]
    },
    {
      "cell_type": "code",
      "source": [
        ""
      ],
      "metadata": {
        "id": "nAqjs9y2w2Bx"
      },
      "execution_count": null,
      "outputs": []
    }
  ]
}