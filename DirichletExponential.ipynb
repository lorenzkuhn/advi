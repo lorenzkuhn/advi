{
  "nbformat": 4,
  "nbformat_minor": 0,
  "metadata": {
    "colab": {
      "name": "GammaPoisson.ipynb",
      "provenance": [],
      "collapsed_sections": []
    },
    "kernelspec": {
      "name": "python3",
      "display_name": "Python 3"
    },
    "language_info": {
      "name": "python"
    }
  },
  "cells": [
    {
      "cell_type": "markdown",
      "source": [
        "**1. Data download and Initialization**\n",
        "\n",
        "These first few cells install pyro and download the frey faces Dataset.\n",
        "\n",
        "What we need from here is the ```ff``` numpy array that holds all the frey faces with ```shape``` 1965x28x20."
      ],
      "metadata": {
        "id": "WTKKrLilwS3r"
      }
    },
    {
      "cell_type": "code",
      "execution_count": null,
      "metadata": {
        "colab": {
          "base_uri": "https://localhost:8080/"
        },
        "id": "-TnAK3Vh29gV",
        "outputId": "61f1a8f5-2374-40c4-c0c5-32656667d81e"
      },
      "outputs": [
        {
          "output_type": "stream",
          "name": "stdout",
          "text": [
            "Requirement already satisfied: pyro-ppl in /usr/local/lib/python3.7/dist-packages (1.8.1)\n",
            "Requirement already satisfied: torch>=1.11.0 in /usr/local/lib/python3.7/dist-packages (from pyro-ppl) (1.11.0)\n",
            "Requirement already satisfied: opt-einsum>=2.3.2 in /usr/local/lib/python3.7/dist-packages (from pyro-ppl) (3.3.0)\n",
            "Requirement already satisfied: pyro-api>=0.1.1 in /usr/local/lib/python3.7/dist-packages (from pyro-ppl) (0.1.2)\n",
            "Requirement already satisfied: tqdm>=4.36 in /usr/local/lib/python3.7/dist-packages (from pyro-ppl) (4.63.0)\n",
            "Requirement already satisfied: numpy>=1.7 in /usr/local/lib/python3.7/dist-packages (from pyro-ppl) (1.21.5)\n",
            "Requirement already satisfied: typing-extensions in /usr/local/lib/python3.7/dist-packages (from torch>=1.11.0->pyro-ppl) (3.10.0.2)\n"
          ]
        }
      ],
      "source": [
        "!pip3 install pyro-ppl "
      ]
    },
    {
      "cell_type": "code",
      "source": [
        "import torch\n",
        "import pyro\n",
        "import pyro.distributions as dist\n",
        "import torch.distributions.transforms as transforms\n",
        "import numpy as np\n",
        "import pandas as pd\n",
        "import matplotlib.pyplot as plt\n",
        "import time\n",
        "import seaborn as sns\n",
        "from pyro.infer import SVI, Trace_ELBO, MCMC, NUTS\n",
        "\n",
        "torch.manual_seed(101)\n",
        "pyro.set_rng_seed(101)\n",
        "np.random.seed(101)"
      ],
      "metadata": {
        "id": "YLvu-QL63Efv"
      },
      "execution_count": null,
      "outputs": []
    },
    {
      "cell_type": "code",
      "source": [
        "# get frey faces\n",
        "# download and visualization snippet copied from https://dohmatob.github.io/research/2016/10/22/VAE.html\n",
        "\n",
        "import os\n",
        "from urllib.request import urlopen, URLError, HTTPError\n",
        "from scipy.io import loadmat\n",
        "\n",
        "\n",
        "def fetch_file(url):\n",
        "    \"\"\"Downloads a file from a URL.\n",
        "    \"\"\"\n",
        "    try:\n",
        "        f = urlopen(url)\n",
        "        print(\"Downloading data file \" + url + \" ...\")\n",
        "\n",
        "        # Open our local file for writing\n",
        "        with open(os.path.basename(url), \"wb\") as local_file:\n",
        "            local_file.write(f.read())\n",
        "        print(\"Done.\")\n",
        "\n",
        "    #handle errors\n",
        "    except (HTTPError, e):\n",
        "        print(\"HTTP Error:\", e.code, url)\n",
        "    except (URLError, e):\n",
        "        print(\"URL Error:\", e.reason, url)\n",
        "        \n",
        "url =  \"http://www.cs.nyu.edu/~roweis/data/frey_rawface.mat\"\n",
        "data_filename = os.path.basename(url)\n",
        "if not os.path.exists(data_filename):\n",
        "    fetch_file(url)\n",
        "else:\n",
        "    print(\"Data file %s exists.\" % data_filename)\n",
        "    \n",
        "# reshape data for later convenience\n",
        "img_rows, img_cols = 28, 20\n",
        "ff = loadmat(data_filename, squeeze_me=True, struct_as_record=False)\n",
        "ff = ff[\"ff\"].T.reshape((-1, img_rows, img_cols))"
      ],
      "metadata": {
        "colab": {
          "base_uri": "https://localhost:8080/"
        },
        "id": "oGmHROUm3MgA",
        "outputId": "a8d59c4d-7eed-478b-db9d-d294ca5b4f6a"
      },
      "execution_count": null,
      "outputs": [
        {
          "output_type": "stream",
          "name": "stdout",
          "text": [
            "Data file frey_rawface.mat exists.\n"
          ]
        }
      ]
    },
    {
      "cell_type": "code",
      "source": [
        "# split data into training and test sets\n",
        "from torch.utils.data import DataLoader\n",
        "\n",
        "train_set, test_set = torch.utils.data.random_split(ff, [1572, 393])\n",
        "train_loader = DataLoader(train_set, batch_size=1572)\n",
        "test_loader = DataLoader(test_set, batch_size=393)"
      ],
      "metadata": {
        "id": "Xci4MVYtnpZH"
      },
      "execution_count": null,
      "outputs": []
    },
    {
      "cell_type": "markdown",
      "source": [
        "**2. Model Definition**\n",
        "The Gamma-Poisson Model is defined here and valid for all approximation/sampling techniques."
      ],
      "metadata": {
        "id": "FhGi4Ypdh3nG"
      }
    },
    {
      "cell_type": "code",
      "source": [
        "def model(data, U = 28, I = 20, K = 10):\n",
        "    # Draw parameters\n",
        "    theta = pyro.sample('theta', dist.Gamma(1., 1.).expand([U, K]).to_event(2))\n",
        "    beta = pyro.sample('beta', dist.Gamma(1., 1.).expand([K, I]).to_event(2))\n",
        "\n",
        "    # Generate observations\n",
        "    with pyro.plate(\"data\", len(data)):\n",
        "        obs = pyro.sample(\"obs\", dist.Poisson(torch.mm(theta, beta)).to_event(2), obs = data)\n",
        "\n",
        "    return obs"
      ],
      "metadata": {
        "id": "UR0fZhm96YEG"
      },
      "execution_count": null,
      "outputs": []
    },
    {
      "cell_type": "markdown",
      "source": [
        "**3.1 ADVI**\n",
        "The ADVI implementation consists of a custom positive-ordered transformation, the custom guide and the actual learning."
      ],
      "metadata": {
        "id": "bhCr7MeTkOKN"
      }
    },
    {
      "cell_type": "code",
      "source": [
        "# TRANSFORM\n",
        "# This is numerically unstable\n",
        "class ordered_transform_broken(transforms.Transform):\n",
        "      bijective = True\n",
        "      domain = dist.constraints.real_vector\n",
        "      codomain = dist.constraints.real_vector\n",
        "      sign = +1\n",
        "\n",
        "      def _call(self, x):\n",
        "          y = torch.zeros_like(x)\n",
        "          for i in range(x.size(dim=1)):\n",
        "              if i == 0:\n",
        "                  y[:,i] = x[:,i]\n",
        "              else:\n",
        "                  y[:,i] = torch.exp(x[:,i]) + x[:,i-1]\n",
        "          return y\n",
        "\n",
        "      def _inverse(self, x):\n",
        "          y = torch.zeros_like(x)\n",
        "          for i in range(x.size(dim=1)):\n",
        "              if i == 0:\n",
        "                  y[:,i] = x[:,i]\n",
        "              else:\n",
        "                  y[:,i] = torch.log(x[:,i] - x[:,i-1])\n",
        "          return y\n",
        "\n",
        "      def log_abs_det_jacobian(self, x, y):\n",
        "          z = torch.ones(y.size(dim=0))\n",
        "          for i in range(y.size(dim=1)):\n",
        "              if i > 0:\n",
        "                  z = z * torch.exp(y[:,i])\n",
        "          return z\n",
        "\n",
        "# positive_ordered_transform = transforms.ComposeTransform([transforms.ExpTransform(), ordered_transform()])\n",
        "\n",
        "# This is what I am actually using\n",
        "class positive_ordered_transform(transforms.Transform):\n",
        "      bijective = True\n",
        "      domain = dist.constraints.real_vector\n",
        "      codomain = dist.constraints.real_vector\n",
        "      sign = +1\n",
        "\n",
        "      def _call(self, x):\n",
        "          y = torch.zeros_like(x)\n",
        "          for i in range(x.size(dim=1)):\n",
        "              if i == 0:\n",
        "                  y[:,i] = torch.exp(x[:,i])\n",
        "              else:\n",
        "                  y[:,i] = torch.exp(x[:,i]) + y[:,i-1]\n",
        "          assert(torch.isnan(y).any() == False)\n",
        "          assert(torch.min(y) >= 0)\n",
        "          return y\n",
        "\n",
        "      def _inverse(self, y):\n",
        "          x = torch.zeros_like(y)\n",
        "          for i in range(y.size(dim=1)):\n",
        "              if i == 0:\n",
        "                  x[:,i] = torch.log(y[:,i])\n",
        "              else:\n",
        "                  x[:,i] = torch.log(y[:,i] - y[:,i-1])\n",
        "          assert(torch.isnan(x).any() == False)\n",
        "          return x\n",
        "\n",
        "      # TODO: double-check mathematical correctness of this!\n",
        "      def log_abs_det_jacobian(self, x, y):\n",
        "          result = x.sum(axis=1)\n",
        "          # print(result.size())\n",
        "          return result"
      ],
      "metadata": {
        "id": "FzSmKD2Ux2HC"
      },
      "execution_count": null,
      "outputs": []
    },
    {
      "cell_type": "code",
      "source": [
        "# GUIDE\n",
        "def guide(y, U = 28, I = 20, K = 10):\n",
        "    # theta params\n",
        "    theta_mu = torch.randn([U,K])\n",
        "    theta_sigma = torch.log(torch.abs(torch.randn([U,K])))\n",
        "    theta_mu_param = pyro.param(\"theta_mu\", theta_mu)\n",
        "    theta_sigma_param = pyro.param(\"theta_sigma\", theta_sigma)\n",
        "    pyro.sample(\"theta\", dist.TransformedDistribution(dist.Normal(theta_mu_param, torch.exp(theta_sigma_param)), positive_ordered_transform()).to_event(1))\n",
        "\n",
        "    # beta params\n",
        "    beta_mu = torch.randn([K,I])\n",
        "    beta_sigma = torch.log(torch.abs(torch.randn([K,I])))\n",
        "    beta_mu_param = pyro.param(\"beta_mu\", beta_mu)\n",
        "    beta_sigma_param = pyro.param(\"beta_sigma\", beta_sigma)\n",
        "    pyro.sample(\"beta\", dist.TransformedDistribution(dist.Normal(beta_mu_param, torch.exp(beta_sigma_param)), transforms.ExpTransform()).to_event(2))"
      ],
      "metadata": {
        "id": "TatOi1OPdup2"
      },
      "execution_count": null,
      "outputs": []
    },
    {
      "cell_type": "code",
      "source": [
        "def run_advi(model, guide, num_iterations=2000, verbose=False):\n",
        "\n",
        "    adam = pyro.optim.Adam({\"lr\": 0.1})\n",
        "    svi = SVI(model, guide, adam, loss=Trace_ELBO())\n",
        "    pyro.clear_param_store()\n",
        "\n",
        "    output_advi = pd.DataFrame(columns = [\"t\", \"test_log_prob\", \"model\"])\n",
        "\n",
        "    train_time = 0\n",
        "    for j in range(num_iterations):\n",
        "        loss = 0\n",
        "\n",
        "        t0 = time.time()\n",
        "        for data in train_loader:\n",
        "            loss += svi.step(data)\n",
        "        t1 = time.time()\n",
        "        train_time += (t1-t0)\n",
        "\n",
        "        if verbose and j%100 == 0:\n",
        "            print(\"[iteration %04d] loss: %.4f\" % (j + 1, loss / len(train_loader.dataset)))\n",
        "\n",
        "        learned_theta_mu = pyro.get_param_store().get_param('theta_mu')\n",
        "        learned_beta_mu = pyro.get_param_store().get_param('beta_mu')\n",
        "        poiss_dist = dist.Poisson(torch.mm(positive_ordered_transform()(learned_theta_mu), torch.exp(learned_beta_mu)))\n",
        "\n",
        "        test_log_prob = 0\n",
        "        for data in test_loader:\n",
        "          test_log_prob += poiss_dist.log_prob(data).sum()\n",
        "\n",
        "        output_iter = {\"t\": train_time,\n",
        "                       \"test_log_prob\": test_log_prob.detach().numpy() / float(len(test_loader.dataset) * 20 * 28),\n",
        "                       \"model\": \"advi_\" + str(num_iterations)}\n",
        "\n",
        "        output_advi = output_advi.append(output_iter, ignore_index = True)\n",
        "\n",
        "    return output_advi"
      ],
      "metadata": {
        "id": "EBwvJijlF_XE"
      },
      "execution_count": null,
      "outputs": []
    },
    {
      "cell_type": "markdown",
      "source": [
        "**3.2 NUTS**\n",
        "\n",
        "Simpler than ADVI, we just use the NUTS sampler and inspect the learned factors.\n",
        "TODO: log_probs at every step"
      ],
      "metadata": {
        "id": "tYSLJOVtkqKe"
      }
    },
    {
      "cell_type": "code",
      "source": [
        "def run_nuts(model, num_samples=300, num_warmup_steps=None):\n",
        "    pyro.clear_param_store()\n",
        "\n",
        "    if num_warmup_steps is None:\n",
        "        num_warmup_steps = num_samples\n",
        "\n",
        "    test_log_prob_list = []\n",
        "    train_time_list = []\n",
        "\n",
        "    def hook_function(kernel, sample, stage, i):\n",
        "        #use the most recently sampled param to estimate performance\n",
        "        if i < 100 or (i % 25 == 0): #evaluate all first 100 samples and then every 25\n",
        "            learned_beta = torch.exp(sample['beta'])\n",
        "            learned_theta = torch.exp(sample['theta'])\n",
        "            \n",
        "            poiss_dist = dist.Poisson(torch.mm(learned_theta, learned_beta))\n",
        "            test_log_prob = 0\n",
        "            for data in test_loader:\n",
        "                test_log_prob += poiss_dist.log_prob(data).sum()\n",
        "\n",
        "            train_time_list.append(time.time())    \n",
        "            test_log_prob_list.append(test_log_prob / float(len(test_loader.dataset) * 20 * 28))\n",
        "\n",
        "\n",
        "    nuts_kernel = NUTS(model, max_tree_depth = 4)\n",
        "\n",
        "    nuts = MCMC(\n",
        "                nuts_kernel,\n",
        "                num_samples=num_samples,\n",
        "                warmup_steps=num_warmup_steps,\n",
        "                disable_progbar=False,\n",
        "                num_chains = 1,\n",
        "                hook_fn = hook_function) \n",
        "\n",
        "    nuts.run(torch.tensor(train_set))\n",
        "\n",
        "    output_nuts = pd.DataFrame({'t':np.array(train_time_list)-train_time_list[0], \n",
        "                          \"test_log_prob\":np.array(test_log_prob_list),\n",
        "                          \"model\":\"nuts\"})\n",
        "\n",
        "    return output_nuts"
      ],
      "metadata": {
        "id": "G_FzTqICLirK"
      },
      "execution_count": null,
      "outputs": []
    },
    {
      "cell_type": "code",
      "source": [
        "# Train the ADVI models\n",
        "print('Running ADVI with M = 1 ...')\n",
        "output_advi = run_advi(model, guide)\n",
        "print('Done')\n",
        "\n",
        "# Train the MCMC model \n",
        "print('Running MCMC with NUTS kernel ...')\n",
        "output_nuts = run_nuts(model, num_samples=200)\n",
        "print('Done')\n",
        "\n",
        "# Generate plot\n",
        "print('Generating plots ...')\n",
        "output = output_advi.append(output_nuts, ignore_index = True)\n",
        "output = output.loc[output['t'] < 105]\n",
        "output['test_log_prob'] = output['test_log_prob'].astype('float')\n",
        "\n",
        "sns.set_style(\"whitegrid\")\n",
        "results = sns.lineplot(data = output, x = 't', y = 'test_log_prob', hue = 'model')\n",
        "results.set(xscale='log', \n",
        "            xlim = (0.25, 105), \n",
        "            ylim = (-20, -5),\n",
        "            xlabel = 'Seconds',\n",
        "            ylabel = 'Average Log Predictive')\n",
        "plt.legend(labels=[\"ADVI\",\"NUTS\"])"
      ],
      "metadata": {
        "colab": {
          "base_uri": "https://localhost:8080/",
          "height": 402
        },
        "id": "4tnQO3n8ErbE",
        "outputId": "29250793-2de4-4ff6-c2d6-068e7809c763"
      },
      "execution_count": null,
      "outputs": [
        {
          "output_type": "stream",
          "name": "stdout",
          "text": [
            "Running ADVI with M = 1 ...\n",
            "Done\n",
            "Running MCMC with NUTS kernel ...\n"
          ]
        },
        {
          "output_type": "stream",
          "name": "stderr",
          "text": [
            "Sample: 100%|██████████| 400/400 [04:14,  1.57it/s, step size=2.19e-06, acc. prob=0.809]"
          ]
        },
        {
          "output_type": "stream",
          "name": "stdout",
          "text": [
            "Done\n",
            "Generating plots ...\n"
          ]
        },
        {
          "output_type": "stream",
          "name": "stderr",
          "text": [
            "\n"
          ]
        },
        {
          "output_type": "execute_result",
          "data": {
            "text/plain": [
              "<matplotlib.legend.Legend at 0x7f2494d23810>"
            ]
          },
          "metadata": {},
          "execution_count": 24
        },
        {
          "output_type": "display_data",
          "data": {
            "text/plain": [
              "<Figure size 432x288 with 1 Axes>"
            ],
            "image/png": "[encoded data removed]"
          },
          "metadata": {}
        }
      ]
    }
  ]
}
